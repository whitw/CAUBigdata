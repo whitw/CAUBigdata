{
 "cells": [
  {
   "cell_type": "code",
   "execution_count": 1,
   "metadata": {
    "execution": {
     "iopub.execute_input": "2022-12-01T11:18:20.050115Z",
     "iopub.status.busy": "2022-12-01T11:18:20.049053Z",
     "iopub.status.idle": "2022-12-01T11:18:20.053922Z",
     "shell.execute_reply": "2022-12-01T11:18:20.054529Z",
     "shell.execute_reply.started": "2022-12-01T10:57:31.378682Z"
    },
    "papermill": {
     "duration": 0.026364,
     "end_time": "2022-12-01T11:18:20.054734",
     "exception": false,
     "start_time": "2022-12-01T11:18:20.028370",
     "status": "completed"
    },
    "tags": []
   },
   "outputs": [],
   "source": [
    "from IPython.core.interactiveshell import InteractiveShell #python의 대화형 쉘, 인터프리터\n",
    "InteractiveShell.ast_node_interactivity = \"all\"#모든 출력값을 연속적으로 출력\n",
    "import warnings\n",
    "warnings.filterwarnings(\"ignore\")"
   ]
  },
  {
   "cell_type": "code",
   "execution_count": 2,
   "metadata": {
    "execution": {
     "iopub.execute_input": "2022-12-01T11:18:20.089291Z",
     "iopub.status.busy": "2022-12-01T11:18:20.088283Z",
     "iopub.status.idle": "2022-12-01T11:18:20.851722Z",
     "shell.execute_reply": "2022-12-01T11:18:20.850230Z",
     "shell.execute_reply.started": "2022-12-01T11:02:38.436123Z"
    },
    "papermill": {
     "duration": 0.781716,
     "end_time": "2022-12-01T11:18:20.851874",
     "exception": false,
     "start_time": "2022-12-01T11:18:20.070158",
     "status": "completed"
    },
    "tags": []
   },
   "outputs": [],
   "source": [
    "#import pyforest\n",
    "import statistics\n",
    "import numpy as np\n",
    "import pandas as pd\n",
    "import random\n",
    "\n",
    "from mpl_toolkits.mplot3d import Axes3D\n",
    "import plotly.graph_objs as go\n",
    "\n",
    "# import statistical libraries\n",
    "from scipy.stats import norm,skew, boxcox_normmax\n",
    "\n",
    "pd.options.display.max_rows = 30\n",
    "pd.options.display.max_columns = 20"
   ]
  },
  {
   "cell_type": "code",
   "execution_count": 3,
   "metadata": {
    "execution": {
     "iopub.execute_input": "2022-12-01T11:18:20.893021Z",
     "iopub.status.busy": "2022-12-01T11:18:20.892298Z",
     "iopub.status.idle": "2022-12-01T11:18:35.933621Z",
     "shell.execute_reply": "2022-12-01T11:18:35.932849Z",
     "shell.execute_reply.started": "2022-12-01T10:57:53.755823Z"
    },
    "papermill": {
     "duration": 15.066689,
     "end_time": "2022-12-01T11:18:35.933799",
     "exception": false,
     "start_time": "2022-12-01T11:18:20.867110",
     "status": "completed"
    },
    "tags": []
   },
   "outputs": [
    {
     "data": {
      "text/html": [
       "<div>\n",
       "<style scoped>\n",
       "    .dataframe tbody tr th:only-of-type {\n",
       "        vertical-align: middle;\n",
       "    }\n",
       "\n",
       "    .dataframe tbody tr th {\n",
       "        vertical-align: top;\n",
       "    }\n",
       "\n",
       "    .dataframe thead th {\n",
       "        text-align: right;\n",
       "    }\n",
       "</style>\n",
       "<table border=\"1\" class=\"dataframe\">\n",
       "  <thead>\n",
       "    <tr style=\"text-align: right;\">\n",
       "      <th></th>\n",
       "      <th>id</th>\n",
       "      <th>listing_url</th>\n",
       "      <th>scrape_id</th>\n",
       "      <th>last_scraped</th>\n",
       "      <th>name</th>\n",
       "      <th>summary</th>\n",
       "      <th>space</th>\n",
       "      <th>description</th>\n",
       "      <th>experiences_offered</th>\n",
       "      <th>neighborhood_overview</th>\n",
       "      <th>...</th>\n",
       "      <th>instant_bookable</th>\n",
       "      <th>is_business_travel_ready</th>\n",
       "      <th>cancellation_policy</th>\n",
       "      <th>require_guest_profile_picture</th>\n",
       "      <th>require_guest_phone_verification</th>\n",
       "      <th>calculated_host_listings_count</th>\n",
       "      <th>calculated_host_listings_count_entire_homes</th>\n",
       "      <th>calculated_host_listings_count_private_rooms</th>\n",
       "      <th>calculated_host_listings_count_shared_rooms</th>\n",
       "      <th>reviews_per_month</th>\n",
       "    </tr>\n",
       "  </thead>\n",
       "  <tbody>\n",
       "    <tr>\n",
       "      <th>0</th>\n",
       "      <td>2595</td>\n",
       "      <td>https://www.airbnb.com/rooms/2595</td>\n",
       "      <td>20200212052319</td>\n",
       "      <td>2020-02-12</td>\n",
       "      <td>Skylit Midtown Castle</td>\n",
       "      <td>Beautiful, spacious skylit studio in the heart...</td>\n",
       "      <td>- Spacious (500+ft²), immaculate and nicely fu...</td>\n",
       "      <td>Beautiful, spacious skylit studio in the heart...</td>\n",
       "      <td>none</td>\n",
       "      <td>Centrally located in the heart of Manhattan ju...</td>\n",
       "      <td>...</td>\n",
       "      <td>f</td>\n",
       "      <td>f</td>\n",
       "      <td>strict_14_with_grace_period</td>\n",
       "      <td>t</td>\n",
       "      <td>t</td>\n",
       "      <td>2</td>\n",
       "      <td>2</td>\n",
       "      <td>0</td>\n",
       "      <td>0</td>\n",
       "      <td>0.39</td>\n",
       "    </tr>\n",
       "    <tr>\n",
       "      <th>1</th>\n",
       "      <td>3831</td>\n",
       "      <td>https://www.airbnb.com/rooms/3831</td>\n",
       "      <td>20200212052319</td>\n",
       "      <td>2020-02-13</td>\n",
       "      <td>Cozy Entire Floor of Brownstone</td>\n",
       "      <td>Urban retreat: enjoy 500 s.f. floor in 1899 br...</td>\n",
       "      <td>Greetings!      We own a double-duplex brownst...</td>\n",
       "      <td>Urban retreat: enjoy 500 s.f. floor in 1899 br...</td>\n",
       "      <td>none</td>\n",
       "      <td>Just the right mix of urban center and local n...</td>\n",
       "      <td>...</td>\n",
       "      <td>f</td>\n",
       "      <td>f</td>\n",
       "      <td>moderate</td>\n",
       "      <td>f</td>\n",
       "      <td>f</td>\n",
       "      <td>1</td>\n",
       "      <td>1</td>\n",
       "      <td>0</td>\n",
       "      <td>0</td>\n",
       "      <td>4.69</td>\n",
       "    </tr>\n",
       "    <tr>\n",
       "      <th>2</th>\n",
       "      <td>5099</td>\n",
       "      <td>https://www.airbnb.com/rooms/5099</td>\n",
       "      <td>20200212052319</td>\n",
       "      <td>2020-02-12</td>\n",
       "      <td>Large Cozy 1 BR Apartment In Midtown East</td>\n",
       "      <td>My large 1 bedroom apartment has a true New Yo...</td>\n",
       "      <td>I have a large 1 bedroom apartment centrally l...</td>\n",
       "      <td>My large 1 bedroom apartment has a true New Yo...</td>\n",
       "      <td>none</td>\n",
       "      <td>My neighborhood in Midtown East is called Murr...</td>\n",
       "      <td>...</td>\n",
       "      <td>f</td>\n",
       "      <td>f</td>\n",
       "      <td>moderate</td>\n",
       "      <td>t</td>\n",
       "      <td>t</td>\n",
       "      <td>1</td>\n",
       "      <td>1</td>\n",
       "      <td>0</td>\n",
       "      <td>0</td>\n",
       "      <td>0.59</td>\n",
       "    </tr>\n",
       "  </tbody>\n",
       "</table>\n",
       "<p>3 rows × 106 columns</p>\n",
       "</div>"
      ],
      "text/plain": [
       "     id                        listing_url       scrape_id last_scraped  \\\n",
       "0  2595  https://www.airbnb.com/rooms/2595  20200212052319   2020-02-12   \n",
       "1  3831  https://www.airbnb.com/rooms/3831  20200212052319   2020-02-13   \n",
       "2  5099  https://www.airbnb.com/rooms/5099  20200212052319   2020-02-12   \n",
       "\n",
       "                                        name  \\\n",
       "0                      Skylit Midtown Castle   \n",
       "1            Cozy Entire Floor of Brownstone   \n",
       "2  Large Cozy 1 BR Apartment In Midtown East   \n",
       "\n",
       "                                             summary  \\\n",
       "0  Beautiful, spacious skylit studio in the heart...   \n",
       "1  Urban retreat: enjoy 500 s.f. floor in 1899 br...   \n",
       "2  My large 1 bedroom apartment has a true New Yo...   \n",
       "\n",
       "                                               space  \\\n",
       "0  - Spacious (500+ft²), immaculate and nicely fu...   \n",
       "1  Greetings!      We own a double-duplex brownst...   \n",
       "2  I have a large 1 bedroom apartment centrally l...   \n",
       "\n",
       "                                         description experiences_offered  \\\n",
       "0  Beautiful, spacious skylit studio in the heart...                none   \n",
       "1  Urban retreat: enjoy 500 s.f. floor in 1899 br...                none   \n",
       "2  My large 1 bedroom apartment has a true New Yo...                none   \n",
       "\n",
       "                               neighborhood_overview  ... instant_bookable  \\\n",
       "0  Centrally located in the heart of Manhattan ju...  ...                f   \n",
       "1  Just the right mix of urban center and local n...  ...                f   \n",
       "2  My neighborhood in Midtown East is called Murr...  ...                f   \n",
       "\n",
       "  is_business_travel_ready          cancellation_policy  \\\n",
       "0                        f  strict_14_with_grace_period   \n",
       "1                        f                     moderate   \n",
       "2                        f                     moderate   \n",
       "\n",
       "  require_guest_profile_picture require_guest_phone_verification  \\\n",
       "0                             t                                t   \n",
       "1                             f                                f   \n",
       "2                             t                                t   \n",
       "\n",
       "   calculated_host_listings_count  \\\n",
       "0                               2   \n",
       "1                               1   \n",
       "2                               1   \n",
       "\n",
       "   calculated_host_listings_count_entire_homes  \\\n",
       "0                                            2   \n",
       "1                                            1   \n",
       "2                                            1   \n",
       "\n",
       "  calculated_host_listings_count_private_rooms  \\\n",
       "0                                            0   \n",
       "1                                            0   \n",
       "2                                            0   \n",
       "\n",
       "   calculated_host_listings_count_shared_rooms  reviews_per_month  \n",
       "0                                            0               0.39  \n",
       "1                                            0               4.69  \n",
       "2                                            0               0.59  \n",
       "\n",
       "[3 rows x 106 columns]"
      ]
     },
     "execution_count": 3,
     "metadata": {},
     "output_type": "execute_result"
    },
    {
     "name": "stdout",
     "output_type": "stream",
     "text": [
      "abm.shape (153254, 106)\n",
      "abm.size 16244924\n"
     ]
    }
   ],
   "source": [
    "abm =  pd.read_csv('../input/airbnb-new-york-city-with-106-features/airbnbmark1.csv')\n",
    "abm.head(3)\n",
    "print('abm.shape',abm.shape)\n",
    "print('abm.size',abm.size)"
   ]
  },
  {
   "cell_type": "markdown",
   "metadata": {
    "papermill": {
     "duration": 0.016412,
     "end_time": "2022-12-01T11:18:35.969460",
     "exception": false,
     "start_time": "2022-12-01T11:18:35.953048",
     "status": "completed"
    },
    "tags": []
   },
   "source": [
    "## 쓸모있는 column들만 남겨놓기"
   ]
  },
  {
   "cell_type": "code",
   "execution_count": 4,
   "metadata": {
    "execution": {
     "iopub.execute_input": "2022-12-01T11:18:36.027475Z",
     "iopub.status.busy": "2022-12-01T11:18:36.018764Z",
     "iopub.status.idle": "2022-12-01T11:18:36.030918Z",
     "shell.execute_reply": "2022-12-01T11:18:36.030347Z",
     "shell.execute_reply.started": "2022-12-01T11:07:48.574237Z"
    },
    "papermill": {
     "duration": 0.045128,
     "end_time": "2022-12-01T11:18:36.031057",
     "exception": false,
     "start_time": "2022-12-01T11:18:35.985929",
     "status": "completed"
    },
    "tags": []
   },
   "outputs": [],
   "source": [
    "abm1 = abm[['latitude', 'longitude', 'property_type', 'room_type'\n",
    "           ,'accommodates', 'bathrooms', 'bedrooms', 'beds'\n",
    "           ,'bed_type', 'price', 'security_deposit'\n",
    "            ,'review_scores_rating', 'number_of_reviews', 'amenities']]"
   ]
  },
  {
   "cell_type": "code",
   "execution_count": 5,
   "metadata": {
    "execution": {
     "iopub.execute_input": "2022-12-01T11:18:36.070226Z",
     "iopub.status.busy": "2022-12-01T11:18:36.069139Z",
     "iopub.status.idle": "2022-12-01T11:18:36.089703Z",
     "shell.execute_reply": "2022-12-01T11:18:36.090230Z",
     "shell.execute_reply.started": "2022-12-01T11:07:51.455844Z"
    },
    "papermill": {
     "duration": 0.042731,
     "end_time": "2022-12-01T11:18:36.090396",
     "exception": false,
     "start_time": "2022-12-01T11:18:36.047665",
     "status": "completed"
    },
    "tags": []
   },
   "outputs": [
    {
     "data": {
      "text/plain": [
       "(153254, 14)"
      ]
     },
     "execution_count": 5,
     "metadata": {},
     "output_type": "execute_result"
    },
    {
     "data": {
      "text/html": [
       "<div>\n",
       "<style scoped>\n",
       "    .dataframe tbody tr th:only-of-type {\n",
       "        vertical-align: middle;\n",
       "    }\n",
       "\n",
       "    .dataframe tbody tr th {\n",
       "        vertical-align: top;\n",
       "    }\n",
       "\n",
       "    .dataframe thead th {\n",
       "        text-align: right;\n",
       "    }\n",
       "</style>\n",
       "<table border=\"1\" class=\"dataframe\">\n",
       "  <thead>\n",
       "    <tr style=\"text-align: right;\">\n",
       "      <th></th>\n",
       "      <th>latitude</th>\n",
       "      <th>longitude</th>\n",
       "      <th>property_type</th>\n",
       "      <th>room_type</th>\n",
       "      <th>accommodates</th>\n",
       "      <th>bathrooms</th>\n",
       "      <th>bedrooms</th>\n",
       "      <th>beds</th>\n",
       "      <th>bed_type</th>\n",
       "      <th>price</th>\n",
       "      <th>security_deposit</th>\n",
       "      <th>review_scores_rating</th>\n",
       "      <th>number_of_reviews</th>\n",
       "      <th>amenities</th>\n",
       "    </tr>\n",
       "  </thead>\n",
       "  <tbody>\n",
       "    <tr>\n",
       "      <th>0</th>\n",
       "      <td>40.75362</td>\n",
       "      <td>-73.98377</td>\n",
       "      <td>Apartment</td>\n",
       "      <td>Entire home/apt</td>\n",
       "      <td>1</td>\n",
       "      <td>1.0</td>\n",
       "      <td>0.0</td>\n",
       "      <td>1.0</td>\n",
       "      <td>Real Bed</td>\n",
       "      <td>$225.00</td>\n",
       "      <td>$350.00</td>\n",
       "      <td>94.0</td>\n",
       "      <td>48</td>\n",
       "      <td>{TV,Wifi,\"Air conditioning\",Kitchen,\"Paid park...</td>\n",
       "    </tr>\n",
       "    <tr>\n",
       "      <th>1</th>\n",
       "      <td>40.68514</td>\n",
       "      <td>-73.95976</td>\n",
       "      <td>Guest suite</td>\n",
       "      <td>Entire home/apt</td>\n",
       "      <td>3</td>\n",
       "      <td>1.0</td>\n",
       "      <td>1.0</td>\n",
       "      <td>4.0</td>\n",
       "      <td>Real Bed</td>\n",
       "      <td>$89.00</td>\n",
       "      <td>$500.00</td>\n",
       "      <td>90.0</td>\n",
       "      <td>307</td>\n",
       "      <td>{TV,\"Cable TV\",Internet,Wifi,\"Air conditioning...</td>\n",
       "    </tr>\n",
       "    <tr>\n",
       "      <th>2</th>\n",
       "      <td>40.74767</td>\n",
       "      <td>-73.97500</td>\n",
       "      <td>Apartment</td>\n",
       "      <td>Entire home/apt</td>\n",
       "      <td>2</td>\n",
       "      <td>1.0</td>\n",
       "      <td>1.0</td>\n",
       "      <td>1.0</td>\n",
       "      <td>Real Bed</td>\n",
       "      <td>$200.00</td>\n",
       "      <td>$300.00</td>\n",
       "      <td>90.0</td>\n",
       "      <td>78</td>\n",
       "      <td>{TV,\"Cable TV\",Internet,Wifi,\"Air conditioning...</td>\n",
       "    </tr>\n",
       "  </tbody>\n",
       "</table>\n",
       "</div>"
      ],
      "text/plain": [
       "   latitude  longitude property_type        room_type  accommodates  \\\n",
       "0  40.75362  -73.98377     Apartment  Entire home/apt             1   \n",
       "1  40.68514  -73.95976   Guest suite  Entire home/apt             3   \n",
       "2  40.74767  -73.97500     Apartment  Entire home/apt             2   \n",
       "\n",
       "   bathrooms  bedrooms  beds  bed_type    price security_deposit  \\\n",
       "0        1.0       0.0   1.0  Real Bed  $225.00          $350.00   \n",
       "1        1.0       1.0   4.0  Real Bed   $89.00          $500.00   \n",
       "2        1.0       1.0   1.0  Real Bed  $200.00          $300.00   \n",
       "\n",
       "   review_scores_rating  number_of_reviews  \\\n",
       "0                  94.0                 48   \n",
       "1                  90.0                307   \n",
       "2                  90.0                 78   \n",
       "\n",
       "                                           amenities  \n",
       "0  {TV,Wifi,\"Air conditioning\",Kitchen,\"Paid park...  \n",
       "1  {TV,\"Cable TV\",Internet,Wifi,\"Air conditioning...  \n",
       "2  {TV,\"Cable TV\",Internet,Wifi,\"Air conditioning...  "
      ]
     },
     "execution_count": 5,
     "metadata": {},
     "output_type": "execute_result"
    }
   ],
   "source": [
    "abm1.shape\n",
    "abm1.head(3)"
   ]
  },
  {
   "cell_type": "code",
   "execution_count": 6,
   "metadata": {
    "execution": {
     "iopub.execute_input": "2022-12-01T11:18:36.132007Z",
     "iopub.status.busy": "2022-12-01T11:18:36.130873Z",
     "iopub.status.idle": "2022-12-01T11:18:36.414648Z",
     "shell.execute_reply": "2022-12-01T11:18:36.415477Z",
     "shell.execute_reply.started": "2022-12-01T11:08:12.822671Z"
    },
    "papermill": {
     "duration": 0.308014,
     "end_time": "2022-12-01T11:18:36.415712",
     "exception": false,
     "start_time": "2022-12-01T11:18:36.107698",
     "status": "completed"
    },
    "tags": []
   },
   "outputs": [
    {
     "name": "stdout",
     "output_type": "stream",
     "text": [
      "abm1.shape after dropping duplicate rows:  (95201, 14)\n",
      "abm1.size:   1332814\n",
      "DataTypes wise size: \n",
      " float64    6\n",
      "object     6\n",
      "int64      2\n",
      "dtype: int64\n"
     ]
    }
   ],
   "source": [
    "abm1 = abm1.drop_duplicates() #중복된 데이터 행 삭제\n",
    "print('abm1.shape after dropping duplicate rows: ',abm1.shape)\n",
    "print('abm1.size:  ',abm1.size)\n",
    "print('DataTypes wise size: \\n', abm1.dtypes.value_counts())"
   ]
  },
  {
   "cell_type": "markdown",
   "metadata": {
    "papermill": {
     "duration": 0.017217,
     "end_time": "2022-12-01T11:18:36.451221",
     "exception": false,
     "start_time": "2022-12-01T11:18:36.434004",
     "status": "completed"
    },
    "tags": []
   },
   "source": [
    "## 결측값 검사, Data Cleaning"
   ]
  },
  {
   "cell_type": "code",
   "execution_count": 7,
   "metadata": {
    "execution": {
     "iopub.execute_input": "2022-12-01T11:18:36.516459Z",
     "iopub.status.busy": "2022-12-01T11:18:36.514909Z",
     "iopub.status.idle": "2022-12-01T11:18:36.570881Z",
     "shell.execute_reply": "2022-12-01T11:18:36.571807Z",
     "shell.execute_reply.started": "2022-12-01T11:08:16.686142Z"
    },
    "papermill": {
     "duration": 0.103256,
     "end_time": "2022-12-01T11:18:36.572048",
     "exception": false,
     "start_time": "2022-12-01T11:18:36.468792",
     "status": "completed"
    },
    "tags": []
   },
   "outputs": [
    {
     "data": {
      "text/plain": [
       "latitude                    0\n",
       "longitude                   0\n",
       "property_type               0\n",
       "room_type                   0\n",
       "accommodates                0\n",
       "bathrooms                  67\n",
       "bedrooms                  144\n",
       "beds                      763\n",
       "bed_type                    0\n",
       "price                       0\n",
       "security_deposit        28150\n",
       "review_scores_rating    17173\n",
       "number_of_reviews           0\n",
       "amenities                   0\n",
       "dtype: int64"
      ]
     },
     "execution_count": 7,
     "metadata": {},
     "output_type": "execute_result"
    }
   ],
   "source": [
    "abm1.replace((' '),np.nan,inplace=True) #inplace가 T면 새로운 return 값이 아닌 원본을 아예 수정\n",
    "abm1.isnull().sum()"
   ]
  },
  {
   "cell_type": "code",
   "execution_count": 8,
   "metadata": {
    "execution": {
     "iopub.execute_input": "2022-12-01T11:18:36.630061Z",
     "iopub.status.busy": "2022-12-01T11:18:36.620266Z",
     "iopub.status.idle": "2022-12-01T11:18:36.721726Z",
     "shell.execute_reply": "2022-12-01T11:18:36.721003Z",
     "shell.execute_reply.started": "2022-12-01T11:08:31.206896Z"
    },
    "papermill": {
     "duration": 0.124973,
     "end_time": "2022-12-01T11:18:36.721855",
     "exception": false,
     "start_time": "2022-12-01T11:18:36.596882",
     "status": "completed"
    },
    "tags": []
   },
   "outputs": [
    {
     "data": {
      "text/plain": [
       "latitude                    0\n",
       "longitude                   0\n",
       "property_type               0\n",
       "room_type                   0\n",
       "accommodates                0\n",
       "bathrooms                   0\n",
       "bedrooms                    0\n",
       "beds                        0\n",
       "bed_type                    0\n",
       "price                       0\n",
       "security_deposit        19569\n",
       "review_scores_rating        0\n",
       "number_of_reviews           0\n",
       "amenities                   0\n",
       "dtype: int64"
      ]
     },
     "execution_count": 8,
     "metadata": {},
     "output_type": "execute_result"
    }
   ],
   "source": [
    "abm1 = abm1.dropna(subset=['bathrooms', 'bedrooms', 'beds', 'review_scores_rating'], how='any', axis=0)\n",
    "abm1.isnull().sum()"
   ]
  },
  {
   "cell_type": "code",
   "execution_count": 9,
   "metadata": {
    "execution": {
     "iopub.execute_input": "2022-12-01T11:18:36.764911Z",
     "iopub.status.busy": "2022-12-01T11:18:36.763645Z",
     "iopub.status.idle": "2022-12-01T11:18:36.844849Z",
     "shell.execute_reply": "2022-12-01T11:18:36.844013Z",
     "shell.execute_reply.started": "2022-12-01T11:08:37.018147Z"
    },
    "papermill": {
     "duration": 0.104826,
     "end_time": "2022-12-01T11:18:36.844984",
     "exception": false,
     "start_time": "2022-12-01T11:18:36.740158",
     "status": "completed"
    },
    "tags": []
   },
   "outputs": [
    {
     "data": {
      "text/plain": [
       "latitude                0\n",
       "longitude               0\n",
       "property_type           0\n",
       "room_type               0\n",
       "accommodates            0\n",
       "bathrooms               0\n",
       "bedrooms                0\n",
       "beds                    0\n",
       "bed_type                0\n",
       "price                   0\n",
       "security_deposit        0\n",
       "review_scores_rating    0\n",
       "number_of_reviews       0\n",
       "amenities               0\n",
       "dtype: int64"
      ]
     },
     "execution_count": 9,
     "metadata": {},
     "output_type": "execute_result"
    }
   ],
   "source": [
    "abm1 = abm1.fillna(0) #보증금 nan은 0으로 취급\n",
    "abm1.isnull().sum()"
   ]
  },
  {
   "cell_type": "code",
   "execution_count": 10,
   "metadata": {
    "execution": {
     "iopub.execute_input": "2022-12-01T11:18:36.888376Z",
     "iopub.status.busy": "2022-12-01T11:18:36.887618Z",
     "iopub.status.idle": "2022-12-01T11:18:36.891943Z",
     "shell.execute_reply": "2022-12-01T11:18:36.892593Z",
     "shell.execute_reply.started": "2022-12-01T11:08:47.054062Z"
    },
    "papermill": {
     "duration": 0.028896,
     "end_time": "2022-12-01T11:18:36.892783",
     "exception": false,
     "start_time": "2022-12-01T11:18:36.863887",
     "status": "completed"
    },
    "tags": []
   },
   "outputs": [
    {
     "name": "stdout",
     "output_type": "stream",
     "text": [
      "abm1.shape after dropping nan rows:  (77698, 14)\n"
     ]
    }
   ],
   "source": [
    "print('abm1.shape after dropping nan rows: ',abm1.shape)"
   ]
  },
  {
   "cell_type": "code",
   "execution_count": 11,
   "metadata": {
    "execution": {
     "iopub.execute_input": "2022-12-01T11:18:36.953326Z",
     "iopub.status.busy": "2022-12-01T11:18:36.947890Z",
     "iopub.status.idle": "2022-12-01T11:18:37.150217Z",
     "shell.execute_reply": "2022-12-01T11:18:37.151000Z",
     "shell.execute_reply.started": "2022-12-01T11:08:50.945624Z"
    },
    "papermill": {
     "duration": 0.239384,
     "end_time": "2022-12-01T11:18:37.151221",
     "exception": false,
     "start_time": "2022-12-01T11:18:36.911837",
     "status": "completed"
    },
    "tags": []
   },
   "outputs": [
    {
     "data": {
      "text/html": [
       "<div>\n",
       "<style scoped>\n",
       "    .dataframe tbody tr th:only-of-type {\n",
       "        vertical-align: middle;\n",
       "    }\n",
       "\n",
       "    .dataframe tbody tr th {\n",
       "        vertical-align: top;\n",
       "    }\n",
       "\n",
       "    .dataframe thead th {\n",
       "        text-align: right;\n",
       "    }\n",
       "</style>\n",
       "<table border=\"1\" class=\"dataframe\">\n",
       "  <thead>\n",
       "    <tr style=\"text-align: right;\">\n",
       "      <th></th>\n",
       "      <th>latitude</th>\n",
       "      <th>longitude</th>\n",
       "      <th>property_type</th>\n",
       "      <th>room_type</th>\n",
       "      <th>accommodates</th>\n",
       "      <th>bathrooms</th>\n",
       "      <th>bedrooms</th>\n",
       "      <th>beds</th>\n",
       "      <th>bed_type</th>\n",
       "      <th>price</th>\n",
       "      <th>security_deposit</th>\n",
       "      <th>review_scores_rating</th>\n",
       "      <th>number_of_reviews</th>\n",
       "      <th>amenities</th>\n",
       "    </tr>\n",
       "  </thead>\n",
       "  <tbody>\n",
       "    <tr>\n",
       "      <th>0</th>\n",
       "      <td>40.75362</td>\n",
       "      <td>-73.98377</td>\n",
       "      <td>Apartment</td>\n",
       "      <td>Entire home/apt</td>\n",
       "      <td>1</td>\n",
       "      <td>1.0</td>\n",
       "      <td>0.0</td>\n",
       "      <td>1.0</td>\n",
       "      <td>Real Bed</td>\n",
       "      <td>225.0</td>\n",
       "      <td>350.0</td>\n",
       "      <td>94.0</td>\n",
       "      <td>48</td>\n",
       "      <td>{TV,Wifi,\"Air conditioning\",Kitchen,\"Paid park...</td>\n",
       "    </tr>\n",
       "    <tr>\n",
       "      <th>1</th>\n",
       "      <td>40.68514</td>\n",
       "      <td>-73.95976</td>\n",
       "      <td>Guest suite</td>\n",
       "      <td>Entire home/apt</td>\n",
       "      <td>3</td>\n",
       "      <td>1.0</td>\n",
       "      <td>1.0</td>\n",
       "      <td>4.0</td>\n",
       "      <td>Real Bed</td>\n",
       "      <td>89.0</td>\n",
       "      <td>500.0</td>\n",
       "      <td>90.0</td>\n",
       "      <td>307</td>\n",
       "      <td>{TV,\"Cable TV\",Internet,Wifi,\"Air conditioning...</td>\n",
       "    </tr>\n",
       "  </tbody>\n",
       "</table>\n",
       "</div>"
      ],
      "text/plain": [
       "   latitude  longitude property_type        room_type  accommodates  \\\n",
       "0  40.75362  -73.98377     Apartment  Entire home/apt             1   \n",
       "1  40.68514  -73.95976   Guest suite  Entire home/apt             3   \n",
       "\n",
       "   bathrooms  bedrooms  beds  bed_type  price  security_deposit  \\\n",
       "0        1.0       0.0   1.0  Real Bed  225.0             350.0   \n",
       "1        1.0       1.0   4.0  Real Bed   89.0             500.0   \n",
       "\n",
       "   review_scores_rating  number_of_reviews  \\\n",
       "0                  94.0                 48   \n",
       "1                  90.0                307   \n",
       "\n",
       "                                           amenities  \n",
       "0  {TV,Wifi,\"Air conditioning\",Kitchen,\"Paid park...  \n",
       "1  {TV,\"Cable TV\",Internet,Wifi,\"Air conditioning...  "
      ]
     },
     "execution_count": 11,
     "metadata": {},
     "output_type": "execute_result"
    }
   ],
   "source": [
    "def clean_data(df): #$표시 떼어내기. ,구분표 없애기\n",
    "    for i in ['price','security_deposit']:\n",
    "        df[i]=df[i].str.replace('$','').str.replace(',', '').astype(float)\n",
    "    \n",
    "    df.replace('', np.nan, inplace=True)\n",
    "    \n",
    "    return df.head(2)\n",
    "clean_data(abm1)"
   ]
  },
  {
   "cell_type": "markdown",
   "metadata": {
    "papermill": {
     "duration": 0.019016,
     "end_time": "2022-12-01T11:18:37.190104",
     "exception": false,
     "start_time": "2022-12-01T11:18:37.171088",
     "status": "completed"
    },
    "tags": []
   },
   "source": [
    "## 정확도를 위해 리뷰 개수 10개 미만인 호스트는 삭제"
   ]
  },
  {
   "cell_type": "code",
   "execution_count": 12,
   "metadata": {
    "execution": {
     "iopub.execute_input": "2022-12-01T11:18:37.236981Z",
     "iopub.status.busy": "2022-12-01T11:18:37.236220Z",
     "iopub.status.idle": "2022-12-01T11:18:37.277089Z",
     "shell.execute_reply": "2022-12-01T11:18:37.276353Z",
     "shell.execute_reply.started": "2022-12-01T11:13:54.190610Z"
    },
    "papermill": {
     "duration": 0.067546,
     "end_time": "2022-12-01T11:18:37.277248",
     "exception": false,
     "start_time": "2022-12-01T11:18:37.209702",
     "status": "completed"
    },
    "tags": []
   },
   "outputs": [
    {
     "data": {
      "text/plain": [
       "(47064, 14)"
      ]
     },
     "execution_count": 12,
     "metadata": {},
     "output_type": "execute_result"
    }
   ],
   "source": [
    "indexNames = abm1[abm1['number_of_reviews'] < 10].index\n",
    "abm1.drop(indexNames , inplace=True)\n",
    "abm1.shape"
   ]
  },
  {
   "cell_type": "markdown",
   "metadata": {
    "papermill": {
     "duration": 0.019343,
     "end_time": "2022-12-01T11:18:37.317284",
     "exception": false,
     "start_time": "2022-12-01T11:18:37.297941",
     "status": "completed"
    },
    "tags": []
   },
   "source": [
    "## Property type을 onehot encoding 하기"
   ]
  },
  {
   "cell_type": "code",
   "execution_count": 13,
   "metadata": {
    "execution": {
     "iopub.execute_input": "2022-12-01T11:18:37.369922Z",
     "iopub.status.busy": "2022-12-01T11:18:37.366751Z",
     "iopub.status.idle": "2022-12-01T11:18:37.374509Z",
     "shell.execute_reply": "2022-12-01T11:18:37.373807Z",
     "shell.execute_reply.started": "2022-12-01T11:14:25.745793Z"
    },
    "papermill": {
     "duration": 0.037395,
     "end_time": "2022-12-01T11:18:37.374638",
     "exception": false,
     "start_time": "2022-12-01T11:18:37.337243",
     "status": "completed"
    },
    "tags": []
   },
   "outputs": [
    {
     "data": {
      "text/plain": [
       "Apartment             34519\n",
       "House                  5255\n",
       "Townhouse              2452\n",
       "Loft                   1579\n",
       "Condominium            1514\n",
       "Guest suite             720\n",
       "Hotel                   229\n",
       "Boutique hotel          181\n",
       "Serviced apartment      147\n",
       "Hostel                   93\n",
       "Guesthouse               86\n",
       "Bed and breakfast        49\n",
       "Bungalow                 47\n",
       "Villa                    40\n",
       "Other                    38\n",
       "Tiny house               35\n",
       "Camper/RV                26\n",
       "Cottage                  18\n",
       "Resort                   12\n",
       "Boat                     10\n",
       "Earth house               4\n",
       "Aparthotel                3\n",
       "Houseboat                 2\n",
       "Barn                      2\n",
       "Castle                    2\n",
       "Cabin                     1\n",
       "Name: property_type, dtype: int64"
      ]
     },
     "execution_count": 13,
     "metadata": {},
     "output_type": "execute_result"
    }
   ],
   "source": [
    "# property_type에는 무슨 값이 있을지\n",
    "abm1['property_type'].value_counts()"
   ]
  },
  {
   "cell_type": "code",
   "execution_count": 14,
   "metadata": {
    "execution": {
     "iopub.execute_input": "2022-12-01T11:18:37.434210Z",
     "iopub.status.busy": "2022-12-01T11:18:37.433478Z",
     "iopub.status.idle": "2022-12-01T11:18:37.436916Z",
     "shell.execute_reply": "2022-12-01T11:18:37.436332Z",
     "shell.execute_reply.started": "2022-12-01T11:14:29.472763Z"
    },
    "papermill": {
     "duration": 0.042051,
     "end_time": "2022-12-01T11:18:37.437044",
     "exception": false,
     "start_time": "2022-12-01T11:18:37.394993",
     "status": "completed"
    },
    "tags": []
   },
   "outputs": [],
   "source": [
    "Mod_prop_type=abm1['property_type'].value_counts()[5:len(abm1['property_type'].value_counts())].index.tolist()\n",
    "\n",
    "def change_prop_type(label):\n",
    "    if label in Mod_prop_type:\n",
    "        label='Other'\n",
    "    return label"
   ]
  },
  {
   "cell_type": "code",
   "execution_count": 15,
   "metadata": {
    "execution": {
     "iopub.execute_input": "2022-12-01T11:18:37.488602Z",
     "iopub.status.busy": "2022-12-01T11:18:37.487845Z",
     "iopub.status.idle": "2022-12-01T11:18:37.513127Z",
     "shell.execute_reply": "2022-12-01T11:18:37.513747Z",
     "shell.execute_reply.started": "2022-12-01T11:14:36.506682Z"
    },
    "papermill": {
     "duration": 0.056746,
     "end_time": "2022-12-01T11:18:37.513912",
     "exception": false,
     "start_time": "2022-12-01T11:18:37.457166",
     "status": "completed"
    },
    "tags": []
   },
   "outputs": [],
   "source": [
    "abm1.loc[:,'property_type'] = abm1.loc[:,'property_type'].apply(change_prop_type)"
   ]
  },
  {
   "cell_type": "code",
   "execution_count": 16,
   "metadata": {
    "execution": {
     "iopub.execute_input": "2022-12-01T11:18:37.558943Z",
     "iopub.status.busy": "2022-12-01T11:18:37.558263Z",
     "iopub.status.idle": "2022-12-01T11:18:37.573287Z",
     "shell.execute_reply": "2022-12-01T11:18:37.572701Z",
     "shell.execute_reply.started": "2022-12-01T11:14:41.818961Z"
    },
    "papermill": {
     "duration": 0.038188,
     "end_time": "2022-12-01T11:18:37.573422",
     "exception": false,
     "start_time": "2022-12-01T11:18:37.535234",
     "status": "completed"
    },
    "tags": []
   },
   "outputs": [
    {
     "data": {
      "text/plain": [
       "Apartment      34519\n",
       "House           5255\n",
       "Townhouse       2452\n",
       "Other           1745\n",
       "Loft            1579\n",
       "Condominium     1514\n",
       "Name: property_type, dtype: int64"
      ]
     },
     "execution_count": 16,
     "metadata": {},
     "output_type": "execute_result"
    }
   ],
   "source": [
    "abm1['property_type'].value_counts() # 5순위 이하 주거형태는 Others로 분류"
   ]
  },
  {
   "cell_type": "code",
   "execution_count": 17,
   "metadata": {
    "execution": {
     "iopub.execute_input": "2022-12-01T11:18:37.650400Z",
     "iopub.status.busy": "2022-12-01T11:18:37.630755Z",
     "iopub.status.idle": "2022-12-01T11:18:37.861761Z",
     "shell.execute_reply": "2022-12-01T11:18:37.862361Z",
     "shell.execute_reply.started": "2022-12-01T11:14:44.787794Z"
    },
    "papermill": {
     "duration": 0.268586,
     "end_time": "2022-12-01T11:18:37.862534",
     "exception": false,
     "start_time": "2022-12-01T11:18:37.593948",
     "status": "completed"
    },
    "tags": []
   },
   "outputs": [
    {
     "data": {
      "text/plain": [
       "latitude                0\n",
       "longitude               0\n",
       "property_type           0\n",
       "room_type               0\n",
       "accommodates            0\n",
       "bathrooms               0\n",
       "bedrooms                0\n",
       "beds                    0\n",
       "bed_type                0\n",
       "price                   0\n",
       "security_deposit        0\n",
       "review_scores_rating    0\n",
       "number_of_reviews       0\n",
       "amenities               0\n",
       "Apartment               0\n",
       "House                   0\n",
       "Other                   0\n",
       "Townhouse               0\n",
       "Condominium             0\n",
       "Loft                    0\n",
       "dtype: int64"
      ]
     },
     "execution_count": 17,
     "metadata": {},
     "output_type": "execute_result"
    },
    {
     "data": {
      "text/html": [
       "<div>\n",
       "<style scoped>\n",
       "    .dataframe tbody tr th:only-of-type {\n",
       "        vertical-align: middle;\n",
       "    }\n",
       "\n",
       "    .dataframe tbody tr th {\n",
       "        vertical-align: top;\n",
       "    }\n",
       "\n",
       "    .dataframe thead th {\n",
       "        text-align: right;\n",
       "    }\n",
       "</style>\n",
       "<table border=\"1\" class=\"dataframe\">\n",
       "  <thead>\n",
       "    <tr style=\"text-align: right;\">\n",
       "      <th></th>\n",
       "      <th>latitude</th>\n",
       "      <th>longitude</th>\n",
       "      <th>property_type</th>\n",
       "      <th>room_type</th>\n",
       "      <th>accommodates</th>\n",
       "      <th>bathrooms</th>\n",
       "      <th>bedrooms</th>\n",
       "      <th>beds</th>\n",
       "      <th>bed_type</th>\n",
       "      <th>price</th>\n",
       "      <th>security_deposit</th>\n",
       "      <th>review_scores_rating</th>\n",
       "      <th>number_of_reviews</th>\n",
       "      <th>amenities</th>\n",
       "      <th>Apartment</th>\n",
       "      <th>House</th>\n",
       "      <th>Other</th>\n",
       "      <th>Townhouse</th>\n",
       "      <th>Condominium</th>\n",
       "      <th>Loft</th>\n",
       "    </tr>\n",
       "  </thead>\n",
       "  <tbody>\n",
       "    <tr>\n",
       "      <th>0</th>\n",
       "      <td>40.75362</td>\n",
       "      <td>-73.98377</td>\n",
       "      <td>Apartment</td>\n",
       "      <td>Entire home/apt</td>\n",
       "      <td>1</td>\n",
       "      <td>1.0</td>\n",
       "      <td>0.0</td>\n",
       "      <td>1.0</td>\n",
       "      <td>Real Bed</td>\n",
       "      <td>225.0</td>\n",
       "      <td>350.0</td>\n",
       "      <td>94.0</td>\n",
       "      <td>48</td>\n",
       "      <td>{TV,Wifi,\"Air conditioning\",Kitchen,\"Paid park...</td>\n",
       "      <td>1.0</td>\n",
       "      <td>0.0</td>\n",
       "      <td>0.0</td>\n",
       "      <td>0.0</td>\n",
       "      <td>0.0</td>\n",
       "      <td>0.0</td>\n",
       "    </tr>\n",
       "    <tr>\n",
       "      <th>1</th>\n",
       "      <td>40.68514</td>\n",
       "      <td>-73.95976</td>\n",
       "      <td>Other</td>\n",
       "      <td>Entire home/apt</td>\n",
       "      <td>3</td>\n",
       "      <td>1.0</td>\n",
       "      <td>1.0</td>\n",
       "      <td>4.0</td>\n",
       "      <td>Real Bed</td>\n",
       "      <td>89.0</td>\n",
       "      <td>500.0</td>\n",
       "      <td>90.0</td>\n",
       "      <td>307</td>\n",
       "      <td>{TV,\"Cable TV\",Internet,Wifi,\"Air conditioning...</td>\n",
       "      <td>0.0</td>\n",
       "      <td>0.0</td>\n",
       "      <td>1.0</td>\n",
       "      <td>0.0</td>\n",
       "      <td>0.0</td>\n",
       "      <td>0.0</td>\n",
       "    </tr>\n",
       "    <tr>\n",
       "      <th>2</th>\n",
       "      <td>40.74767</td>\n",
       "      <td>-73.97500</td>\n",
       "      <td>Apartment</td>\n",
       "      <td>Entire home/apt</td>\n",
       "      <td>2</td>\n",
       "      <td>1.0</td>\n",
       "      <td>1.0</td>\n",
       "      <td>1.0</td>\n",
       "      <td>Real Bed</td>\n",
       "      <td>200.0</td>\n",
       "      <td>300.0</td>\n",
       "      <td>90.0</td>\n",
       "      <td>78</td>\n",
       "      <td>{TV,\"Cable TV\",Internet,Wifi,\"Air conditioning...</td>\n",
       "      <td>1.0</td>\n",
       "      <td>0.0</td>\n",
       "      <td>0.0</td>\n",
       "      <td>0.0</td>\n",
       "      <td>0.0</td>\n",
       "      <td>0.0</td>\n",
       "    </tr>\n",
       "    <tr>\n",
       "      <th>4</th>\n",
       "      <td>40.76489</td>\n",
       "      <td>-73.98493</td>\n",
       "      <td>Apartment</td>\n",
       "      <td>Private room</td>\n",
       "      <td>2</td>\n",
       "      <td>1.0</td>\n",
       "      <td>1.0</td>\n",
       "      <td>1.0</td>\n",
       "      <td>Real Bed</td>\n",
       "      <td>79.0</td>\n",
       "      <td>0.0</td>\n",
       "      <td>84.0</td>\n",
       "      <td>463</td>\n",
       "      <td>{TV,Wifi,\"Air conditioning\",\"Paid parking off ...</td>\n",
       "      <td>1.0</td>\n",
       "      <td>0.0</td>\n",
       "      <td>0.0</td>\n",
       "      <td>0.0</td>\n",
       "      <td>0.0</td>\n",
       "      <td>0.0</td>\n",
       "    </tr>\n",
       "    <tr>\n",
       "      <th>5</th>\n",
       "      <td>40.80178</td>\n",
       "      <td>-73.96723</td>\n",
       "      <td>Apartment</td>\n",
       "      <td>Private room</td>\n",
       "      <td>1</td>\n",
       "      <td>1.0</td>\n",
       "      <td>1.0</td>\n",
       "      <td>1.0</td>\n",
       "      <td>Real Bed</td>\n",
       "      <td>79.0</td>\n",
       "      <td>0.0</td>\n",
       "      <td>98.0</td>\n",
       "      <td>118</td>\n",
       "      <td>{Internet,Wifi,\"Air conditioning\",\"Paid parkin...</td>\n",
       "      <td>1.0</td>\n",
       "      <td>0.0</td>\n",
       "      <td>0.0</td>\n",
       "      <td>0.0</td>\n",
       "      <td>0.0</td>\n",
       "      <td>0.0</td>\n",
       "    </tr>\n",
       "  </tbody>\n",
       "</table>\n",
       "</div>"
      ],
      "text/plain": [
       "   latitude  longitude property_type        room_type  accommodates  \\\n",
       "0  40.75362  -73.98377     Apartment  Entire home/apt             1   \n",
       "1  40.68514  -73.95976         Other  Entire home/apt             3   \n",
       "2  40.74767  -73.97500     Apartment  Entire home/apt             2   \n",
       "4  40.76489  -73.98493     Apartment     Private room             2   \n",
       "5  40.80178  -73.96723     Apartment     Private room             1   \n",
       "\n",
       "   bathrooms  bedrooms  beds  bed_type  price  security_deposit  \\\n",
       "0        1.0       0.0   1.0  Real Bed  225.0             350.0   \n",
       "1        1.0       1.0   4.0  Real Bed   89.0             500.0   \n",
       "2        1.0       1.0   1.0  Real Bed  200.0             300.0   \n",
       "4        1.0       1.0   1.0  Real Bed   79.0               0.0   \n",
       "5        1.0       1.0   1.0  Real Bed   79.0               0.0   \n",
       "\n",
       "   review_scores_rating  number_of_reviews  \\\n",
       "0                  94.0                 48   \n",
       "1                  90.0                307   \n",
       "2                  90.0                 78   \n",
       "4                  84.0                463   \n",
       "5                  98.0                118   \n",
       "\n",
       "                                           amenities  Apartment  House  Other  \\\n",
       "0  {TV,Wifi,\"Air conditioning\",Kitchen,\"Paid park...        1.0    0.0    0.0   \n",
       "1  {TV,\"Cable TV\",Internet,Wifi,\"Air conditioning...        0.0    0.0    1.0   \n",
       "2  {TV,\"Cable TV\",Internet,Wifi,\"Air conditioning...        1.0    0.0    0.0   \n",
       "4  {TV,Wifi,\"Air conditioning\",\"Paid parking off ...        1.0    0.0    0.0   \n",
       "5  {Internet,Wifi,\"Air conditioning\",\"Paid parkin...        1.0    0.0    0.0   \n",
       "\n",
       "   Townhouse  Condominium  Loft  \n",
       "0        0.0          0.0   0.0  \n",
       "1        0.0          0.0   0.0  \n",
       "2        0.0          0.0   0.0  \n",
       "4        0.0          0.0   0.0  \n",
       "5        0.0          0.0   0.0  "
      ]
     },
     "execution_count": 17,
     "metadata": {},
     "output_type": "execute_result"
    }
   ],
   "source": [
    "abm1.loc[abm1['property_type'].str.contains('Apartment'), 'Apartment'] = 1\n",
    "abm1.loc[abm1['property_type'].str.contains('House'), 'House'] = 1\n",
    "abm1.loc[abm1['property_type'].str.contains('Other'), 'Other'] = 1\n",
    "abm1.loc[abm1['property_type'].str.contains('Townhouse'), 'Townhouse'] = 1\n",
    "abm1.loc[abm1['property_type'].str.contains('Condominium'), 'Condominium'] = 1\n",
    "abm1.loc[abm1['property_type'].str.contains('Loft'), 'Loft'] = 1\n",
    "abm1 = abm1.fillna(0)\n",
    "\n",
    "abm1.isnull().sum()\n",
    "abm1.head(5)"
   ]
  },
  {
   "cell_type": "code",
   "execution_count": 18,
   "metadata": {
    "execution": {
     "iopub.execute_input": "2022-12-01T11:18:37.914893Z",
     "iopub.status.busy": "2022-12-01T11:18:37.913405Z",
     "iopub.status.idle": "2022-12-01T11:18:37.947479Z",
     "shell.execute_reply": "2022-12-01T11:18:37.946799Z",
     "shell.execute_reply.started": "2022-12-01T11:14:53.497248Z"
    },
    "papermill": {
     "duration": 0.062849,
     "end_time": "2022-12-01T11:18:37.947661",
     "exception": false,
     "start_time": "2022-12-01T11:18:37.884812",
     "status": "completed"
    },
    "tags": []
   },
   "outputs": [
    {
     "data": {
      "text/html": [
       "<div>\n",
       "<style scoped>\n",
       "    .dataframe tbody tr th:only-of-type {\n",
       "        vertical-align: middle;\n",
       "    }\n",
       "\n",
       "    .dataframe tbody tr th {\n",
       "        vertical-align: top;\n",
       "    }\n",
       "\n",
       "    .dataframe thead th {\n",
       "        text-align: right;\n",
       "    }\n",
       "</style>\n",
       "<table border=\"1\" class=\"dataframe\">\n",
       "  <thead>\n",
       "    <tr style=\"text-align: right;\">\n",
       "      <th></th>\n",
       "      <th>latitude</th>\n",
       "      <th>longitude</th>\n",
       "      <th>room_type</th>\n",
       "      <th>accommodates</th>\n",
       "      <th>bathrooms</th>\n",
       "      <th>bedrooms</th>\n",
       "      <th>beds</th>\n",
       "      <th>bed_type</th>\n",
       "      <th>price</th>\n",
       "      <th>security_deposit</th>\n",
       "      <th>review_scores_rating</th>\n",
       "      <th>number_of_reviews</th>\n",
       "      <th>amenities</th>\n",
       "      <th>Apartment</th>\n",
       "      <th>House</th>\n",
       "      <th>Other</th>\n",
       "      <th>Townhouse</th>\n",
       "      <th>Condominium</th>\n",
       "      <th>Loft</th>\n",
       "    </tr>\n",
       "  </thead>\n",
       "  <tbody>\n",
       "    <tr>\n",
       "      <th>0</th>\n",
       "      <td>40.75362</td>\n",
       "      <td>-73.98377</td>\n",
       "      <td>Entire home/apt</td>\n",
       "      <td>1</td>\n",
       "      <td>1.0</td>\n",
       "      <td>0.0</td>\n",
       "      <td>1.0</td>\n",
       "      <td>Real Bed</td>\n",
       "      <td>225.0</td>\n",
       "      <td>350.0</td>\n",
       "      <td>94.0</td>\n",
       "      <td>48</td>\n",
       "      <td>{TV,Wifi,\"Air conditioning\",Kitchen,\"Paid park...</td>\n",
       "      <td>1.0</td>\n",
       "      <td>0.0</td>\n",
       "      <td>0.0</td>\n",
       "      <td>0.0</td>\n",
       "      <td>0.0</td>\n",
       "      <td>0.0</td>\n",
       "    </tr>\n",
       "    <tr>\n",
       "      <th>1</th>\n",
       "      <td>40.68514</td>\n",
       "      <td>-73.95976</td>\n",
       "      <td>Entire home/apt</td>\n",
       "      <td>3</td>\n",
       "      <td>1.0</td>\n",
       "      <td>1.0</td>\n",
       "      <td>4.0</td>\n",
       "      <td>Real Bed</td>\n",
       "      <td>89.0</td>\n",
       "      <td>500.0</td>\n",
       "      <td>90.0</td>\n",
       "      <td>307</td>\n",
       "      <td>{TV,\"Cable TV\",Internet,Wifi,\"Air conditioning...</td>\n",
       "      <td>0.0</td>\n",
       "      <td>0.0</td>\n",
       "      <td>1.0</td>\n",
       "      <td>0.0</td>\n",
       "      <td>0.0</td>\n",
       "      <td>0.0</td>\n",
       "    </tr>\n",
       "    <tr>\n",
       "      <th>2</th>\n",
       "      <td>40.74767</td>\n",
       "      <td>-73.97500</td>\n",
       "      <td>Entire home/apt</td>\n",
       "      <td>2</td>\n",
       "      <td>1.0</td>\n",
       "      <td>1.0</td>\n",
       "      <td>1.0</td>\n",
       "      <td>Real Bed</td>\n",
       "      <td>200.0</td>\n",
       "      <td>300.0</td>\n",
       "      <td>90.0</td>\n",
       "      <td>78</td>\n",
       "      <td>{TV,\"Cable TV\",Internet,Wifi,\"Air conditioning...</td>\n",
       "      <td>1.0</td>\n",
       "      <td>0.0</td>\n",
       "      <td>0.0</td>\n",
       "      <td>0.0</td>\n",
       "      <td>0.0</td>\n",
       "      <td>0.0</td>\n",
       "    </tr>\n",
       "  </tbody>\n",
       "</table>\n",
       "</div>"
      ],
      "text/plain": [
       "   latitude  longitude        room_type  accommodates  bathrooms  bedrooms  \\\n",
       "0  40.75362  -73.98377  Entire home/apt             1        1.0       0.0   \n",
       "1  40.68514  -73.95976  Entire home/apt             3        1.0       1.0   \n",
       "2  40.74767  -73.97500  Entire home/apt             2        1.0       1.0   \n",
       "\n",
       "   beds  bed_type  price  security_deposit  review_scores_rating  \\\n",
       "0   1.0  Real Bed  225.0             350.0                  94.0   \n",
       "1   4.0  Real Bed   89.0             500.0                  90.0   \n",
       "2   1.0  Real Bed  200.0             300.0                  90.0   \n",
       "\n",
       "   number_of_reviews                                          amenities  \\\n",
       "0                 48  {TV,Wifi,\"Air conditioning\",Kitchen,\"Paid park...   \n",
       "1                307  {TV,\"Cable TV\",Internet,Wifi,\"Air conditioning...   \n",
       "2                 78  {TV,\"Cable TV\",Internet,Wifi,\"Air conditioning...   \n",
       "\n",
       "   Apartment  House  Other  Townhouse  Condominium  Loft  \n",
       "0        1.0    0.0    0.0        0.0          0.0   0.0  \n",
       "1        0.0    0.0    1.0        0.0          0.0   0.0  \n",
       "2        1.0    0.0    0.0        0.0          0.0   0.0  "
      ]
     },
     "execution_count": 18,
     "metadata": {},
     "output_type": "execute_result"
    }
   ],
   "source": [
    "abm1.drop('property_type', axis = 1, inplace=True)\n",
    "abm1.head(3)"
   ]
  },
  {
   "cell_type": "code",
   "execution_count": null,
   "metadata": {
    "papermill": {
     "duration": 0.021387,
     "end_time": "2022-12-01T11:18:37.990814",
     "exception": false,
     "start_time": "2022-12-01T11:18:37.969427",
     "status": "completed"
    },
    "tags": []
   },
   "outputs": [],
   "source": []
  }
 ],
 "metadata": {
  "kernelspec": {
   "display_name": "Python 3",
   "language": "python",
   "name": "python3"
  },
  "language_info": {
   "codemirror_mode": {
    "name": "ipython",
    "version": 3
   },
   "file_extension": ".py",
   "mimetype": "text/x-python",
   "name": "python",
   "nbconvert_exporter": "python",
   "pygments_lexer": "ipython3",
   "version": "3.7.6"
  },
  "papermill": {
   "duration": 22.442993,
   "end_time": "2022-12-01T11:18:38.119896",
   "environment_variables": {},
   "exception": null,
   "input_path": "__notebook__.ipynb",
   "output_path": "__notebook__.ipynb",
   "parameters": {},
   "start_time": "2022-12-01T11:18:15.676903",
   "version": "2.1.0"
  }
 },
 "nbformat": 4,
 "nbformat_minor": 4
}
