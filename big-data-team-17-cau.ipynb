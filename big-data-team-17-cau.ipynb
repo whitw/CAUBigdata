{
 "cells": [
  {
   "cell_type": "markdown",
   "metadata": {
    "papermill": {
     "duration": 0.032749,
     "end_time": "2022-12-02T06:33:54.133819",
     "exception": false,
     "start_time": "2022-12-02T06:33:54.101070",
     "status": "completed"
    },
    "tags": []
   },
   "source": [
    "### Content Based Filtering을 이용한 Airbnb Host Recommender"
   ]
  },
  {
   "cell_type": "markdown",
   "metadata": {
    "papermill": {
     "duration": 0.030153,
     "end_time": "2022-12-02T06:33:54.194627",
     "exception": false,
     "start_time": "2022-12-02T06:33:54.164474",
     "status": "completed"
    },
    "tags": []
   },
   "source": [
    "#### Big Data Group 17. 서현종, 김상현, 김승엽"
   ]
  },
  {
   "cell_type": "markdown",
   "metadata": {
    "papermill": {
     "duration": 0.029327,
     "end_time": "2022-12-02T06:33:54.253559",
     "exception": false,
     "start_time": "2022-12-02T06:33:54.224232",
     "status": "completed"
    },
    "tags": []
   },
   "source": [
    "### 시나리오"
   ]
  },
  {
   "cell_type": "markdown",
   "metadata": {
    "papermill": {
     "duration": 0.029517,
     "end_time": "2022-12-02T06:33:54.312861",
     "exception": false,
     "start_time": "2022-12-02T06:33:54.283344",
     "status": "completed"
    },
    "tags": []
   },
   "source": [
    "> Airbnb 신규 Host인 Ernest는 뉴욕에 위치한 자신의 집을 숙박 업소로 공개하고자 한다.  \n",
    "그러나, Ernest는 위치, 방의 개수, 침대 개수, 침대의 타입등 자신이 소유한 집의 정보만을 알고 있다.  \n",
    "이 집을 Airbnb로 공개하였을때 얼마의 가격과 얼마의 보증금, 또한 어떤 amenities(집기구 등)를\n",
    "놓아야하는지가 Ernest의 최대 관심사이다.  \n",
    "따라서 Ernest는 CAUSWE Big Data 17조가 만든 Content Based Filtering 추천 시스템을 이용하여\n",
    "적절한 가격 책정과 집기구 배치에 대해 도움을 얻고자 한다."
   ]
  },
  {
   "cell_type": "markdown",
   "metadata": {
    "papermill": {
     "duration": 0.029599,
     "end_time": "2022-12-02T06:33:54.373076",
     "exception": false,
     "start_time": "2022-12-02T06:33:54.343477",
     "status": "completed"
    },
    "tags": []
   },
   "source": [
    "### 프로그램 개요"
   ]
  },
  {
   "cell_type": "markdown",
   "metadata": {
    "papermill": {
     "duration": 0.0296,
     "end_time": "2022-12-02T06:33:54.432549",
     "exception": false,
     "start_time": "2022-12-02T06:33:54.402949",
     "status": "completed"
    },
    "tags": []
   },
   "source": [
    "Airbnb Open Data는 Host 숙소에 대한 106가지의 Feature가 정의되어 있는 데이터 셋이다.  \n",
    "통상적인 추천 시스템이라면 협업 필터링 (Collaborate Filtering)을 사용하나,  \n",
    "이 데이터 셋은 사용자의 정보가 없기 때문에 (오직 이 숙소에 대한 평균 평점들만 알 수 있음),  \n",
    "Content의 정보에 기반하여 추천 시스템이 적합해보였다.  \n",
    "  \n",
    "Content Based Filtering을 토대로 이 추천시스템은 호스트가 입력한 숙박 업소의 정보를  \n",
    "어느 데이터와 유사한지 판별하여 (cos sim), Top N을 추려낸다음, 이 Top N 중에서  \n",
    "평점이 높은 숙박 업소의 정보만을 추려내어 적절한 가격과 amenities를 추천할 것이다."
   ]
  },
  {
   "cell_type": "code",
   "execution_count": 1,
   "metadata": {
    "execution": {
     "iopub.execute_input": "2022-12-02T06:33:54.495941Z",
     "iopub.status.busy": "2022-12-02T06:33:54.494955Z",
     "iopub.status.idle": "2022-12-02T06:33:54.499903Z",
     "shell.execute_reply": "2022-12-02T06:33:54.500448Z",
     "shell.execute_reply.started": "2022-12-02T05:25:49.380117Z"
    },
    "papermill": {
     "duration": 0.03829,
     "end_time": "2022-12-02T06:33:54.500634",
     "exception": false,
     "start_time": "2022-12-02T06:33:54.462344",
     "status": "completed"
    },
    "tags": []
   },
   "outputs": [],
   "source": [
    "from IPython.core.interactiveshell import InteractiveShell #python의 대화형 쉘, 인터프리터\n",
    "InteractiveShell.ast_node_interactivity = \"all\"#모든 출력값을 연속적으로 출력\n",
    "import warnings\n",
    "warnings.filterwarnings(\"ignore\")"
   ]
  },
  {
   "cell_type": "code",
   "execution_count": 2,
   "metadata": {
    "execution": {
     "iopub.execute_input": "2022-12-02T06:33:54.564469Z",
     "iopub.status.busy": "2022-12-02T06:33:54.563409Z",
     "iopub.status.idle": "2022-12-02T06:33:54.568278Z",
     "shell.execute_reply": "2022-12-02T06:33:54.568866Z",
     "shell.execute_reply.started": "2022-12-02T05:25:49.389563Z"
    },
    "papermill": {
     "duration": 0.038611,
     "end_time": "2022-12-02T06:33:54.569027",
     "exception": false,
     "start_time": "2022-12-02T06:33:54.530416",
     "status": "completed"
    },
    "tags": []
   },
   "outputs": [],
   "source": [
    "import numpy as np\n",
    "import pandas as pd\n",
    "\n",
    "pd.options.display.max_rows = 200\n",
    "pd.options.display.max_columns = 50"
   ]
  },
  {
   "cell_type": "code",
   "execution_count": 3,
   "metadata": {
    "execution": {
     "iopub.execute_input": "2022-12-02T06:33:54.632458Z",
     "iopub.status.busy": "2022-12-02T06:33:54.631425Z",
     "iopub.status.idle": "2022-12-02T06:34:09.919047Z",
     "shell.execute_reply": "2022-12-02T06:34:09.919555Z",
     "shell.execute_reply.started": "2022-12-02T05:26:02.880335Z"
    },
    "papermill": {
     "duration": 15.321228,
     "end_time": "2022-12-02T06:34:09.919715",
     "exception": false,
     "start_time": "2022-12-02T06:33:54.598487",
     "status": "completed"
    },
    "tags": []
   },
   "outputs": [
    {
     "data": {
      "text/html": [
       "<div>\n",
       "<style scoped>\n",
       "    .dataframe tbody tr th:only-of-type {\n",
       "        vertical-align: middle;\n",
       "    }\n",
       "\n",
       "    .dataframe tbody tr th {\n",
       "        vertical-align: top;\n",
       "    }\n",
       "\n",
       "    .dataframe thead th {\n",
       "        text-align: right;\n",
       "    }\n",
       "</style>\n",
       "<table border=\"1\" class=\"dataframe\">\n",
       "  <thead>\n",
       "    <tr style=\"text-align: right;\">\n",
       "      <th></th>\n",
       "      <th>id</th>\n",
       "      <th>listing_url</th>\n",
       "      <th>scrape_id</th>\n",
       "      <th>last_scraped</th>\n",
       "      <th>name</th>\n",
       "      <th>summary</th>\n",
       "      <th>space</th>\n",
       "      <th>description</th>\n",
       "      <th>experiences_offered</th>\n",
       "      <th>neighborhood_overview</th>\n",
       "      <th>notes</th>\n",
       "      <th>transit</th>\n",
       "      <th>access</th>\n",
       "      <th>interaction</th>\n",
       "      <th>house_rules</th>\n",
       "      <th>thumbnail_url</th>\n",
       "      <th>medium_url</th>\n",
       "      <th>picture_url</th>\n",
       "      <th>xl_picture_url</th>\n",
       "      <th>host_id</th>\n",
       "      <th>host_url</th>\n",
       "      <th>host_name</th>\n",
       "      <th>host_since</th>\n",
       "      <th>host_location</th>\n",
       "      <th>host_about</th>\n",
       "      <th>...</th>\n",
       "      <th>calendar_last_scraped</th>\n",
       "      <th>number_of_reviews</th>\n",
       "      <th>number_of_reviews_ltm</th>\n",
       "      <th>first_review</th>\n",
       "      <th>last_review</th>\n",
       "      <th>review_scores_rating</th>\n",
       "      <th>review_scores_accuracy</th>\n",
       "      <th>review_scores_cleanliness</th>\n",
       "      <th>review_scores_checkin</th>\n",
       "      <th>review_scores_communication</th>\n",
       "      <th>review_scores_location</th>\n",
       "      <th>review_scores_value</th>\n",
       "      <th>requires_license</th>\n",
       "      <th>license</th>\n",
       "      <th>jurisdiction_names</th>\n",
       "      <th>instant_bookable</th>\n",
       "      <th>is_business_travel_ready</th>\n",
       "      <th>cancellation_policy</th>\n",
       "      <th>require_guest_profile_picture</th>\n",
       "      <th>require_guest_phone_verification</th>\n",
       "      <th>calculated_host_listings_count</th>\n",
       "      <th>calculated_host_listings_count_entire_homes</th>\n",
       "      <th>calculated_host_listings_count_private_rooms</th>\n",
       "      <th>calculated_host_listings_count_shared_rooms</th>\n",
       "      <th>reviews_per_month</th>\n",
       "    </tr>\n",
       "  </thead>\n",
       "  <tbody>\n",
       "    <tr>\n",
       "      <th>0</th>\n",
       "      <td>2595</td>\n",
       "      <td>https://www.airbnb.com/rooms/2595</td>\n",
       "      <td>20200212052319</td>\n",
       "      <td>2020-02-12</td>\n",
       "      <td>Skylit Midtown Castle</td>\n",
       "      <td>Beautiful, spacious skylit studio in the heart...</td>\n",
       "      <td>- Spacious (500+ft²), immaculate and nicely fu...</td>\n",
       "      <td>Beautiful, spacious skylit studio in the heart...</td>\n",
       "      <td>none</td>\n",
       "      <td>Centrally located in the heart of Manhattan ju...</td>\n",
       "      <td>NaN</td>\n",
       "      <td>Apartment is located on 37th Street between 5t...</td>\n",
       "      <td>Guests have full access to the kitchen, bathro...</td>\n",
       "      <td>I am a Sound Therapy Practitioner and Kundalin...</td>\n",
       "      <td>Make yourself at home, respect the space and t...</td>\n",
       "      <td>NaN</td>\n",
       "      <td>NaN</td>\n",
       "      <td>https://a0.muscache.com/im/pictures/f0813a11-4...</td>\n",
       "      <td>NaN</td>\n",
       "      <td>2845</td>\n",
       "      <td>https://www.airbnb.com/users/show/2845</td>\n",
       "      <td>Jennifer</td>\n",
       "      <td>2008-09-09</td>\n",
       "      <td>New York, New York, United States</td>\n",
       "      <td>A New Yorker since 2000! My passion is creatin...</td>\n",
       "      <td>...</td>\n",
       "      <td>2020-02-12</td>\n",
       "      <td>48</td>\n",
       "      <td>5</td>\n",
       "      <td>2009-11-21</td>\n",
       "      <td>2019-11-04</td>\n",
       "      <td>94.0</td>\n",
       "      <td>9.0</td>\n",
       "      <td>9.0</td>\n",
       "      <td>10.0</td>\n",
       "      <td>10.0</td>\n",
       "      <td>10.0</td>\n",
       "      <td>9.0</td>\n",
       "      <td>f</td>\n",
       "      <td>NaN</td>\n",
       "      <td>NaN</td>\n",
       "      <td>f</td>\n",
       "      <td>f</td>\n",
       "      <td>strict_14_with_grace_period</td>\n",
       "      <td>t</td>\n",
       "      <td>t</td>\n",
       "      <td>2</td>\n",
       "      <td>2</td>\n",
       "      <td>0</td>\n",
       "      <td>0</td>\n",
       "      <td>0.39</td>\n",
       "    </tr>\n",
       "    <tr>\n",
       "      <th>1</th>\n",
       "      <td>3831</td>\n",
       "      <td>https://www.airbnb.com/rooms/3831</td>\n",
       "      <td>20200212052319</td>\n",
       "      <td>2020-02-13</td>\n",
       "      <td>Cozy Entire Floor of Brownstone</td>\n",
       "      <td>Urban retreat: enjoy 500 s.f. floor in 1899 br...</td>\n",
       "      <td>Greetings!      We own a double-duplex brownst...</td>\n",
       "      <td>Urban retreat: enjoy 500 s.f. floor in 1899 br...</td>\n",
       "      <td>none</td>\n",
       "      <td>Just the right mix of urban center and local n...</td>\n",
       "      <td>NaN</td>\n",
       "      <td>B52 bus for a 10-minute ride to downtown Brook...</td>\n",
       "      <td>You will have the private, exclusive use of an...</td>\n",
       "      <td>We'll be around, but since you have the top fl...</td>\n",
       "      <td>Smoking - outside please; pets allowed but ple...</td>\n",
       "      <td>NaN</td>\n",
       "      <td>NaN</td>\n",
       "      <td>https://a0.muscache.com/im/pictures/e49999c2-9...</td>\n",
       "      <td>NaN</td>\n",
       "      <td>4869</td>\n",
       "      <td>https://www.airbnb.com/users/show/4869</td>\n",
       "      <td>LisaRoxanne</td>\n",
       "      <td>2008-12-07</td>\n",
       "      <td>New York, New York, United States</td>\n",
       "      <td>Laid-back bi-coastal actor/professor/attorney.</td>\n",
       "      <td>...</td>\n",
       "      <td>2020-02-13</td>\n",
       "      <td>307</td>\n",
       "      <td>70</td>\n",
       "      <td>2014-09-30</td>\n",
       "      <td>2020-02-08</td>\n",
       "      <td>90.0</td>\n",
       "      <td>9.0</td>\n",
       "      <td>9.0</td>\n",
       "      <td>10.0</td>\n",
       "      <td>9.0</td>\n",
       "      <td>10.0</td>\n",
       "      <td>9.0</td>\n",
       "      <td>f</td>\n",
       "      <td>NaN</td>\n",
       "      <td>NaN</td>\n",
       "      <td>f</td>\n",
       "      <td>f</td>\n",
       "      <td>moderate</td>\n",
       "      <td>f</td>\n",
       "      <td>f</td>\n",
       "      <td>1</td>\n",
       "      <td>1</td>\n",
       "      <td>0</td>\n",
       "      <td>0</td>\n",
       "      <td>4.69</td>\n",
       "    </tr>\n",
       "    <tr>\n",
       "      <th>2</th>\n",
       "      <td>5099</td>\n",
       "      <td>https://www.airbnb.com/rooms/5099</td>\n",
       "      <td>20200212052319</td>\n",
       "      <td>2020-02-12</td>\n",
       "      <td>Large Cozy 1 BR Apartment In Midtown East</td>\n",
       "      <td>My large 1 bedroom apartment has a true New Yo...</td>\n",
       "      <td>I have a large 1 bedroom apartment centrally l...</td>\n",
       "      <td>My large 1 bedroom apartment has a true New Yo...</td>\n",
       "      <td>none</td>\n",
       "      <td>My neighborhood in Midtown East is called Murr...</td>\n",
       "      <td>Read My Full Listing For All Information. New ...</td>\n",
       "      <td>From the apartment is a 10 minute walk to Gran...</td>\n",
       "      <td>I will meet you upon arrival.</td>\n",
       "      <td>I usually check in with guests via text or ema...</td>\n",
       "      <td>• Check-in time is 2PM. • Check-out time is 12...</td>\n",
       "      <td>NaN</td>\n",
       "      <td>NaN</td>\n",
       "      <td>https://a0.muscache.com/im/pictures/24020910/1...</td>\n",
       "      <td>NaN</td>\n",
       "      <td>7322</td>\n",
       "      <td>https://www.airbnb.com/users/show/7322</td>\n",
       "      <td>Chris</td>\n",
       "      <td>2009-02-02</td>\n",
       "      <td>New York, New York, United States</td>\n",
       "      <td>I'm an artist, writer, traveler, and a native ...</td>\n",
       "      <td>...</td>\n",
       "      <td>2020-02-12</td>\n",
       "      <td>78</td>\n",
       "      <td>8</td>\n",
       "      <td>2009-04-20</td>\n",
       "      <td>2019-10-13</td>\n",
       "      <td>90.0</td>\n",
       "      <td>10.0</td>\n",
       "      <td>9.0</td>\n",
       "      <td>10.0</td>\n",
       "      <td>10.0</td>\n",
       "      <td>10.0</td>\n",
       "      <td>9.0</td>\n",
       "      <td>f</td>\n",
       "      <td>NaN</td>\n",
       "      <td>NaN</td>\n",
       "      <td>f</td>\n",
       "      <td>f</td>\n",
       "      <td>moderate</td>\n",
       "      <td>t</td>\n",
       "      <td>t</td>\n",
       "      <td>1</td>\n",
       "      <td>1</td>\n",
       "      <td>0</td>\n",
       "      <td>0</td>\n",
       "      <td>0.59</td>\n",
       "    </tr>\n",
       "  </tbody>\n",
       "</table>\n",
       "<p>3 rows × 106 columns</p>\n",
       "</div>"
      ],
      "text/plain": [
       "     id                        listing_url       scrape_id last_scraped  \\\n",
       "0  2595  https://www.airbnb.com/rooms/2595  20200212052319   2020-02-12   \n",
       "1  3831  https://www.airbnb.com/rooms/3831  20200212052319   2020-02-13   \n",
       "2  5099  https://www.airbnb.com/rooms/5099  20200212052319   2020-02-12   \n",
       "\n",
       "                                        name  \\\n",
       "0                      Skylit Midtown Castle   \n",
       "1            Cozy Entire Floor of Brownstone   \n",
       "2  Large Cozy 1 BR Apartment In Midtown East   \n",
       "\n",
       "                                             summary  \\\n",
       "0  Beautiful, spacious skylit studio in the heart...   \n",
       "1  Urban retreat: enjoy 500 s.f. floor in 1899 br...   \n",
       "2  My large 1 bedroom apartment has a true New Yo...   \n",
       "\n",
       "                                               space  \\\n",
       "0  - Spacious (500+ft²), immaculate and nicely fu...   \n",
       "1  Greetings!      We own a double-duplex brownst...   \n",
       "2  I have a large 1 bedroom apartment centrally l...   \n",
       "\n",
       "                                         description experiences_offered  \\\n",
       "0  Beautiful, spacious skylit studio in the heart...                none   \n",
       "1  Urban retreat: enjoy 500 s.f. floor in 1899 br...                none   \n",
       "2  My large 1 bedroom apartment has a true New Yo...                none   \n",
       "\n",
       "                               neighborhood_overview  \\\n",
       "0  Centrally located in the heart of Manhattan ju...   \n",
       "1  Just the right mix of urban center and local n...   \n",
       "2  My neighborhood in Midtown East is called Murr...   \n",
       "\n",
       "                                               notes  \\\n",
       "0                                                NaN   \n",
       "1                                                NaN   \n",
       "2  Read My Full Listing For All Information. New ...   \n",
       "\n",
       "                                             transit  \\\n",
       "0  Apartment is located on 37th Street between 5t...   \n",
       "1  B52 bus for a 10-minute ride to downtown Brook...   \n",
       "2  From the apartment is a 10 minute walk to Gran...   \n",
       "\n",
       "                                              access  \\\n",
       "0  Guests have full access to the kitchen, bathro...   \n",
       "1  You will have the private, exclusive use of an...   \n",
       "2                      I will meet you upon arrival.   \n",
       "\n",
       "                                         interaction  \\\n",
       "0  I am a Sound Therapy Practitioner and Kundalin...   \n",
       "1  We'll be around, but since you have the top fl...   \n",
       "2  I usually check in with guests via text or ema...   \n",
       "\n",
       "                                         house_rules  thumbnail_url  \\\n",
       "0  Make yourself at home, respect the space and t...            NaN   \n",
       "1  Smoking - outside please; pets allowed but ple...            NaN   \n",
       "2  • Check-in time is 2PM. • Check-out time is 12...            NaN   \n",
       "\n",
       "   medium_url                                        picture_url  \\\n",
       "0         NaN  https://a0.muscache.com/im/pictures/f0813a11-4...   \n",
       "1         NaN  https://a0.muscache.com/im/pictures/e49999c2-9...   \n",
       "2         NaN  https://a0.muscache.com/im/pictures/24020910/1...   \n",
       "\n",
       "   xl_picture_url  host_id                                host_url  \\\n",
       "0             NaN     2845  https://www.airbnb.com/users/show/2845   \n",
       "1             NaN     4869  https://www.airbnb.com/users/show/4869   \n",
       "2             NaN     7322  https://www.airbnb.com/users/show/7322   \n",
       "\n",
       "     host_name  host_since                      host_location  \\\n",
       "0     Jennifer  2008-09-09  New York, New York, United States   \n",
       "1  LisaRoxanne  2008-12-07  New York, New York, United States   \n",
       "2        Chris  2009-02-02  New York, New York, United States   \n",
       "\n",
       "                                          host_about  ...  \\\n",
       "0  A New Yorker since 2000! My passion is creatin...  ...   \n",
       "1     Laid-back bi-coastal actor/professor/attorney.  ...   \n",
       "2  I'm an artist, writer, traveler, and a native ...  ...   \n",
       "\n",
       "  calendar_last_scraped number_of_reviews number_of_reviews_ltm first_review  \\\n",
       "0            2020-02-12                48                     5   2009-11-21   \n",
       "1            2020-02-13               307                    70   2014-09-30   \n",
       "2            2020-02-12                78                     8   2009-04-20   \n",
       "\n",
       "  last_review review_scores_rating review_scores_accuracy  \\\n",
       "0  2019-11-04                 94.0                    9.0   \n",
       "1  2020-02-08                 90.0                    9.0   \n",
       "2  2019-10-13                 90.0                   10.0   \n",
       "\n",
       "   review_scores_cleanliness  review_scores_checkin  \\\n",
       "0                        9.0                   10.0   \n",
       "1                        9.0                   10.0   \n",
       "2                        9.0                   10.0   \n",
       "\n",
       "  review_scores_communication review_scores_location review_scores_value  \\\n",
       "0                        10.0                   10.0                 9.0   \n",
       "1                         9.0                   10.0                 9.0   \n",
       "2                        10.0                   10.0                 9.0   \n",
       "\n",
       "  requires_license license jurisdiction_names instant_bookable  \\\n",
       "0                f     NaN                NaN                f   \n",
       "1                f     NaN                NaN                f   \n",
       "2                f     NaN                NaN                f   \n",
       "\n",
       "  is_business_travel_ready          cancellation_policy  \\\n",
       "0                        f  strict_14_with_grace_period   \n",
       "1                        f                     moderate   \n",
       "2                        f                     moderate   \n",
       "\n",
       "  require_guest_profile_picture require_guest_phone_verification  \\\n",
       "0                             t                                t   \n",
       "1                             f                                f   \n",
       "2                             t                                t   \n",
       "\n",
       "  calculated_host_listings_count calculated_host_listings_count_entire_homes  \\\n",
       "0                              2                                           2   \n",
       "1                              1                                           1   \n",
       "2                              1                                           1   \n",
       "\n",
       "  calculated_host_listings_count_private_rooms  \\\n",
       "0                                            0   \n",
       "1                                            0   \n",
       "2                                            0   \n",
       "\n",
       "   calculated_host_listings_count_shared_rooms  reviews_per_month  \n",
       "0                                            0               0.39  \n",
       "1                                            0               4.69  \n",
       "2                                            0               0.59  \n",
       "\n",
       "[3 rows x 106 columns]"
      ]
     },
     "execution_count": 3,
     "metadata": {},
     "output_type": "execute_result"
    },
    {
     "name": "stdout",
     "output_type": "stream",
     "text": [
      "abm.shape (153254, 106)\n",
      "abm.size 16244924\n"
     ]
    }
   ],
   "source": [
    "abm =  pd.read_csv('../input/airbnb-new-york-city-with-106-features/airbnbmark1.csv')\n",
    "abm.head(3)\n",
    "print('abm.shape',abm.shape)\n",
    "print('abm.size',abm.size)"
   ]
  },
  {
   "cell_type": "markdown",
   "metadata": {
    "papermill": {
     "duration": 0.030831,
     "end_time": "2022-12-02T06:34:09.983758",
     "exception": false,
     "start_time": "2022-12-02T06:34:09.952927",
     "status": "completed"
    },
    "tags": []
   },
   "source": [
    "## 쓸모있는 column들만 남겨놓기"
   ]
  },
  {
   "cell_type": "markdown",
   "metadata": {
    "papermill": {
     "duration": 0.030757,
     "end_time": "2022-12-02T06:34:10.045626",
     "exception": false,
     "start_time": "2022-12-02T06:34:10.014869",
     "status": "completed"
    },
    "tags": []
   },
   "source": [
    "쓸모있는 column이라는 근거가 필요하다."
   ]
  },
  {
   "cell_type": "code",
   "execution_count": 4,
   "metadata": {
    "execution": {
     "iopub.execute_input": "2022-12-02T06:34:10.135374Z",
     "iopub.status.busy": "2022-12-02T06:34:10.134630Z",
     "iopub.status.idle": "2022-12-02T06:34:10.137814Z",
     "shell.execute_reply": "2022-12-02T06:34:10.137134Z",
     "shell.execute_reply.started": "2022-12-02T05:27:15.928047Z"
    },
    "papermill": {
     "duration": 0.061185,
     "end_time": "2022-12-02T06:34:10.137937",
     "exception": false,
     "start_time": "2022-12-02T06:34:10.076752",
     "status": "completed"
    },
    "tags": []
   },
   "outputs": [],
   "source": [
    "abm1 = abm[['neighbourhood_group_cleansed', 'property_type', 'room_type'\n",
    "           ,'accommodates', 'bathrooms', 'bedrooms', 'beds'\n",
    "           ,'bed_type', 'price', 'security_deposit'\n",
    "            ,'review_scores_rating', 'number_of_reviews', 'amenities']]"
   ]
  },
  {
   "cell_type": "code",
   "execution_count": 5,
   "metadata": {
    "execution": {
     "iopub.execute_input": "2022-12-02T06:34:10.205526Z",
     "iopub.status.busy": "2022-12-02T06:34:10.204823Z",
     "iopub.status.idle": "2022-12-02T06:34:10.222604Z",
     "shell.execute_reply": "2022-12-02T06:34:10.221966Z",
     "shell.execute_reply.started": "2022-12-02T05:27:18.787941Z"
    },
    "papermill": {
     "duration": 0.053707,
     "end_time": "2022-12-02T06:34:10.222739",
     "exception": false,
     "start_time": "2022-12-02T06:34:10.169032",
     "status": "completed"
    },
    "tags": []
   },
   "outputs": [
    {
     "data": {
      "text/plain": [
       "(153254, 13)"
      ]
     },
     "execution_count": 5,
     "metadata": {},
     "output_type": "execute_result"
    },
    {
     "data": {
      "text/html": [
       "<div>\n",
       "<style scoped>\n",
       "    .dataframe tbody tr th:only-of-type {\n",
       "        vertical-align: middle;\n",
       "    }\n",
       "\n",
       "    .dataframe tbody tr th {\n",
       "        vertical-align: top;\n",
       "    }\n",
       "\n",
       "    .dataframe thead th {\n",
       "        text-align: right;\n",
       "    }\n",
       "</style>\n",
       "<table border=\"1\" class=\"dataframe\">\n",
       "  <thead>\n",
       "    <tr style=\"text-align: right;\">\n",
       "      <th></th>\n",
       "      <th>neighbourhood_group_cleansed</th>\n",
       "      <th>property_type</th>\n",
       "      <th>room_type</th>\n",
       "      <th>accommodates</th>\n",
       "      <th>bathrooms</th>\n",
       "      <th>bedrooms</th>\n",
       "      <th>beds</th>\n",
       "      <th>bed_type</th>\n",
       "      <th>price</th>\n",
       "      <th>security_deposit</th>\n",
       "      <th>review_scores_rating</th>\n",
       "      <th>number_of_reviews</th>\n",
       "      <th>amenities</th>\n",
       "    </tr>\n",
       "  </thead>\n",
       "  <tbody>\n",
       "    <tr>\n",
       "      <th>0</th>\n",
       "      <td>Manhattan</td>\n",
       "      <td>Apartment</td>\n",
       "      <td>Entire home/apt</td>\n",
       "      <td>1</td>\n",
       "      <td>1.0</td>\n",
       "      <td>0.0</td>\n",
       "      <td>1.0</td>\n",
       "      <td>Real Bed</td>\n",
       "      <td>$225.00</td>\n",
       "      <td>$350.00</td>\n",
       "      <td>94.0</td>\n",
       "      <td>48</td>\n",
       "      <td>{TV,Wifi,\"Air conditioning\",Kitchen,\"Paid park...</td>\n",
       "    </tr>\n",
       "    <tr>\n",
       "      <th>1</th>\n",
       "      <td>Brooklyn</td>\n",
       "      <td>Guest suite</td>\n",
       "      <td>Entire home/apt</td>\n",
       "      <td>3</td>\n",
       "      <td>1.0</td>\n",
       "      <td>1.0</td>\n",
       "      <td>4.0</td>\n",
       "      <td>Real Bed</td>\n",
       "      <td>$89.00</td>\n",
       "      <td>$500.00</td>\n",
       "      <td>90.0</td>\n",
       "      <td>307</td>\n",
       "      <td>{TV,\"Cable TV\",Internet,Wifi,\"Air conditioning...</td>\n",
       "    </tr>\n",
       "    <tr>\n",
       "      <th>2</th>\n",
       "      <td>Manhattan</td>\n",
       "      <td>Apartment</td>\n",
       "      <td>Entire home/apt</td>\n",
       "      <td>2</td>\n",
       "      <td>1.0</td>\n",
       "      <td>1.0</td>\n",
       "      <td>1.0</td>\n",
       "      <td>Real Bed</td>\n",
       "      <td>$200.00</td>\n",
       "      <td>$300.00</td>\n",
       "      <td>90.0</td>\n",
       "      <td>78</td>\n",
       "      <td>{TV,\"Cable TV\",Internet,Wifi,\"Air conditioning...</td>\n",
       "    </tr>\n",
       "  </tbody>\n",
       "</table>\n",
       "</div>"
      ],
      "text/plain": [
       "  neighbourhood_group_cleansed property_type        room_type  accommodates  \\\n",
       "0                    Manhattan     Apartment  Entire home/apt             1   \n",
       "1                     Brooklyn   Guest suite  Entire home/apt             3   \n",
       "2                    Manhattan     Apartment  Entire home/apt             2   \n",
       "\n",
       "   bathrooms  bedrooms  beds  bed_type    price security_deposit  \\\n",
       "0        1.0       0.0   1.0  Real Bed  $225.00          $350.00   \n",
       "1        1.0       1.0   4.0  Real Bed   $89.00          $500.00   \n",
       "2        1.0       1.0   1.0  Real Bed  $200.00          $300.00   \n",
       "\n",
       "   review_scores_rating  number_of_reviews  \\\n",
       "0                  94.0                 48   \n",
       "1                  90.0                307   \n",
       "2                  90.0                 78   \n",
       "\n",
       "                                           amenities  \n",
       "0  {TV,Wifi,\"Air conditioning\",Kitchen,\"Paid park...  \n",
       "1  {TV,\"Cable TV\",Internet,Wifi,\"Air conditioning...  \n",
       "2  {TV,\"Cable TV\",Internet,Wifi,\"Air conditioning...  "
      ]
     },
     "execution_count": 5,
     "metadata": {},
     "output_type": "execute_result"
    }
   ],
   "source": [
    "abm1.shape\n",
    "abm1.head(3)"
   ]
  },
  {
   "cell_type": "code",
   "execution_count": 6,
   "metadata": {
    "execution": {
     "iopub.execute_input": "2022-12-02T06:34:10.306108Z",
     "iopub.status.busy": "2022-12-02T06:34:10.296252Z",
     "iopub.status.idle": "2022-12-02T06:34:10.569824Z",
     "shell.execute_reply": "2022-12-02T06:34:10.569137Z",
     "shell.execute_reply.started": "2022-12-02T05:27:22.302536Z"
    },
    "papermill": {
     "duration": 0.31538,
     "end_time": "2022-12-02T06:34:10.569969",
     "exception": false,
     "start_time": "2022-12-02T06:34:10.254589",
     "status": "completed"
    },
    "tags": []
   },
   "outputs": [
    {
     "name": "stdout",
     "output_type": "stream",
     "text": [
      "abm1.shape after dropping duplicate rows:  (93627, 13)\n",
      "abm1.size:   1217151\n",
      "DataTypes wise size: \n",
      " object     7\n",
      "float64    4\n",
      "int64      2\n",
      "dtype: int64\n"
     ]
    }
   ],
   "source": [
    "abm1 = abm1.drop_duplicates() #중복된 데이터 행 삭제\n",
    "print('abm1.shape after dropping duplicate rows: ',abm1.shape)\n",
    "print('abm1.size:  ',abm1.size)\n",
    "print('DataTypes wise size: \\n', abm1.dtypes.value_counts())"
   ]
  },
  {
   "cell_type": "markdown",
   "metadata": {
    "papermill": {
     "duration": 0.031661,
     "end_time": "2022-12-02T06:34:10.635158",
     "exception": false,
     "start_time": "2022-12-02T06:34:10.603497",
     "status": "completed"
    },
    "tags": []
   },
   "source": [
    "## 결측값 검사, Data Cleaning"
   ]
  },
  {
   "cell_type": "code",
   "execution_count": 7,
   "metadata": {
    "execution": {
     "iopub.execute_input": "2022-12-02T06:34:10.721487Z",
     "iopub.status.busy": "2022-12-02T06:34:10.720797Z",
     "iopub.status.idle": "2022-12-02T06:34:10.768268Z",
     "shell.execute_reply": "2022-12-02T06:34:10.767540Z",
     "shell.execute_reply.started": "2022-12-02T05:27:25.369834Z"
    },
    "papermill": {
     "duration": 0.101418,
     "end_time": "2022-12-02T06:34:10.768411",
     "exception": false,
     "start_time": "2022-12-02T06:34:10.666993",
     "status": "completed"
    },
    "tags": []
   },
   "outputs": [
    {
     "data": {
      "text/plain": [
       "neighbourhood_group_cleansed        0\n",
       "property_type                       0\n",
       "room_type                           0\n",
       "accommodates                        0\n",
       "bathrooms                          67\n",
       "bedrooms                          144\n",
       "beds                              737\n",
       "bed_type                            0\n",
       "price                               0\n",
       "security_deposit                27798\n",
       "review_scores_rating            16506\n",
       "number_of_reviews                   0\n",
       "amenities                           0\n",
       "dtype: int64"
      ]
     },
     "execution_count": 7,
     "metadata": {},
     "output_type": "execute_result"
    }
   ],
   "source": [
    "abm1.replace((' '),np.nan,inplace=True) #inplace가 T면 새로운 return 값이 아닌 원본을 아예 수정\n",
    "abm1.isnull().sum()"
   ]
  },
  {
   "cell_type": "code",
   "execution_count": 8,
   "metadata": {
    "execution": {
     "iopub.execute_input": "2022-12-02T06:34:10.860270Z",
     "iopub.status.busy": "2022-12-02T06:34:10.849583Z",
     "iopub.status.idle": "2022-12-02T06:34:10.944859Z",
     "shell.execute_reply": "2022-12-02T06:34:10.943861Z",
     "shell.execute_reply.started": "2022-12-02T05:27:30.224798Z"
    },
    "papermill": {
     "duration": 0.143979,
     "end_time": "2022-12-02T06:34:10.944981",
     "exception": false,
     "start_time": "2022-12-02T06:34:10.801002",
     "status": "completed"
    },
    "tags": []
   },
   "outputs": [
    {
     "data": {
      "text/plain": [
       "neighbourhood_group_cleansed        0\n",
       "property_type                       0\n",
       "room_type                           0\n",
       "accommodates                        0\n",
       "bathrooms                           0\n",
       "bedrooms                            0\n",
       "beds                                0\n",
       "bed_type                            0\n",
       "price                               0\n",
       "security_deposit                19453\n",
       "review_scores_rating                0\n",
       "number_of_reviews                   0\n",
       "amenities                           0\n",
       "dtype: int64"
      ]
     },
     "execution_count": 8,
     "metadata": {},
     "output_type": "execute_result"
    }
   ],
   "source": [
    "abm1 = abm1.dropna(subset=['neighbourhood_group_cleansed','bathrooms', 'bedrooms', 'beds', 'review_scores_rating'], how='any', axis=0)\n",
    "abm1.isnull().sum()"
   ]
  },
  {
   "cell_type": "code",
   "execution_count": 9,
   "metadata": {
    "execution": {
     "iopub.execute_input": "2022-12-02T06:34:11.013693Z",
     "iopub.status.busy": "2022-12-02T06:34:11.013005Z",
     "iopub.status.idle": "2022-12-02T06:34:11.096037Z",
     "shell.execute_reply": "2022-12-02T06:34:11.095349Z",
     "shell.execute_reply.started": "2022-12-02T05:27:33.736114Z"
    },
    "papermill": {
     "duration": 0.119022,
     "end_time": "2022-12-02T06:34:11.096164",
     "exception": false,
     "start_time": "2022-12-02T06:34:10.977142",
     "status": "completed"
    },
    "tags": []
   },
   "outputs": [
    {
     "data": {
      "text/plain": [
       "neighbourhood_group_cleansed    0\n",
       "property_type                   0\n",
       "room_type                       0\n",
       "accommodates                    0\n",
       "bathrooms                       0\n",
       "bedrooms                        0\n",
       "beds                            0\n",
       "bed_type                        0\n",
       "price                           0\n",
       "security_deposit                0\n",
       "review_scores_rating            0\n",
       "number_of_reviews               0\n",
       "amenities                       0\n",
       "dtype: int64"
      ]
     },
     "execution_count": 9,
     "metadata": {},
     "output_type": "execute_result"
    }
   ],
   "source": [
    "abm1 = abm1.fillna(0) #보증금 nan은 0으로 취급\n",
    "abm1.isnull().sum()"
   ]
  },
  {
   "cell_type": "code",
   "execution_count": 10,
   "metadata": {
    "execution": {
     "iopub.execute_input": "2022-12-02T06:34:11.167948Z",
     "iopub.status.busy": "2022-12-02T06:34:11.167277Z",
     "iopub.status.idle": "2022-12-02T06:34:11.170442Z",
     "shell.execute_reply": "2022-12-02T06:34:11.169846Z",
     "shell.execute_reply.started": "2022-12-02T05:27:36.729766Z"
    },
    "papermill": {
     "duration": 0.041269,
     "end_time": "2022-12-02T06:34:11.170567",
     "exception": false,
     "start_time": "2022-12-02T06:34:11.129298",
     "status": "completed"
    },
    "tags": []
   },
   "outputs": [
    {
     "name": "stdout",
     "output_type": "stream",
     "text": [
      "abm1.shape after dropping nan rows:  (76792, 13)\n"
     ]
    }
   ],
   "source": [
    "print('abm1.shape after dropping nan rows: ',abm1.shape)"
   ]
  },
  {
   "cell_type": "code",
   "execution_count": 11,
   "metadata": {
    "execution": {
     "iopub.execute_input": "2022-12-02T06:34:11.288086Z",
     "iopub.status.busy": "2022-12-02T06:34:11.263513Z",
     "iopub.status.idle": "2022-12-02T06:34:11.468360Z",
     "shell.execute_reply": "2022-12-02T06:34:11.467817Z",
     "shell.execute_reply.started": "2022-12-02T05:27:41.988673Z"
    },
    "papermill": {
     "duration": 0.264035,
     "end_time": "2022-12-02T06:34:11.468475",
     "exception": false,
     "start_time": "2022-12-02T06:34:11.204440",
     "status": "completed"
    },
    "tags": []
   },
   "outputs": [
    {
     "data": {
      "text/html": [
       "<div>\n",
       "<style scoped>\n",
       "    .dataframe tbody tr th:only-of-type {\n",
       "        vertical-align: middle;\n",
       "    }\n",
       "\n",
       "    .dataframe tbody tr th {\n",
       "        vertical-align: top;\n",
       "    }\n",
       "\n",
       "    .dataframe thead th {\n",
       "        text-align: right;\n",
       "    }\n",
       "</style>\n",
       "<table border=\"1\" class=\"dataframe\">\n",
       "  <thead>\n",
       "    <tr style=\"text-align: right;\">\n",
       "      <th></th>\n",
       "      <th>neighbourhood_group_cleansed</th>\n",
       "      <th>property_type</th>\n",
       "      <th>room_type</th>\n",
       "      <th>accommodates</th>\n",
       "      <th>bathrooms</th>\n",
       "      <th>bedrooms</th>\n",
       "      <th>beds</th>\n",
       "      <th>bed_type</th>\n",
       "      <th>price</th>\n",
       "      <th>security_deposit</th>\n",
       "      <th>review_scores_rating</th>\n",
       "      <th>number_of_reviews</th>\n",
       "      <th>amenities</th>\n",
       "    </tr>\n",
       "  </thead>\n",
       "  <tbody>\n",
       "    <tr>\n",
       "      <th>0</th>\n",
       "      <td>Manhattan</td>\n",
       "      <td>Apartment</td>\n",
       "      <td>Entire home/apt</td>\n",
       "      <td>1</td>\n",
       "      <td>1.0</td>\n",
       "      <td>0.0</td>\n",
       "      <td>1.0</td>\n",
       "      <td>Real Bed</td>\n",
       "      <td>225.0</td>\n",
       "      <td>350.0</td>\n",
       "      <td>94.0</td>\n",
       "      <td>48</td>\n",
       "      <td>{TV,Wifi,\"Air conditioning\",Kitchen,\"Paid park...</td>\n",
       "    </tr>\n",
       "    <tr>\n",
       "      <th>1</th>\n",
       "      <td>Brooklyn</td>\n",
       "      <td>Guest suite</td>\n",
       "      <td>Entire home/apt</td>\n",
       "      <td>3</td>\n",
       "      <td>1.0</td>\n",
       "      <td>1.0</td>\n",
       "      <td>4.0</td>\n",
       "      <td>Real Bed</td>\n",
       "      <td>89.0</td>\n",
       "      <td>500.0</td>\n",
       "      <td>90.0</td>\n",
       "      <td>307</td>\n",
       "      <td>{TV,\"Cable TV\",Internet,Wifi,\"Air conditioning...</td>\n",
       "    </tr>\n",
       "  </tbody>\n",
       "</table>\n",
       "</div>"
      ],
      "text/plain": [
       "  neighbourhood_group_cleansed property_type        room_type  accommodates  \\\n",
       "0                    Manhattan     Apartment  Entire home/apt             1   \n",
       "1                     Brooklyn   Guest suite  Entire home/apt             3   \n",
       "\n",
       "   bathrooms  bedrooms  beds  bed_type  price  security_deposit  \\\n",
       "0        1.0       0.0   1.0  Real Bed  225.0             350.0   \n",
       "1        1.0       1.0   4.0  Real Bed   89.0             500.0   \n",
       "\n",
       "   review_scores_rating  number_of_reviews  \\\n",
       "0                  94.0                 48   \n",
       "1                  90.0                307   \n",
       "\n",
       "                                           amenities  \n",
       "0  {TV,Wifi,\"Air conditioning\",Kitchen,\"Paid park...  \n",
       "1  {TV,\"Cable TV\",Internet,Wifi,\"Air conditioning...  "
      ]
     },
     "execution_count": 11,
     "metadata": {},
     "output_type": "execute_result"
    }
   ],
   "source": [
    "def clean_data(df): #$표시 떼어내기. ,구분표 없애기\n",
    "    for i in ['price','security_deposit']:\n",
    "        df[i]=df[i].str.replace('$','').str.replace(',', '').astype(float)\n",
    "    \n",
    "    df.replace('', np.nan, inplace=True)\n",
    "    \n",
    "    return df.head(2)\n",
    "clean_data(abm1)"
   ]
  },
  {
   "cell_type": "markdown",
   "metadata": {
    "papermill": {
     "duration": 0.03367,
     "end_time": "2022-12-02T06:34:11.537967",
     "exception": false,
     "start_time": "2022-12-02T06:34:11.504297",
     "status": "completed"
    },
    "tags": []
   },
   "source": [
    "## 정확도를 위해 리뷰 개수 10개 미만인 호스트는 삭제"
   ]
  },
  {
   "cell_type": "code",
   "execution_count": 12,
   "metadata": {
    "execution": {
     "iopub.execute_input": "2022-12-02T06:34:11.611030Z",
     "iopub.status.busy": "2022-12-02T06:34:11.609621Z",
     "iopub.status.idle": "2022-12-02T06:34:11.648230Z",
     "shell.execute_reply": "2022-12-02T06:34:11.647698Z",
     "shell.execute_reply.started": "2022-12-02T05:27:45.128055Z"
    },
    "papermill": {
     "duration": 0.077143,
     "end_time": "2022-12-02T06:34:11.648344",
     "exception": false,
     "start_time": "2022-12-02T06:34:11.571201",
     "status": "completed"
    },
    "tags": []
   },
   "outputs": [
    {
     "data": {
      "text/plain": [
       "(46604, 13)"
      ]
     },
     "execution_count": 12,
     "metadata": {},
     "output_type": "execute_result"
    }
   ],
   "source": [
    "indexNames = abm1[abm1['number_of_reviews'] < 10].index\n",
    "abm1.drop(indexNames , inplace=True)\n",
    "abm1.shape"
   ]
  },
  {
   "cell_type": "markdown",
   "metadata": {
    "papermill": {
     "duration": 0.034282,
     "end_time": "2022-12-02T06:34:11.716812",
     "exception": false,
     "start_time": "2022-12-02T06:34:11.682530",
     "status": "completed"
    },
    "tags": []
   },
   "source": [
    "## Neighbourhood를 onehot encoding 하기"
   ]
  },
  {
   "cell_type": "code",
   "execution_count": 13,
   "metadata": {
    "execution": {
     "iopub.execute_input": "2022-12-02T06:34:11.797123Z",
     "iopub.status.busy": "2022-12-02T06:34:11.795448Z",
     "iopub.status.idle": "2022-12-02T06:34:11.801855Z",
     "shell.execute_reply": "2022-12-02T06:34:11.801232Z",
     "shell.execute_reply.started": "2022-12-02T05:27:51.392183Z"
    },
    "papermill": {
     "duration": 0.051019,
     "end_time": "2022-12-02T06:34:11.801968",
     "exception": false,
     "start_time": "2022-12-02T06:34:11.750949",
     "status": "completed"
    },
    "tags": []
   },
   "outputs": [
    {
     "data": {
      "text/plain": [
       "Brooklyn         19248\n",
       "Manhattan        18361\n",
       "Queens            6989\n",
       "Bronx             1482\n",
       "Staten Island      524\n",
       "Name: neighbourhood_group_cleansed, dtype: int64"
      ]
     },
     "execution_count": 13,
     "metadata": {},
     "output_type": "execute_result"
    }
   ],
   "source": [
    "abm1['neighbourhood_group_cleansed'].value_counts()"
   ]
  },
  {
   "cell_type": "code",
   "execution_count": 14,
   "metadata": {
    "execution": {
     "iopub.execute_input": "2022-12-02T06:34:11.884137Z",
     "iopub.status.busy": "2022-12-02T06:34:11.880563Z",
     "iopub.status.idle": "2022-12-02T06:34:12.082129Z",
     "shell.execute_reply": "2022-12-02T06:34:12.081444Z",
     "shell.execute_reply.started": "2022-12-02T05:28:15.099571Z"
    },
    "papermill": {
     "duration": 0.245789,
     "end_time": "2022-12-02T06:34:12.082244",
     "exception": false,
     "start_time": "2022-12-02T06:34:11.836455",
     "status": "completed"
    },
    "tags": []
   },
   "outputs": [
    {
     "data": {
      "text/plain": [
       "property_type           0\n",
       "room_type               0\n",
       "accommodates            0\n",
       "bathrooms               0\n",
       "bedrooms                0\n",
       "beds                    0\n",
       "bed_type                0\n",
       "price                   0\n",
       "security_deposit        0\n",
       "review_scores_rating    0\n",
       "number_of_reviews       0\n",
       "amenities               0\n",
       "Brooklyn                0\n",
       "Manhattan               0\n",
       "Queens                  0\n",
       "Bronx                   0\n",
       "Staten Island           0\n",
       "dtype: int64"
      ]
     },
     "execution_count": 14,
     "metadata": {},
     "output_type": "execute_result"
    },
    {
     "data": {
      "text/html": [
       "<div>\n",
       "<style scoped>\n",
       "    .dataframe tbody tr th:only-of-type {\n",
       "        vertical-align: middle;\n",
       "    }\n",
       "\n",
       "    .dataframe tbody tr th {\n",
       "        vertical-align: top;\n",
       "    }\n",
       "\n",
       "    .dataframe thead th {\n",
       "        text-align: right;\n",
       "    }\n",
       "</style>\n",
       "<table border=\"1\" class=\"dataframe\">\n",
       "  <thead>\n",
       "    <tr style=\"text-align: right;\">\n",
       "      <th></th>\n",
       "      <th>property_type</th>\n",
       "      <th>room_type</th>\n",
       "      <th>accommodates</th>\n",
       "      <th>bathrooms</th>\n",
       "      <th>bedrooms</th>\n",
       "      <th>beds</th>\n",
       "      <th>bed_type</th>\n",
       "      <th>price</th>\n",
       "      <th>security_deposit</th>\n",
       "      <th>review_scores_rating</th>\n",
       "      <th>number_of_reviews</th>\n",
       "      <th>amenities</th>\n",
       "      <th>Brooklyn</th>\n",
       "      <th>Manhattan</th>\n",
       "      <th>Queens</th>\n",
       "      <th>Bronx</th>\n",
       "      <th>Staten Island</th>\n",
       "    </tr>\n",
       "  </thead>\n",
       "  <tbody>\n",
       "    <tr>\n",
       "      <th>0</th>\n",
       "      <td>Apartment</td>\n",
       "      <td>Entire home/apt</td>\n",
       "      <td>1</td>\n",
       "      <td>1.0</td>\n",
       "      <td>0.0</td>\n",
       "      <td>1.0</td>\n",
       "      <td>Real Bed</td>\n",
       "      <td>225.0</td>\n",
       "      <td>350.0</td>\n",
       "      <td>94.0</td>\n",
       "      <td>48</td>\n",
       "      <td>{TV,Wifi,\"Air conditioning\",Kitchen,\"Paid park...</td>\n",
       "      <td>0.0</td>\n",
       "      <td>1.0</td>\n",
       "      <td>0.0</td>\n",
       "      <td>0.0</td>\n",
       "      <td>0.0</td>\n",
       "    </tr>\n",
       "    <tr>\n",
       "      <th>1</th>\n",
       "      <td>Guest suite</td>\n",
       "      <td>Entire home/apt</td>\n",
       "      <td>3</td>\n",
       "      <td>1.0</td>\n",
       "      <td>1.0</td>\n",
       "      <td>4.0</td>\n",
       "      <td>Real Bed</td>\n",
       "      <td>89.0</td>\n",
       "      <td>500.0</td>\n",
       "      <td>90.0</td>\n",
       "      <td>307</td>\n",
       "      <td>{TV,\"Cable TV\",Internet,Wifi,\"Air conditioning...</td>\n",
       "      <td>1.0</td>\n",
       "      <td>0.0</td>\n",
       "      <td>0.0</td>\n",
       "      <td>0.0</td>\n",
       "      <td>0.0</td>\n",
       "    </tr>\n",
       "    <tr>\n",
       "      <th>2</th>\n",
       "      <td>Apartment</td>\n",
       "      <td>Entire home/apt</td>\n",
       "      <td>2</td>\n",
       "      <td>1.0</td>\n",
       "      <td>1.0</td>\n",
       "      <td>1.0</td>\n",
       "      <td>Real Bed</td>\n",
       "      <td>200.0</td>\n",
       "      <td>300.0</td>\n",
       "      <td>90.0</td>\n",
       "      <td>78</td>\n",
       "      <td>{TV,\"Cable TV\",Internet,Wifi,\"Air conditioning...</td>\n",
       "      <td>0.0</td>\n",
       "      <td>1.0</td>\n",
       "      <td>0.0</td>\n",
       "      <td>0.0</td>\n",
       "      <td>0.0</td>\n",
       "    </tr>\n",
       "    <tr>\n",
       "      <th>4</th>\n",
       "      <td>Apartment</td>\n",
       "      <td>Private room</td>\n",
       "      <td>2</td>\n",
       "      <td>1.0</td>\n",
       "      <td>1.0</td>\n",
       "      <td>1.0</td>\n",
       "      <td>Real Bed</td>\n",
       "      <td>79.0</td>\n",
       "      <td>0.0</td>\n",
       "      <td>84.0</td>\n",
       "      <td>463</td>\n",
       "      <td>{TV,Wifi,\"Air conditioning\",\"Paid parking off ...</td>\n",
       "      <td>0.0</td>\n",
       "      <td>1.0</td>\n",
       "      <td>0.0</td>\n",
       "      <td>0.0</td>\n",
       "      <td>0.0</td>\n",
       "    </tr>\n",
       "    <tr>\n",
       "      <th>5</th>\n",
       "      <td>Apartment</td>\n",
       "      <td>Private room</td>\n",
       "      <td>1</td>\n",
       "      <td>1.0</td>\n",
       "      <td>1.0</td>\n",
       "      <td>1.0</td>\n",
       "      <td>Real Bed</td>\n",
       "      <td>79.0</td>\n",
       "      <td>0.0</td>\n",
       "      <td>98.0</td>\n",
       "      <td>118</td>\n",
       "      <td>{Internet,Wifi,\"Air conditioning\",\"Paid parkin...</td>\n",
       "      <td>0.0</td>\n",
       "      <td>1.0</td>\n",
       "      <td>0.0</td>\n",
       "      <td>0.0</td>\n",
       "      <td>0.0</td>\n",
       "    </tr>\n",
       "  </tbody>\n",
       "</table>\n",
       "</div>"
      ],
      "text/plain": [
       "  property_type        room_type  accommodates  bathrooms  bedrooms  beds  \\\n",
       "0     Apartment  Entire home/apt             1        1.0       0.0   1.0   \n",
       "1   Guest suite  Entire home/apt             3        1.0       1.0   4.0   \n",
       "2     Apartment  Entire home/apt             2        1.0       1.0   1.0   \n",
       "4     Apartment     Private room             2        1.0       1.0   1.0   \n",
       "5     Apartment     Private room             1        1.0       1.0   1.0   \n",
       "\n",
       "   bed_type  price  security_deposit  review_scores_rating  number_of_reviews  \\\n",
       "0  Real Bed  225.0             350.0                  94.0                 48   \n",
       "1  Real Bed   89.0             500.0                  90.0                307   \n",
       "2  Real Bed  200.0             300.0                  90.0                 78   \n",
       "4  Real Bed   79.0               0.0                  84.0                463   \n",
       "5  Real Bed   79.0               0.0                  98.0                118   \n",
       "\n",
       "                                           amenities  Brooklyn  Manhattan  \\\n",
       "0  {TV,Wifi,\"Air conditioning\",Kitchen,\"Paid park...       0.0        1.0   \n",
       "1  {TV,\"Cable TV\",Internet,Wifi,\"Air conditioning...       1.0        0.0   \n",
       "2  {TV,\"Cable TV\",Internet,Wifi,\"Air conditioning...       0.0        1.0   \n",
       "4  {TV,Wifi,\"Air conditioning\",\"Paid parking off ...       0.0        1.0   \n",
       "5  {Internet,Wifi,\"Air conditioning\",\"Paid parkin...       0.0        1.0   \n",
       "\n",
       "   Queens  Bronx  Staten Island  \n",
       "0     0.0    0.0            0.0  \n",
       "1     0.0    0.0            0.0  \n",
       "2     0.0    0.0            0.0  \n",
       "4     0.0    0.0            0.0  \n",
       "5     0.0    0.0            0.0  "
      ]
     },
     "execution_count": 14,
     "metadata": {},
     "output_type": "execute_result"
    }
   ],
   "source": [
    "abm1.loc[abm1['neighbourhood_group_cleansed'].str.contains('Brooklyn'), 'Brooklyn'] = 1\n",
    "abm1.loc[abm1['neighbourhood_group_cleansed'].str.contains('Manhattan'), 'Manhattan'] = 1\n",
    "abm1.loc[abm1['neighbourhood_group_cleansed'].str.contains('Queens'), 'Queens'] = 1\n",
    "abm1.loc[abm1['neighbourhood_group_cleansed'].str.contains('Bronx'), 'Bronx'] = 1\n",
    "abm1.loc[abm1['neighbourhood_group_cleansed'].str.contains('Staten Island'), 'Staten Island'] = 1\n",
    "\n",
    "abm1 = abm1.fillna(0)\n",
    "\n",
    "abm1.drop('neighbourhood_group_cleansed', axis = 1, inplace=True)\n",
    "abm1.isnull().sum()\n",
    "abm1.head(5)"
   ]
  },
  {
   "cell_type": "markdown",
   "metadata": {
    "papermill": {
     "duration": 0.034698,
     "end_time": "2022-12-02T06:34:12.152161",
     "exception": false,
     "start_time": "2022-12-02T06:34:12.117463",
     "status": "completed"
    },
    "tags": []
   },
   "source": [
    "## Property type을 onehot encoding 하기"
   ]
  },
  {
   "cell_type": "code",
   "execution_count": 15,
   "metadata": {
    "execution": {
     "iopub.execute_input": "2022-12-02T06:34:12.236048Z",
     "iopub.status.busy": "2022-12-02T06:34:12.235261Z",
     "iopub.status.idle": "2022-12-02T06:34:12.239269Z",
     "shell.execute_reply": "2022-12-02T06:34:12.238693Z",
     "shell.execute_reply.started": "2022-12-02T05:28:23.010798Z"
    },
    "papermill": {
     "duration": 0.051182,
     "end_time": "2022-12-02T06:34:12.239384",
     "exception": false,
     "start_time": "2022-12-02T06:34:12.188202",
     "status": "completed"
    },
    "tags": []
   },
   "outputs": [
    {
     "data": {
      "text/plain": [
       "Apartment             34206\n",
       "House                  5192\n",
       "Townhouse              2430\n",
       "Loft                   1561\n",
       "Condominium            1489\n",
       "Guest suite             717\n",
       "Hotel                   223\n",
       "Boutique hotel          179\n",
       "Serviced apartment      146\n",
       "Hostel                   93\n",
       "Guesthouse               85\n",
       "Bed and breakfast        47\n",
       "Bungalow                 45\n",
       "Villa                    39\n",
       "Other                    38\n",
       "Tiny house               34\n",
       "Camper/RV                26\n",
       "Cottage                  18\n",
       "Resort                   12\n",
       "Boat                     10\n",
       "Earth house               4\n",
       "Aparthotel                3\n",
       "Barn                      2\n",
       "Castle                    2\n",
       "Houseboat                 2\n",
       "Cabin                     1\n",
       "Name: property_type, dtype: int64"
      ]
     },
     "execution_count": 15,
     "metadata": {},
     "output_type": "execute_result"
    }
   ],
   "source": [
    "# property_type에는 무슨 값이 있을지\n",
    "abm1['property_type'].value_counts()"
   ]
  },
  {
   "cell_type": "code",
   "execution_count": 16,
   "metadata": {
    "execution": {
     "iopub.execute_input": "2022-12-02T06:34:12.329585Z",
     "iopub.status.busy": "2022-12-02T06:34:12.328914Z",
     "iopub.status.idle": "2022-12-02T06:34:12.331470Z",
     "shell.execute_reply": "2022-12-02T06:34:12.331957Z",
     "shell.execute_reply.started": "2022-12-02T05:28:28.445668Z"
    },
    "papermill": {
     "duration": 0.056546,
     "end_time": "2022-12-02T06:34:12.332116",
     "exception": false,
     "start_time": "2022-12-02T06:34:12.275570",
     "status": "completed"
    },
    "tags": []
   },
   "outputs": [],
   "source": [
    "Mod_prop_type=abm1['property_type'].value_counts()[5:len(abm1['property_type'].value_counts())].index.tolist()\n",
    "\n",
    "def change_prop_type(label):\n",
    "    if label in Mod_prop_type:\n",
    "        label='Other'\n",
    "    return label"
   ]
  },
  {
   "cell_type": "code",
   "execution_count": 17,
   "metadata": {
    "execution": {
     "iopub.execute_input": "2022-12-02T06:34:12.425339Z",
     "iopub.status.busy": "2022-12-02T06:34:12.409395Z",
     "iopub.status.idle": "2022-12-02T06:34:12.438307Z",
     "shell.execute_reply": "2022-12-02T06:34:12.438788Z",
     "shell.execute_reply.started": "2022-12-02T05:28:31.997875Z"
    },
    "papermill": {
     "duration": 0.070142,
     "end_time": "2022-12-02T06:34:12.438953",
     "exception": false,
     "start_time": "2022-12-02T06:34:12.368811",
     "status": "completed"
    },
    "tags": []
   },
   "outputs": [],
   "source": [
    "abm1.loc[:,'property_type'] = abm1.loc[:,'property_type'].apply(change_prop_type)"
   ]
  },
  {
   "cell_type": "code",
   "execution_count": 18,
   "metadata": {
    "execution": {
     "iopub.execute_input": "2022-12-02T06:34:12.520888Z",
     "iopub.status.busy": "2022-12-02T06:34:12.520230Z",
     "iopub.status.idle": "2022-12-02T06:34:12.526403Z",
     "shell.execute_reply": "2022-12-02T06:34:12.525914Z",
     "shell.execute_reply.started": "2022-12-02T05:28:34.494418Z"
    },
    "papermill": {
     "duration": 0.051294,
     "end_time": "2022-12-02T06:34:12.526521",
     "exception": false,
     "start_time": "2022-12-02T06:34:12.475227",
     "status": "completed"
    },
    "tags": []
   },
   "outputs": [
    {
     "data": {
      "text/plain": [
       "Apartment      34206\n",
       "House           5192\n",
       "Townhouse       2430\n",
       "Other           1726\n",
       "Loft            1561\n",
       "Condominium     1489\n",
       "Name: property_type, dtype: int64"
      ]
     },
     "execution_count": 18,
     "metadata": {},
     "output_type": "execute_result"
    }
   ],
   "source": [
    "abm1['property_type'].value_counts() # 5순위 이하 주거형태는 Others로 분류"
   ]
  },
  {
   "cell_type": "code",
   "execution_count": 19,
   "metadata": {
    "execution": {
     "iopub.execute_input": "2022-12-02T06:34:12.630528Z",
     "iopub.status.busy": "2022-12-02T06:34:12.608403Z",
     "iopub.status.idle": "2022-12-02T06:34:12.847473Z",
     "shell.execute_reply": "2022-12-02T06:34:12.846926Z",
     "shell.execute_reply.started": "2022-12-02T05:37:05.311702Z"
    },
    "papermill": {
     "duration": 0.284428,
     "end_time": "2022-12-02T06:34:12.847633",
     "exception": false,
     "start_time": "2022-12-02T06:34:12.563205",
     "status": "completed"
    },
    "tags": []
   },
   "outputs": [
    {
     "data": {
      "text/plain": [
       "property_type           0\n",
       "room_type               0\n",
       "accommodates            0\n",
       "bathrooms               0\n",
       "bedrooms                0\n",
       "beds                    0\n",
       "bed_type                0\n",
       "price                   0\n",
       "security_deposit        0\n",
       "review_scores_rating    0\n",
       "number_of_reviews       0\n",
       "amenities               0\n",
       "Brooklyn                0\n",
       "Manhattan               0\n",
       "Queens                  0\n",
       "Bronx                   0\n",
       "Staten Island           0\n",
       "Apartment               0\n",
       "House                   0\n",
       "Other                   0\n",
       "Townhouse               0\n",
       "Condominium             0\n",
       "Loft                    0\n",
       "dtype: int64"
      ]
     },
     "execution_count": 19,
     "metadata": {},
     "output_type": "execute_result"
    },
    {
     "data": {
      "text/html": [
       "<div>\n",
       "<style scoped>\n",
       "    .dataframe tbody tr th:only-of-type {\n",
       "        vertical-align: middle;\n",
       "    }\n",
       "\n",
       "    .dataframe tbody tr th {\n",
       "        vertical-align: top;\n",
       "    }\n",
       "\n",
       "    .dataframe thead th {\n",
       "        text-align: right;\n",
       "    }\n",
       "</style>\n",
       "<table border=\"1\" class=\"dataframe\">\n",
       "  <thead>\n",
       "    <tr style=\"text-align: right;\">\n",
       "      <th></th>\n",
       "      <th>property_type</th>\n",
       "      <th>room_type</th>\n",
       "      <th>accommodates</th>\n",
       "      <th>bathrooms</th>\n",
       "      <th>bedrooms</th>\n",
       "      <th>beds</th>\n",
       "      <th>bed_type</th>\n",
       "      <th>price</th>\n",
       "      <th>security_deposit</th>\n",
       "      <th>review_scores_rating</th>\n",
       "      <th>number_of_reviews</th>\n",
       "      <th>amenities</th>\n",
       "      <th>Brooklyn</th>\n",
       "      <th>Manhattan</th>\n",
       "      <th>Queens</th>\n",
       "      <th>Bronx</th>\n",
       "      <th>Staten Island</th>\n",
       "      <th>Apartment</th>\n",
       "      <th>House</th>\n",
       "      <th>Other</th>\n",
       "      <th>Townhouse</th>\n",
       "      <th>Condominium</th>\n",
       "      <th>Loft</th>\n",
       "    </tr>\n",
       "  </thead>\n",
       "  <tbody>\n",
       "    <tr>\n",
       "      <th>0</th>\n",
       "      <td>Apartment</td>\n",
       "      <td>Entire home/apt</td>\n",
       "      <td>1</td>\n",
       "      <td>1.0</td>\n",
       "      <td>0.0</td>\n",
       "      <td>1.0</td>\n",
       "      <td>Real Bed</td>\n",
       "      <td>225.0</td>\n",
       "      <td>350.0</td>\n",
       "      <td>94.0</td>\n",
       "      <td>48</td>\n",
       "      <td>{TV,Wifi,\"Air conditioning\",Kitchen,\"Paid park...</td>\n",
       "      <td>0.0</td>\n",
       "      <td>1.0</td>\n",
       "      <td>0.0</td>\n",
       "      <td>0.0</td>\n",
       "      <td>0.0</td>\n",
       "      <td>1.0</td>\n",
       "      <td>0.0</td>\n",
       "      <td>0.0</td>\n",
       "      <td>0.0</td>\n",
       "      <td>0.0</td>\n",
       "      <td>0.0</td>\n",
       "    </tr>\n",
       "    <tr>\n",
       "      <th>1</th>\n",
       "      <td>Other</td>\n",
       "      <td>Entire home/apt</td>\n",
       "      <td>3</td>\n",
       "      <td>1.0</td>\n",
       "      <td>1.0</td>\n",
       "      <td>4.0</td>\n",
       "      <td>Real Bed</td>\n",
       "      <td>89.0</td>\n",
       "      <td>500.0</td>\n",
       "      <td>90.0</td>\n",
       "      <td>307</td>\n",
       "      <td>{TV,\"Cable TV\",Internet,Wifi,\"Air conditioning...</td>\n",
       "      <td>1.0</td>\n",
       "      <td>0.0</td>\n",
       "      <td>0.0</td>\n",
       "      <td>0.0</td>\n",
       "      <td>0.0</td>\n",
       "      <td>0.0</td>\n",
       "      <td>0.0</td>\n",
       "      <td>1.0</td>\n",
       "      <td>0.0</td>\n",
       "      <td>0.0</td>\n",
       "      <td>0.0</td>\n",
       "    </tr>\n",
       "    <tr>\n",
       "      <th>2</th>\n",
       "      <td>Apartment</td>\n",
       "      <td>Entire home/apt</td>\n",
       "      <td>2</td>\n",
       "      <td>1.0</td>\n",
       "      <td>1.0</td>\n",
       "      <td>1.0</td>\n",
       "      <td>Real Bed</td>\n",
       "      <td>200.0</td>\n",
       "      <td>300.0</td>\n",
       "      <td>90.0</td>\n",
       "      <td>78</td>\n",
       "      <td>{TV,\"Cable TV\",Internet,Wifi,\"Air conditioning...</td>\n",
       "      <td>0.0</td>\n",
       "      <td>1.0</td>\n",
       "      <td>0.0</td>\n",
       "      <td>0.0</td>\n",
       "      <td>0.0</td>\n",
       "      <td>1.0</td>\n",
       "      <td>0.0</td>\n",
       "      <td>0.0</td>\n",
       "      <td>0.0</td>\n",
       "      <td>0.0</td>\n",
       "      <td>0.0</td>\n",
       "    </tr>\n",
       "    <tr>\n",
       "      <th>4</th>\n",
       "      <td>Apartment</td>\n",
       "      <td>Private room</td>\n",
       "      <td>2</td>\n",
       "      <td>1.0</td>\n",
       "      <td>1.0</td>\n",
       "      <td>1.0</td>\n",
       "      <td>Real Bed</td>\n",
       "      <td>79.0</td>\n",
       "      <td>0.0</td>\n",
       "      <td>84.0</td>\n",
       "      <td>463</td>\n",
       "      <td>{TV,Wifi,\"Air conditioning\",\"Paid parking off ...</td>\n",
       "      <td>0.0</td>\n",
       "      <td>1.0</td>\n",
       "      <td>0.0</td>\n",
       "      <td>0.0</td>\n",
       "      <td>0.0</td>\n",
       "      <td>1.0</td>\n",
       "      <td>0.0</td>\n",
       "      <td>0.0</td>\n",
       "      <td>0.0</td>\n",
       "      <td>0.0</td>\n",
       "      <td>0.0</td>\n",
       "    </tr>\n",
       "    <tr>\n",
       "      <th>5</th>\n",
       "      <td>Apartment</td>\n",
       "      <td>Private room</td>\n",
       "      <td>1</td>\n",
       "      <td>1.0</td>\n",
       "      <td>1.0</td>\n",
       "      <td>1.0</td>\n",
       "      <td>Real Bed</td>\n",
       "      <td>79.0</td>\n",
       "      <td>0.0</td>\n",
       "      <td>98.0</td>\n",
       "      <td>118</td>\n",
       "      <td>{Internet,Wifi,\"Air conditioning\",\"Paid parkin...</td>\n",
       "      <td>0.0</td>\n",
       "      <td>1.0</td>\n",
       "      <td>0.0</td>\n",
       "      <td>0.0</td>\n",
       "      <td>0.0</td>\n",
       "      <td>1.0</td>\n",
       "      <td>0.0</td>\n",
       "      <td>0.0</td>\n",
       "      <td>0.0</td>\n",
       "      <td>0.0</td>\n",
       "      <td>0.0</td>\n",
       "    </tr>\n",
       "  </tbody>\n",
       "</table>\n",
       "</div>"
      ],
      "text/plain": [
       "  property_type        room_type  accommodates  bathrooms  bedrooms  beds  \\\n",
       "0     Apartment  Entire home/apt             1        1.0       0.0   1.0   \n",
       "1         Other  Entire home/apt             3        1.0       1.0   4.0   \n",
       "2     Apartment  Entire home/apt             2        1.0       1.0   1.0   \n",
       "4     Apartment     Private room             2        1.0       1.0   1.0   \n",
       "5     Apartment     Private room             1        1.0       1.0   1.0   \n",
       "\n",
       "   bed_type  price  security_deposit  review_scores_rating  number_of_reviews  \\\n",
       "0  Real Bed  225.0             350.0                  94.0                 48   \n",
       "1  Real Bed   89.0             500.0                  90.0                307   \n",
       "2  Real Bed  200.0             300.0                  90.0                 78   \n",
       "4  Real Bed   79.0               0.0                  84.0                463   \n",
       "5  Real Bed   79.0               0.0                  98.0                118   \n",
       "\n",
       "                                           amenities  Brooklyn  Manhattan  \\\n",
       "0  {TV,Wifi,\"Air conditioning\",Kitchen,\"Paid park...       0.0        1.0   \n",
       "1  {TV,\"Cable TV\",Internet,Wifi,\"Air conditioning...       1.0        0.0   \n",
       "2  {TV,\"Cable TV\",Internet,Wifi,\"Air conditioning...       0.0        1.0   \n",
       "4  {TV,Wifi,\"Air conditioning\",\"Paid parking off ...       0.0        1.0   \n",
       "5  {Internet,Wifi,\"Air conditioning\",\"Paid parkin...       0.0        1.0   \n",
       "\n",
       "   Queens  Bronx  Staten Island  Apartment  House  Other  Townhouse  \\\n",
       "0     0.0    0.0            0.0        1.0    0.0    0.0        0.0   \n",
       "1     0.0    0.0            0.0        0.0    0.0    1.0        0.0   \n",
       "2     0.0    0.0            0.0        1.0    0.0    0.0        0.0   \n",
       "4     0.0    0.0            0.0        1.0    0.0    0.0        0.0   \n",
       "5     0.0    0.0            0.0        1.0    0.0    0.0        0.0   \n",
       "\n",
       "   Condominium  Loft  \n",
       "0          0.0   0.0  \n",
       "1          0.0   0.0  \n",
       "2          0.0   0.0  \n",
       "4          0.0   0.0  \n",
       "5          0.0   0.0  "
      ]
     },
     "execution_count": 19,
     "metadata": {},
     "output_type": "execute_result"
    }
   ],
   "source": [
    "abm1.loc[abm1['property_type'].str.contains('Apartment'), 'Apartment'] = 1\n",
    "abm1.loc[abm1['property_type'].str.contains('House'), 'House'] = 1\n",
    "abm1.loc[abm1['property_type'].str.contains('Other'), 'Other'] = 1\n",
    "abm1.loc[abm1['property_type'].str.contains('Townhouse'), 'Townhouse'] = 1\n",
    "abm1.loc[abm1['property_type'].str.contains('Condominium'), 'Condominium'] = 1\n",
    "abm1.loc[abm1['property_type'].str.contains('Loft'), 'Loft'] = 1\n",
    "abm1 = abm1.fillna(0)\n",
    "\n",
    "abm1.isnull().sum()\n",
    "abm1.head(5)"
   ]
  },
  {
   "cell_type": "code",
   "execution_count": 20,
   "metadata": {
    "execution": {
     "iopub.execute_input": "2022-12-02T06:34:12.955399Z",
     "iopub.status.busy": "2022-12-02T06:34:12.928267Z",
     "iopub.status.idle": "2022-12-02T06:34:12.962698Z",
     "shell.execute_reply": "2022-12-02T06:34:12.962159Z",
     "shell.execute_reply.started": "2022-12-02T05:37:10.536389Z"
    },
    "papermill": {
     "duration": 0.078691,
     "end_time": "2022-12-02T06:34:12.962824",
     "exception": false,
     "start_time": "2022-12-02T06:34:12.884133",
     "status": "completed"
    },
    "tags": []
   },
   "outputs": [
    {
     "data": {
      "text/html": [
       "<div>\n",
       "<style scoped>\n",
       "    .dataframe tbody tr th:only-of-type {\n",
       "        vertical-align: middle;\n",
       "    }\n",
       "\n",
       "    .dataframe tbody tr th {\n",
       "        vertical-align: top;\n",
       "    }\n",
       "\n",
       "    .dataframe thead th {\n",
       "        text-align: right;\n",
       "    }\n",
       "</style>\n",
       "<table border=\"1\" class=\"dataframe\">\n",
       "  <thead>\n",
       "    <tr style=\"text-align: right;\">\n",
       "      <th></th>\n",
       "      <th>room_type</th>\n",
       "      <th>accommodates</th>\n",
       "      <th>bathrooms</th>\n",
       "      <th>bedrooms</th>\n",
       "      <th>beds</th>\n",
       "      <th>bed_type</th>\n",
       "      <th>price</th>\n",
       "      <th>security_deposit</th>\n",
       "      <th>review_scores_rating</th>\n",
       "      <th>number_of_reviews</th>\n",
       "      <th>amenities</th>\n",
       "      <th>Brooklyn</th>\n",
       "      <th>Manhattan</th>\n",
       "      <th>Queens</th>\n",
       "      <th>Bronx</th>\n",
       "      <th>Staten Island</th>\n",
       "      <th>Apartment</th>\n",
       "      <th>House</th>\n",
       "      <th>Other</th>\n",
       "      <th>Townhouse</th>\n",
       "      <th>Condominium</th>\n",
       "      <th>Loft</th>\n",
       "    </tr>\n",
       "  </thead>\n",
       "  <tbody>\n",
       "    <tr>\n",
       "      <th>0</th>\n",
       "      <td>Entire home/apt</td>\n",
       "      <td>1</td>\n",
       "      <td>1.0</td>\n",
       "      <td>0.0</td>\n",
       "      <td>1.0</td>\n",
       "      <td>Real Bed</td>\n",
       "      <td>225.0</td>\n",
       "      <td>350.0</td>\n",
       "      <td>94.0</td>\n",
       "      <td>48</td>\n",
       "      <td>{TV,Wifi,\"Air conditioning\",Kitchen,\"Paid park...</td>\n",
       "      <td>0.0</td>\n",
       "      <td>1.0</td>\n",
       "      <td>0.0</td>\n",
       "      <td>0.0</td>\n",
       "      <td>0.0</td>\n",
       "      <td>1.0</td>\n",
       "      <td>0.0</td>\n",
       "      <td>0.0</td>\n",
       "      <td>0.0</td>\n",
       "      <td>0.0</td>\n",
       "      <td>0.0</td>\n",
       "    </tr>\n",
       "    <tr>\n",
       "      <th>1</th>\n",
       "      <td>Entire home/apt</td>\n",
       "      <td>3</td>\n",
       "      <td>1.0</td>\n",
       "      <td>1.0</td>\n",
       "      <td>4.0</td>\n",
       "      <td>Real Bed</td>\n",
       "      <td>89.0</td>\n",
       "      <td>500.0</td>\n",
       "      <td>90.0</td>\n",
       "      <td>307</td>\n",
       "      <td>{TV,\"Cable TV\",Internet,Wifi,\"Air conditioning...</td>\n",
       "      <td>1.0</td>\n",
       "      <td>0.0</td>\n",
       "      <td>0.0</td>\n",
       "      <td>0.0</td>\n",
       "      <td>0.0</td>\n",
       "      <td>0.0</td>\n",
       "      <td>0.0</td>\n",
       "      <td>1.0</td>\n",
       "      <td>0.0</td>\n",
       "      <td>0.0</td>\n",
       "      <td>0.0</td>\n",
       "    </tr>\n",
       "    <tr>\n",
       "      <th>2</th>\n",
       "      <td>Entire home/apt</td>\n",
       "      <td>2</td>\n",
       "      <td>1.0</td>\n",
       "      <td>1.0</td>\n",
       "      <td>1.0</td>\n",
       "      <td>Real Bed</td>\n",
       "      <td>200.0</td>\n",
       "      <td>300.0</td>\n",
       "      <td>90.0</td>\n",
       "      <td>78</td>\n",
       "      <td>{TV,\"Cable TV\",Internet,Wifi,\"Air conditioning...</td>\n",
       "      <td>0.0</td>\n",
       "      <td>1.0</td>\n",
       "      <td>0.0</td>\n",
       "      <td>0.0</td>\n",
       "      <td>0.0</td>\n",
       "      <td>1.0</td>\n",
       "      <td>0.0</td>\n",
       "      <td>0.0</td>\n",
       "      <td>0.0</td>\n",
       "      <td>0.0</td>\n",
       "      <td>0.0</td>\n",
       "    </tr>\n",
       "  </tbody>\n",
       "</table>\n",
       "</div>"
      ],
      "text/plain": [
       "         room_type  accommodates  bathrooms  bedrooms  beds  bed_type  price  \\\n",
       "0  Entire home/apt             1        1.0       0.0   1.0  Real Bed  225.0   \n",
       "1  Entire home/apt             3        1.0       1.0   4.0  Real Bed   89.0   \n",
       "2  Entire home/apt             2        1.0       1.0   1.0  Real Bed  200.0   \n",
       "\n",
       "   security_deposit  review_scores_rating  number_of_reviews  \\\n",
       "0             350.0                  94.0                 48   \n",
       "1             500.0                  90.0                307   \n",
       "2             300.0                  90.0                 78   \n",
       "\n",
       "                                           amenities  Brooklyn  Manhattan  \\\n",
       "0  {TV,Wifi,\"Air conditioning\",Kitchen,\"Paid park...       0.0        1.0   \n",
       "1  {TV,\"Cable TV\",Internet,Wifi,\"Air conditioning...       1.0        0.0   \n",
       "2  {TV,\"Cable TV\",Internet,Wifi,\"Air conditioning...       0.0        1.0   \n",
       "\n",
       "   Queens  Bronx  Staten Island  Apartment  House  Other  Townhouse  \\\n",
       "0     0.0    0.0            0.0        1.0    0.0    0.0        0.0   \n",
       "1     0.0    0.0            0.0        0.0    0.0    1.0        0.0   \n",
       "2     0.0    0.0            0.0        1.0    0.0    0.0        0.0   \n",
       "\n",
       "   Condominium  Loft  \n",
       "0          0.0   0.0  \n",
       "1          0.0   0.0  \n",
       "2          0.0   0.0  "
      ]
     },
     "execution_count": 20,
     "metadata": {},
     "output_type": "execute_result"
    }
   ],
   "source": [
    "abm1.drop('property_type', axis = 1, inplace=True)\n",
    "abm1.head(3)"
   ]
  },
  {
   "cell_type": "markdown",
   "metadata": {
    "papermill": {
     "duration": 0.037292,
     "end_time": "2022-12-02T06:34:13.037791",
     "exception": false,
     "start_time": "2022-12-02T06:34:13.000499",
     "status": "completed"
    },
    "tags": []
   },
   "source": [
    "## Room_type를 one hot encoding 하기"
   ]
  },
  {
   "cell_type": "code",
   "execution_count": 21,
   "metadata": {
    "execution": {
     "iopub.execute_input": "2022-12-02T06:34:13.125159Z",
     "iopub.status.busy": "2022-12-02T06:34:13.124476Z",
     "iopub.status.idle": "2022-12-02T06:34:13.128352Z",
     "shell.execute_reply": "2022-12-02T06:34:13.127801Z",
     "shell.execute_reply.started": "2022-12-02T05:37:15.506056Z"
    },
    "papermill": {
     "duration": 0.052979,
     "end_time": "2022-12-02T06:34:13.128463",
     "exception": false,
     "start_time": "2022-12-02T06:34:13.075484",
     "status": "completed"
    },
    "tags": []
   },
   "outputs": [
    {
     "data": {
      "text/plain": [
       "Entire home/apt    24940\n",
       "Private room       20420\n",
       "Shared room          878\n",
       "Hotel room           366\n",
       "Name: room_type, dtype: int64"
      ]
     },
     "execution_count": 21,
     "metadata": {},
     "output_type": "execute_result"
    }
   ],
   "source": [
    "abm1['room_type'].value_counts()"
   ]
  },
  {
   "cell_type": "code",
   "execution_count": 22,
   "metadata": {
    "execution": {
     "iopub.execute_input": "2022-12-02T06:34:13.207907Z",
     "iopub.status.busy": "2022-12-02T06:34:13.207240Z",
     "iopub.status.idle": "2022-12-02T06:34:13.410408Z",
     "shell.execute_reply": "2022-12-02T06:34:13.409882Z",
     "shell.execute_reply.started": "2022-12-02T05:37:18.846225Z"
    },
    "papermill": {
     "duration": 0.244047,
     "end_time": "2022-12-02T06:34:13.410538",
     "exception": false,
     "start_time": "2022-12-02T06:34:13.166491",
     "status": "completed"
    },
    "tags": []
   },
   "outputs": [
    {
     "data": {
      "text/plain": [
       "accommodates            0\n",
       "bathrooms               0\n",
       "bedrooms                0\n",
       "beds                    0\n",
       "bed_type                0\n",
       "price                   0\n",
       "security_deposit        0\n",
       "review_scores_rating    0\n",
       "number_of_reviews       0\n",
       "amenities               0\n",
       "Brooklyn                0\n",
       "Manhattan               0\n",
       "Queens                  0\n",
       "Bronx                   0\n",
       "Staten Island           0\n",
       "Apartment               0\n",
       "House                   0\n",
       "Other                   0\n",
       "Townhouse               0\n",
       "Condominium             0\n",
       "Loft                    0\n",
       "Entire home/apt         0\n",
       "Private room            0\n",
       "Shared room             0\n",
       "Hotel room              0\n",
       "dtype: int64"
      ]
     },
     "execution_count": 22,
     "metadata": {},
     "output_type": "execute_result"
    },
    {
     "data": {
      "text/html": [
       "<div>\n",
       "<style scoped>\n",
       "    .dataframe tbody tr th:only-of-type {\n",
       "        vertical-align: middle;\n",
       "    }\n",
       "\n",
       "    .dataframe tbody tr th {\n",
       "        vertical-align: top;\n",
       "    }\n",
       "\n",
       "    .dataframe thead th {\n",
       "        text-align: right;\n",
       "    }\n",
       "</style>\n",
       "<table border=\"1\" class=\"dataframe\">\n",
       "  <thead>\n",
       "    <tr style=\"text-align: right;\">\n",
       "      <th></th>\n",
       "      <th>accommodates</th>\n",
       "      <th>bathrooms</th>\n",
       "      <th>bedrooms</th>\n",
       "      <th>beds</th>\n",
       "      <th>bed_type</th>\n",
       "      <th>price</th>\n",
       "      <th>security_deposit</th>\n",
       "      <th>review_scores_rating</th>\n",
       "      <th>number_of_reviews</th>\n",
       "      <th>amenities</th>\n",
       "      <th>Brooklyn</th>\n",
       "      <th>Manhattan</th>\n",
       "      <th>Queens</th>\n",
       "      <th>Bronx</th>\n",
       "      <th>Staten Island</th>\n",
       "      <th>Apartment</th>\n",
       "      <th>House</th>\n",
       "      <th>Other</th>\n",
       "      <th>Townhouse</th>\n",
       "      <th>Condominium</th>\n",
       "      <th>Loft</th>\n",
       "      <th>Entire home/apt</th>\n",
       "      <th>Private room</th>\n",
       "      <th>Shared room</th>\n",
       "      <th>Hotel room</th>\n",
       "    </tr>\n",
       "  </thead>\n",
       "  <tbody>\n",
       "    <tr>\n",
       "      <th>0</th>\n",
       "      <td>1</td>\n",
       "      <td>1.0</td>\n",
       "      <td>0.0</td>\n",
       "      <td>1.0</td>\n",
       "      <td>Real Bed</td>\n",
       "      <td>225.0</td>\n",
       "      <td>350.0</td>\n",
       "      <td>94.0</td>\n",
       "      <td>48</td>\n",
       "      <td>{TV,Wifi,\"Air conditioning\",Kitchen,\"Paid park...</td>\n",
       "      <td>0.0</td>\n",
       "      <td>1.0</td>\n",
       "      <td>0.0</td>\n",
       "      <td>0.0</td>\n",
       "      <td>0.0</td>\n",
       "      <td>1.0</td>\n",
       "      <td>0.0</td>\n",
       "      <td>0.0</td>\n",
       "      <td>0.0</td>\n",
       "      <td>0.0</td>\n",
       "      <td>0.0</td>\n",
       "      <td>1.0</td>\n",
       "      <td>0.0</td>\n",
       "      <td>0.0</td>\n",
       "      <td>0.0</td>\n",
       "    </tr>\n",
       "    <tr>\n",
       "      <th>1</th>\n",
       "      <td>3</td>\n",
       "      <td>1.0</td>\n",
       "      <td>1.0</td>\n",
       "      <td>4.0</td>\n",
       "      <td>Real Bed</td>\n",
       "      <td>89.0</td>\n",
       "      <td>500.0</td>\n",
       "      <td>90.0</td>\n",
       "      <td>307</td>\n",
       "      <td>{TV,\"Cable TV\",Internet,Wifi,\"Air conditioning...</td>\n",
       "      <td>1.0</td>\n",
       "      <td>0.0</td>\n",
       "      <td>0.0</td>\n",
       "      <td>0.0</td>\n",
       "      <td>0.0</td>\n",
       "      <td>0.0</td>\n",
       "      <td>0.0</td>\n",
       "      <td>1.0</td>\n",
       "      <td>0.0</td>\n",
       "      <td>0.0</td>\n",
       "      <td>0.0</td>\n",
       "      <td>1.0</td>\n",
       "      <td>0.0</td>\n",
       "      <td>0.0</td>\n",
       "      <td>0.0</td>\n",
       "    </tr>\n",
       "    <tr>\n",
       "      <th>2</th>\n",
       "      <td>2</td>\n",
       "      <td>1.0</td>\n",
       "      <td>1.0</td>\n",
       "      <td>1.0</td>\n",
       "      <td>Real Bed</td>\n",
       "      <td>200.0</td>\n",
       "      <td>300.0</td>\n",
       "      <td>90.0</td>\n",
       "      <td>78</td>\n",
       "      <td>{TV,\"Cable TV\",Internet,Wifi,\"Air conditioning...</td>\n",
       "      <td>0.0</td>\n",
       "      <td>1.0</td>\n",
       "      <td>0.0</td>\n",
       "      <td>0.0</td>\n",
       "      <td>0.0</td>\n",
       "      <td>1.0</td>\n",
       "      <td>0.0</td>\n",
       "      <td>0.0</td>\n",
       "      <td>0.0</td>\n",
       "      <td>0.0</td>\n",
       "      <td>0.0</td>\n",
       "      <td>1.0</td>\n",
       "      <td>0.0</td>\n",
       "      <td>0.0</td>\n",
       "      <td>0.0</td>\n",
       "    </tr>\n",
       "    <tr>\n",
       "      <th>4</th>\n",
       "      <td>2</td>\n",
       "      <td>1.0</td>\n",
       "      <td>1.0</td>\n",
       "      <td>1.0</td>\n",
       "      <td>Real Bed</td>\n",
       "      <td>79.0</td>\n",
       "      <td>0.0</td>\n",
       "      <td>84.0</td>\n",
       "      <td>463</td>\n",
       "      <td>{TV,Wifi,\"Air conditioning\",\"Paid parking off ...</td>\n",
       "      <td>0.0</td>\n",
       "      <td>1.0</td>\n",
       "      <td>0.0</td>\n",
       "      <td>0.0</td>\n",
       "      <td>0.0</td>\n",
       "      <td>1.0</td>\n",
       "      <td>0.0</td>\n",
       "      <td>0.0</td>\n",
       "      <td>0.0</td>\n",
       "      <td>0.0</td>\n",
       "      <td>0.0</td>\n",
       "      <td>0.0</td>\n",
       "      <td>1.0</td>\n",
       "      <td>0.0</td>\n",
       "      <td>0.0</td>\n",
       "    </tr>\n",
       "    <tr>\n",
       "      <th>5</th>\n",
       "      <td>1</td>\n",
       "      <td>1.0</td>\n",
       "      <td>1.0</td>\n",
       "      <td>1.0</td>\n",
       "      <td>Real Bed</td>\n",
       "      <td>79.0</td>\n",
       "      <td>0.0</td>\n",
       "      <td>98.0</td>\n",
       "      <td>118</td>\n",
       "      <td>{Internet,Wifi,\"Air conditioning\",\"Paid parkin...</td>\n",
       "      <td>0.0</td>\n",
       "      <td>1.0</td>\n",
       "      <td>0.0</td>\n",
       "      <td>0.0</td>\n",
       "      <td>0.0</td>\n",
       "      <td>1.0</td>\n",
       "      <td>0.0</td>\n",
       "      <td>0.0</td>\n",
       "      <td>0.0</td>\n",
       "      <td>0.0</td>\n",
       "      <td>0.0</td>\n",
       "      <td>0.0</td>\n",
       "      <td>1.0</td>\n",
       "      <td>0.0</td>\n",
       "      <td>0.0</td>\n",
       "    </tr>\n",
       "  </tbody>\n",
       "</table>\n",
       "</div>"
      ],
      "text/plain": [
       "   accommodates  bathrooms  bedrooms  beds  bed_type  price  security_deposit  \\\n",
       "0             1        1.0       0.0   1.0  Real Bed  225.0             350.0   \n",
       "1             3        1.0       1.0   4.0  Real Bed   89.0             500.0   \n",
       "2             2        1.0       1.0   1.0  Real Bed  200.0             300.0   \n",
       "4             2        1.0       1.0   1.0  Real Bed   79.0               0.0   \n",
       "5             1        1.0       1.0   1.0  Real Bed   79.0               0.0   \n",
       "\n",
       "   review_scores_rating  number_of_reviews  \\\n",
       "0                  94.0                 48   \n",
       "1                  90.0                307   \n",
       "2                  90.0                 78   \n",
       "4                  84.0                463   \n",
       "5                  98.0                118   \n",
       "\n",
       "                                           amenities  Brooklyn  Manhattan  \\\n",
       "0  {TV,Wifi,\"Air conditioning\",Kitchen,\"Paid park...       0.0        1.0   \n",
       "1  {TV,\"Cable TV\",Internet,Wifi,\"Air conditioning...       1.0        0.0   \n",
       "2  {TV,\"Cable TV\",Internet,Wifi,\"Air conditioning...       0.0        1.0   \n",
       "4  {TV,Wifi,\"Air conditioning\",\"Paid parking off ...       0.0        1.0   \n",
       "5  {Internet,Wifi,\"Air conditioning\",\"Paid parkin...       0.0        1.0   \n",
       "\n",
       "   Queens  Bronx  Staten Island  Apartment  House  Other  Townhouse  \\\n",
       "0     0.0    0.0            0.0        1.0    0.0    0.0        0.0   \n",
       "1     0.0    0.0            0.0        0.0    0.0    1.0        0.0   \n",
       "2     0.0    0.0            0.0        1.0    0.0    0.0        0.0   \n",
       "4     0.0    0.0            0.0        1.0    0.0    0.0        0.0   \n",
       "5     0.0    0.0            0.0        1.0    0.0    0.0        0.0   \n",
       "\n",
       "   Condominium  Loft  Entire home/apt  Private room  Shared room  Hotel room  \n",
       "0          0.0   0.0              1.0           0.0          0.0         0.0  \n",
       "1          0.0   0.0              1.0           0.0          0.0         0.0  \n",
       "2          0.0   0.0              1.0           0.0          0.0         0.0  \n",
       "4          0.0   0.0              0.0           1.0          0.0         0.0  \n",
       "5          0.0   0.0              0.0           1.0          0.0         0.0  "
      ]
     },
     "execution_count": 22,
     "metadata": {},
     "output_type": "execute_result"
    }
   ],
   "source": [
    "abm1.loc[abm1['room_type'].str.contains('Entire home/apt'), 'Entire home/apt'] = 1\n",
    "abm1.loc[abm1['room_type'].str.contains('Private room'), 'Private room'] = 1\n",
    "abm1.loc[abm1['room_type'].str.contains('Shared room'), 'Shared room'] = 1\n",
    "abm1.loc[abm1['room_type'].str.contains('Hotel room'), 'Hotel room'] = 1\n",
    "abm1 = abm1.fillna(0)\n",
    "\n",
    "abm1.drop('room_type', axis = 1, inplace=True)\n",
    "abm1.isnull().sum()\n",
    "abm1.head(5)"
   ]
  },
  {
   "cell_type": "markdown",
   "metadata": {
    "papermill": {
     "duration": 0.038775,
     "end_time": "2022-12-02T06:34:13.488571",
     "exception": false,
     "start_time": "2022-12-02T06:34:13.449796",
     "status": "completed"
    },
    "tags": []
   },
   "source": [
    "## Bed_type one hot encoding"
   ]
  },
  {
   "cell_type": "code",
   "execution_count": 23,
   "metadata": {
    "execution": {
     "iopub.execute_input": "2022-12-02T06:34:13.569400Z",
     "iopub.status.busy": "2022-12-02T06:34:13.568739Z",
     "iopub.status.idle": "2022-12-02T06:34:13.580852Z",
     "shell.execute_reply": "2022-12-02T06:34:13.581450Z",
     "shell.execute_reply.started": "2022-12-02T05:37:25.501535Z"
    },
    "papermill": {
     "duration": 0.053658,
     "end_time": "2022-12-02T06:34:13.581599",
     "exception": false,
     "start_time": "2022-12-02T06:34:13.527941",
     "status": "completed"
    },
    "tags": []
   },
   "outputs": [
    {
     "data": {
      "text/plain": [
       "Real Bed         45848\n",
       "Futon              293\n",
       "Pull-out Sofa      281\n",
       "Airbed             120\n",
       "Couch               62\n",
       "Name: bed_type, dtype: int64"
      ]
     },
     "execution_count": 23,
     "metadata": {},
     "output_type": "execute_result"
    }
   ],
   "source": [
    "abm1['bed_type'].value_counts()"
   ]
  },
  {
   "cell_type": "code",
   "execution_count": 24,
   "metadata": {
    "execution": {
     "iopub.execute_input": "2022-12-02T06:34:13.691543Z",
     "iopub.status.busy": "2022-12-02T06:34:13.669865Z",
     "iopub.status.idle": "2022-12-02T06:34:13.900845Z",
     "shell.execute_reply": "2022-12-02T06:34:13.900136Z",
     "shell.execute_reply.started": "2022-12-02T05:37:30.098672Z"
    },
    "papermill": {
     "duration": 0.2797,
     "end_time": "2022-12-02T06:34:13.900975",
     "exception": false,
     "start_time": "2022-12-02T06:34:13.621275",
     "status": "completed"
    },
    "tags": []
   },
   "outputs": [
    {
     "data": {
      "text/plain": [
       "accommodates            0\n",
       "bathrooms               0\n",
       "bedrooms                0\n",
       "beds                    0\n",
       "price                   0\n",
       "security_deposit        0\n",
       "review_scores_rating    0\n",
       "number_of_reviews       0\n",
       "amenities               0\n",
       "Brooklyn                0\n",
       "Manhattan               0\n",
       "Queens                  0\n",
       "Bronx                   0\n",
       "Staten Island           0\n",
       "Apartment               0\n",
       "House                   0\n",
       "Other                   0\n",
       "Townhouse               0\n",
       "Condominium             0\n",
       "Loft                    0\n",
       "Entire home/apt         0\n",
       "Private room            0\n",
       "Shared room             0\n",
       "Hotel room              0\n",
       "Real Bed                0\n",
       "Futon                   0\n",
       "Pull-out Sofa           0\n",
       "Airbed                  0\n",
       "Couch                   0\n",
       "dtype: int64"
      ]
     },
     "execution_count": 24,
     "metadata": {},
     "output_type": "execute_result"
    },
    {
     "data": {
      "text/html": [
       "<div>\n",
       "<style scoped>\n",
       "    .dataframe tbody tr th:only-of-type {\n",
       "        vertical-align: middle;\n",
       "    }\n",
       "\n",
       "    .dataframe tbody tr th {\n",
       "        vertical-align: top;\n",
       "    }\n",
       "\n",
       "    .dataframe thead th {\n",
       "        text-align: right;\n",
       "    }\n",
       "</style>\n",
       "<table border=\"1\" class=\"dataframe\">\n",
       "  <thead>\n",
       "    <tr style=\"text-align: right;\">\n",
       "      <th></th>\n",
       "      <th>accommodates</th>\n",
       "      <th>bathrooms</th>\n",
       "      <th>bedrooms</th>\n",
       "      <th>beds</th>\n",
       "      <th>price</th>\n",
       "      <th>security_deposit</th>\n",
       "      <th>review_scores_rating</th>\n",
       "      <th>number_of_reviews</th>\n",
       "      <th>amenities</th>\n",
       "      <th>Brooklyn</th>\n",
       "      <th>Manhattan</th>\n",
       "      <th>Queens</th>\n",
       "      <th>Bronx</th>\n",
       "      <th>Staten Island</th>\n",
       "      <th>Apartment</th>\n",
       "      <th>House</th>\n",
       "      <th>Other</th>\n",
       "      <th>Townhouse</th>\n",
       "      <th>Condominium</th>\n",
       "      <th>Loft</th>\n",
       "      <th>Entire home/apt</th>\n",
       "      <th>Private room</th>\n",
       "      <th>Shared room</th>\n",
       "      <th>Hotel room</th>\n",
       "      <th>Real Bed</th>\n",
       "      <th>Futon</th>\n",
       "      <th>Pull-out Sofa</th>\n",
       "      <th>Airbed</th>\n",
       "      <th>Couch</th>\n",
       "    </tr>\n",
       "  </thead>\n",
       "  <tbody>\n",
       "    <tr>\n",
       "      <th>0</th>\n",
       "      <td>1</td>\n",
       "      <td>1.0</td>\n",
       "      <td>0.0</td>\n",
       "      <td>1.0</td>\n",
       "      <td>225.0</td>\n",
       "      <td>350.0</td>\n",
       "      <td>94.0</td>\n",
       "      <td>48</td>\n",
       "      <td>{TV,Wifi,\"Air conditioning\",Kitchen,\"Paid park...</td>\n",
       "      <td>0.0</td>\n",
       "      <td>1.0</td>\n",
       "      <td>0.0</td>\n",
       "      <td>0.0</td>\n",
       "      <td>0.0</td>\n",
       "      <td>1.0</td>\n",
       "      <td>0.0</td>\n",
       "      <td>0.0</td>\n",
       "      <td>0.0</td>\n",
       "      <td>0.0</td>\n",
       "      <td>0.0</td>\n",
       "      <td>1.0</td>\n",
       "      <td>0.0</td>\n",
       "      <td>0.0</td>\n",
       "      <td>0.0</td>\n",
       "      <td>1.0</td>\n",
       "      <td>0.0</td>\n",
       "      <td>0.0</td>\n",
       "      <td>0.0</td>\n",
       "      <td>0.0</td>\n",
       "    </tr>\n",
       "    <tr>\n",
       "      <th>1</th>\n",
       "      <td>3</td>\n",
       "      <td>1.0</td>\n",
       "      <td>1.0</td>\n",
       "      <td>4.0</td>\n",
       "      <td>89.0</td>\n",
       "      <td>500.0</td>\n",
       "      <td>90.0</td>\n",
       "      <td>307</td>\n",
       "      <td>{TV,\"Cable TV\",Internet,Wifi,\"Air conditioning...</td>\n",
       "      <td>1.0</td>\n",
       "      <td>0.0</td>\n",
       "      <td>0.0</td>\n",
       "      <td>0.0</td>\n",
       "      <td>0.0</td>\n",
       "      <td>0.0</td>\n",
       "      <td>0.0</td>\n",
       "      <td>1.0</td>\n",
       "      <td>0.0</td>\n",
       "      <td>0.0</td>\n",
       "      <td>0.0</td>\n",
       "      <td>1.0</td>\n",
       "      <td>0.0</td>\n",
       "      <td>0.0</td>\n",
       "      <td>0.0</td>\n",
       "      <td>1.0</td>\n",
       "      <td>0.0</td>\n",
       "      <td>0.0</td>\n",
       "      <td>0.0</td>\n",
       "      <td>0.0</td>\n",
       "    </tr>\n",
       "    <tr>\n",
       "      <th>2</th>\n",
       "      <td>2</td>\n",
       "      <td>1.0</td>\n",
       "      <td>1.0</td>\n",
       "      <td>1.0</td>\n",
       "      <td>200.0</td>\n",
       "      <td>300.0</td>\n",
       "      <td>90.0</td>\n",
       "      <td>78</td>\n",
       "      <td>{TV,\"Cable TV\",Internet,Wifi,\"Air conditioning...</td>\n",
       "      <td>0.0</td>\n",
       "      <td>1.0</td>\n",
       "      <td>0.0</td>\n",
       "      <td>0.0</td>\n",
       "      <td>0.0</td>\n",
       "      <td>1.0</td>\n",
       "      <td>0.0</td>\n",
       "      <td>0.0</td>\n",
       "      <td>0.0</td>\n",
       "      <td>0.0</td>\n",
       "      <td>0.0</td>\n",
       "      <td>1.0</td>\n",
       "      <td>0.0</td>\n",
       "      <td>0.0</td>\n",
       "      <td>0.0</td>\n",
       "      <td>1.0</td>\n",
       "      <td>0.0</td>\n",
       "      <td>0.0</td>\n",
       "      <td>0.0</td>\n",
       "      <td>0.0</td>\n",
       "    </tr>\n",
       "    <tr>\n",
       "      <th>4</th>\n",
       "      <td>2</td>\n",
       "      <td>1.0</td>\n",
       "      <td>1.0</td>\n",
       "      <td>1.0</td>\n",
       "      <td>79.0</td>\n",
       "      <td>0.0</td>\n",
       "      <td>84.0</td>\n",
       "      <td>463</td>\n",
       "      <td>{TV,Wifi,\"Air conditioning\",\"Paid parking off ...</td>\n",
       "      <td>0.0</td>\n",
       "      <td>1.0</td>\n",
       "      <td>0.0</td>\n",
       "      <td>0.0</td>\n",
       "      <td>0.0</td>\n",
       "      <td>1.0</td>\n",
       "      <td>0.0</td>\n",
       "      <td>0.0</td>\n",
       "      <td>0.0</td>\n",
       "      <td>0.0</td>\n",
       "      <td>0.0</td>\n",
       "      <td>0.0</td>\n",
       "      <td>1.0</td>\n",
       "      <td>0.0</td>\n",
       "      <td>0.0</td>\n",
       "      <td>1.0</td>\n",
       "      <td>0.0</td>\n",
       "      <td>0.0</td>\n",
       "      <td>0.0</td>\n",
       "      <td>0.0</td>\n",
       "    </tr>\n",
       "    <tr>\n",
       "      <th>5</th>\n",
       "      <td>1</td>\n",
       "      <td>1.0</td>\n",
       "      <td>1.0</td>\n",
       "      <td>1.0</td>\n",
       "      <td>79.0</td>\n",
       "      <td>0.0</td>\n",
       "      <td>98.0</td>\n",
       "      <td>118</td>\n",
       "      <td>{Internet,Wifi,\"Air conditioning\",\"Paid parkin...</td>\n",
       "      <td>0.0</td>\n",
       "      <td>1.0</td>\n",
       "      <td>0.0</td>\n",
       "      <td>0.0</td>\n",
       "      <td>0.0</td>\n",
       "      <td>1.0</td>\n",
       "      <td>0.0</td>\n",
       "      <td>0.0</td>\n",
       "      <td>0.0</td>\n",
       "      <td>0.0</td>\n",
       "      <td>0.0</td>\n",
       "      <td>0.0</td>\n",
       "      <td>1.0</td>\n",
       "      <td>0.0</td>\n",
       "      <td>0.0</td>\n",
       "      <td>1.0</td>\n",
       "      <td>0.0</td>\n",
       "      <td>0.0</td>\n",
       "      <td>0.0</td>\n",
       "      <td>0.0</td>\n",
       "    </tr>\n",
       "  </tbody>\n",
       "</table>\n",
       "</div>"
      ],
      "text/plain": [
       "   accommodates  bathrooms  bedrooms  beds  price  security_deposit  \\\n",
       "0             1        1.0       0.0   1.0  225.0             350.0   \n",
       "1             3        1.0       1.0   4.0   89.0             500.0   \n",
       "2             2        1.0       1.0   1.0  200.0             300.0   \n",
       "4             2        1.0       1.0   1.0   79.0               0.0   \n",
       "5             1        1.0       1.0   1.0   79.0               0.0   \n",
       "\n",
       "   review_scores_rating  number_of_reviews  \\\n",
       "0                  94.0                 48   \n",
       "1                  90.0                307   \n",
       "2                  90.0                 78   \n",
       "4                  84.0                463   \n",
       "5                  98.0                118   \n",
       "\n",
       "                                           amenities  Brooklyn  Manhattan  \\\n",
       "0  {TV,Wifi,\"Air conditioning\",Kitchen,\"Paid park...       0.0        1.0   \n",
       "1  {TV,\"Cable TV\",Internet,Wifi,\"Air conditioning...       1.0        0.0   \n",
       "2  {TV,\"Cable TV\",Internet,Wifi,\"Air conditioning...       0.0        1.0   \n",
       "4  {TV,Wifi,\"Air conditioning\",\"Paid parking off ...       0.0        1.0   \n",
       "5  {Internet,Wifi,\"Air conditioning\",\"Paid parkin...       0.0        1.0   \n",
       "\n",
       "   Queens  Bronx  Staten Island  Apartment  House  Other  Townhouse  \\\n",
       "0     0.0    0.0            0.0        1.0    0.0    0.0        0.0   \n",
       "1     0.0    0.0            0.0        0.0    0.0    1.0        0.0   \n",
       "2     0.0    0.0            0.0        1.0    0.0    0.0        0.0   \n",
       "4     0.0    0.0            0.0        1.0    0.0    0.0        0.0   \n",
       "5     0.0    0.0            0.0        1.0    0.0    0.0        0.0   \n",
       "\n",
       "   Condominium  Loft  Entire home/apt  Private room  Shared room  Hotel room  \\\n",
       "0          0.0   0.0              1.0           0.0          0.0         0.0   \n",
       "1          0.0   0.0              1.0           0.0          0.0         0.0   \n",
       "2          0.0   0.0              1.0           0.0          0.0         0.0   \n",
       "4          0.0   0.0              0.0           1.0          0.0         0.0   \n",
       "5          0.0   0.0              0.0           1.0          0.0         0.0   \n",
       "\n",
       "   Real Bed  Futon  Pull-out Sofa  Airbed  Couch  \n",
       "0       1.0    0.0            0.0     0.0    0.0  \n",
       "1       1.0    0.0            0.0     0.0    0.0  \n",
       "2       1.0    0.0            0.0     0.0    0.0  \n",
       "4       1.0    0.0            0.0     0.0    0.0  \n",
       "5       1.0    0.0            0.0     0.0    0.0  "
      ]
     },
     "execution_count": 24,
     "metadata": {},
     "output_type": "execute_result"
    }
   ],
   "source": [
    "abm1.loc[abm1['bed_type'].str.contains('Real Bed'), 'Real Bed'] = 1\n",
    "abm1.loc[abm1['bed_type'].str.contains('Futon'), 'Futon'] = 1\n",
    "abm1.loc[abm1['bed_type'].str.contains('Pull-out Sofa'), 'Pull-out Sofa'] = 1\n",
    "abm1.loc[abm1['bed_type'].str.contains('Airbed'), 'Airbed'] = 1\n",
    "abm1.loc[abm1['bed_type'].str.contains('Couch'), 'Couch'] = 1\n",
    "abm1 = abm1.fillna(0)\n",
    "\n",
    "abm1.drop('bed_type', axis = 1, inplace=True)\n",
    "abm1.isnull().sum()\n",
    "abm1.head(5)"
   ]
  },
  {
   "cell_type": "markdown",
   "metadata": {
    "papermill": {
     "duration": 0.039756,
     "end_time": "2022-12-02T06:34:13.981640",
     "exception": false,
     "start_time": "2022-12-02T06:34:13.941884",
     "status": "completed"
    },
    "tags": []
   },
   "source": [
    "# Content Based Filtering 추천 시스템"
   ]
  },
  {
   "cell_type": "markdown",
   "metadata": {
    "papermill": {
     "duration": 0.040015,
     "end_time": "2022-12-02T06:34:14.061797",
     "exception": false,
     "start_time": "2022-12-02T06:34:14.021782",
     "status": "completed"
    },
    "tags": []
   },
   "source": [
    "## 유사도 검사를 위한 새로운 matrix 생성"
   ]
  },
  {
   "cell_type": "code",
   "execution_count": 25,
   "metadata": {
    "execution": {
     "iopub.execute_input": "2022-12-02T06:34:14.145177Z",
     "iopub.status.busy": "2022-12-02T06:34:14.144544Z",
     "iopub.status.idle": "2022-12-02T06:34:14.175002Z",
     "shell.execute_reply": "2022-12-02T06:34:14.175517Z",
     "shell.execute_reply.started": "2022-12-02T05:37:36.073593Z"
    },
    "papermill": {
     "duration": 0.073878,
     "end_time": "2022-12-02T06:34:14.175680",
     "exception": false,
     "start_time": "2022-12-02T06:34:14.101802",
     "status": "completed"
    },
    "tags": []
   },
   "outputs": [
    {
     "data": {
      "text/html": [
       "<div>\n",
       "<style scoped>\n",
       "    .dataframe tbody tr th:only-of-type {\n",
       "        vertical-align: middle;\n",
       "    }\n",
       "\n",
       "    .dataframe tbody tr th {\n",
       "        vertical-align: top;\n",
       "    }\n",
       "\n",
       "    .dataframe thead th {\n",
       "        text-align: right;\n",
       "    }\n",
       "</style>\n",
       "<table border=\"1\" class=\"dataframe\">\n",
       "  <thead>\n",
       "    <tr style=\"text-align: right;\">\n",
       "      <th></th>\n",
       "      <th>accommodates</th>\n",
       "      <th>bathrooms</th>\n",
       "      <th>bedrooms</th>\n",
       "      <th>beds</th>\n",
       "      <th>price</th>\n",
       "      <th>security_deposit</th>\n",
       "      <th>Brooklyn</th>\n",
       "      <th>Manhattan</th>\n",
       "      <th>Queens</th>\n",
       "      <th>Bronx</th>\n",
       "      <th>Staten Island</th>\n",
       "      <th>Apartment</th>\n",
       "      <th>House</th>\n",
       "      <th>Other</th>\n",
       "      <th>Townhouse</th>\n",
       "      <th>Condominium</th>\n",
       "      <th>Loft</th>\n",
       "      <th>Entire home/apt</th>\n",
       "      <th>Private room</th>\n",
       "      <th>Shared room</th>\n",
       "      <th>Hotel room</th>\n",
       "      <th>Real Bed</th>\n",
       "      <th>Futon</th>\n",
       "      <th>Pull-out Sofa</th>\n",
       "      <th>Airbed</th>\n",
       "      <th>Couch</th>\n",
       "    </tr>\n",
       "  </thead>\n",
       "  <tbody>\n",
       "    <tr>\n",
       "      <th>0</th>\n",
       "      <td>1</td>\n",
       "      <td>1.0</td>\n",
       "      <td>0.0</td>\n",
       "      <td>1.0</td>\n",
       "      <td>225.0</td>\n",
       "      <td>350.0</td>\n",
       "      <td>0.0</td>\n",
       "      <td>1.0</td>\n",
       "      <td>0.0</td>\n",
       "      <td>0.0</td>\n",
       "      <td>0.0</td>\n",
       "      <td>1.0</td>\n",
       "      <td>0.0</td>\n",
       "      <td>0.0</td>\n",
       "      <td>0.0</td>\n",
       "      <td>0.0</td>\n",
       "      <td>0.0</td>\n",
       "      <td>1.0</td>\n",
       "      <td>0.0</td>\n",
       "      <td>0.0</td>\n",
       "      <td>0.0</td>\n",
       "      <td>1.0</td>\n",
       "      <td>0.0</td>\n",
       "      <td>0.0</td>\n",
       "      <td>0.0</td>\n",
       "      <td>0.0</td>\n",
       "    </tr>\n",
       "    <tr>\n",
       "      <th>1</th>\n",
       "      <td>3</td>\n",
       "      <td>1.0</td>\n",
       "      <td>1.0</td>\n",
       "      <td>4.0</td>\n",
       "      <td>89.0</td>\n",
       "      <td>500.0</td>\n",
       "      <td>1.0</td>\n",
       "      <td>0.0</td>\n",
       "      <td>0.0</td>\n",
       "      <td>0.0</td>\n",
       "      <td>0.0</td>\n",
       "      <td>0.0</td>\n",
       "      <td>0.0</td>\n",
       "      <td>1.0</td>\n",
       "      <td>0.0</td>\n",
       "      <td>0.0</td>\n",
       "      <td>0.0</td>\n",
       "      <td>1.0</td>\n",
       "      <td>0.0</td>\n",
       "      <td>0.0</td>\n",
       "      <td>0.0</td>\n",
       "      <td>1.0</td>\n",
       "      <td>0.0</td>\n",
       "      <td>0.0</td>\n",
       "      <td>0.0</td>\n",
       "      <td>0.0</td>\n",
       "    </tr>\n",
       "    <tr>\n",
       "      <th>2</th>\n",
       "      <td>2</td>\n",
       "      <td>1.0</td>\n",
       "      <td>1.0</td>\n",
       "      <td>1.0</td>\n",
       "      <td>200.0</td>\n",
       "      <td>300.0</td>\n",
       "      <td>0.0</td>\n",
       "      <td>1.0</td>\n",
       "      <td>0.0</td>\n",
       "      <td>0.0</td>\n",
       "      <td>0.0</td>\n",
       "      <td>1.0</td>\n",
       "      <td>0.0</td>\n",
       "      <td>0.0</td>\n",
       "      <td>0.0</td>\n",
       "      <td>0.0</td>\n",
       "      <td>0.0</td>\n",
       "      <td>1.0</td>\n",
       "      <td>0.0</td>\n",
       "      <td>0.0</td>\n",
       "      <td>0.0</td>\n",
       "      <td>1.0</td>\n",
       "      <td>0.0</td>\n",
       "      <td>0.0</td>\n",
       "      <td>0.0</td>\n",
       "      <td>0.0</td>\n",
       "    </tr>\n",
       "    <tr>\n",
       "      <th>4</th>\n",
       "      <td>2</td>\n",
       "      <td>1.0</td>\n",
       "      <td>1.0</td>\n",
       "      <td>1.0</td>\n",
       "      <td>79.0</td>\n",
       "      <td>0.0</td>\n",
       "      <td>0.0</td>\n",
       "      <td>1.0</td>\n",
       "      <td>0.0</td>\n",
       "      <td>0.0</td>\n",
       "      <td>0.0</td>\n",
       "      <td>1.0</td>\n",
       "      <td>0.0</td>\n",
       "      <td>0.0</td>\n",
       "      <td>0.0</td>\n",
       "      <td>0.0</td>\n",
       "      <td>0.0</td>\n",
       "      <td>0.0</td>\n",
       "      <td>1.0</td>\n",
       "      <td>0.0</td>\n",
       "      <td>0.0</td>\n",
       "      <td>1.0</td>\n",
       "      <td>0.0</td>\n",
       "      <td>0.0</td>\n",
       "      <td>0.0</td>\n",
       "      <td>0.0</td>\n",
       "    </tr>\n",
       "    <tr>\n",
       "      <th>5</th>\n",
       "      <td>1</td>\n",
       "      <td>1.0</td>\n",
       "      <td>1.0</td>\n",
       "      <td>1.0</td>\n",
       "      <td>79.0</td>\n",
       "      <td>0.0</td>\n",
       "      <td>0.0</td>\n",
       "      <td>1.0</td>\n",
       "      <td>0.0</td>\n",
       "      <td>0.0</td>\n",
       "      <td>0.0</td>\n",
       "      <td>1.0</td>\n",
       "      <td>0.0</td>\n",
       "      <td>0.0</td>\n",
       "      <td>0.0</td>\n",
       "      <td>0.0</td>\n",
       "      <td>0.0</td>\n",
       "      <td>0.0</td>\n",
       "      <td>1.0</td>\n",
       "      <td>0.0</td>\n",
       "      <td>0.0</td>\n",
       "      <td>1.0</td>\n",
       "      <td>0.0</td>\n",
       "      <td>0.0</td>\n",
       "      <td>0.0</td>\n",
       "      <td>0.0</td>\n",
       "    </tr>\n",
       "  </tbody>\n",
       "</table>\n",
       "</div>"
      ],
      "text/plain": [
       "   accommodates  bathrooms  bedrooms  beds  price  security_deposit  Brooklyn  \\\n",
       "0             1        1.0       0.0   1.0  225.0             350.0       0.0   \n",
       "1             3        1.0       1.0   4.0   89.0             500.0       1.0   \n",
       "2             2        1.0       1.0   1.0  200.0             300.0       0.0   \n",
       "4             2        1.0       1.0   1.0   79.0               0.0       0.0   \n",
       "5             1        1.0       1.0   1.0   79.0               0.0       0.0   \n",
       "\n",
       "   Manhattan  Queens  Bronx  Staten Island  Apartment  House  Other  \\\n",
       "0        1.0     0.0    0.0            0.0        1.0    0.0    0.0   \n",
       "1        0.0     0.0    0.0            0.0        0.0    0.0    1.0   \n",
       "2        1.0     0.0    0.0            0.0        1.0    0.0    0.0   \n",
       "4        1.0     0.0    0.0            0.0        1.0    0.0    0.0   \n",
       "5        1.0     0.0    0.0            0.0        1.0    0.0    0.0   \n",
       "\n",
       "   Townhouse  Condominium  Loft  Entire home/apt  Private room  Shared room  \\\n",
       "0        0.0          0.0   0.0              1.0           0.0          0.0   \n",
       "1        0.0          0.0   0.0              1.0           0.0          0.0   \n",
       "2        0.0          0.0   0.0              1.0           0.0          0.0   \n",
       "4        0.0          0.0   0.0              0.0           1.0          0.0   \n",
       "5        0.0          0.0   0.0              0.0           1.0          0.0   \n",
       "\n",
       "   Hotel room  Real Bed  Futon  Pull-out Sofa  Airbed  Couch  \n",
       "0         0.0       1.0    0.0            0.0     0.0    0.0  \n",
       "1         0.0       1.0    0.0            0.0     0.0    0.0  \n",
       "2         0.0       1.0    0.0            0.0     0.0    0.0  \n",
       "4         0.0       1.0    0.0            0.0     0.0    0.0  \n",
       "5         0.0       1.0    0.0            0.0     0.0    0.0  "
      ]
     },
     "execution_count": 25,
     "metadata": {},
     "output_type": "execute_result"
    }
   ],
   "source": [
    "abm2 = abm1.drop(['review_scores_rating', 'number_of_reviews', 'amenities'], axis = 1, inplace=False)\n",
    "abm2.head(5)"
   ]
  },
  {
   "cell_type": "code",
   "execution_count": 26,
   "metadata": {
    "execution": {
     "iopub.execute_input": "2022-12-02T06:34:14.261674Z",
     "iopub.status.busy": "2022-12-02T06:34:14.260979Z",
     "iopub.status.idle": "2022-12-02T06:34:14.264069Z",
     "shell.execute_reply": "2022-12-02T06:34:14.264559Z"
    },
    "papermill": {
     "duration": 0.04763,
     "end_time": "2022-12-02T06:34:14.264717",
     "exception": false,
     "start_time": "2022-12-02T06:34:14.217087",
     "status": "completed"
    },
    "tags": []
   },
   "outputs": [],
   "source": [
    "#정규화\n"
   ]
  },
  {
   "cell_type": "markdown",
   "metadata": {
    "papermill": {
     "duration": 0.041022,
     "end_time": "2022-12-02T06:34:14.347908",
     "exception": false,
     "start_time": "2022-12-02T06:34:14.306886",
     "status": "completed"
    },
    "tags": []
   },
   "source": [
    "## 유사도 계산해보기"
   ]
  },
  {
   "cell_type": "code",
   "execution_count": 27,
   "metadata": {
    "execution": {
     "iopub.execute_input": "2022-12-02T06:34:14.433363Z",
     "iopub.status.busy": "2022-12-02T06:34:14.432723Z",
     "iopub.status.idle": "2022-12-02T06:34:14.437581Z",
     "shell.execute_reply": "2022-12-02T06:34:14.438110Z",
     "shell.execute_reply.started": "2022-12-02T05:38:58.546420Z"
    },
    "papermill": {
     "duration": 0.049323,
     "end_time": "2022-12-02T06:34:14.438258",
     "exception": false,
     "start_time": "2022-12-02T06:34:14.388935",
     "status": "completed"
    },
    "tags": []
   },
   "outputs": [],
   "source": [
    "from numpy import dot\n",
    "from numpy.linalg import norm\n",
    "\n",
    "def cos_sim(A, B):\n",
    "  return dot(A, B)/(norm(A)*norm(B))\n",
    "\n",
    "#def normalize_data(test):\n",
    "#    idx = 0\n",
    "#    for item in abm2.columns:\n",
    "#        test[idx] = (test[idx] - abm1[item].min())/(abm1[item].max() - abm1[item].min())\n",
    "#        idx += 1\n",
    "#    print(\"normalize test data: \", test)\n",
    "#    return test"
   ]
  },
  {
   "cell_type": "code",
   "execution_count": 28,
   "metadata": {
    "execution": {
     "iopub.execute_input": "2022-12-02T06:34:14.524348Z",
     "iopub.status.busy": "2022-12-02T06:34:14.523712Z",
     "iopub.status.idle": "2022-12-02T06:34:14.528686Z",
     "shell.execute_reply": "2022-12-02T06:34:14.529203Z",
     "shell.execute_reply.started": "2022-12-02T05:39:16.750397Z"
    },
    "papermill": {
     "duration": 0.04954,
     "end_time": "2022-12-02T06:34:14.529353",
     "exception": false,
     "start_time": "2022-12-02T06:34:14.479813",
     "status": "completed"
    },
    "tags": []
   },
   "outputs": [],
   "source": [
    "# 예시 데이터\n",
    "# 지금은 정적으로 입력됐지만, 사용자가 입력하게끔 해야 한다.\n",
    "test_data = np.array([2,1,2,4,200,0,1,0,0,0,0,1,0,0,0,0,0,1,0,0,0,1,0,0,0,0])\n",
    "test_data = test_data.astype(float)"
   ]
  },
  {
   "cell_type": "code",
   "execution_count": 29,
   "metadata": {
    "execution": {
     "iopub.execute_input": "2022-12-02T06:34:14.615396Z",
     "iopub.status.busy": "2022-12-02T06:34:14.614695Z",
     "iopub.status.idle": "2022-12-02T06:34:15.339072Z",
     "shell.execute_reply": "2022-12-02T06:34:15.338351Z",
     "shell.execute_reply.started": "2022-12-02T05:39:20.345203Z"
    },
    "papermill": {
     "duration": 0.768746,
     "end_time": "2022-12-02T06:34:15.339199",
     "exception": false,
     "start_time": "2022-12-02T06:34:14.570453",
     "status": "completed"
    },
    "tags": []
   },
   "outputs": [
    {
     "data": {
      "text/plain": [
       "[0.5406708676072626,\n",
       " 0.17544694294590638,\n",
       " 0.5546698350997032,\n",
       " 0.9995796729095607,\n",
       " 0.9996931262357279,\n",
       " 0.9998820387929884,\n",
       " 0.44370659048732747,\n",
       " 0.40658415392806974,\n",
       " 0.3912187930399915,\n",
       " 0.23340151394284064]"
      ]
     },
     "execution_count": 29,
     "metadata": {},
     "output_type": "execute_result"
    }
   ],
   "source": [
    "sim = []\n",
    "#test_data = normalize_data(test_data)\n",
    "\n",
    "for item in abm2.to_numpy():\n",
    "    sim.append(cos_sim(test_data, item))\n",
    "    \n",
    "sim[:10]"
   ]
  },
  {
   "cell_type": "code",
   "execution_count": 30,
   "metadata": {
    "execution": {
     "iopub.execute_input": "2022-12-02T06:34:15.460832Z",
     "iopub.status.busy": "2022-12-02T06:34:15.429883Z",
     "iopub.status.idle": "2022-12-02T06:34:15.470730Z",
     "shell.execute_reply": "2022-12-02T06:34:15.471204Z",
     "shell.execute_reply.started": "2022-12-02T05:39:35.975873Z"
    },
    "papermill": {
     "duration": 0.090566,
     "end_time": "2022-12-02T06:34:15.471359",
     "exception": false,
     "start_time": "2022-12-02T06:34:15.380793",
     "status": "completed"
    },
    "tags": []
   },
   "outputs": [
    {
     "name": "stdout",
     "output_type": "stream",
     "text": [
      "[27252, 39962, 123, 10553, 27486, 3578, 23038, 4640, 23692, 37507]\n"
     ]
    },
    {
     "data": {
      "text/plain": [
       "array([  3.,   1.,   2.,   3., 175.,   0.,   1.,   0.,   0.,   0.,   0.,\n",
       "         1.,   0.,   0.,   0.,   0.,   0.,   1.,   0.,   0.,   0.,   1.,\n",
       "         0.,   0.,   0.,   0.])"
      ]
     },
     "execution_count": 30,
     "metadata": {},
     "output_type": "execute_result"
    }
   ],
   "source": [
    "sim_sorted_byindex = sorted(range(len(sim)), key=lambda k: sim[k])\n",
    "sim_sorted_byindex = sim_sorted_byindex[-10:]\n",
    "print(sim_sorted_byindex)\n",
    "# 상위 10개의 유사도를 가지는 데이터를 추출\n",
    "\n",
    "abm2.to_numpy()[37507] # 가장 유사도가 높은 호스트. 그러나, 평점이 높은지는 보장 X"
   ]
  },
  {
   "cell_type": "code",
   "execution_count": 31,
   "metadata": {
    "execution": {
     "iopub.execute_input": "2022-12-02T06:34:15.558261Z",
     "iopub.status.busy": "2022-12-02T06:34:15.557498Z",
     "iopub.status.idle": "2022-12-02T06:34:15.563713Z",
     "shell.execute_reply": "2022-12-02T06:34:15.563161Z",
     "shell.execute_reply.started": "2022-12-02T05:39:45.902290Z"
    },
    "papermill": {
     "duration": 0.050685,
     "end_time": "2022-12-02T06:34:15.563830",
     "exception": false,
     "start_time": "2022-12-02T06:34:15.513145",
     "status": "completed"
    },
    "tags": []
   },
   "outputs": [],
   "source": [
    "def recommend(arr):\n",
    "    temp = abm1.to_numpy()\n",
    "    ans = arr[0]\n",
    "    for idx in arr:\n",
    "        if temp[idx][6] >= temp[ans][6]:\n",
    "            ans = idx\n",
    "    return ans"
   ]
  },
  {
   "cell_type": "code",
   "execution_count": 32,
   "metadata": {
    "execution": {
     "iopub.execute_input": "2022-12-02T06:34:15.661596Z",
     "iopub.status.busy": "2022-12-02T06:34:15.651992Z",
     "iopub.status.idle": "2022-12-02T06:34:15.757542Z",
     "shell.execute_reply": "2022-12-02T06:34:15.758567Z",
     "shell.execute_reply.started": "2022-12-02T05:39:51.060593Z"
    },
    "papermill": {
     "duration": 0.152907,
     "end_time": "2022-12-02T06:34:15.758834",
     "exception": false,
     "start_time": "2022-12-02T06:34:15.605927",
     "status": "completed"
    },
    "tags": []
   },
   "outputs": [
    {
     "name": "stdout",
     "output_type": "stream",
     "text": [
      "27486\n"
     ]
    }
   ],
   "source": [
    "# [2,1,2,4,200,0,1,0,0,0,0,1,0,0,0,0,0,1,0,0,0,1,0,0,0,0]\n",
    "find = recommend(sim_sorted_byindex)\n",
    "print(find)"
   ]
  },
  {
   "cell_type": "markdown",
   "metadata": {
    "papermill": {
     "duration": 0.042443,
     "end_time": "2022-12-02T06:34:15.844467",
     "exception": false,
     "start_time": "2022-12-02T06:34:15.802024",
     "status": "completed"
    },
    "tags": []
   },
   "source": [
    "## 최종 결과, 그래서 추천하는 amenities는?"
   ]
  },
  {
   "cell_type": "code",
   "execution_count": 33,
   "metadata": {
    "execution": {
     "iopub.execute_input": "2022-12-02T06:34:15.935289Z",
     "iopub.status.busy": "2022-12-02T06:34:15.934511Z",
     "iopub.status.idle": "2022-12-02T06:34:15.938506Z",
     "shell.execute_reply": "2022-12-02T06:34:15.937862Z",
     "shell.execute_reply.started": "2022-12-02T05:40:00.922342Z"
    },
    "papermill": {
     "duration": 0.051772,
     "end_time": "2022-12-02T06:34:15.938624",
     "exception": false,
     "start_time": "2022-12-02T06:34:15.886852",
     "status": "completed"
    },
    "tags": []
   },
   "outputs": [
    {
     "name": "stdout",
     "output_type": "stream",
     "text": [
      "{TV,Wifi,\"Air conditioning\",Kitchen,Heating,\"Family/kid friendly\",\"Smoke detector\",\"Carbon monoxide detector\",\"Fire extinguisher\",Essentials,Shampoo,Hangers,\"Hair dryer\",Iron,\"Laptop friendly workspace\",\"translation missing: en.hosting_amenity_50\",\"Private entrance\",\"Window guards\",\"Hot water\",\"Bed linens\",\"Coffee maker\",Refrigerator,Dishwasher,\"Dishes and silverware\",\"Cooking basics\",Oven,Stove,\"BBQ grill\",\"Garden or backyard\",\"Luggage dropoff allowed\",\"Wide hallways\",\"Host greets you\"}\n"
     ]
    }
   ],
   "source": [
    "result = abm1[find:find+1]['amenities']\n",
    "\n",
    "for item in result.to_numpy().tolist():\n",
    "    print(item)"
   ]
  },
  {
   "cell_type": "code",
   "execution_count": 34,
   "metadata": {
    "execution": {
     "iopub.execute_input": "2022-12-02T06:34:16.049368Z",
     "iopub.status.busy": "2022-12-02T06:34:16.039858Z",
     "iopub.status.idle": "2022-12-02T06:34:16.055106Z",
     "shell.execute_reply": "2022-12-02T06:34:16.055584Z",
     "shell.execute_reply.started": "2022-12-02T05:40:10.389521Z"
    },
    "papermill": {
     "duration": 0.073723,
     "end_time": "2022-12-02T06:34:16.055779",
     "exception": false,
     "start_time": "2022-12-02T06:34:15.982056",
     "status": "completed"
    },
    "tags": []
   },
   "outputs": [
    {
     "data": {
      "text/html": [
       "<div>\n",
       "<style scoped>\n",
       "    .dataframe tbody tr th:only-of-type {\n",
       "        vertical-align: middle;\n",
       "    }\n",
       "\n",
       "    .dataframe tbody tr th {\n",
       "        vertical-align: top;\n",
       "    }\n",
       "\n",
       "    .dataframe thead th {\n",
       "        text-align: right;\n",
       "    }\n",
       "</style>\n",
       "<table border=\"1\" class=\"dataframe\">\n",
       "  <thead>\n",
       "    <tr style=\"text-align: right;\">\n",
       "      <th></th>\n",
       "      <th>accommodates</th>\n",
       "      <th>bathrooms</th>\n",
       "      <th>bedrooms</th>\n",
       "      <th>beds</th>\n",
       "      <th>price</th>\n",
       "      <th>security_deposit</th>\n",
       "      <th>review_scores_rating</th>\n",
       "      <th>number_of_reviews</th>\n",
       "      <th>amenities</th>\n",
       "      <th>Brooklyn</th>\n",
       "      <th>Manhattan</th>\n",
       "      <th>Queens</th>\n",
       "      <th>Bronx</th>\n",
       "      <th>Staten Island</th>\n",
       "      <th>Apartment</th>\n",
       "      <th>House</th>\n",
       "      <th>Other</th>\n",
       "      <th>Townhouse</th>\n",
       "      <th>Condominium</th>\n",
       "      <th>Loft</th>\n",
       "      <th>Entire home/apt</th>\n",
       "      <th>Private room</th>\n",
       "      <th>Shared room</th>\n",
       "      <th>Hotel room</th>\n",
       "      <th>Real Bed</th>\n",
       "      <th>Futon</th>\n",
       "      <th>Pull-out Sofa</th>\n",
       "      <th>Airbed</th>\n",
       "      <th>Couch</th>\n",
       "    </tr>\n",
       "  </thead>\n",
       "  <tbody>\n",
       "    <tr>\n",
       "      <th>73136</th>\n",
       "      <td>2</td>\n",
       "      <td>1.0</td>\n",
       "      <td>2.0</td>\n",
       "      <td>3.0</td>\n",
       "      <td>200.0</td>\n",
       "      <td>0.0</td>\n",
       "      <td>99.0</td>\n",
       "      <td>21</td>\n",
       "      <td>{TV,Wifi,\"Air conditioning\",Kitchen,Heating,\"F...</td>\n",
       "      <td>1.0</td>\n",
       "      <td>0.0</td>\n",
       "      <td>0.0</td>\n",
       "      <td>0.0</td>\n",
       "      <td>0.0</td>\n",
       "      <td>0.0</td>\n",
       "      <td>0.0</td>\n",
       "      <td>0.0</td>\n",
       "      <td>1.0</td>\n",
       "      <td>0.0</td>\n",
       "      <td>0.0</td>\n",
       "      <td>1.0</td>\n",
       "      <td>0.0</td>\n",
       "      <td>0.0</td>\n",
       "      <td>0.0</td>\n",
       "      <td>1.0</td>\n",
       "      <td>0.0</td>\n",
       "      <td>0.0</td>\n",
       "      <td>0.0</td>\n",
       "      <td>0.0</td>\n",
       "    </tr>\n",
       "  </tbody>\n",
       "</table>\n",
       "</div>"
      ],
      "text/plain": [
       "       accommodates  bathrooms  bedrooms  beds  price  security_deposit  \\\n",
       "73136             2        1.0       2.0   3.0  200.0               0.0   \n",
       "\n",
       "       review_scores_rating  number_of_reviews  \\\n",
       "73136                  99.0                 21   \n",
       "\n",
       "                                               amenities  Brooklyn  Manhattan  \\\n",
       "73136  {TV,Wifi,\"Air conditioning\",Kitchen,Heating,\"F...       1.0        0.0   \n",
       "\n",
       "       Queens  Bronx  Staten Island  Apartment  House  Other  Townhouse  \\\n",
       "73136     0.0    0.0            0.0        0.0    0.0    0.0        1.0   \n",
       "\n",
       "       Condominium  Loft  Entire home/apt  Private room  Shared room  \\\n",
       "73136          0.0   0.0              1.0           0.0          0.0   \n",
       "\n",
       "       Hotel room  Real Bed  Futon  Pull-out Sofa  Airbed  Couch  \n",
       "73136         0.0       1.0    0.0            0.0     0.0    0.0  "
      ]
     },
     "execution_count": 34,
     "metadata": {},
     "output_type": "execute_result"
    }
   ],
   "source": [
    "abm1[find:find+1]\n",
    "# [2,1,2,4,200,0,1,0,0,0,0,1,0,0,0,0,0,1,0,0,0,1,0,0,0,0]"
   ]
  },
  {
   "cell_type": "code",
   "execution_count": null,
   "metadata": {
    "papermill": {
     "duration": 0.043103,
     "end_time": "2022-12-02T06:34:16.142147",
     "exception": false,
     "start_time": "2022-12-02T06:34:16.099044",
     "status": "completed"
    },
    "tags": []
   },
   "outputs": [],
   "source": []
  }
 ],
 "metadata": {
  "kernelspec": {
   "display_name": "Python 3",
   "language": "python",
   "name": "python3"
  },
  "language_info": {
   "codemirror_mode": {
    "name": "ipython",
    "version": 3
   },
   "file_extension": ".py",
   "mimetype": "text/x-python",
   "name": "python",
   "nbconvert_exporter": "python",
   "pygments_lexer": "ipython3",
   "version": "3.7.6"
  },
  "papermill": {
   "duration": 26.264726,
   "end_time": "2022-12-02T06:34:16.292760",
   "environment_variables": {},
   "exception": null,
   "input_path": "__notebook__.ipynb",
   "output_path": "__notebook__.ipynb",
   "parameters": {},
   "start_time": "2022-12-02T06:33:50.028034",
   "version": "2.1.0"
  }
 },
 "nbformat": 4,
 "nbformat_minor": 4
}
