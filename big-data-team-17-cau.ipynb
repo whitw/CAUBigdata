{
 "cells": [
  {
   "cell_type": "markdown",
   "metadata": {
    "papermill": {
     "duration": 0.03491,
     "end_time": "2022-12-02T10:07:56.602028",
     "exception": false,
     "start_time": "2022-12-02T10:07:56.567118",
     "status": "completed"
    },
    "tags": []
   },
   "source": [
    "### Content Based Filtering을 이용한 Airbnb Host Recommender"
   ]
  },
  {
   "cell_type": "markdown",
   "metadata": {
    "papermill": {
     "duration": 0.030647,
     "end_time": "2022-12-02T10:07:56.663984",
     "exception": false,
     "start_time": "2022-12-02T10:07:56.633337",
     "status": "completed"
    },
    "tags": []
   },
   "source": [
    "#### Big Data Group 17. 서현종, 김상현, 김승엽"
   ]
  },
  {
   "cell_type": "markdown",
   "metadata": {
    "papermill": {
     "duration": 0.030936,
     "end_time": "2022-12-02T10:07:56.726042",
     "exception": false,
     "start_time": "2022-12-02T10:07:56.695106",
     "status": "completed"
    },
    "tags": []
   },
   "source": [
    "### 시나리오"
   ]
  },
  {
   "cell_type": "markdown",
   "metadata": {
    "papermill": {
     "duration": 0.030818,
     "end_time": "2022-12-02T10:07:56.787863",
     "exception": false,
     "start_time": "2022-12-02T10:07:56.757045",
     "status": "completed"
    },
    "tags": []
   },
   "source": [
    "Airbnb 신규 Host인 Ernest는 뉴욕에 위치한 자신의 집을 숙박 업소로 공개하고자 한다.  \n",
    "그러나, Ernest는 위치, 방의 개수, 침대 개수, 침대의 타입, 집기구등  \n",
    "자신이 소유한 집의 정보만을 알고 있다.  \n",
    "Ernest는 이 집을 Airbnb로 공개하였을때 얼마의 가격을 선정해야  \n",
    "유의미하게 높은 평점을 받는지가 최대 관심사이다.  \n",
    "따라서 Ernest는 CAUSWE Big Data 17조가 만든 Content Based Filtering 추천 시스템을 이용하여  \n",
    "적절한 가격 책정에 대해 도움을 얻고자 한다."
   ]
  },
  {
   "cell_type": "markdown",
   "metadata": {
    "papermill": {
     "duration": 0.030789,
     "end_time": "2022-12-02T10:07:56.849752",
     "exception": false,
     "start_time": "2022-12-02T10:07:56.818963",
     "status": "completed"
    },
    "tags": []
   },
   "source": [
    "### 프로그램 개요"
   ]
  },
  {
   "cell_type": "markdown",
   "metadata": {
    "papermill": {
     "duration": 0.030867,
     "end_time": "2022-12-02T10:07:56.911745",
     "exception": false,
     "start_time": "2022-12-02T10:07:56.880878",
     "status": "completed"
    },
    "tags": []
   },
   "source": [
    "Airbnb Open Data는 Host 숙소에 대한 106가지의 Feature가 정의되어 있는 데이터 셋이다.  \n",
    "통상적인 추천 시스템이라면 협업 필터링 (Collaborate Filtering)을 사용하나,  \n",
    "이 데이터 셋은 평가자인 사용자의 정보가 없기 때문에,  \n",
    "Content의 정보에 기반하여 추천 시스템이 적합해보였다.  \n",
    "  \n",
    "Content Based Filtering을 토대로 이 추천시스템은 호스트가 입력한 숙박 업소의 정보를  \n",
    "어느 데이터와 유사한지 판별하여 (cos sim), Top N을 추려낸다음, 이 Top N 중에서  \n",
    "평점이 높은 숙박 업소의 정보만을 추려내어 적절한 가격과 amenities를 추천할 것이다."
   ]
  },
  {
   "cell_type": "markdown",
   "metadata": {
    "papermill": {
     "duration": 0.030809,
     "end_time": "2022-12-02T10:07:56.973647",
     "exception": false,
     "start_time": "2022-12-02T10:07:56.942838",
     "status": "completed"
    },
    "tags": []
   },
   "source": [
    "### 모델 평가방법"
   ]
  },
  {
   "cell_type": "markdown",
   "metadata": {
    "papermill": {
     "duration": 0.031026,
     "end_time": "2022-12-02T10:07:57.036091",
     "exception": false,
     "start_time": "2022-12-02T10:07:57.005065",
     "status": "completed"
    },
    "tags": []
   },
   "source": [
    "#### 미래의 Dataset을 이용한 Heurisitic 한 평가방법\n",
    "\n",
    "추천 시스템의 가장 기본적이고 효율적인 평가방법은 실제 출시되고 나서의 Heuristic한 평가이다.\n",
    "  \n",
    "현재 데이터셋은 2020년도의 데이터로, 이 추천 시스템을 사용하는 Host, Ernest는 2020년에  \n",
    "이 추천 시스템을 사용하였다고 가정하자. 그렇다면 이 추천 시스템이 유의미하다면  \n",
    "다음 해인 2021년에 유의미하게 높은 평점을 받아야 할 것이다.  \n",
    "  \n",
    "따라서 본 모델을 평가하기 위해 우리는 2020년에서 산출한 추천 정보와 2021년 데이터 셋 사이에서  \n",
    "가장 유사도가 높은 데이터를 선별한 후, 이 데이터의 평점이 유의미하게 높은지 판별하여  \n",
    "모델의 정확도를 평가할 것이다.\n",
    "  \n",
    "즉, 실제 이 추천 시스템을 토대로 가격을 설정했을시 내년에 얼마나 높은 평점을 받았는지가  \n",
    "이 모델의 정확도 측정의 관건인 것이다."
   ]
  },
  {
   "cell_type": "markdown",
   "metadata": {
    "papermill": {
     "duration": 0.031522,
     "end_time": "2022-12-02T10:07:57.098745",
     "exception": false,
     "start_time": "2022-12-02T10:07:57.067223",
     "status": "completed"
    },
    "tags": []
   },
   "source": [
    "## 0. 모델에 사용할 데이터셋 불러오기"
   ]
  },
  {
   "cell_type": "code",
   "execution_count": 1,
   "metadata": {
    "execution": {
     "iopub.execute_input": "2022-12-02T10:07:57.166269Z",
     "iopub.status.busy": "2022-12-02T10:07:57.165614Z",
     "iopub.status.idle": "2022-12-02T10:07:57.167518Z",
     "shell.execute_reply": "2022-12-02T10:07:57.168066Z",
     "shell.execute_reply.started": "2022-12-02T09:35:36.173878Z"
    },
    "papermill": {
     "duration": 0.038683,
     "end_time": "2022-12-02T10:07:57.168249",
     "exception": false,
     "start_time": "2022-12-02T10:07:57.129566",
     "status": "completed"
    },
    "tags": []
   },
   "outputs": [],
   "source": [
    "from IPython.core.interactiveshell import InteractiveShell #python의 대화형 쉘, 인터프리터\n",
    "InteractiveShell.ast_node_interactivity = \"all\"#모든 출력값을 연속적으로 출력\n",
    "import warnings\n",
    "warnings.filterwarnings(\"ignore\")"
   ]
  },
  {
   "cell_type": "code",
   "execution_count": 2,
   "metadata": {
    "execution": {
     "iopub.execute_input": "2022-12-02T10:07:57.233092Z",
     "iopub.status.busy": "2022-12-02T10:07:57.232443Z",
     "iopub.status.idle": "2022-12-02T10:07:57.237611Z",
     "shell.execute_reply": "2022-12-02T10:07:57.236969Z",
     "shell.execute_reply.started": "2022-12-02T09:35:44.439252Z"
    },
    "papermill": {
     "duration": 0.03831,
     "end_time": "2022-12-02T10:07:57.237730",
     "exception": false,
     "start_time": "2022-12-02T10:07:57.199420",
     "status": "completed"
    },
    "tags": []
   },
   "outputs": [],
   "source": [
    "import numpy as np\n",
    "import pandas as pd\n",
    "\n",
    "pd.options.display.max_rows = 200\n",
    "pd.options.display.max_columns = 50"
   ]
  },
  {
   "cell_type": "code",
   "execution_count": 3,
   "metadata": {
    "execution": {
     "iopub.execute_input": "2022-12-02T10:07:57.311320Z",
     "iopub.status.busy": "2022-12-02T10:07:57.302422Z",
     "iopub.status.idle": "2022-12-02T10:08:12.921811Z",
     "shell.execute_reply": "2022-12-02T10:08:12.922335Z",
     "shell.execute_reply.started": "2022-12-02T09:35:49.520698Z"
    },
    "papermill": {
     "duration": 15.653529,
     "end_time": "2022-12-02T10:08:12.922510",
     "exception": false,
     "start_time": "2022-12-02T10:07:57.268981",
     "status": "completed"
    },
    "tags": []
   },
   "outputs": [
    {
     "data": {
      "text/html": [
       "<div>\n",
       "<style scoped>\n",
       "    .dataframe tbody tr th:only-of-type {\n",
       "        vertical-align: middle;\n",
       "    }\n",
       "\n",
       "    .dataframe tbody tr th {\n",
       "        vertical-align: top;\n",
       "    }\n",
       "\n",
       "    .dataframe thead th {\n",
       "        text-align: right;\n",
       "    }\n",
       "</style>\n",
       "<table border=\"1\" class=\"dataframe\">\n",
       "  <thead>\n",
       "    <tr style=\"text-align: right;\">\n",
       "      <th></th>\n",
       "      <th>id</th>\n",
       "      <th>listing_url</th>\n",
       "      <th>scrape_id</th>\n",
       "      <th>last_scraped</th>\n",
       "      <th>name</th>\n",
       "      <th>summary</th>\n",
       "      <th>space</th>\n",
       "      <th>description</th>\n",
       "      <th>experiences_offered</th>\n",
       "      <th>neighborhood_overview</th>\n",
       "      <th>notes</th>\n",
       "      <th>transit</th>\n",
       "      <th>access</th>\n",
       "      <th>interaction</th>\n",
       "      <th>house_rules</th>\n",
       "      <th>thumbnail_url</th>\n",
       "      <th>medium_url</th>\n",
       "      <th>picture_url</th>\n",
       "      <th>xl_picture_url</th>\n",
       "      <th>host_id</th>\n",
       "      <th>host_url</th>\n",
       "      <th>host_name</th>\n",
       "      <th>host_since</th>\n",
       "      <th>host_location</th>\n",
       "      <th>host_about</th>\n",
       "      <th>...</th>\n",
       "      <th>calendar_last_scraped</th>\n",
       "      <th>number_of_reviews</th>\n",
       "      <th>number_of_reviews_ltm</th>\n",
       "      <th>first_review</th>\n",
       "      <th>last_review</th>\n",
       "      <th>review_scores_rating</th>\n",
       "      <th>review_scores_accuracy</th>\n",
       "      <th>review_scores_cleanliness</th>\n",
       "      <th>review_scores_checkin</th>\n",
       "      <th>review_scores_communication</th>\n",
       "      <th>review_scores_location</th>\n",
       "      <th>review_scores_value</th>\n",
       "      <th>requires_license</th>\n",
       "      <th>license</th>\n",
       "      <th>jurisdiction_names</th>\n",
       "      <th>instant_bookable</th>\n",
       "      <th>is_business_travel_ready</th>\n",
       "      <th>cancellation_policy</th>\n",
       "      <th>require_guest_profile_picture</th>\n",
       "      <th>require_guest_phone_verification</th>\n",
       "      <th>calculated_host_listings_count</th>\n",
       "      <th>calculated_host_listings_count_entire_homes</th>\n",
       "      <th>calculated_host_listings_count_private_rooms</th>\n",
       "      <th>calculated_host_listings_count_shared_rooms</th>\n",
       "      <th>reviews_per_month</th>\n",
       "    </tr>\n",
       "  </thead>\n",
       "  <tbody>\n",
       "    <tr>\n",
       "      <th>0</th>\n",
       "      <td>2595</td>\n",
       "      <td>https://www.airbnb.com/rooms/2595</td>\n",
       "      <td>20200212052319</td>\n",
       "      <td>2020-02-12</td>\n",
       "      <td>Skylit Midtown Castle</td>\n",
       "      <td>Beautiful, spacious skylit studio in the heart...</td>\n",
       "      <td>- Spacious (500+ft²), immaculate and nicely fu...</td>\n",
       "      <td>Beautiful, spacious skylit studio in the heart...</td>\n",
       "      <td>none</td>\n",
       "      <td>Centrally located in the heart of Manhattan ju...</td>\n",
       "      <td>NaN</td>\n",
       "      <td>Apartment is located on 37th Street between 5t...</td>\n",
       "      <td>Guests have full access to the kitchen, bathro...</td>\n",
       "      <td>I am a Sound Therapy Practitioner and Kundalin...</td>\n",
       "      <td>Make yourself at home, respect the space and t...</td>\n",
       "      <td>NaN</td>\n",
       "      <td>NaN</td>\n",
       "      <td>https://a0.muscache.com/im/pictures/f0813a11-4...</td>\n",
       "      <td>NaN</td>\n",
       "      <td>2845</td>\n",
       "      <td>https://www.airbnb.com/users/show/2845</td>\n",
       "      <td>Jennifer</td>\n",
       "      <td>2008-09-09</td>\n",
       "      <td>New York, New York, United States</td>\n",
       "      <td>A New Yorker since 2000! My passion is creatin...</td>\n",
       "      <td>...</td>\n",
       "      <td>2020-02-12</td>\n",
       "      <td>48</td>\n",
       "      <td>5</td>\n",
       "      <td>2009-11-21</td>\n",
       "      <td>2019-11-04</td>\n",
       "      <td>94.0</td>\n",
       "      <td>9.0</td>\n",
       "      <td>9.0</td>\n",
       "      <td>10.0</td>\n",
       "      <td>10.0</td>\n",
       "      <td>10.0</td>\n",
       "      <td>9.0</td>\n",
       "      <td>f</td>\n",
       "      <td>NaN</td>\n",
       "      <td>NaN</td>\n",
       "      <td>f</td>\n",
       "      <td>f</td>\n",
       "      <td>strict_14_with_grace_period</td>\n",
       "      <td>t</td>\n",
       "      <td>t</td>\n",
       "      <td>2</td>\n",
       "      <td>2</td>\n",
       "      <td>0</td>\n",
       "      <td>0</td>\n",
       "      <td>0.39</td>\n",
       "    </tr>\n",
       "    <tr>\n",
       "      <th>1</th>\n",
       "      <td>3831</td>\n",
       "      <td>https://www.airbnb.com/rooms/3831</td>\n",
       "      <td>20200212052319</td>\n",
       "      <td>2020-02-13</td>\n",
       "      <td>Cozy Entire Floor of Brownstone</td>\n",
       "      <td>Urban retreat: enjoy 500 s.f. floor in 1899 br...</td>\n",
       "      <td>Greetings!      We own a double-duplex brownst...</td>\n",
       "      <td>Urban retreat: enjoy 500 s.f. floor in 1899 br...</td>\n",
       "      <td>none</td>\n",
       "      <td>Just the right mix of urban center and local n...</td>\n",
       "      <td>NaN</td>\n",
       "      <td>B52 bus for a 10-minute ride to downtown Brook...</td>\n",
       "      <td>You will have the private, exclusive use of an...</td>\n",
       "      <td>We'll be around, but since you have the top fl...</td>\n",
       "      <td>Smoking - outside please; pets allowed but ple...</td>\n",
       "      <td>NaN</td>\n",
       "      <td>NaN</td>\n",
       "      <td>https://a0.muscache.com/im/pictures/e49999c2-9...</td>\n",
       "      <td>NaN</td>\n",
       "      <td>4869</td>\n",
       "      <td>https://www.airbnb.com/users/show/4869</td>\n",
       "      <td>LisaRoxanne</td>\n",
       "      <td>2008-12-07</td>\n",
       "      <td>New York, New York, United States</td>\n",
       "      <td>Laid-back bi-coastal actor/professor/attorney.</td>\n",
       "      <td>...</td>\n",
       "      <td>2020-02-13</td>\n",
       "      <td>307</td>\n",
       "      <td>70</td>\n",
       "      <td>2014-09-30</td>\n",
       "      <td>2020-02-08</td>\n",
       "      <td>90.0</td>\n",
       "      <td>9.0</td>\n",
       "      <td>9.0</td>\n",
       "      <td>10.0</td>\n",
       "      <td>9.0</td>\n",
       "      <td>10.0</td>\n",
       "      <td>9.0</td>\n",
       "      <td>f</td>\n",
       "      <td>NaN</td>\n",
       "      <td>NaN</td>\n",
       "      <td>f</td>\n",
       "      <td>f</td>\n",
       "      <td>moderate</td>\n",
       "      <td>f</td>\n",
       "      <td>f</td>\n",
       "      <td>1</td>\n",
       "      <td>1</td>\n",
       "      <td>0</td>\n",
       "      <td>0</td>\n",
       "      <td>4.69</td>\n",
       "    </tr>\n",
       "    <tr>\n",
       "      <th>2</th>\n",
       "      <td>5099</td>\n",
       "      <td>https://www.airbnb.com/rooms/5099</td>\n",
       "      <td>20200212052319</td>\n",
       "      <td>2020-02-12</td>\n",
       "      <td>Large Cozy 1 BR Apartment In Midtown East</td>\n",
       "      <td>My large 1 bedroom apartment has a true New Yo...</td>\n",
       "      <td>I have a large 1 bedroom apartment centrally l...</td>\n",
       "      <td>My large 1 bedroom apartment has a true New Yo...</td>\n",
       "      <td>none</td>\n",
       "      <td>My neighborhood in Midtown East is called Murr...</td>\n",
       "      <td>Read My Full Listing For All Information. New ...</td>\n",
       "      <td>From the apartment is a 10 minute walk to Gran...</td>\n",
       "      <td>I will meet you upon arrival.</td>\n",
       "      <td>I usually check in with guests via text or ema...</td>\n",
       "      <td>• Check-in time is 2PM. • Check-out time is 12...</td>\n",
       "      <td>NaN</td>\n",
       "      <td>NaN</td>\n",
       "      <td>https://a0.muscache.com/im/pictures/24020910/1...</td>\n",
       "      <td>NaN</td>\n",
       "      <td>7322</td>\n",
       "      <td>https://www.airbnb.com/users/show/7322</td>\n",
       "      <td>Chris</td>\n",
       "      <td>2009-02-02</td>\n",
       "      <td>New York, New York, United States</td>\n",
       "      <td>I'm an artist, writer, traveler, and a native ...</td>\n",
       "      <td>...</td>\n",
       "      <td>2020-02-12</td>\n",
       "      <td>78</td>\n",
       "      <td>8</td>\n",
       "      <td>2009-04-20</td>\n",
       "      <td>2019-10-13</td>\n",
       "      <td>90.0</td>\n",
       "      <td>10.0</td>\n",
       "      <td>9.0</td>\n",
       "      <td>10.0</td>\n",
       "      <td>10.0</td>\n",
       "      <td>10.0</td>\n",
       "      <td>9.0</td>\n",
       "      <td>f</td>\n",
       "      <td>NaN</td>\n",
       "      <td>NaN</td>\n",
       "      <td>f</td>\n",
       "      <td>f</td>\n",
       "      <td>moderate</td>\n",
       "      <td>t</td>\n",
       "      <td>t</td>\n",
       "      <td>1</td>\n",
       "      <td>1</td>\n",
       "      <td>0</td>\n",
       "      <td>0</td>\n",
       "      <td>0.59</td>\n",
       "    </tr>\n",
       "  </tbody>\n",
       "</table>\n",
       "<p>3 rows × 106 columns</p>\n",
       "</div>"
      ],
      "text/plain": [
       "     id                        listing_url       scrape_id last_scraped  \\\n",
       "0  2595  https://www.airbnb.com/rooms/2595  20200212052319   2020-02-12   \n",
       "1  3831  https://www.airbnb.com/rooms/3831  20200212052319   2020-02-13   \n",
       "2  5099  https://www.airbnb.com/rooms/5099  20200212052319   2020-02-12   \n",
       "\n",
       "                                        name  \\\n",
       "0                      Skylit Midtown Castle   \n",
       "1            Cozy Entire Floor of Brownstone   \n",
       "2  Large Cozy 1 BR Apartment In Midtown East   \n",
       "\n",
       "                                             summary  \\\n",
       "0  Beautiful, spacious skylit studio in the heart...   \n",
       "1  Urban retreat: enjoy 500 s.f. floor in 1899 br...   \n",
       "2  My large 1 bedroom apartment has a true New Yo...   \n",
       "\n",
       "                                               space  \\\n",
       "0  - Spacious (500+ft²), immaculate and nicely fu...   \n",
       "1  Greetings!      We own a double-duplex brownst...   \n",
       "2  I have a large 1 bedroom apartment centrally l...   \n",
       "\n",
       "                                         description experiences_offered  \\\n",
       "0  Beautiful, spacious skylit studio in the heart...                none   \n",
       "1  Urban retreat: enjoy 500 s.f. floor in 1899 br...                none   \n",
       "2  My large 1 bedroom apartment has a true New Yo...                none   \n",
       "\n",
       "                               neighborhood_overview  \\\n",
       "0  Centrally located in the heart of Manhattan ju...   \n",
       "1  Just the right mix of urban center and local n...   \n",
       "2  My neighborhood in Midtown East is called Murr...   \n",
       "\n",
       "                                               notes  \\\n",
       "0                                                NaN   \n",
       "1                                                NaN   \n",
       "2  Read My Full Listing For All Information. New ...   \n",
       "\n",
       "                                             transit  \\\n",
       "0  Apartment is located on 37th Street between 5t...   \n",
       "1  B52 bus for a 10-minute ride to downtown Brook...   \n",
       "2  From the apartment is a 10 minute walk to Gran...   \n",
       "\n",
       "                                              access  \\\n",
       "0  Guests have full access to the kitchen, bathro...   \n",
       "1  You will have the private, exclusive use of an...   \n",
       "2                      I will meet you upon arrival.   \n",
       "\n",
       "                                         interaction  \\\n",
       "0  I am a Sound Therapy Practitioner and Kundalin...   \n",
       "1  We'll be around, but since you have the top fl...   \n",
       "2  I usually check in with guests via text or ema...   \n",
       "\n",
       "                                         house_rules  thumbnail_url  \\\n",
       "0  Make yourself at home, respect the space and t...            NaN   \n",
       "1  Smoking - outside please; pets allowed but ple...            NaN   \n",
       "2  • Check-in time is 2PM. • Check-out time is 12...            NaN   \n",
       "\n",
       "   medium_url                                        picture_url  \\\n",
       "0         NaN  https://a0.muscache.com/im/pictures/f0813a11-4...   \n",
       "1         NaN  https://a0.muscache.com/im/pictures/e49999c2-9...   \n",
       "2         NaN  https://a0.muscache.com/im/pictures/24020910/1...   \n",
       "\n",
       "   xl_picture_url  host_id                                host_url  \\\n",
       "0             NaN     2845  https://www.airbnb.com/users/show/2845   \n",
       "1             NaN     4869  https://www.airbnb.com/users/show/4869   \n",
       "2             NaN     7322  https://www.airbnb.com/users/show/7322   \n",
       "\n",
       "     host_name  host_since                      host_location  \\\n",
       "0     Jennifer  2008-09-09  New York, New York, United States   \n",
       "1  LisaRoxanne  2008-12-07  New York, New York, United States   \n",
       "2        Chris  2009-02-02  New York, New York, United States   \n",
       "\n",
       "                                          host_about  ...  \\\n",
       "0  A New Yorker since 2000! My passion is creatin...  ...   \n",
       "1     Laid-back bi-coastal actor/professor/attorney.  ...   \n",
       "2  I'm an artist, writer, traveler, and a native ...  ...   \n",
       "\n",
       "  calendar_last_scraped number_of_reviews number_of_reviews_ltm first_review  \\\n",
       "0            2020-02-12                48                     5   2009-11-21   \n",
       "1            2020-02-13               307                    70   2014-09-30   \n",
       "2            2020-02-12                78                     8   2009-04-20   \n",
       "\n",
       "  last_review review_scores_rating review_scores_accuracy  \\\n",
       "0  2019-11-04                 94.0                    9.0   \n",
       "1  2020-02-08                 90.0                    9.0   \n",
       "2  2019-10-13                 90.0                   10.0   \n",
       "\n",
       "   review_scores_cleanliness  review_scores_checkin  \\\n",
       "0                        9.0                   10.0   \n",
       "1                        9.0                   10.0   \n",
       "2                        9.0                   10.0   \n",
       "\n",
       "  review_scores_communication review_scores_location review_scores_value  \\\n",
       "0                        10.0                   10.0                 9.0   \n",
       "1                         9.0                   10.0                 9.0   \n",
       "2                        10.0                   10.0                 9.0   \n",
       "\n",
       "  requires_license license jurisdiction_names instant_bookable  \\\n",
       "0                f     NaN                NaN                f   \n",
       "1                f     NaN                NaN                f   \n",
       "2                f     NaN                NaN                f   \n",
       "\n",
       "  is_business_travel_ready          cancellation_policy  \\\n",
       "0                        f  strict_14_with_grace_period   \n",
       "1                        f                     moderate   \n",
       "2                        f                     moderate   \n",
       "\n",
       "  require_guest_profile_picture require_guest_phone_verification  \\\n",
       "0                             t                                t   \n",
       "1                             f                                f   \n",
       "2                             t                                t   \n",
       "\n",
       "  calculated_host_listings_count calculated_host_listings_count_entire_homes  \\\n",
       "0                              2                                           2   \n",
       "1                              1                                           1   \n",
       "2                              1                                           1   \n",
       "\n",
       "  calculated_host_listings_count_private_rooms  \\\n",
       "0                                            0   \n",
       "1                                            0   \n",
       "2                                            0   \n",
       "\n",
       "   calculated_host_listings_count_shared_rooms  reviews_per_month  \n",
       "0                                            0               0.39  \n",
       "1                                            0               4.69  \n",
       "2                                            0               0.59  \n",
       "\n",
       "[3 rows x 106 columns]"
      ]
     },
     "execution_count": 3,
     "metadata": {},
     "output_type": "execute_result"
    },
    {
     "name": "stdout",
     "output_type": "stream",
     "text": [
      "abm.shape (153254, 106)\n",
      "abm.size 16244924\n"
     ]
    }
   ],
   "source": [
    "abm =  pd.read_csv('../input/airbnb-new-york-city-with-106-features/airbnbmark1.csv')\n",
    "abm.head(3)\n",
    "print('abm.shape',abm.shape)\n",
    "print('abm.size',abm.size)"
   ]
  },
  {
   "cell_type": "markdown",
   "metadata": {
    "papermill": {
     "duration": 0.033023,
     "end_time": "2022-12-02T10:08:12.989088",
     "exception": false,
     "start_time": "2022-12-02T10:08:12.956065",
     "status": "completed"
    },
    "tags": []
   },
   "source": [
    "## 1. Data Cleaning"
   ]
  },
  {
   "cell_type": "markdown",
   "metadata": {
    "papermill": {
     "duration": 0.032565,
     "end_time": "2022-12-02T10:08:13.054381",
     "exception": false,
     "start_time": "2022-12-02T10:08:13.021816",
     "status": "completed"
    },
    "tags": []
   },
   "source": [
    "Host가 입력할 수 있는 정보들과 (숙소의 위치, 방 타입, 수용 인원, 침대 개수 등)  \n",
    "평가 지표로 사용이 가능한 정보들 (평점, 평점 개수)  \n",
    "그리고 최종적으로 추천되는 정보들 (price, amenities)"
   ]
  },
  {
   "cell_type": "code",
   "execution_count": 4,
   "metadata": {
    "execution": {
     "iopub.execute_input": "2022-12-02T10:08:13.144998Z",
     "iopub.status.busy": "2022-12-02T10:08:13.144155Z",
     "iopub.status.idle": "2022-12-02T10:08:13.147925Z",
     "shell.execute_reply": "2022-12-02T10:08:13.147334Z",
     "shell.execute_reply.started": "2022-12-02T09:42:01.951752Z"
    },
    "papermill": {
     "duration": 0.060074,
     "end_time": "2022-12-02T10:08:13.148051",
     "exception": false,
     "start_time": "2022-12-02T10:08:13.087977",
     "status": "completed"
    },
    "tags": []
   },
   "outputs": [],
   "source": [
    "abm1 = abm[['neighbourhood_group_cleansed', 'property_type', 'room_type'\n",
    "           ,'accommodates', 'bathrooms', 'bedrooms', 'beds'\n",
    "           , 'price','review_scores_rating', 'number_of_reviews', 'amenities']]"
   ]
  },
  {
   "cell_type": "code",
   "execution_count": 5,
   "metadata": {
    "execution": {
     "iopub.execute_input": "2022-12-02T10:08:13.217317Z",
     "iopub.status.busy": "2022-12-02T10:08:13.216708Z",
     "iopub.status.idle": "2022-12-02T10:08:13.233200Z",
     "shell.execute_reply": "2022-12-02T10:08:13.232705Z",
     "shell.execute_reply.started": "2022-12-02T09:42:05.294965Z"
    },
    "papermill": {
     "duration": 0.053244,
     "end_time": "2022-12-02T10:08:13.233330",
     "exception": false,
     "start_time": "2022-12-02T10:08:13.180086",
     "status": "completed"
    },
    "tags": []
   },
   "outputs": [
    {
     "data": {
      "text/plain": [
       "(153254, 11)"
      ]
     },
     "execution_count": 5,
     "metadata": {},
     "output_type": "execute_result"
    },
    {
     "data": {
      "text/html": [
       "<div>\n",
       "<style scoped>\n",
       "    .dataframe tbody tr th:only-of-type {\n",
       "        vertical-align: middle;\n",
       "    }\n",
       "\n",
       "    .dataframe tbody tr th {\n",
       "        vertical-align: top;\n",
       "    }\n",
       "\n",
       "    .dataframe thead th {\n",
       "        text-align: right;\n",
       "    }\n",
       "</style>\n",
       "<table border=\"1\" class=\"dataframe\">\n",
       "  <thead>\n",
       "    <tr style=\"text-align: right;\">\n",
       "      <th></th>\n",
       "      <th>neighbourhood_group_cleansed</th>\n",
       "      <th>property_type</th>\n",
       "      <th>room_type</th>\n",
       "      <th>accommodates</th>\n",
       "      <th>bathrooms</th>\n",
       "      <th>bedrooms</th>\n",
       "      <th>beds</th>\n",
       "      <th>price</th>\n",
       "      <th>review_scores_rating</th>\n",
       "      <th>number_of_reviews</th>\n",
       "      <th>amenities</th>\n",
       "    </tr>\n",
       "  </thead>\n",
       "  <tbody>\n",
       "    <tr>\n",
       "      <th>0</th>\n",
       "      <td>Manhattan</td>\n",
       "      <td>Apartment</td>\n",
       "      <td>Entire home/apt</td>\n",
       "      <td>1</td>\n",
       "      <td>1.0</td>\n",
       "      <td>0.0</td>\n",
       "      <td>1.0</td>\n",
       "      <td>$225.00</td>\n",
       "      <td>94.0</td>\n",
       "      <td>48</td>\n",
       "      <td>{TV,Wifi,\"Air conditioning\",Kitchen,\"Paid park...</td>\n",
       "    </tr>\n",
       "    <tr>\n",
       "      <th>1</th>\n",
       "      <td>Brooklyn</td>\n",
       "      <td>Guest suite</td>\n",
       "      <td>Entire home/apt</td>\n",
       "      <td>3</td>\n",
       "      <td>1.0</td>\n",
       "      <td>1.0</td>\n",
       "      <td>4.0</td>\n",
       "      <td>$89.00</td>\n",
       "      <td>90.0</td>\n",
       "      <td>307</td>\n",
       "      <td>{TV,\"Cable TV\",Internet,Wifi,\"Air conditioning...</td>\n",
       "    </tr>\n",
       "    <tr>\n",
       "      <th>2</th>\n",
       "      <td>Manhattan</td>\n",
       "      <td>Apartment</td>\n",
       "      <td>Entire home/apt</td>\n",
       "      <td>2</td>\n",
       "      <td>1.0</td>\n",
       "      <td>1.0</td>\n",
       "      <td>1.0</td>\n",
       "      <td>$200.00</td>\n",
       "      <td>90.0</td>\n",
       "      <td>78</td>\n",
       "      <td>{TV,\"Cable TV\",Internet,Wifi,\"Air conditioning...</td>\n",
       "    </tr>\n",
       "  </tbody>\n",
       "</table>\n",
       "</div>"
      ],
      "text/plain": [
       "  neighbourhood_group_cleansed property_type        room_type  accommodates  \\\n",
       "0                    Manhattan     Apartment  Entire home/apt             1   \n",
       "1                     Brooklyn   Guest suite  Entire home/apt             3   \n",
       "2                    Manhattan     Apartment  Entire home/apt             2   \n",
       "\n",
       "   bathrooms  bedrooms  beds    price  review_scores_rating  \\\n",
       "0        1.0       0.0   1.0  $225.00                  94.0   \n",
       "1        1.0       1.0   4.0   $89.00                  90.0   \n",
       "2        1.0       1.0   1.0  $200.00                  90.0   \n",
       "\n",
       "   number_of_reviews                                          amenities  \n",
       "0                 48  {TV,Wifi,\"Air conditioning\",Kitchen,\"Paid park...  \n",
       "1                307  {TV,\"Cable TV\",Internet,Wifi,\"Air conditioning...  \n",
       "2                 78  {TV,\"Cable TV\",Internet,Wifi,\"Air conditioning...  "
      ]
     },
     "execution_count": 5,
     "metadata": {},
     "output_type": "execute_result"
    }
   ],
   "source": [
    "abm1.shape\n",
    "abm1.head(3)"
   ]
  },
  {
   "cell_type": "code",
   "execution_count": 6,
   "metadata": {
    "execution": {
     "iopub.execute_input": "2022-12-02T10:08:13.315907Z",
     "iopub.status.busy": "2022-12-02T10:08:13.315233Z",
     "iopub.status.idle": "2022-12-02T10:08:13.553815Z",
     "shell.execute_reply": "2022-12-02T10:08:13.553136Z",
     "shell.execute_reply.started": "2022-12-02T09:42:09.091976Z"
    },
    "papermill": {
     "duration": 0.286718,
     "end_time": "2022-12-02T10:08:13.553952",
     "exception": false,
     "start_time": "2022-12-02T10:08:13.267234",
     "status": "completed"
    },
    "tags": []
   },
   "outputs": [
    {
     "name": "stdout",
     "output_type": "stream",
     "text": [
      "abm1.shape after dropping duplicate rows:  (93309, 11)\n",
      "abm1.size:   1026399\n",
      "DataTypes wise size: \n",
      " object     5\n",
      "float64    4\n",
      "int64      2\n",
      "dtype: int64\n"
     ]
    }
   ],
   "source": [
    "abm1 = abm1.drop_duplicates() #중복된 데이터 행 삭제\n",
    "print('abm1.shape after dropping duplicate rows: ',abm1.shape)\n",
    "print('abm1.size:  ',abm1.size)\n",
    "print('DataTypes wise size: \\n', abm1.dtypes.value_counts())"
   ]
  },
  {
   "cell_type": "markdown",
   "metadata": {
    "papermill": {
     "duration": 0.032576,
     "end_time": "2022-12-02T10:08:13.619783",
     "exception": false,
     "start_time": "2022-12-02T10:08:13.587207",
     "status": "completed"
    },
    "tags": []
   },
   "source": [
    "### 결측값 검사, Data Cleaning"
   ]
  },
  {
   "cell_type": "code",
   "execution_count": 7,
   "metadata": {
    "execution": {
     "iopub.execute_input": "2022-12-02T10:08:13.704400Z",
     "iopub.status.busy": "2022-12-02T10:08:13.703313Z",
     "iopub.status.idle": "2022-12-02T10:08:13.742942Z",
     "shell.execute_reply": "2022-12-02T10:08:13.742374Z",
     "shell.execute_reply.started": "2022-12-02T09:42:12.253774Z"
    },
    "papermill": {
     "duration": 0.089899,
     "end_time": "2022-12-02T10:08:13.743070",
     "exception": false,
     "start_time": "2022-12-02T10:08:13.653171",
     "status": "completed"
    },
    "tags": []
   },
   "outputs": [
    {
     "data": {
      "text/plain": [
       "neighbourhood_group_cleansed        0\n",
       "property_type                       0\n",
       "room_type                           0\n",
       "accommodates                        0\n",
       "bathrooms                          67\n",
       "bedrooms                          143\n",
       "beds                              735\n",
       "price                               0\n",
       "review_scores_rating            16377\n",
       "number_of_reviews                   0\n",
       "amenities                           0\n",
       "dtype: int64"
      ]
     },
     "execution_count": 7,
     "metadata": {},
     "output_type": "execute_result"
    }
   ],
   "source": [
    "abm1.replace((' '),np.nan,inplace=True) #inplace가 T면 새로운 return 값이 아닌 원본을 아예 수정\n",
    "abm1.isnull().sum()"
   ]
  },
  {
   "cell_type": "code",
   "execution_count": 8,
   "metadata": {
    "execution": {
     "iopub.execute_input": "2022-12-02T10:08:13.838321Z",
     "iopub.status.busy": "2022-12-02T10:08:13.823753Z",
     "iopub.status.idle": "2022-12-02T10:08:13.896937Z",
     "shell.execute_reply": "2022-12-02T10:08:13.897560Z",
     "shell.execute_reply.started": "2022-12-02T09:42:15.644174Z"
    },
    "papermill": {
     "duration": 0.121284,
     "end_time": "2022-12-02T10:08:13.897713",
     "exception": false,
     "start_time": "2022-12-02T10:08:13.776429",
     "status": "completed"
    },
    "tags": []
   },
   "outputs": [
    {
     "data": {
      "text/plain": [
       "neighbourhood_group_cleansed    0\n",
       "property_type                   0\n",
       "room_type                       0\n",
       "accommodates                    0\n",
       "bathrooms                       0\n",
       "bedrooms                        0\n",
       "beds                            0\n",
       "price                           0\n",
       "review_scores_rating            0\n",
       "number_of_reviews               0\n",
       "amenities                       0\n",
       "dtype: int64"
      ]
     },
     "execution_count": 8,
     "metadata": {},
     "output_type": "execute_result"
    }
   ],
   "source": [
    "abm1 = abm1.dropna(subset=['bathrooms', 'bedrooms', 'beds', 'review_scores_rating'], how='any', axis=0)\n",
    "abm1.isnull().sum()"
   ]
  },
  {
   "cell_type": "code",
   "execution_count": 9,
   "metadata": {
    "execution": {
     "iopub.execute_input": "2022-12-02T10:08:13.968338Z",
     "iopub.status.busy": "2022-12-02T10:08:13.967720Z",
     "iopub.status.idle": "2022-12-02T10:08:13.973890Z",
     "shell.execute_reply": "2022-12-02T10:08:13.973265Z",
     "shell.execute_reply.started": "2022-12-02T09:42:18.536558Z"
    },
    "papermill": {
     "duration": 0.04263,
     "end_time": "2022-12-02T10:08:13.974018",
     "exception": false,
     "start_time": "2022-12-02T10:08:13.931388",
     "status": "completed"
    },
    "tags": []
   },
   "outputs": [
    {
     "name": "stdout",
     "output_type": "stream",
     "text": [
      "abm1.shape after dropping nan rows:  (76604, 11)\n"
     ]
    }
   ],
   "source": [
    "print('abm1.shape after dropping nan rows: ',abm1.shape)"
   ]
  },
  {
   "cell_type": "code",
   "execution_count": 10,
   "metadata": {
    "execution": {
     "iopub.execute_input": "2022-12-02T10:08:14.047968Z",
     "iopub.status.busy": "2022-12-02T10:08:14.047010Z",
     "iopub.status.idle": "2022-12-02T10:08:14.167724Z",
     "shell.execute_reply": "2022-12-02T10:08:14.167106Z",
     "shell.execute_reply.started": "2022-12-02T09:46:01.349799Z"
    },
    "papermill": {
     "duration": 0.158999,
     "end_time": "2022-12-02T10:08:14.167852",
     "exception": false,
     "start_time": "2022-12-02T10:08:14.008853",
     "status": "completed"
    },
    "tags": []
   },
   "outputs": [
    {
     "data": {
      "text/html": [
       "<div>\n",
       "<style scoped>\n",
       "    .dataframe tbody tr th:only-of-type {\n",
       "        vertical-align: middle;\n",
       "    }\n",
       "\n",
       "    .dataframe tbody tr th {\n",
       "        vertical-align: top;\n",
       "    }\n",
       "\n",
       "    .dataframe thead th {\n",
       "        text-align: right;\n",
       "    }\n",
       "</style>\n",
       "<table border=\"1\" class=\"dataframe\">\n",
       "  <thead>\n",
       "    <tr style=\"text-align: right;\">\n",
       "      <th></th>\n",
       "      <th>neighbourhood_group_cleansed</th>\n",
       "      <th>property_type</th>\n",
       "      <th>room_type</th>\n",
       "      <th>accommodates</th>\n",
       "      <th>bathrooms</th>\n",
       "      <th>bedrooms</th>\n",
       "      <th>beds</th>\n",
       "      <th>price</th>\n",
       "      <th>review_scores_rating</th>\n",
       "      <th>number_of_reviews</th>\n",
       "      <th>amenities</th>\n",
       "    </tr>\n",
       "  </thead>\n",
       "  <tbody>\n",
       "    <tr>\n",
       "      <th>0</th>\n",
       "      <td>Manhattan</td>\n",
       "      <td>Apartment</td>\n",
       "      <td>Entire home/apt</td>\n",
       "      <td>1</td>\n",
       "      <td>1.0</td>\n",
       "      <td>0.0</td>\n",
       "      <td>1.0</td>\n",
       "      <td>225.0</td>\n",
       "      <td>94.0</td>\n",
       "      <td>48</td>\n",
       "      <td>{TV,Wifi,\"Air conditioning\",Kitchen,\"Paid park...</td>\n",
       "    </tr>\n",
       "    <tr>\n",
       "      <th>1</th>\n",
       "      <td>Brooklyn</td>\n",
       "      <td>Guest suite</td>\n",
       "      <td>Entire home/apt</td>\n",
       "      <td>3</td>\n",
       "      <td>1.0</td>\n",
       "      <td>1.0</td>\n",
       "      <td>4.0</td>\n",
       "      <td>89.0</td>\n",
       "      <td>90.0</td>\n",
       "      <td>307</td>\n",
       "      <td>{TV,\"Cable TV\",Internet,Wifi,\"Air conditioning...</td>\n",
       "    </tr>\n",
       "  </tbody>\n",
       "</table>\n",
       "</div>"
      ],
      "text/plain": [
       "  neighbourhood_group_cleansed property_type        room_type  accommodates  \\\n",
       "0                    Manhattan     Apartment  Entire home/apt             1   \n",
       "1                     Brooklyn   Guest suite  Entire home/apt             3   \n",
       "\n",
       "   bathrooms  bedrooms  beds  price  review_scores_rating  number_of_reviews  \\\n",
       "0        1.0       0.0   1.0  225.0                  94.0                 48   \n",
       "1        1.0       1.0   4.0   89.0                  90.0                307   \n",
       "\n",
       "                                           amenities  \n",
       "0  {TV,Wifi,\"Air conditioning\",Kitchen,\"Paid park...  \n",
       "1  {TV,\"Cable TV\",Internet,Wifi,\"Air conditioning...  "
      ]
     },
     "execution_count": 10,
     "metadata": {},
     "output_type": "execute_result"
    }
   ],
   "source": [
    "def clean_data(df): #$표시 떼어내기. ,구분표 없애기\n",
    "    for i in ['price',]:\n",
    "        df[i]=df[i].str.replace('$','').str.replace(',', '').astype(float)\n",
    "    \n",
    "    df.replace('', np.nan, inplace=True)\n",
    "    \n",
    "    return df.head(2)\n",
    "clean_data(abm1)"
   ]
  },
  {
   "cell_type": "markdown",
   "metadata": {
    "papermill": {
     "duration": 0.034274,
     "end_time": "2022-12-02T10:08:14.236957",
     "exception": false,
     "start_time": "2022-12-02T10:08:14.202683",
     "status": "completed"
    },
    "tags": []
   },
   "source": [
    "### 정확도를 위해 리뷰 개수 10개 미만인 호스트는 삭제\n",
    "리뷰 개수가 소수이면서 비정상적으로 평점이 높은 허수 데이터들을 절삭한다.  "
   ]
  },
  {
   "cell_type": "code",
   "execution_count": 11,
   "metadata": {
    "execution": {
     "iopub.execute_input": "2022-12-02T10:08:14.311347Z",
     "iopub.status.busy": "2022-12-02T10:08:14.310400Z",
     "iopub.status.idle": "2022-12-02T10:08:14.344424Z",
     "shell.execute_reply": "2022-12-02T10:08:14.343922Z",
     "shell.execute_reply.started": "2022-12-02T09:46:09.907445Z"
    },
    "papermill": {
     "duration": 0.073144,
     "end_time": "2022-12-02T10:08:14.344569",
     "exception": false,
     "start_time": "2022-12-02T10:08:14.271425",
     "status": "completed"
    },
    "tags": []
   },
   "outputs": [
    {
     "data": {
      "text/plain": [
       "(46537, 11)"
      ]
     },
     "execution_count": 11,
     "metadata": {},
     "output_type": "execute_result"
    }
   ],
   "source": [
    "indexNames = abm1[abm1['number_of_reviews'] < 10].index\n",
    "abm1.drop(indexNames , inplace=True)\n",
    "abm1.shape"
   ]
  },
  {
   "cell_type": "markdown",
   "metadata": {
    "papermill": {
     "duration": 0.034643,
     "end_time": "2022-12-02T10:08:14.414130",
     "exception": false,
     "start_time": "2022-12-02T10:08:14.379487",
     "status": "completed"
    },
    "tags": []
   },
   "source": [
    "### Neighbourhood를 onehot encoding 하기"
   ]
  },
  {
   "cell_type": "code",
   "execution_count": 12,
   "metadata": {
    "execution": {
     "iopub.execute_input": "2022-12-02T10:08:14.489127Z",
     "iopub.status.busy": "2022-12-02T10:08:14.488146Z",
     "iopub.status.idle": "2022-12-02T10:08:14.501209Z",
     "shell.execute_reply": "2022-12-02T10:08:14.501721Z",
     "shell.execute_reply.started": "2022-12-02T09:46:12.965563Z"
    },
    "papermill": {
     "duration": 0.052066,
     "end_time": "2022-12-02T10:08:14.501882",
     "exception": false,
     "start_time": "2022-12-02T10:08:14.449816",
     "status": "completed"
    },
    "tags": []
   },
   "outputs": [
    {
     "data": {
      "text/plain": [
       "Brooklyn         19226\n",
       "Manhattan        18332\n",
       "Queens            6976\n",
       "Bronx             1479\n",
       "Staten Island      524\n",
       "Name: neighbourhood_group_cleansed, dtype: int64"
      ]
     },
     "execution_count": 12,
     "metadata": {},
     "output_type": "execute_result"
    }
   ],
   "source": [
    "abm1['neighbourhood_group_cleansed'].value_counts()"
   ]
  },
  {
   "cell_type": "code",
   "execution_count": 13,
   "metadata": {
    "execution": {
     "iopub.execute_input": "2022-12-02T10:08:14.578076Z",
     "iopub.status.busy": "2022-12-02T10:08:14.577149Z",
     "iopub.status.idle": "2022-12-02T10:08:14.777740Z",
     "shell.execute_reply": "2022-12-02T10:08:14.778258Z",
     "shell.execute_reply.started": "2022-12-02T09:46:17.326892Z"
    },
    "papermill": {
     "duration": 0.240849,
     "end_time": "2022-12-02T10:08:14.778448",
     "exception": false,
     "start_time": "2022-12-02T10:08:14.537599",
     "status": "completed"
    },
    "tags": []
   },
   "outputs": [
    {
     "data": {
      "text/plain": [
       "property_type           0\n",
       "room_type               0\n",
       "accommodates            0\n",
       "bathrooms               0\n",
       "bedrooms                0\n",
       "beds                    0\n",
       "price                   0\n",
       "review_scores_rating    0\n",
       "number_of_reviews       0\n",
       "amenities               0\n",
       "Brooklyn                0\n",
       "Manhattan               0\n",
       "Queens                  0\n",
       "Bronx                   0\n",
       "Staten Island           0\n",
       "dtype: int64"
      ]
     },
     "execution_count": 13,
     "metadata": {},
     "output_type": "execute_result"
    },
    {
     "data": {
      "text/html": [
       "<div>\n",
       "<style scoped>\n",
       "    .dataframe tbody tr th:only-of-type {\n",
       "        vertical-align: middle;\n",
       "    }\n",
       "\n",
       "    .dataframe tbody tr th {\n",
       "        vertical-align: top;\n",
       "    }\n",
       "\n",
       "    .dataframe thead th {\n",
       "        text-align: right;\n",
       "    }\n",
       "</style>\n",
       "<table border=\"1\" class=\"dataframe\">\n",
       "  <thead>\n",
       "    <tr style=\"text-align: right;\">\n",
       "      <th></th>\n",
       "      <th>property_type</th>\n",
       "      <th>room_type</th>\n",
       "      <th>accommodates</th>\n",
       "      <th>bathrooms</th>\n",
       "      <th>bedrooms</th>\n",
       "      <th>beds</th>\n",
       "      <th>price</th>\n",
       "      <th>review_scores_rating</th>\n",
       "      <th>number_of_reviews</th>\n",
       "      <th>amenities</th>\n",
       "      <th>Brooklyn</th>\n",
       "      <th>Manhattan</th>\n",
       "      <th>Queens</th>\n",
       "      <th>Bronx</th>\n",
       "      <th>Staten Island</th>\n",
       "    </tr>\n",
       "  </thead>\n",
       "  <tbody>\n",
       "    <tr>\n",
       "      <th>0</th>\n",
       "      <td>Apartment</td>\n",
       "      <td>Entire home/apt</td>\n",
       "      <td>1</td>\n",
       "      <td>1.0</td>\n",
       "      <td>0.0</td>\n",
       "      <td>1.0</td>\n",
       "      <td>225.0</td>\n",
       "      <td>94.0</td>\n",
       "      <td>48</td>\n",
       "      <td>{TV,Wifi,\"Air conditioning\",Kitchen,\"Paid park...</td>\n",
       "      <td>0.0</td>\n",
       "      <td>1.0</td>\n",
       "      <td>0.0</td>\n",
       "      <td>0.0</td>\n",
       "      <td>0.0</td>\n",
       "    </tr>\n",
       "    <tr>\n",
       "      <th>1</th>\n",
       "      <td>Guest suite</td>\n",
       "      <td>Entire home/apt</td>\n",
       "      <td>3</td>\n",
       "      <td>1.0</td>\n",
       "      <td>1.0</td>\n",
       "      <td>4.0</td>\n",
       "      <td>89.0</td>\n",
       "      <td>90.0</td>\n",
       "      <td>307</td>\n",
       "      <td>{TV,\"Cable TV\",Internet,Wifi,\"Air conditioning...</td>\n",
       "      <td>1.0</td>\n",
       "      <td>0.0</td>\n",
       "      <td>0.0</td>\n",
       "      <td>0.0</td>\n",
       "      <td>0.0</td>\n",
       "    </tr>\n",
       "    <tr>\n",
       "      <th>2</th>\n",
       "      <td>Apartment</td>\n",
       "      <td>Entire home/apt</td>\n",
       "      <td>2</td>\n",
       "      <td>1.0</td>\n",
       "      <td>1.0</td>\n",
       "      <td>1.0</td>\n",
       "      <td>200.0</td>\n",
       "      <td>90.0</td>\n",
       "      <td>78</td>\n",
       "      <td>{TV,\"Cable TV\",Internet,Wifi,\"Air conditioning...</td>\n",
       "      <td>0.0</td>\n",
       "      <td>1.0</td>\n",
       "      <td>0.0</td>\n",
       "      <td>0.0</td>\n",
       "      <td>0.0</td>\n",
       "    </tr>\n",
       "    <tr>\n",
       "      <th>4</th>\n",
       "      <td>Apartment</td>\n",
       "      <td>Private room</td>\n",
       "      <td>2</td>\n",
       "      <td>1.0</td>\n",
       "      <td>1.0</td>\n",
       "      <td>1.0</td>\n",
       "      <td>79.0</td>\n",
       "      <td>84.0</td>\n",
       "      <td>463</td>\n",
       "      <td>{TV,Wifi,\"Air conditioning\",\"Paid parking off ...</td>\n",
       "      <td>0.0</td>\n",
       "      <td>1.0</td>\n",
       "      <td>0.0</td>\n",
       "      <td>0.0</td>\n",
       "      <td>0.0</td>\n",
       "    </tr>\n",
       "    <tr>\n",
       "      <th>5</th>\n",
       "      <td>Apartment</td>\n",
       "      <td>Private room</td>\n",
       "      <td>1</td>\n",
       "      <td>1.0</td>\n",
       "      <td>1.0</td>\n",
       "      <td>1.0</td>\n",
       "      <td>79.0</td>\n",
       "      <td>98.0</td>\n",
       "      <td>118</td>\n",
       "      <td>{Internet,Wifi,\"Air conditioning\",\"Paid parkin...</td>\n",
       "      <td>0.0</td>\n",
       "      <td>1.0</td>\n",
       "      <td>0.0</td>\n",
       "      <td>0.0</td>\n",
       "      <td>0.0</td>\n",
       "    </tr>\n",
       "  </tbody>\n",
       "</table>\n",
       "</div>"
      ],
      "text/plain": [
       "  property_type        room_type  accommodates  bathrooms  bedrooms  beds  \\\n",
       "0     Apartment  Entire home/apt             1        1.0       0.0   1.0   \n",
       "1   Guest suite  Entire home/apt             3        1.0       1.0   4.0   \n",
       "2     Apartment  Entire home/apt             2        1.0       1.0   1.0   \n",
       "4     Apartment     Private room             2        1.0       1.0   1.0   \n",
       "5     Apartment     Private room             1        1.0       1.0   1.0   \n",
       "\n",
       "   price  review_scores_rating  number_of_reviews  \\\n",
       "0  225.0                  94.0                 48   \n",
       "1   89.0                  90.0                307   \n",
       "2  200.0                  90.0                 78   \n",
       "4   79.0                  84.0                463   \n",
       "5   79.0                  98.0                118   \n",
       "\n",
       "                                           amenities  Brooklyn  Manhattan  \\\n",
       "0  {TV,Wifi,\"Air conditioning\",Kitchen,\"Paid park...       0.0        1.0   \n",
       "1  {TV,\"Cable TV\",Internet,Wifi,\"Air conditioning...       1.0        0.0   \n",
       "2  {TV,\"Cable TV\",Internet,Wifi,\"Air conditioning...       0.0        1.0   \n",
       "4  {TV,Wifi,\"Air conditioning\",\"Paid parking off ...       0.0        1.0   \n",
       "5  {Internet,Wifi,\"Air conditioning\",\"Paid parkin...       0.0        1.0   \n",
       "\n",
       "   Queens  Bronx  Staten Island  \n",
       "0     0.0    0.0            0.0  \n",
       "1     0.0    0.0            0.0  \n",
       "2     0.0    0.0            0.0  \n",
       "4     0.0    0.0            0.0  \n",
       "5     0.0    0.0            0.0  "
      ]
     },
     "execution_count": 13,
     "metadata": {},
     "output_type": "execute_result"
    }
   ],
   "source": [
    "abm1.loc[abm1['neighbourhood_group_cleansed'].str.contains('Brooklyn'), 'Brooklyn'] = 1\n",
    "abm1.loc[abm1['neighbourhood_group_cleansed'].str.contains('Manhattan'), 'Manhattan'] = 1\n",
    "abm1.loc[abm1['neighbourhood_group_cleansed'].str.contains('Queens'), 'Queens'] = 1\n",
    "abm1.loc[abm1['neighbourhood_group_cleansed'].str.contains('Bronx'), 'Bronx'] = 1\n",
    "abm1.loc[abm1['neighbourhood_group_cleansed'].str.contains('Staten Island'), 'Staten Island'] = 1\n",
    "\n",
    "abm1 = abm1.fillna(0)\n",
    "\n",
    "abm1.drop('neighbourhood_group_cleansed', axis = 1, inplace=True)\n",
    "abm1.isnull().sum()\n",
    "abm1.head(5)"
   ]
  },
  {
   "cell_type": "markdown",
   "metadata": {
    "papermill": {
     "duration": 0.036052,
     "end_time": "2022-12-02T10:08:14.851300",
     "exception": false,
     "start_time": "2022-12-02T10:08:14.815248",
     "status": "completed"
    },
    "tags": []
   },
   "source": [
    "### Property type을 onehot encoding 하기"
   ]
  },
  {
   "cell_type": "code",
   "execution_count": 14,
   "metadata": {
    "execution": {
     "iopub.execute_input": "2022-12-02T10:08:14.928757Z",
     "iopub.status.busy": "2022-12-02T10:08:14.928123Z",
     "iopub.status.idle": "2022-12-02T10:08:14.940756Z",
     "shell.execute_reply": "2022-12-02T10:08:14.941371Z",
     "shell.execute_reply.started": "2022-12-02T09:46:22.337155Z"
    },
    "papermill": {
     "duration": 0.054218,
     "end_time": "2022-12-02T10:08:14.941540",
     "exception": false,
     "start_time": "2022-12-02T10:08:14.887322",
     "status": "completed"
    },
    "tags": []
   },
   "outputs": [
    {
     "data": {
      "text/plain": [
       "Apartment             34161\n",
       "House                  5182\n",
       "Townhouse              2427\n",
       "Loft                   1558\n",
       "Condominium            1486\n",
       "Guest suite             717\n",
       "Hotel                   223\n",
       "Boutique hotel          179\n",
       "Serviced apartment      146\n",
       "Hostel                   93\n",
       "Guesthouse               84\n",
       "Bed and breakfast        46\n",
       "Bungalow                 45\n",
       "Villa                    39\n",
       "Other                    38\n",
       "Tiny house               34\n",
       "Camper/RV                26\n",
       "Cottage                  18\n",
       "Resort                   11\n",
       "Boat                     10\n",
       "Earth house               4\n",
       "Aparthotel                3\n",
       "Houseboat                 2\n",
       "Castle                    2\n",
       "Barn                      2\n",
       "Cabin                     1\n",
       "Name: property_type, dtype: int64"
      ]
     },
     "execution_count": 14,
     "metadata": {},
     "output_type": "execute_result"
    }
   ],
   "source": [
    "# property_type에는 무슨 값이 있을지\n",
    "abm1['property_type'].value_counts()"
   ]
  },
  {
   "cell_type": "code",
   "execution_count": 15,
   "metadata": {
    "execution": {
     "iopub.execute_input": "2022-12-02T10:08:15.020287Z",
     "iopub.status.busy": "2022-12-02T10:08:15.019668Z",
     "iopub.status.idle": "2022-12-02T10:08:15.036952Z",
     "shell.execute_reply": "2022-12-02T10:08:15.037503Z",
     "shell.execute_reply.started": "2022-12-02T09:46:25.436214Z"
    },
    "papermill": {
     "duration": 0.058823,
     "end_time": "2022-12-02T10:08:15.037659",
     "exception": false,
     "start_time": "2022-12-02T10:08:14.978836",
     "status": "completed"
    },
    "tags": []
   },
   "outputs": [],
   "source": [
    "Mod_prop_type=abm1['property_type'].value_counts()[5:len(abm1['property_type'].value_counts())].index.tolist()\n",
    "\n",
    "def change_prop_type(label):\n",
    "    if label in Mod_prop_type:\n",
    "        label='Other'\n",
    "    return label"
   ]
  },
  {
   "cell_type": "code",
   "execution_count": 16,
   "metadata": {
    "execution": {
     "iopub.execute_input": "2022-12-02T10:08:15.116055Z",
     "iopub.status.busy": "2022-12-02T10:08:15.115372Z",
     "iopub.status.idle": "2022-12-02T10:08:15.145709Z",
     "shell.execute_reply": "2022-12-02T10:08:15.146242Z",
     "shell.execute_reply.started": "2022-12-02T09:46:28.100771Z"
    },
    "papermill": {
     "duration": 0.070371,
     "end_time": "2022-12-02T10:08:15.146405",
     "exception": false,
     "start_time": "2022-12-02T10:08:15.076034",
     "status": "completed"
    },
    "tags": []
   },
   "outputs": [],
   "source": [
    "abm1.loc[:,'property_type'] = abm1.loc[:,'property_type'].apply(change_prop_type)"
   ]
  },
  {
   "cell_type": "code",
   "execution_count": 17,
   "metadata": {
    "execution": {
     "iopub.execute_input": "2022-12-02T10:08:15.224048Z",
     "iopub.status.busy": "2022-12-02T10:08:15.223396Z",
     "iopub.status.idle": "2022-12-02T10:08:15.235182Z",
     "shell.execute_reply": "2022-12-02T10:08:15.235730Z",
     "shell.execute_reply.started": "2022-12-02T09:46:30.634875Z"
    },
    "papermill": {
     "duration": 0.051702,
     "end_time": "2022-12-02T10:08:15.235893",
     "exception": false,
     "start_time": "2022-12-02T10:08:15.184191",
     "status": "completed"
    },
    "tags": []
   },
   "outputs": [
    {
     "data": {
      "text/plain": [
       "Apartment      34161\n",
       "House           5182\n",
       "Townhouse       2427\n",
       "Other           1723\n",
       "Loft            1558\n",
       "Condominium     1486\n",
       "Name: property_type, dtype: int64"
      ]
     },
     "execution_count": 17,
     "metadata": {},
     "output_type": "execute_result"
    }
   ],
   "source": [
    "abm1['property_type'].value_counts() # 5순위 이하 주거형태는 Others로 분류"
   ]
  },
  {
   "cell_type": "code",
   "execution_count": 18,
   "metadata": {
    "execution": {
     "iopub.execute_input": "2022-12-02T10:08:15.314752Z",
     "iopub.status.busy": "2022-12-02T10:08:15.314088Z",
     "iopub.status.idle": "2022-12-02T10:08:15.561872Z",
     "shell.execute_reply": "2022-12-02T10:08:15.561347Z",
     "shell.execute_reply.started": "2022-12-02T09:46:34.647342Z"
    },
    "papermill": {
     "duration": 0.288765,
     "end_time": "2022-12-02T10:08:15.561997",
     "exception": false,
     "start_time": "2022-12-02T10:08:15.273232",
     "status": "completed"
    },
    "tags": []
   },
   "outputs": [
    {
     "data": {
      "text/plain": [
       "property_type           0\n",
       "room_type               0\n",
       "accommodates            0\n",
       "bathrooms               0\n",
       "bedrooms                0\n",
       "beds                    0\n",
       "price                   0\n",
       "review_scores_rating    0\n",
       "number_of_reviews       0\n",
       "amenities               0\n",
       "Brooklyn                0\n",
       "Manhattan               0\n",
       "Queens                  0\n",
       "Bronx                   0\n",
       "Staten Island           0\n",
       "Apartment               0\n",
       "House                   0\n",
       "Other                   0\n",
       "Townhouse               0\n",
       "Condominium             0\n",
       "Loft                    0\n",
       "dtype: int64"
      ]
     },
     "execution_count": 18,
     "metadata": {},
     "output_type": "execute_result"
    },
    {
     "data": {
      "text/html": [
       "<div>\n",
       "<style scoped>\n",
       "    .dataframe tbody tr th:only-of-type {\n",
       "        vertical-align: middle;\n",
       "    }\n",
       "\n",
       "    .dataframe tbody tr th {\n",
       "        vertical-align: top;\n",
       "    }\n",
       "\n",
       "    .dataframe thead th {\n",
       "        text-align: right;\n",
       "    }\n",
       "</style>\n",
       "<table border=\"1\" class=\"dataframe\">\n",
       "  <thead>\n",
       "    <tr style=\"text-align: right;\">\n",
       "      <th></th>\n",
       "      <th>property_type</th>\n",
       "      <th>room_type</th>\n",
       "      <th>accommodates</th>\n",
       "      <th>bathrooms</th>\n",
       "      <th>bedrooms</th>\n",
       "      <th>beds</th>\n",
       "      <th>price</th>\n",
       "      <th>review_scores_rating</th>\n",
       "      <th>number_of_reviews</th>\n",
       "      <th>amenities</th>\n",
       "      <th>Brooklyn</th>\n",
       "      <th>Manhattan</th>\n",
       "      <th>Queens</th>\n",
       "      <th>Bronx</th>\n",
       "      <th>Staten Island</th>\n",
       "      <th>Apartment</th>\n",
       "      <th>House</th>\n",
       "      <th>Other</th>\n",
       "      <th>Townhouse</th>\n",
       "      <th>Condominium</th>\n",
       "      <th>Loft</th>\n",
       "    </tr>\n",
       "  </thead>\n",
       "  <tbody>\n",
       "    <tr>\n",
       "      <th>0</th>\n",
       "      <td>Apartment</td>\n",
       "      <td>Entire home/apt</td>\n",
       "      <td>1</td>\n",
       "      <td>1.0</td>\n",
       "      <td>0.0</td>\n",
       "      <td>1.0</td>\n",
       "      <td>225.0</td>\n",
       "      <td>94.0</td>\n",
       "      <td>48</td>\n",
       "      <td>{TV,Wifi,\"Air conditioning\",Kitchen,\"Paid park...</td>\n",
       "      <td>0.0</td>\n",
       "      <td>1.0</td>\n",
       "      <td>0.0</td>\n",
       "      <td>0.0</td>\n",
       "      <td>0.0</td>\n",
       "      <td>1.0</td>\n",
       "      <td>0.0</td>\n",
       "      <td>0.0</td>\n",
       "      <td>0.0</td>\n",
       "      <td>0.0</td>\n",
       "      <td>0.0</td>\n",
       "    </tr>\n",
       "    <tr>\n",
       "      <th>1</th>\n",
       "      <td>Other</td>\n",
       "      <td>Entire home/apt</td>\n",
       "      <td>3</td>\n",
       "      <td>1.0</td>\n",
       "      <td>1.0</td>\n",
       "      <td>4.0</td>\n",
       "      <td>89.0</td>\n",
       "      <td>90.0</td>\n",
       "      <td>307</td>\n",
       "      <td>{TV,\"Cable TV\",Internet,Wifi,\"Air conditioning...</td>\n",
       "      <td>1.0</td>\n",
       "      <td>0.0</td>\n",
       "      <td>0.0</td>\n",
       "      <td>0.0</td>\n",
       "      <td>0.0</td>\n",
       "      <td>0.0</td>\n",
       "      <td>0.0</td>\n",
       "      <td>1.0</td>\n",
       "      <td>0.0</td>\n",
       "      <td>0.0</td>\n",
       "      <td>0.0</td>\n",
       "    </tr>\n",
       "    <tr>\n",
       "      <th>2</th>\n",
       "      <td>Apartment</td>\n",
       "      <td>Entire home/apt</td>\n",
       "      <td>2</td>\n",
       "      <td>1.0</td>\n",
       "      <td>1.0</td>\n",
       "      <td>1.0</td>\n",
       "      <td>200.0</td>\n",
       "      <td>90.0</td>\n",
       "      <td>78</td>\n",
       "      <td>{TV,\"Cable TV\",Internet,Wifi,\"Air conditioning...</td>\n",
       "      <td>0.0</td>\n",
       "      <td>1.0</td>\n",
       "      <td>0.0</td>\n",
       "      <td>0.0</td>\n",
       "      <td>0.0</td>\n",
       "      <td>1.0</td>\n",
       "      <td>0.0</td>\n",
       "      <td>0.0</td>\n",
       "      <td>0.0</td>\n",
       "      <td>0.0</td>\n",
       "      <td>0.0</td>\n",
       "    </tr>\n",
       "    <tr>\n",
       "      <th>4</th>\n",
       "      <td>Apartment</td>\n",
       "      <td>Private room</td>\n",
       "      <td>2</td>\n",
       "      <td>1.0</td>\n",
       "      <td>1.0</td>\n",
       "      <td>1.0</td>\n",
       "      <td>79.0</td>\n",
       "      <td>84.0</td>\n",
       "      <td>463</td>\n",
       "      <td>{TV,Wifi,\"Air conditioning\",\"Paid parking off ...</td>\n",
       "      <td>0.0</td>\n",
       "      <td>1.0</td>\n",
       "      <td>0.0</td>\n",
       "      <td>0.0</td>\n",
       "      <td>0.0</td>\n",
       "      <td>1.0</td>\n",
       "      <td>0.0</td>\n",
       "      <td>0.0</td>\n",
       "      <td>0.0</td>\n",
       "      <td>0.0</td>\n",
       "      <td>0.0</td>\n",
       "    </tr>\n",
       "    <tr>\n",
       "      <th>5</th>\n",
       "      <td>Apartment</td>\n",
       "      <td>Private room</td>\n",
       "      <td>1</td>\n",
       "      <td>1.0</td>\n",
       "      <td>1.0</td>\n",
       "      <td>1.0</td>\n",
       "      <td>79.0</td>\n",
       "      <td>98.0</td>\n",
       "      <td>118</td>\n",
       "      <td>{Internet,Wifi,\"Air conditioning\",\"Paid parkin...</td>\n",
       "      <td>0.0</td>\n",
       "      <td>1.0</td>\n",
       "      <td>0.0</td>\n",
       "      <td>0.0</td>\n",
       "      <td>0.0</td>\n",
       "      <td>1.0</td>\n",
       "      <td>0.0</td>\n",
       "      <td>0.0</td>\n",
       "      <td>0.0</td>\n",
       "      <td>0.0</td>\n",
       "      <td>0.0</td>\n",
       "    </tr>\n",
       "  </tbody>\n",
       "</table>\n",
       "</div>"
      ],
      "text/plain": [
       "  property_type        room_type  accommodates  bathrooms  bedrooms  beds  \\\n",
       "0     Apartment  Entire home/apt             1        1.0       0.0   1.0   \n",
       "1         Other  Entire home/apt             3        1.0       1.0   4.0   \n",
       "2     Apartment  Entire home/apt             2        1.0       1.0   1.0   \n",
       "4     Apartment     Private room             2        1.0       1.0   1.0   \n",
       "5     Apartment     Private room             1        1.0       1.0   1.0   \n",
       "\n",
       "   price  review_scores_rating  number_of_reviews  \\\n",
       "0  225.0                  94.0                 48   \n",
       "1   89.0                  90.0                307   \n",
       "2  200.0                  90.0                 78   \n",
       "4   79.0                  84.0                463   \n",
       "5   79.0                  98.0                118   \n",
       "\n",
       "                                           amenities  Brooklyn  Manhattan  \\\n",
       "0  {TV,Wifi,\"Air conditioning\",Kitchen,\"Paid park...       0.0        1.0   \n",
       "1  {TV,\"Cable TV\",Internet,Wifi,\"Air conditioning...       1.0        0.0   \n",
       "2  {TV,\"Cable TV\",Internet,Wifi,\"Air conditioning...       0.0        1.0   \n",
       "4  {TV,Wifi,\"Air conditioning\",\"Paid parking off ...       0.0        1.0   \n",
       "5  {Internet,Wifi,\"Air conditioning\",\"Paid parkin...       0.0        1.0   \n",
       "\n",
       "   Queens  Bronx  Staten Island  Apartment  House  Other  Townhouse  \\\n",
       "0     0.0    0.0            0.0        1.0    0.0    0.0        0.0   \n",
       "1     0.0    0.0            0.0        0.0    0.0    1.0        0.0   \n",
       "2     0.0    0.0            0.0        1.0    0.0    0.0        0.0   \n",
       "4     0.0    0.0            0.0        1.0    0.0    0.0        0.0   \n",
       "5     0.0    0.0            0.0        1.0    0.0    0.0        0.0   \n",
       "\n",
       "   Condominium  Loft  \n",
       "0          0.0   0.0  \n",
       "1          0.0   0.0  \n",
       "2          0.0   0.0  \n",
       "4          0.0   0.0  \n",
       "5          0.0   0.0  "
      ]
     },
     "execution_count": 18,
     "metadata": {},
     "output_type": "execute_result"
    }
   ],
   "source": [
    "abm1.loc[abm1['property_type'].str.contains('Apartment'), 'Apartment'] = 1\n",
    "abm1.loc[abm1['property_type'].str.contains('House'), 'House'] = 1\n",
    "abm1.loc[abm1['property_type'].str.contains('Other'), 'Other'] = 1\n",
    "abm1.loc[abm1['property_type'].str.contains('Townhouse'), 'Townhouse'] = 1\n",
    "abm1.loc[abm1['property_type'].str.contains('Condominium'), 'Condominium'] = 1\n",
    "abm1.loc[abm1['property_type'].str.contains('Loft'), 'Loft'] = 1\n",
    "abm1 = abm1.fillna(0)\n",
    "\n",
    "abm1.isnull().sum()\n",
    "abm1.head(5)"
   ]
  },
  {
   "cell_type": "code",
   "execution_count": 19,
   "metadata": {
    "execution": {
     "iopub.execute_input": "2022-12-02T10:08:15.644588Z",
     "iopub.status.busy": "2022-12-02T10:08:15.643315Z",
     "iopub.status.idle": "2022-12-02T10:08:15.673751Z",
     "shell.execute_reply": "2022-12-02T10:08:15.674222Z",
     "shell.execute_reply.started": "2022-12-02T09:46:39.512941Z"
    },
    "papermill": {
     "duration": 0.073868,
     "end_time": "2022-12-02T10:08:15.674379",
     "exception": false,
     "start_time": "2022-12-02T10:08:15.600511",
     "status": "completed"
    },
    "tags": []
   },
   "outputs": [
    {
     "data": {
      "text/html": [
       "<div>\n",
       "<style scoped>\n",
       "    .dataframe tbody tr th:only-of-type {\n",
       "        vertical-align: middle;\n",
       "    }\n",
       "\n",
       "    .dataframe tbody tr th {\n",
       "        vertical-align: top;\n",
       "    }\n",
       "\n",
       "    .dataframe thead th {\n",
       "        text-align: right;\n",
       "    }\n",
       "</style>\n",
       "<table border=\"1\" class=\"dataframe\">\n",
       "  <thead>\n",
       "    <tr style=\"text-align: right;\">\n",
       "      <th></th>\n",
       "      <th>room_type</th>\n",
       "      <th>accommodates</th>\n",
       "      <th>bathrooms</th>\n",
       "      <th>bedrooms</th>\n",
       "      <th>beds</th>\n",
       "      <th>price</th>\n",
       "      <th>review_scores_rating</th>\n",
       "      <th>number_of_reviews</th>\n",
       "      <th>amenities</th>\n",
       "      <th>Brooklyn</th>\n",
       "      <th>Manhattan</th>\n",
       "      <th>Queens</th>\n",
       "      <th>Bronx</th>\n",
       "      <th>Staten Island</th>\n",
       "      <th>Apartment</th>\n",
       "      <th>House</th>\n",
       "      <th>Other</th>\n",
       "      <th>Townhouse</th>\n",
       "      <th>Condominium</th>\n",
       "      <th>Loft</th>\n",
       "    </tr>\n",
       "  </thead>\n",
       "  <tbody>\n",
       "    <tr>\n",
       "      <th>0</th>\n",
       "      <td>Entire home/apt</td>\n",
       "      <td>1</td>\n",
       "      <td>1.0</td>\n",
       "      <td>0.0</td>\n",
       "      <td>1.0</td>\n",
       "      <td>225.0</td>\n",
       "      <td>94.0</td>\n",
       "      <td>48</td>\n",
       "      <td>{TV,Wifi,\"Air conditioning\",Kitchen,\"Paid park...</td>\n",
       "      <td>0.0</td>\n",
       "      <td>1.0</td>\n",
       "      <td>0.0</td>\n",
       "      <td>0.0</td>\n",
       "      <td>0.0</td>\n",
       "      <td>1.0</td>\n",
       "      <td>0.0</td>\n",
       "      <td>0.0</td>\n",
       "      <td>0.0</td>\n",
       "      <td>0.0</td>\n",
       "      <td>0.0</td>\n",
       "    </tr>\n",
       "    <tr>\n",
       "      <th>1</th>\n",
       "      <td>Entire home/apt</td>\n",
       "      <td>3</td>\n",
       "      <td>1.0</td>\n",
       "      <td>1.0</td>\n",
       "      <td>4.0</td>\n",
       "      <td>89.0</td>\n",
       "      <td>90.0</td>\n",
       "      <td>307</td>\n",
       "      <td>{TV,\"Cable TV\",Internet,Wifi,\"Air conditioning...</td>\n",
       "      <td>1.0</td>\n",
       "      <td>0.0</td>\n",
       "      <td>0.0</td>\n",
       "      <td>0.0</td>\n",
       "      <td>0.0</td>\n",
       "      <td>0.0</td>\n",
       "      <td>0.0</td>\n",
       "      <td>1.0</td>\n",
       "      <td>0.0</td>\n",
       "      <td>0.0</td>\n",
       "      <td>0.0</td>\n",
       "    </tr>\n",
       "    <tr>\n",
       "      <th>2</th>\n",
       "      <td>Entire home/apt</td>\n",
       "      <td>2</td>\n",
       "      <td>1.0</td>\n",
       "      <td>1.0</td>\n",
       "      <td>1.0</td>\n",
       "      <td>200.0</td>\n",
       "      <td>90.0</td>\n",
       "      <td>78</td>\n",
       "      <td>{TV,\"Cable TV\",Internet,Wifi,\"Air conditioning...</td>\n",
       "      <td>0.0</td>\n",
       "      <td>1.0</td>\n",
       "      <td>0.0</td>\n",
       "      <td>0.0</td>\n",
       "      <td>0.0</td>\n",
       "      <td>1.0</td>\n",
       "      <td>0.0</td>\n",
       "      <td>0.0</td>\n",
       "      <td>0.0</td>\n",
       "      <td>0.0</td>\n",
       "      <td>0.0</td>\n",
       "    </tr>\n",
       "  </tbody>\n",
       "</table>\n",
       "</div>"
      ],
      "text/plain": [
       "         room_type  accommodates  bathrooms  bedrooms  beds  price  \\\n",
       "0  Entire home/apt             1        1.0       0.0   1.0  225.0   \n",
       "1  Entire home/apt             3        1.0       1.0   4.0   89.0   \n",
       "2  Entire home/apt             2        1.0       1.0   1.0  200.0   \n",
       "\n",
       "   review_scores_rating  number_of_reviews  \\\n",
       "0                  94.0                 48   \n",
       "1                  90.0                307   \n",
       "2                  90.0                 78   \n",
       "\n",
       "                                           amenities  Brooklyn  Manhattan  \\\n",
       "0  {TV,Wifi,\"Air conditioning\",Kitchen,\"Paid park...       0.0        1.0   \n",
       "1  {TV,\"Cable TV\",Internet,Wifi,\"Air conditioning...       1.0        0.0   \n",
       "2  {TV,\"Cable TV\",Internet,Wifi,\"Air conditioning...       0.0        1.0   \n",
       "\n",
       "   Queens  Bronx  Staten Island  Apartment  House  Other  Townhouse  \\\n",
       "0     0.0    0.0            0.0        1.0    0.0    0.0        0.0   \n",
       "1     0.0    0.0            0.0        0.0    0.0    1.0        0.0   \n",
       "2     0.0    0.0            0.0        1.0    0.0    0.0        0.0   \n",
       "\n",
       "   Condominium  Loft  \n",
       "0          0.0   0.0  \n",
       "1          0.0   0.0  \n",
       "2          0.0   0.0  "
      ]
     },
     "execution_count": 19,
     "metadata": {},
     "output_type": "execute_result"
    }
   ],
   "source": [
    "abm1.drop('property_type', axis = 1, inplace=True)\n",
    "abm1.head(3)"
   ]
  },
  {
   "cell_type": "markdown",
   "metadata": {
    "papermill": {
     "duration": 0.03811,
     "end_time": "2022-12-02T10:08:15.750952",
     "exception": false,
     "start_time": "2022-12-02T10:08:15.712842",
     "status": "completed"
    },
    "tags": []
   },
   "source": [
    "### Room_type를 one hot encoding 하기"
   ]
  },
  {
   "cell_type": "code",
   "execution_count": 20,
   "metadata": {
    "execution": {
     "iopub.execute_input": "2022-12-02T10:08:15.837911Z",
     "iopub.status.busy": "2022-12-02T10:08:15.837256Z",
     "iopub.status.idle": "2022-12-02T10:08:15.844254Z",
     "shell.execute_reply": "2022-12-02T10:08:15.843669Z",
     "shell.execute_reply.started": "2022-12-02T09:46:43.077051Z"
    },
    "papermill": {
     "duration": 0.055318,
     "end_time": "2022-12-02T10:08:15.844372",
     "exception": false,
     "start_time": "2022-12-02T10:08:15.789054",
     "status": "completed"
    },
    "tags": []
   },
   "outputs": [
    {
     "data": {
      "text/plain": [
       "Entire home/apt    24902\n",
       "Private room       20394\n",
       "Shared room          875\n",
       "Hotel room           366\n",
       "Name: room_type, dtype: int64"
      ]
     },
     "execution_count": 20,
     "metadata": {},
     "output_type": "execute_result"
    }
   ],
   "source": [
    "abm1['room_type'].value_counts()"
   ]
  },
  {
   "cell_type": "code",
   "execution_count": 21,
   "metadata": {
    "execution": {
     "iopub.execute_input": "2022-12-02T10:08:15.952870Z",
     "iopub.status.busy": "2022-12-02T10:08:15.930833Z",
     "iopub.status.idle": "2022-12-02T10:08:16.120673Z",
     "shell.execute_reply": "2022-12-02T10:08:16.121203Z",
     "shell.execute_reply.started": "2022-12-02T09:46:46.917591Z"
    },
    "papermill": {
     "duration": 0.23824,
     "end_time": "2022-12-02T10:08:16.121379",
     "exception": false,
     "start_time": "2022-12-02T10:08:15.883139",
     "status": "completed"
    },
    "tags": []
   },
   "outputs": [
    {
     "data": {
      "text/plain": [
       "accommodates            0\n",
       "bathrooms               0\n",
       "bedrooms                0\n",
       "beds                    0\n",
       "price                   0\n",
       "review_scores_rating    0\n",
       "number_of_reviews       0\n",
       "amenities               0\n",
       "Brooklyn                0\n",
       "Manhattan               0\n",
       "Queens                  0\n",
       "Bronx                   0\n",
       "Staten Island           0\n",
       "Apartment               0\n",
       "House                   0\n",
       "Other                   0\n",
       "Townhouse               0\n",
       "Condominium             0\n",
       "Loft                    0\n",
       "Entire home/apt         0\n",
       "Private room            0\n",
       "Shared room             0\n",
       "Hotel room              0\n",
       "dtype: int64"
      ]
     },
     "execution_count": 21,
     "metadata": {},
     "output_type": "execute_result"
    },
    {
     "data": {
      "text/html": [
       "<div>\n",
       "<style scoped>\n",
       "    .dataframe tbody tr th:only-of-type {\n",
       "        vertical-align: middle;\n",
       "    }\n",
       "\n",
       "    .dataframe tbody tr th {\n",
       "        vertical-align: top;\n",
       "    }\n",
       "\n",
       "    .dataframe thead th {\n",
       "        text-align: right;\n",
       "    }\n",
       "</style>\n",
       "<table border=\"1\" class=\"dataframe\">\n",
       "  <thead>\n",
       "    <tr style=\"text-align: right;\">\n",
       "      <th></th>\n",
       "      <th>accommodates</th>\n",
       "      <th>bathrooms</th>\n",
       "      <th>bedrooms</th>\n",
       "      <th>beds</th>\n",
       "      <th>price</th>\n",
       "      <th>review_scores_rating</th>\n",
       "      <th>number_of_reviews</th>\n",
       "      <th>amenities</th>\n",
       "      <th>Brooklyn</th>\n",
       "      <th>Manhattan</th>\n",
       "      <th>Queens</th>\n",
       "      <th>Bronx</th>\n",
       "      <th>Staten Island</th>\n",
       "      <th>Apartment</th>\n",
       "      <th>House</th>\n",
       "      <th>Other</th>\n",
       "      <th>Townhouse</th>\n",
       "      <th>Condominium</th>\n",
       "      <th>Loft</th>\n",
       "      <th>Entire home/apt</th>\n",
       "      <th>Private room</th>\n",
       "      <th>Shared room</th>\n",
       "      <th>Hotel room</th>\n",
       "    </tr>\n",
       "  </thead>\n",
       "  <tbody>\n",
       "    <tr>\n",
       "      <th>0</th>\n",
       "      <td>1</td>\n",
       "      <td>1.0</td>\n",
       "      <td>0.0</td>\n",
       "      <td>1.0</td>\n",
       "      <td>225.0</td>\n",
       "      <td>94.0</td>\n",
       "      <td>48</td>\n",
       "      <td>{TV,Wifi,\"Air conditioning\",Kitchen,\"Paid park...</td>\n",
       "      <td>0.0</td>\n",
       "      <td>1.0</td>\n",
       "      <td>0.0</td>\n",
       "      <td>0.0</td>\n",
       "      <td>0.0</td>\n",
       "      <td>1.0</td>\n",
       "      <td>0.0</td>\n",
       "      <td>0.0</td>\n",
       "      <td>0.0</td>\n",
       "      <td>0.0</td>\n",
       "      <td>0.0</td>\n",
       "      <td>1.0</td>\n",
       "      <td>0.0</td>\n",
       "      <td>0.0</td>\n",
       "      <td>0.0</td>\n",
       "    </tr>\n",
       "    <tr>\n",
       "      <th>1</th>\n",
       "      <td>3</td>\n",
       "      <td>1.0</td>\n",
       "      <td>1.0</td>\n",
       "      <td>4.0</td>\n",
       "      <td>89.0</td>\n",
       "      <td>90.0</td>\n",
       "      <td>307</td>\n",
       "      <td>{TV,\"Cable TV\",Internet,Wifi,\"Air conditioning...</td>\n",
       "      <td>1.0</td>\n",
       "      <td>0.0</td>\n",
       "      <td>0.0</td>\n",
       "      <td>0.0</td>\n",
       "      <td>0.0</td>\n",
       "      <td>0.0</td>\n",
       "      <td>0.0</td>\n",
       "      <td>1.0</td>\n",
       "      <td>0.0</td>\n",
       "      <td>0.0</td>\n",
       "      <td>0.0</td>\n",
       "      <td>1.0</td>\n",
       "      <td>0.0</td>\n",
       "      <td>0.0</td>\n",
       "      <td>0.0</td>\n",
       "    </tr>\n",
       "    <tr>\n",
       "      <th>2</th>\n",
       "      <td>2</td>\n",
       "      <td>1.0</td>\n",
       "      <td>1.0</td>\n",
       "      <td>1.0</td>\n",
       "      <td>200.0</td>\n",
       "      <td>90.0</td>\n",
       "      <td>78</td>\n",
       "      <td>{TV,\"Cable TV\",Internet,Wifi,\"Air conditioning...</td>\n",
       "      <td>0.0</td>\n",
       "      <td>1.0</td>\n",
       "      <td>0.0</td>\n",
       "      <td>0.0</td>\n",
       "      <td>0.0</td>\n",
       "      <td>1.0</td>\n",
       "      <td>0.0</td>\n",
       "      <td>0.0</td>\n",
       "      <td>0.0</td>\n",
       "      <td>0.0</td>\n",
       "      <td>0.0</td>\n",
       "      <td>1.0</td>\n",
       "      <td>0.0</td>\n",
       "      <td>0.0</td>\n",
       "      <td>0.0</td>\n",
       "    </tr>\n",
       "    <tr>\n",
       "      <th>4</th>\n",
       "      <td>2</td>\n",
       "      <td>1.0</td>\n",
       "      <td>1.0</td>\n",
       "      <td>1.0</td>\n",
       "      <td>79.0</td>\n",
       "      <td>84.0</td>\n",
       "      <td>463</td>\n",
       "      <td>{TV,Wifi,\"Air conditioning\",\"Paid parking off ...</td>\n",
       "      <td>0.0</td>\n",
       "      <td>1.0</td>\n",
       "      <td>0.0</td>\n",
       "      <td>0.0</td>\n",
       "      <td>0.0</td>\n",
       "      <td>1.0</td>\n",
       "      <td>0.0</td>\n",
       "      <td>0.0</td>\n",
       "      <td>0.0</td>\n",
       "      <td>0.0</td>\n",
       "      <td>0.0</td>\n",
       "      <td>0.0</td>\n",
       "      <td>1.0</td>\n",
       "      <td>0.0</td>\n",
       "      <td>0.0</td>\n",
       "    </tr>\n",
       "    <tr>\n",
       "      <th>5</th>\n",
       "      <td>1</td>\n",
       "      <td>1.0</td>\n",
       "      <td>1.0</td>\n",
       "      <td>1.0</td>\n",
       "      <td>79.0</td>\n",
       "      <td>98.0</td>\n",
       "      <td>118</td>\n",
       "      <td>{Internet,Wifi,\"Air conditioning\",\"Paid parkin...</td>\n",
       "      <td>0.0</td>\n",
       "      <td>1.0</td>\n",
       "      <td>0.0</td>\n",
       "      <td>0.0</td>\n",
       "      <td>0.0</td>\n",
       "      <td>1.0</td>\n",
       "      <td>0.0</td>\n",
       "      <td>0.0</td>\n",
       "      <td>0.0</td>\n",
       "      <td>0.0</td>\n",
       "      <td>0.0</td>\n",
       "      <td>0.0</td>\n",
       "      <td>1.0</td>\n",
       "      <td>0.0</td>\n",
       "      <td>0.0</td>\n",
       "    </tr>\n",
       "  </tbody>\n",
       "</table>\n",
       "</div>"
      ],
      "text/plain": [
       "   accommodates  bathrooms  bedrooms  beds  price  review_scores_rating  \\\n",
       "0             1        1.0       0.0   1.0  225.0                  94.0   \n",
       "1             3        1.0       1.0   4.0   89.0                  90.0   \n",
       "2             2        1.0       1.0   1.0  200.0                  90.0   \n",
       "4             2        1.0       1.0   1.0   79.0                  84.0   \n",
       "5             1        1.0       1.0   1.0   79.0                  98.0   \n",
       "\n",
       "   number_of_reviews                                          amenities  \\\n",
       "0                 48  {TV,Wifi,\"Air conditioning\",Kitchen,\"Paid park...   \n",
       "1                307  {TV,\"Cable TV\",Internet,Wifi,\"Air conditioning...   \n",
       "2                 78  {TV,\"Cable TV\",Internet,Wifi,\"Air conditioning...   \n",
       "4                463  {TV,Wifi,\"Air conditioning\",\"Paid parking off ...   \n",
       "5                118  {Internet,Wifi,\"Air conditioning\",\"Paid parkin...   \n",
       "\n",
       "   Brooklyn  Manhattan  Queens  Bronx  Staten Island  Apartment  House  Other  \\\n",
       "0       0.0        1.0     0.0    0.0            0.0        1.0    0.0    0.0   \n",
       "1       1.0        0.0     0.0    0.0            0.0        0.0    0.0    1.0   \n",
       "2       0.0        1.0     0.0    0.0            0.0        1.0    0.0    0.0   \n",
       "4       0.0        1.0     0.0    0.0            0.0        1.0    0.0    0.0   \n",
       "5       0.0        1.0     0.0    0.0            0.0        1.0    0.0    0.0   \n",
       "\n",
       "   Townhouse  Condominium  Loft  Entire home/apt  Private room  Shared room  \\\n",
       "0        0.0          0.0   0.0              1.0           0.0          0.0   \n",
       "1        0.0          0.0   0.0              1.0           0.0          0.0   \n",
       "2        0.0          0.0   0.0              1.0           0.0          0.0   \n",
       "4        0.0          0.0   0.0              0.0           1.0          0.0   \n",
       "5        0.0          0.0   0.0              0.0           1.0          0.0   \n",
       "\n",
       "   Hotel room  \n",
       "0         0.0  \n",
       "1         0.0  \n",
       "2         0.0  \n",
       "4         0.0  \n",
       "5         0.0  "
      ]
     },
     "execution_count": 21,
     "metadata": {},
     "output_type": "execute_result"
    }
   ],
   "source": [
    "abm1.loc[abm1['room_type'].str.contains('Entire home/apt'), 'Entire home/apt'] = 1\n",
    "abm1.loc[abm1['room_type'].str.contains('Private room'), 'Private room'] = 1\n",
    "abm1.loc[abm1['room_type'].str.contains('Shared room'), 'Shared room'] = 1\n",
    "abm1.loc[abm1['room_type'].str.contains('Hotel room'), 'Hotel room'] = 1\n",
    "abm1 = abm1.fillna(0)\n",
    "\n",
    "abm1.drop('room_type', axis = 1, inplace=True)\n",
    "abm1.isnull().sum()\n",
    "abm1.head(5)"
   ]
  },
  {
   "cell_type": "markdown",
   "metadata": {
    "papermill": {
     "duration": 0.040613,
     "end_time": "2022-12-02T10:08:16.202750",
     "exception": false,
     "start_time": "2022-12-02T10:08:16.162137",
     "status": "completed"
    },
    "tags": []
   },
   "source": [
    "## 2. Content Based Filtering 추천 시스템"
   ]
  },
  {
   "cell_type": "markdown",
   "metadata": {
    "papermill": {
     "duration": 0.040161,
     "end_time": "2022-12-02T10:08:16.283188",
     "exception": false,
     "start_time": "2022-12-02T10:08:16.243027",
     "status": "completed"
    },
    "tags": []
   },
   "source": [
    "### 유사도 검사를 위한 새로운 matrix 생성"
   ]
  },
  {
   "cell_type": "code",
   "execution_count": 22,
   "metadata": {
    "execution": {
     "iopub.execute_input": "2022-12-02T10:08:16.387105Z",
     "iopub.status.busy": "2022-12-02T10:08:16.377393Z",
     "iopub.status.idle": "2022-12-02T10:08:16.391732Z",
     "shell.execute_reply": "2022-12-02T10:08:16.391048Z",
     "shell.execute_reply.started": "2022-12-02T09:47:50.324230Z"
    },
    "papermill": {
     "duration": 0.069328,
     "end_time": "2022-12-02T10:08:16.391859",
     "exception": false,
     "start_time": "2022-12-02T10:08:16.322531",
     "status": "completed"
    },
    "tags": []
   },
   "outputs": [
    {
     "data": {
      "text/html": [
       "<div>\n",
       "<style scoped>\n",
       "    .dataframe tbody tr th:only-of-type {\n",
       "        vertical-align: middle;\n",
       "    }\n",
       "\n",
       "    .dataframe tbody tr th {\n",
       "        vertical-align: top;\n",
       "    }\n",
       "\n",
       "    .dataframe thead th {\n",
       "        text-align: right;\n",
       "    }\n",
       "</style>\n",
       "<table border=\"1\" class=\"dataframe\">\n",
       "  <thead>\n",
       "    <tr style=\"text-align: right;\">\n",
       "      <th></th>\n",
       "      <th>accommodates</th>\n",
       "      <th>bathrooms</th>\n",
       "      <th>bedrooms</th>\n",
       "      <th>beds</th>\n",
       "      <th>Brooklyn</th>\n",
       "      <th>Manhattan</th>\n",
       "      <th>Queens</th>\n",
       "      <th>Bronx</th>\n",
       "      <th>Staten Island</th>\n",
       "      <th>Apartment</th>\n",
       "      <th>House</th>\n",
       "      <th>Other</th>\n",
       "      <th>Townhouse</th>\n",
       "      <th>Condominium</th>\n",
       "      <th>Loft</th>\n",
       "      <th>Entire home/apt</th>\n",
       "      <th>Private room</th>\n",
       "      <th>Shared room</th>\n",
       "      <th>Hotel room</th>\n",
       "    </tr>\n",
       "  </thead>\n",
       "  <tbody>\n",
       "    <tr>\n",
       "      <th>0</th>\n",
       "      <td>1</td>\n",
       "      <td>1.0</td>\n",
       "      <td>0.0</td>\n",
       "      <td>1.0</td>\n",
       "      <td>0.0</td>\n",
       "      <td>1.0</td>\n",
       "      <td>0.0</td>\n",
       "      <td>0.0</td>\n",
       "      <td>0.0</td>\n",
       "      <td>1.0</td>\n",
       "      <td>0.0</td>\n",
       "      <td>0.0</td>\n",
       "      <td>0.0</td>\n",
       "      <td>0.0</td>\n",
       "      <td>0.0</td>\n",
       "      <td>1.0</td>\n",
       "      <td>0.0</td>\n",
       "      <td>0.0</td>\n",
       "      <td>0.0</td>\n",
       "    </tr>\n",
       "    <tr>\n",
       "      <th>1</th>\n",
       "      <td>3</td>\n",
       "      <td>1.0</td>\n",
       "      <td>1.0</td>\n",
       "      <td>4.0</td>\n",
       "      <td>1.0</td>\n",
       "      <td>0.0</td>\n",
       "      <td>0.0</td>\n",
       "      <td>0.0</td>\n",
       "      <td>0.0</td>\n",
       "      <td>0.0</td>\n",
       "      <td>0.0</td>\n",
       "      <td>1.0</td>\n",
       "      <td>0.0</td>\n",
       "      <td>0.0</td>\n",
       "      <td>0.0</td>\n",
       "      <td>1.0</td>\n",
       "      <td>0.0</td>\n",
       "      <td>0.0</td>\n",
       "      <td>0.0</td>\n",
       "    </tr>\n",
       "    <tr>\n",
       "      <th>2</th>\n",
       "      <td>2</td>\n",
       "      <td>1.0</td>\n",
       "      <td>1.0</td>\n",
       "      <td>1.0</td>\n",
       "      <td>0.0</td>\n",
       "      <td>1.0</td>\n",
       "      <td>0.0</td>\n",
       "      <td>0.0</td>\n",
       "      <td>0.0</td>\n",
       "      <td>1.0</td>\n",
       "      <td>0.0</td>\n",
       "      <td>0.0</td>\n",
       "      <td>0.0</td>\n",
       "      <td>0.0</td>\n",
       "      <td>0.0</td>\n",
       "      <td>1.0</td>\n",
       "      <td>0.0</td>\n",
       "      <td>0.0</td>\n",
       "      <td>0.0</td>\n",
       "    </tr>\n",
       "    <tr>\n",
       "      <th>4</th>\n",
       "      <td>2</td>\n",
       "      <td>1.0</td>\n",
       "      <td>1.0</td>\n",
       "      <td>1.0</td>\n",
       "      <td>0.0</td>\n",
       "      <td>1.0</td>\n",
       "      <td>0.0</td>\n",
       "      <td>0.0</td>\n",
       "      <td>0.0</td>\n",
       "      <td>1.0</td>\n",
       "      <td>0.0</td>\n",
       "      <td>0.0</td>\n",
       "      <td>0.0</td>\n",
       "      <td>0.0</td>\n",
       "      <td>0.0</td>\n",
       "      <td>0.0</td>\n",
       "      <td>1.0</td>\n",
       "      <td>0.0</td>\n",
       "      <td>0.0</td>\n",
       "    </tr>\n",
       "    <tr>\n",
       "      <th>5</th>\n",
       "      <td>1</td>\n",
       "      <td>1.0</td>\n",
       "      <td>1.0</td>\n",
       "      <td>1.0</td>\n",
       "      <td>0.0</td>\n",
       "      <td>1.0</td>\n",
       "      <td>0.0</td>\n",
       "      <td>0.0</td>\n",
       "      <td>0.0</td>\n",
       "      <td>1.0</td>\n",
       "      <td>0.0</td>\n",
       "      <td>0.0</td>\n",
       "      <td>0.0</td>\n",
       "      <td>0.0</td>\n",
       "      <td>0.0</td>\n",
       "      <td>0.0</td>\n",
       "      <td>1.0</td>\n",
       "      <td>0.0</td>\n",
       "      <td>0.0</td>\n",
       "    </tr>\n",
       "  </tbody>\n",
       "</table>\n",
       "</div>"
      ],
      "text/plain": [
       "   accommodates  bathrooms  bedrooms  beds  Brooklyn  Manhattan  Queens  \\\n",
       "0             1        1.0       0.0   1.0       0.0        1.0     0.0   \n",
       "1             3        1.0       1.0   4.0       1.0        0.0     0.0   \n",
       "2             2        1.0       1.0   1.0       0.0        1.0     0.0   \n",
       "4             2        1.0       1.0   1.0       0.0        1.0     0.0   \n",
       "5             1        1.0       1.0   1.0       0.0        1.0     0.0   \n",
       "\n",
       "   Bronx  Staten Island  Apartment  House  Other  Townhouse  Condominium  \\\n",
       "0    0.0            0.0        1.0    0.0    0.0        0.0          0.0   \n",
       "1    0.0            0.0        0.0    0.0    1.0        0.0          0.0   \n",
       "2    0.0            0.0        1.0    0.0    0.0        0.0          0.0   \n",
       "4    0.0            0.0        1.0    0.0    0.0        0.0          0.0   \n",
       "5    0.0            0.0        1.0    0.0    0.0        0.0          0.0   \n",
       "\n",
       "   Loft  Entire home/apt  Private room  Shared room  Hotel room  \n",
       "0   0.0              1.0           0.0          0.0         0.0  \n",
       "1   0.0              1.0           0.0          0.0         0.0  \n",
       "2   0.0              1.0           0.0          0.0         0.0  \n",
       "4   0.0              0.0           1.0          0.0         0.0  \n",
       "5   0.0              0.0           1.0          0.0         0.0  "
      ]
     },
     "execution_count": 22,
     "metadata": {},
     "output_type": "execute_result"
    }
   ],
   "source": [
    "abm2 = abm1.drop(['price', 'review_scores_rating', 'number_of_reviews', 'amenities'], axis = 1, inplace=False)\n",
    "abm2.head(5)"
   ]
  },
  {
   "cell_type": "code",
   "execution_count": 23,
   "metadata": {
    "execution": {
     "iopub.execute_input": "2022-12-02T10:08:16.478151Z",
     "iopub.status.busy": "2022-12-02T10:08:16.477127Z",
     "iopub.status.idle": "2022-12-02T10:08:16.518985Z",
     "shell.execute_reply": "2022-12-02T10:08:16.518336Z",
     "shell.execute_reply.started": "2022-12-02T09:48:01.181984Z"
    },
    "papermill": {
     "duration": 0.086767,
     "end_time": "2022-12-02T10:08:16.519102",
     "exception": false,
     "start_time": "2022-12-02T10:08:16.432335",
     "status": "completed"
    },
    "tags": []
   },
   "outputs": [
    {
     "data": {
      "text/html": [
       "<div>\n",
       "<style scoped>\n",
       "    .dataframe tbody tr th:only-of-type {\n",
       "        vertical-align: middle;\n",
       "    }\n",
       "\n",
       "    .dataframe tbody tr th {\n",
       "        vertical-align: top;\n",
       "    }\n",
       "\n",
       "    .dataframe thead th {\n",
       "        text-align: right;\n",
       "    }\n",
       "</style>\n",
       "<table border=\"1\" class=\"dataframe\">\n",
       "  <thead>\n",
       "    <tr style=\"text-align: right;\">\n",
       "      <th></th>\n",
       "      <th>accommodates</th>\n",
       "      <th>bathrooms</th>\n",
       "      <th>bedrooms</th>\n",
       "      <th>beds</th>\n",
       "      <th>Brooklyn</th>\n",
       "      <th>Manhattan</th>\n",
       "      <th>Queens</th>\n",
       "      <th>Bronx</th>\n",
       "      <th>Staten Island</th>\n",
       "      <th>Apartment</th>\n",
       "      <th>House</th>\n",
       "      <th>Other</th>\n",
       "      <th>Townhouse</th>\n",
       "      <th>Condominium</th>\n",
       "      <th>Loft</th>\n",
       "      <th>Entire home/apt</th>\n",
       "      <th>Private room</th>\n",
       "      <th>Shared room</th>\n",
       "      <th>Hotel room</th>\n",
       "    </tr>\n",
       "  </thead>\n",
       "  <tbody>\n",
       "    <tr>\n",
       "      <th>0</th>\n",
       "      <td>-1.051304</td>\n",
       "      <td>-0.342984</td>\n",
       "      <td>-1.567475</td>\n",
       "      <td>-0.567580</td>\n",
       "      <td>-0.839017</td>\n",
       "      <td>1.240376</td>\n",
       "      <td>-0.419918</td>\n",
       "      <td>-0.181173</td>\n",
       "      <td>-0.106714</td>\n",
       "      <td>0.601894</td>\n",
       "      <td>-0.353981</td>\n",
       "      <td>-0.196079</td>\n",
       "      <td>-0.234564</td>\n",
       "      <td>-0.181615</td>\n",
       "      <td>-0.186112</td>\n",
       "      <td>0.932087</td>\n",
       "      <td>-0.883220</td>\n",
       "      <td>-0.138427</td>\n",
       "      <td>-0.089033</td>\n",
       "    </tr>\n",
       "    <tr>\n",
       "      <th>1</th>\n",
       "      <td>-0.082309</td>\n",
       "      <td>-0.342984</td>\n",
       "      <td>-0.295538</td>\n",
       "      <td>1.852492</td>\n",
       "      <td>1.191845</td>\n",
       "      <td>-0.806190</td>\n",
       "      <td>-0.419918</td>\n",
       "      <td>-0.181173</td>\n",
       "      <td>-0.106714</td>\n",
       "      <td>-1.661386</td>\n",
       "      <td>-0.353981</td>\n",
       "      <td>5.099875</td>\n",
       "      <td>-0.234564</td>\n",
       "      <td>-0.181615</td>\n",
       "      <td>-0.186112</td>\n",
       "      <td>0.932087</td>\n",
       "      <td>-0.883220</td>\n",
       "      <td>-0.138427</td>\n",
       "      <td>-0.089033</td>\n",
       "    </tr>\n",
       "    <tr>\n",
       "      <th>2</th>\n",
       "      <td>-0.566807</td>\n",
       "      <td>-0.342984</td>\n",
       "      <td>-0.295538</td>\n",
       "      <td>-0.567580</td>\n",
       "      <td>-0.839017</td>\n",
       "      <td>1.240376</td>\n",
       "      <td>-0.419918</td>\n",
       "      <td>-0.181173</td>\n",
       "      <td>-0.106714</td>\n",
       "      <td>0.601894</td>\n",
       "      <td>-0.353981</td>\n",
       "      <td>-0.196079</td>\n",
       "      <td>-0.234564</td>\n",
       "      <td>-0.181615</td>\n",
       "      <td>-0.186112</td>\n",
       "      <td>0.932087</td>\n",
       "      <td>-0.883220</td>\n",
       "      <td>-0.138427</td>\n",
       "      <td>-0.089033</td>\n",
       "    </tr>\n",
       "    <tr>\n",
       "      <th>4</th>\n",
       "      <td>-0.566807</td>\n",
       "      <td>-0.342984</td>\n",
       "      <td>-0.295538</td>\n",
       "      <td>-0.567580</td>\n",
       "      <td>-0.839017</td>\n",
       "      <td>1.240376</td>\n",
       "      <td>-0.419918</td>\n",
       "      <td>-0.181173</td>\n",
       "      <td>-0.106714</td>\n",
       "      <td>0.601894</td>\n",
       "      <td>-0.353981</td>\n",
       "      <td>-0.196079</td>\n",
       "      <td>-0.234564</td>\n",
       "      <td>-0.181615</td>\n",
       "      <td>-0.186112</td>\n",
       "      <td>-1.072838</td>\n",
       "      <td>1.132197</td>\n",
       "      <td>-0.138427</td>\n",
       "      <td>-0.089033</td>\n",
       "    </tr>\n",
       "    <tr>\n",
       "      <th>5</th>\n",
       "      <td>-1.051304</td>\n",
       "      <td>-0.342984</td>\n",
       "      <td>-0.295538</td>\n",
       "      <td>-0.567580</td>\n",
       "      <td>-0.839017</td>\n",
       "      <td>1.240376</td>\n",
       "      <td>-0.419918</td>\n",
       "      <td>-0.181173</td>\n",
       "      <td>-0.106714</td>\n",
       "      <td>0.601894</td>\n",
       "      <td>-0.353981</td>\n",
       "      <td>-0.196079</td>\n",
       "      <td>-0.234564</td>\n",
       "      <td>-0.181615</td>\n",
       "      <td>-0.186112</td>\n",
       "      <td>-1.072838</td>\n",
       "      <td>1.132197</td>\n",
       "      <td>-0.138427</td>\n",
       "      <td>-0.089033</td>\n",
       "    </tr>\n",
       "  </tbody>\n",
       "</table>\n",
       "</div>"
      ],
      "text/plain": [
       "   accommodates  bathrooms  bedrooms      beds  Brooklyn  Manhattan    Queens  \\\n",
       "0     -1.051304  -0.342984 -1.567475 -0.567580 -0.839017   1.240376 -0.419918   \n",
       "1     -0.082309  -0.342984 -0.295538  1.852492  1.191845  -0.806190 -0.419918   \n",
       "2     -0.566807  -0.342984 -0.295538 -0.567580 -0.839017   1.240376 -0.419918   \n",
       "4     -0.566807  -0.342984 -0.295538 -0.567580 -0.839017   1.240376 -0.419918   \n",
       "5     -1.051304  -0.342984 -0.295538 -0.567580 -0.839017   1.240376 -0.419918   \n",
       "\n",
       "      Bronx  Staten Island  Apartment     House     Other  Townhouse  \\\n",
       "0 -0.181173      -0.106714   0.601894 -0.353981 -0.196079  -0.234564   \n",
       "1 -0.181173      -0.106714  -1.661386 -0.353981  5.099875  -0.234564   \n",
       "2 -0.181173      -0.106714   0.601894 -0.353981 -0.196079  -0.234564   \n",
       "4 -0.181173      -0.106714   0.601894 -0.353981 -0.196079  -0.234564   \n",
       "5 -0.181173      -0.106714   0.601894 -0.353981 -0.196079  -0.234564   \n",
       "\n",
       "   Condominium      Loft  Entire home/apt  Private room  Shared room  \\\n",
       "0    -0.181615 -0.186112         0.932087     -0.883220    -0.138427   \n",
       "1    -0.181615 -0.186112         0.932087     -0.883220    -0.138427   \n",
       "2    -0.181615 -0.186112         0.932087     -0.883220    -0.138427   \n",
       "4    -0.181615 -0.186112        -1.072838      1.132197    -0.138427   \n",
       "5    -0.181615 -0.186112        -1.072838      1.132197    -0.138427   \n",
       "\n",
       "   Hotel room  \n",
       "0   -0.089033  \n",
       "1   -0.089033  \n",
       "2   -0.089033  \n",
       "4   -0.089033  \n",
       "5   -0.089033  "
      ]
     },
     "execution_count": 23,
     "metadata": {},
     "output_type": "execute_result"
    }
   ],
   "source": [
    "abm2 = (abm2 - abm2.mean())/abm2.std()\n",
    "abm2.head(5)"
   ]
  },
  {
   "cell_type": "markdown",
   "metadata": {
    "papermill": {
     "duration": 0.040417,
     "end_time": "2022-12-02T10:08:16.602262",
     "exception": false,
     "start_time": "2022-12-02T10:08:16.561845",
     "status": "completed"
    },
    "tags": []
   },
   "source": [
    "### 유사도 계산해보기\n",
    "코사인 유사도로 계산한다."
   ]
  },
  {
   "cell_type": "code",
   "execution_count": 24,
   "metadata": {
    "execution": {
     "iopub.execute_input": "2022-12-02T10:08:16.689104Z",
     "iopub.status.busy": "2022-12-02T10:08:16.688450Z",
     "iopub.status.idle": "2022-12-02T10:08:16.690375Z",
     "shell.execute_reply": "2022-12-02T10:08:16.690981Z",
     "shell.execute_reply.started": "2022-12-02T09:48:07.943929Z"
    },
    "papermill": {
     "duration": 0.048352,
     "end_time": "2022-12-02T10:08:16.691127",
     "exception": false,
     "start_time": "2022-12-02T10:08:16.642775",
     "status": "completed"
    },
    "tags": []
   },
   "outputs": [],
   "source": [
    "from numpy import dot\n",
    "from numpy.linalg import norm\n",
    "\n",
    "def cos_sim(A, B):\n",
    "  return dot(A, B)/(norm(A)*norm(B))"
   ]
  },
  {
   "cell_type": "code",
   "execution_count": 25,
   "metadata": {
    "execution": {
     "iopub.execute_input": "2022-12-02T10:08:16.777994Z",
     "iopub.status.busy": "2022-12-02T10:08:16.777332Z",
     "iopub.status.idle": "2022-12-02T10:08:16.782004Z",
     "shell.execute_reply": "2022-12-02T10:08:16.781119Z",
     "shell.execute_reply.started": "2022-12-02T09:48:11.227047Z"
    },
    "papermill": {
     "duration": 0.050245,
     "end_time": "2022-12-02T10:08:16.782135",
     "exception": false,
     "start_time": "2022-12-02T10:08:16.731890",
     "status": "completed"
    },
    "tags": []
   },
   "outputs": [
    {
     "data": {
      "text/plain": [
       "Index(['accommodates', 'bathrooms', 'bedrooms', 'beds', 'Brooklyn',\n",
       "       'Manhattan', 'Queens', 'Bronx', 'Staten Island', 'Apartment', 'House',\n",
       "       'Other', 'Townhouse', 'Condominium', 'Loft', 'Entire home/apt',\n",
       "       'Private room', 'Shared room', 'Hotel room'],\n",
       "      dtype='object')"
      ]
     },
     "execution_count": 25,
     "metadata": {},
     "output_type": "execute_result"
    }
   ],
   "source": [
    "abm2.columns #사용자로부터 입력받아야 하는 값들"
   ]
  },
  {
   "cell_type": "code",
   "execution_count": 26,
   "metadata": {
    "execution": {
     "iopub.execute_input": "2022-12-02T10:08:16.872711Z",
     "iopub.status.busy": "2022-12-02T10:08:16.871896Z",
     "iopub.status.idle": "2022-12-02T10:08:16.874772Z",
     "shell.execute_reply": "2022-12-02T10:08:16.874231Z",
     "shell.execute_reply.started": "2022-12-02T10:04:49.759789Z"
    },
    "papermill": {
     "duration": 0.051804,
     "end_time": "2022-12-02T10:08:16.874910",
     "exception": false,
     "start_time": "2022-12-02T10:08:16.823106",
     "status": "completed"
    },
    "tags": []
   },
   "outputs": [],
   "source": [
    "# 예시 데이터\n",
    "# 지금은 정적으로 입력됐지만, 사용자가 입력하게끔 해야 한다.\n",
    "test_data = np.array([4,1,2,4,1,0,0,0,0,1,0,0,0,0,0,1,0,0,0])\n",
    "test_data = test_data.astype(float)\n",
    "\n",
    "def norm_input(test):\n",
    "    idx = 0\n",
    "    for item in abm2.columns:\n",
    "        test[idx] = (test[idx] - abm1[item].mean())/abm1[item].std()\n",
    "        idx += 1"
   ]
  },
  {
   "cell_type": "code",
   "execution_count": 27,
   "metadata": {
    "execution": {
     "iopub.execute_input": "2022-12-02T10:08:16.966684Z",
     "iopub.status.busy": "2022-12-02T10:08:16.965938Z",
     "iopub.status.idle": "2022-12-02T10:08:17.712898Z",
     "shell.execute_reply": "2022-12-02T10:08:17.712366Z",
     "shell.execute_reply.started": "2022-12-02T10:04:53.466022Z"
    },
    "papermill": {
     "duration": 0.795755,
     "end_time": "2022-12-02T10:08:17.713023",
     "exception": false,
     "start_time": "2022-12-02T10:08:16.917268",
     "status": "completed"
    },
    "tags": []
   },
   "outputs": [
    {
     "data": {
      "text/plain": [
       "[-0.259301892146345,\n",
       " 0.2952090947016868,\n",
       " -0.12515319366987848,\n",
       " -0.5899875536186986,\n",
       " -0.5807925060256452,\n",
       " 0.11446792677937322,\n",
       " -0.5899875536186986,\n",
       " -0.29411887308716156,\n",
       " -0.5807925060256452,\n",
       " -0.1425080976548872]"
      ]
     },
     "execution_count": 27,
     "metadata": {},
     "output_type": "execute_result"
    }
   ],
   "source": [
    "sim = []\n",
    "norm_input(test_data)\n",
    "\n",
    "for item in abm2.to_numpy():\n",
    "    sim.append(cos_sim(test_data, item))\n",
    "    \n",
    "sim[:10]"
   ]
  },
  {
   "cell_type": "code",
   "execution_count": 28,
   "metadata": {
    "execution": {
     "iopub.execute_input": "2022-12-02T10:08:17.831713Z",
     "iopub.status.busy": "2022-12-02T10:08:17.805850Z",
     "iopub.status.idle": "2022-12-02T10:08:17.866756Z",
     "shell.execute_reply": "2022-12-02T10:08:17.866057Z",
     "shell.execute_reply.started": "2022-12-02T10:04:57.193050Z"
    },
    "papermill": {
     "duration": 0.110368,
     "end_time": "2022-12-02T10:08:17.866910",
     "exception": false,
     "start_time": "2022-12-02T10:08:17.756542",
     "status": "completed"
    },
    "tags": []
   },
   "outputs": [
    {
     "name": "stdout",
     "output_type": "stream",
     "text": [
      "[44042, 44130, 44713, 44952, 46335, 1652, 6782, 8732, 9304, 10587, 12077, 12104, 12587, 15122, 15198, 19627, 25027, 26260, 26627, 28542, 28905, 30860, 36277, 38461, 39220, 40467, 40806, 41060, 42393, 42430]\n",
      "[0.9882879525152747, 0.9882879525152747, 0.9882879525152747, 0.9882879525152747, 0.9882879525152747, 0.9999999999999998, 0.9999999999999998, 0.9999999999999998, 0.9999999999999998, 0.9999999999999998, 0.9999999999999998, 0.9999999999999998, 0.9999999999999998, 0.9999999999999998, 0.9999999999999998, 0.9999999999999998, 0.9999999999999998, 0.9999999999999998, 0.9999999999999998, 0.9999999999999998, 0.9999999999999998, 0.9999999999999998, 0.9999999999999998, 0.9999999999999998, 0.9999999999999998, 0.9999999999999998, 0.9999999999999998, 0.9999999999999998, 0.9999999999999998, 0.9999999999999998]\n"
     ]
    }
   ],
   "source": [
    "sim_sorted_byindex = sorted(range(len(sim)), key=lambda k: sim[k])\n",
    "sim_sorted_byindex = sim_sorted_byindex[-30:]\n",
    "print(sim_sorted_byindex)\n",
    "\n",
    "sim.sort()\n",
    "sim = sim[-30:]\n",
    "print(sim)\n",
    "# 상위 30개의 유사도를 가지는 데이터를 추출\n",
    "\n",
    "# 2,1,2,4,200,1,0,0,0,0,1,0,0,0,0,0,1,0,0,0\n",
    "#abm1.to_numpy()[42430] # 가장 유사도가 높은 호스트. 그러나, 평점이 높은지는 보장 X"
   ]
  },
  {
   "cell_type": "markdown",
   "metadata": {
    "papermill": {
     "duration": 0.04131,
     "end_time": "2022-12-02T10:08:17.950869",
     "exception": false,
     "start_time": "2022-12-02T10:08:17.909559",
     "status": "completed"
    },
    "tags": []
   },
   "source": [
    "### 평점이 높다라는 기준\n",
    "이제 유사도를 가진 Top 30개의 데이터를 산출하였지만,  \n",
    "이중에서 유의미하게 평점이 높은 데이터들을 선별해야 한다."
   ]
  },
  {
   "cell_type": "code",
   "execution_count": 29,
   "metadata": {
    "execution": {
     "iopub.execute_input": "2022-12-02T10:08:18.049016Z",
     "iopub.status.busy": "2022-12-02T10:08:18.048181Z",
     "iopub.status.idle": "2022-12-02T10:08:19.719337Z",
     "shell.execute_reply": "2022-12-02T10:08:19.718723Z",
     "shell.execute_reply.started": "2022-12-02T10:05:03.835489Z"
    },
    "papermill": {
     "duration": 1.724273,
     "end_time": "2022-12-02T10:08:19.719481",
     "exception": false,
     "start_time": "2022-12-02T10:08:17.995208",
     "status": "completed"
    },
    "tags": []
   },
   "outputs": [
    {
     "name": "stdout",
     "output_type": "stream",
     "text": [
      "94.43333333333334\n"
     ]
    }
   ],
   "source": [
    "mean = 0\n",
    "\n",
    "for idx in sim_sorted_byindex:\n",
    "    mean += abm1.to_numpy()[idx][5]\n",
    "\n",
    "mean = mean / 30\n",
    "print(mean)"
   ]
  },
  {
   "cell_type": "markdown",
   "metadata": {
    "papermill": {
     "duration": 0.04165,
     "end_time": "2022-12-02T10:08:19.803680",
     "exception": false,
     "start_time": "2022-12-02T10:08:19.762030",
     "status": "completed"
    },
    "tags": []
   },
   "source": [
    "### 상위 30개의 데이터에서 평점이 평균 이상인 것만 추려내기"
   ]
  },
  {
   "cell_type": "code",
   "execution_count": 30,
   "metadata": {
    "execution": {
     "iopub.execute_input": "2022-12-02T10:08:19.891379Z",
     "iopub.status.busy": "2022-12-02T10:08:19.890444Z",
     "iopub.status.idle": "2022-12-02T10:08:21.532800Z",
     "shell.execute_reply": "2022-12-02T10:08:21.532247Z",
     "shell.execute_reply.started": "2022-12-02T10:05:30.610991Z"
    },
    "papermill": {
     "duration": 1.687291,
     "end_time": "2022-12-02T10:08:21.532933",
     "exception": false,
     "start_time": "2022-12-02T10:08:19.845642",
     "status": "completed"
    },
    "tags": []
   },
   "outputs": [
    {
     "data": {
      "text/plain": [
       "{44952: 0.9882879525152747,\n",
       " 46335: 0.9882879525152747,\n",
       " 1652: 0.9999999999999998,\n",
       " 6782: 0.9999999999999998,\n",
       " 8732: 0.9999999999999998,\n",
       " 9304: 0.9999999999999998,\n",
       " 10587: 0.9999999999999998,\n",
       " 12104: 0.9999999999999998,\n",
       " 12587: 0.9999999999999998,\n",
       " 15198: 0.9999999999999998,\n",
       " 19627: 0.9999999999999998,\n",
       " 25027: 0.9999999999999998,\n",
       " 26260: 0.9999999999999998,\n",
       " 26627: 0.9999999999999998,\n",
       " 36277: 0.9999999999999998,\n",
       " 38461: 0.9999999999999998,\n",
       " 39220: 0.9999999999999998,\n",
       " 41060: 0.9999999999999998,\n",
       " 42430: 0.9999999999999998}"
      ]
     },
     "execution_count": 30,
     "metadata": {},
     "output_type": "execute_result"
    }
   ],
   "source": [
    "selected = {}\n",
    "\n",
    "for idx, s in zip(sim_sorted_byindex, sim):\n",
    "    if abm1.to_numpy()[idx][5] > mean:\n",
    "        selected[idx] = s\n",
    "        \n",
    "selected"
   ]
  },
  {
   "cell_type": "markdown",
   "metadata": {
    "papermill": {
     "duration": 0.04165,
     "end_time": "2022-12-02T10:08:21.616867",
     "exception": false,
     "start_time": "2022-12-02T10:08:21.575217",
     "status": "completed"
    },
    "tags": []
   },
   "source": [
    "## 3. 최종 추천 가격"
   ]
  },
  {
   "cell_type": "code",
   "execution_count": 31,
   "metadata": {
    "execution": {
     "iopub.execute_input": "2022-12-02T10:08:21.706333Z",
     "iopub.status.busy": "2022-12-02T10:08:21.705362Z",
     "iopub.status.idle": "2022-12-02T10:08:21.710866Z",
     "shell.execute_reply": "2022-12-02T10:08:21.711325Z",
     "shell.execute_reply.started": "2022-12-02T10:05:38.806792Z"
    },
    "papermill": {
     "duration": 0.051531,
     "end_time": "2022-12-02T10:08:21.711505",
     "exception": false,
     "start_time": "2022-12-02T10:08:21.659974",
     "status": "completed"
    },
    "tags": []
   },
   "outputs": [],
   "source": [
    "def recommend_price(selected):\n",
    "    child = 0\n",
    "    parent = 0\n",
    "    for key in selected.keys():\n",
    "        child += abm1.to_numpy()[key][4] * selected[key]\n",
    "        parent += selected[key]\n",
    "    return child/parent"
   ]
  },
  {
   "cell_type": "code",
   "execution_count": 32,
   "metadata": {
    "execution": {
     "iopub.execute_input": "2022-12-02T10:08:21.800338Z",
     "iopub.status.busy": "2022-12-02T10:08:21.799300Z",
     "iopub.status.idle": "2022-12-02T10:08:22.827286Z",
     "shell.execute_reply": "2022-12-02T10:08:22.826638Z",
     "shell.execute_reply.started": "2022-12-02T10:05:41.854053Z"
    },
    "papermill": {
     "duration": 1.072843,
     "end_time": "2022-12-02T10:08:22.827406",
     "exception": false,
     "start_time": "2022-12-02T10:08:21.754563",
     "status": "completed"
    },
    "tags": []
   },
   "outputs": [
    {
     "data": {
      "text/plain": [
       "153.20376128618886"
      ]
     },
     "execution_count": 32,
     "metadata": {},
     "output_type": "execute_result"
    }
   ],
   "source": [
    "recommend_price(selected)"
   ]
  },
  {
   "cell_type": "code",
   "execution_count": 33,
   "metadata": {
    "execution": {
     "iopub.execute_input": "2022-12-02T10:08:22.918823Z",
     "iopub.status.busy": "2022-12-02T10:08:22.917810Z",
     "iopub.status.idle": "2022-12-02T10:08:22.966065Z",
     "shell.execute_reply": "2022-12-02T10:08:22.965383Z",
     "shell.execute_reply.started": "2022-12-02T10:05:48.713411Z"
    },
    "papermill": {
     "duration": 0.096055,
     "end_time": "2022-12-02T10:08:22.966187",
     "exception": false,
     "start_time": "2022-12-02T10:08:22.870132",
     "status": "completed"
    },
    "tags": []
   },
   "outputs": [
    {
     "data": {
      "text/plain": [
       "array([4, 1.0, 2.0, 4.0, 149.0, 96.0, 33,\n",
       "       '{Wifi,\"Air conditioning\",Kitchen,\"Free street parking\",Heating,Washer,Dryer,\"Smoke detector\",\"Carbon monoxide detector\",\"Fire extinguisher\",Essentials,Shampoo,Hangers,\"Hair dryer\",Iron,\"Laptop friendly workspace\",\"Self check-in\",Keypad,Bathtub,\"Window guards\",\"Hot water\",\"Bed linens\",\"Extra pillows and blankets\",\"Ethernet connection\",\"Pocket wifi\",Microwave,\"Coffee maker\",Refrigerator,\"Dishes and silverware\",\"Cooking basics\",Oven,Stove,\"Long term stays allowed\"}',\n",
       "       1.0, 0.0, 0.0, 0.0, 0.0, 1.0, 0.0, 0.0, 0.0, 0.0, 0.0, 1.0, 0.0,\n",
       "       0.0, 0.0], dtype=object)"
      ]
     },
     "execution_count": 33,
     "metadata": {},
     "output_type": "execute_result"
    }
   ],
   "source": [
    "abm1.to_numpy()[42430]"
   ]
  },
  {
   "cell_type": "code",
   "execution_count": null,
   "metadata": {
    "papermill": {
     "duration": 0.093396,
     "end_time": "2022-12-02T10:08:23.102742",
     "exception": false,
     "start_time": "2022-12-02T10:08:23.009346",
     "status": "completed"
    },
    "tags": []
   },
   "outputs": [],
   "source": []
  }
 ],
 "metadata": {
  "kernelspec": {
   "display_name": "Python 3",
   "language": "python",
   "name": "python3"
  },
  "language_info": {
   "codemirror_mode": {
    "name": "ipython",
    "version": 3
   },
   "file_extension": ".py",
   "mimetype": "text/x-python",
   "name": "python",
   "nbconvert_exporter": "python",
   "pygments_lexer": "ipython3",
   "version": "3.7.6"
  },
  "papermill": {
   "duration": 31.237228,
   "end_time": "2022-12-02T10:08:23.255336",
   "environment_variables": {},
   "exception": null,
   "input_path": "__notebook__.ipynb",
   "output_path": "__notebook__.ipynb",
   "parameters": {},
   "start_time": "2022-12-02T10:07:52.018108",
   "version": "2.1.0"
  }
 },
 "nbformat": 4,
 "nbformat_minor": 4
}
