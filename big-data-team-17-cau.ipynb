{
 "cells": [
  {
   "cell_type": "markdown",
   "metadata": {
    "papermill": {
     "duration": 0.034953,
     "end_time": "2022-12-02T08:33:25.391084",
     "exception": false,
     "start_time": "2022-12-02T08:33:25.356131",
     "status": "completed"
    },
    "tags": []
   },
   "source": [
    "### Content Based Filtering을 이용한 Airbnb Host Recommender"
   ]
  },
  {
   "cell_type": "markdown",
   "metadata": {
    "papermill": {
     "duration": 0.031168,
     "end_time": "2022-12-02T08:33:25.454544",
     "exception": false,
     "start_time": "2022-12-02T08:33:25.423376",
     "status": "completed"
    },
    "tags": []
   },
   "source": [
    "#### Big Data Group 17. 서현종, 김상현, 김승엽"
   ]
  },
  {
   "cell_type": "markdown",
   "metadata": {
    "papermill": {
     "duration": 0.031159,
     "end_time": "2022-12-02T08:33:25.517281",
     "exception": false,
     "start_time": "2022-12-02T08:33:25.486122",
     "status": "completed"
    },
    "tags": []
   },
   "source": [
    "### 시나리오"
   ]
  },
  {
   "cell_type": "markdown",
   "metadata": {
    "papermill": {
     "duration": 0.031998,
     "end_time": "2022-12-02T08:33:25.580775",
     "exception": false,
     "start_time": "2022-12-02T08:33:25.548777",
     "status": "completed"
    },
    "tags": []
   },
   "source": [
    "Airbnb 신규 Host인 Ernest는 뉴욕에 위치한 자신의 집을 숙박 업소로 공개하고자 한다.  \n",
    "그러나, Ernest는 위치, 방의 개수, 침대 개수, 침대의 타입등 자신이 소유한 집의 정보만을 알고 있다.  \n",
    "이 집을 Airbnb로 공개하였을때 얼마의 가격과 얼마의 보증금,  \n",
    "또한 어떤 amenities(집기구 등)를 놓아야하는지가 Ernest의 최대 관심사이다.  \n",
    "따라서 Ernest는 CAUSWE Big Data 17조가 만든 Content Based Filtering 추천 시스템을 이용하여  \n",
    "적절한 가격 책정과 집기구 배치에 대해 도움을 얻고자 한다."
   ]
  },
  {
   "cell_type": "markdown",
   "metadata": {
    "papermill": {
     "duration": 0.031301,
     "end_time": "2022-12-02T08:33:25.643636",
     "exception": false,
     "start_time": "2022-12-02T08:33:25.612335",
     "status": "completed"
    },
    "tags": []
   },
   "source": [
    "### 프로그램 개요"
   ]
  },
  {
   "cell_type": "markdown",
   "metadata": {
    "papermill": {
     "duration": 0.031515,
     "end_time": "2022-12-02T08:33:25.706736",
     "exception": false,
     "start_time": "2022-12-02T08:33:25.675221",
     "status": "completed"
    },
    "tags": []
   },
   "source": [
    "Airbnb Open Data는 Host 숙소에 대한 106가지의 Feature가 정의되어 있는 데이터 셋이다.  \n",
    "통상적인 추천 시스템이라면 협업 필터링 (Collaborate Filtering)을 사용하나,  \n",
    "이 데이터 셋은 사용자의 정보가 없기 때문에 (오직 이 숙소에 대한 평균 평점들만 알 수 있음),  \n",
    "Content의 정보에 기반하여 추천 시스템이 적합해보였다.  \n",
    "  \n",
    "Content Based Filtering을 토대로 이 추천시스템은 호스트가 입력한 숙박 업소의 정보를  \n",
    "어느 데이터와 유사한지 판별하여 (cos sim), Top N을 추려낸다음, 이 Top N 중에서  \n",
    "평점이 높은 숙박 업소의 정보만을 추려내어 적절한 가격과 amenities를 추천할 것이다."
   ]
  },
  {
   "cell_type": "markdown",
   "metadata": {
    "papermill": {
     "duration": 0.030928,
     "end_time": "2022-12-02T08:33:25.769650",
     "exception": false,
     "start_time": "2022-12-02T08:33:25.738722",
     "status": "completed"
    },
    "tags": []
   },
   "source": [
    "### 모델 평가방법"
   ]
  },
  {
   "cell_type": "markdown",
   "metadata": {
    "papermill": {
     "duration": 0.031491,
     "end_time": "2022-12-02T08:33:25.832571",
     "exception": false,
     "start_time": "2022-12-02T08:33:25.801080",
     "status": "completed"
    },
    "tags": []
   },
   "source": [
    "#### 미래의 Dataset을 이용한 Heurisitic 한 평가방법\n",
    "\n",
    "추천 시스템의 가장 기본적이고 효율적인 평가방법은 실제 출시되고 나서의 Heuristic한 평가이다.\n",
    "  \n",
    "현재 데이터셋은 2020년도의 데이터로, 이 추천 시스템을 사용하는 Host, Ernest는 2020년에  \n",
    "이 추천 시스템을 사용하였다고 가정하자. 그렇다면 이 추천 시스템이 정확하다면 다음 해인 2021년에  \n",
    "유의미하게 높은 평점을 받아야 할 것이다.  \n",
    "  \n",
    "따라서 본 모델을 평가하기 위해 우리는 2020년에서 산출한 추천 정보와 2021년 데이터 셋 사이에서  \n",
    "가장 유사도가 높은 데이터를 선별한 후, 이 데이터의 평점이 유의미하게 높은지 판별하여  \n",
    "모델의 정확도를 평가할 것이다.\n",
    "  \n",
    "즉, 실제 이 추천 시스템을 토대로 가격과 집기구를 배치했을시 내년에 얼마나 높은 평점을 받았는지가  \n",
    "이 모델의 정확도 측정의 관건인 것이다."
   ]
  },
  {
   "cell_type": "markdown",
   "metadata": {
    "papermill": {
     "duration": 0.031943,
     "end_time": "2022-12-02T08:33:25.895926",
     "exception": false,
     "start_time": "2022-12-02T08:33:25.863983",
     "status": "completed"
    },
    "tags": []
   },
   "source": [
    "## 0. 모델에 사용할 데이터셋 불러오기"
   ]
  },
  {
   "cell_type": "code",
   "execution_count": 1,
   "metadata": {
    "execution": {
     "iopub.execute_input": "2022-12-02T08:33:25.965654Z",
     "iopub.status.busy": "2022-12-02T08:33:25.964820Z",
     "iopub.status.idle": "2022-12-02T08:33:25.968102Z",
     "shell.execute_reply": "2022-12-02T08:33:25.967528Z",
     "shell.execute_reply.started": "2022-12-02T05:25:49.380117Z"
    },
    "papermill": {
     "duration": 0.040673,
     "end_time": "2022-12-02T08:33:25.968238",
     "exception": false,
     "start_time": "2022-12-02T08:33:25.927565",
     "status": "completed"
    },
    "tags": []
   },
   "outputs": [],
   "source": [
    "from IPython.core.interactiveshell import InteractiveShell #python의 대화형 쉘, 인터프리터\n",
    "InteractiveShell.ast_node_interactivity = \"all\"#모든 출력값을 연속적으로 출력\n",
    "import warnings\n",
    "warnings.filterwarnings(\"ignore\")"
   ]
  },
  {
   "cell_type": "code",
   "execution_count": 2,
   "metadata": {
    "execution": {
     "iopub.execute_input": "2022-12-02T08:33:26.038241Z",
     "iopub.status.busy": "2022-12-02T08:33:26.037411Z",
     "iopub.status.idle": "2022-12-02T08:33:26.040688Z",
     "shell.execute_reply": "2022-12-02T08:33:26.039976Z",
     "shell.execute_reply.started": "2022-12-02T05:25:49.389563Z"
    },
    "papermill": {
     "duration": 0.040862,
     "end_time": "2022-12-02T08:33:26.040818",
     "exception": false,
     "start_time": "2022-12-02T08:33:25.999956",
     "status": "completed"
    },
    "tags": []
   },
   "outputs": [],
   "source": [
    "import numpy as np\n",
    "import pandas as pd\n",
    "\n",
    "pd.options.display.max_rows = 200\n",
    "pd.options.display.max_columns = 50"
   ]
  },
  {
   "cell_type": "code",
   "execution_count": 3,
   "metadata": {
    "execution": {
     "iopub.execute_input": "2022-12-02T08:33:26.116195Z",
     "iopub.status.busy": "2022-12-02T08:33:26.115413Z",
     "iopub.status.idle": "2022-12-02T08:33:41.709332Z",
     "shell.execute_reply": "2022-12-02T08:33:41.708197Z",
     "shell.execute_reply.started": "2022-12-02T05:26:02.880335Z"
    },
    "papermill": {
     "duration": 15.637538,
     "end_time": "2022-12-02T08:33:41.709583",
     "exception": false,
     "start_time": "2022-12-02T08:33:26.072045",
     "status": "completed"
    },
    "tags": []
   },
   "outputs": [
    {
     "data": {
      "text/html": [
       "<div>\n",
       "<style scoped>\n",
       "    .dataframe tbody tr th:only-of-type {\n",
       "        vertical-align: middle;\n",
       "    }\n",
       "\n",
       "    .dataframe tbody tr th {\n",
       "        vertical-align: top;\n",
       "    }\n",
       "\n",
       "    .dataframe thead th {\n",
       "        text-align: right;\n",
       "    }\n",
       "</style>\n",
       "<table border=\"1\" class=\"dataframe\">\n",
       "  <thead>\n",
       "    <tr style=\"text-align: right;\">\n",
       "      <th></th>\n",
       "      <th>id</th>\n",
       "      <th>listing_url</th>\n",
       "      <th>scrape_id</th>\n",
       "      <th>last_scraped</th>\n",
       "      <th>name</th>\n",
       "      <th>summary</th>\n",
       "      <th>space</th>\n",
       "      <th>description</th>\n",
       "      <th>experiences_offered</th>\n",
       "      <th>neighborhood_overview</th>\n",
       "      <th>notes</th>\n",
       "      <th>transit</th>\n",
       "      <th>access</th>\n",
       "      <th>interaction</th>\n",
       "      <th>house_rules</th>\n",
       "      <th>thumbnail_url</th>\n",
       "      <th>medium_url</th>\n",
       "      <th>picture_url</th>\n",
       "      <th>xl_picture_url</th>\n",
       "      <th>host_id</th>\n",
       "      <th>host_url</th>\n",
       "      <th>host_name</th>\n",
       "      <th>host_since</th>\n",
       "      <th>host_location</th>\n",
       "      <th>host_about</th>\n",
       "      <th>...</th>\n",
       "      <th>calendar_last_scraped</th>\n",
       "      <th>number_of_reviews</th>\n",
       "      <th>number_of_reviews_ltm</th>\n",
       "      <th>first_review</th>\n",
       "      <th>last_review</th>\n",
       "      <th>review_scores_rating</th>\n",
       "      <th>review_scores_accuracy</th>\n",
       "      <th>review_scores_cleanliness</th>\n",
       "      <th>review_scores_checkin</th>\n",
       "      <th>review_scores_communication</th>\n",
       "      <th>review_scores_location</th>\n",
       "      <th>review_scores_value</th>\n",
       "      <th>requires_license</th>\n",
       "      <th>license</th>\n",
       "      <th>jurisdiction_names</th>\n",
       "      <th>instant_bookable</th>\n",
       "      <th>is_business_travel_ready</th>\n",
       "      <th>cancellation_policy</th>\n",
       "      <th>require_guest_profile_picture</th>\n",
       "      <th>require_guest_phone_verification</th>\n",
       "      <th>calculated_host_listings_count</th>\n",
       "      <th>calculated_host_listings_count_entire_homes</th>\n",
       "      <th>calculated_host_listings_count_private_rooms</th>\n",
       "      <th>calculated_host_listings_count_shared_rooms</th>\n",
       "      <th>reviews_per_month</th>\n",
       "    </tr>\n",
       "  </thead>\n",
       "  <tbody>\n",
       "    <tr>\n",
       "      <th>0</th>\n",
       "      <td>2595</td>\n",
       "      <td>https://www.airbnb.com/rooms/2595</td>\n",
       "      <td>20200212052319</td>\n",
       "      <td>2020-02-12</td>\n",
       "      <td>Skylit Midtown Castle</td>\n",
       "      <td>Beautiful, spacious skylit studio in the heart...</td>\n",
       "      <td>- Spacious (500+ft²), immaculate and nicely fu...</td>\n",
       "      <td>Beautiful, spacious skylit studio in the heart...</td>\n",
       "      <td>none</td>\n",
       "      <td>Centrally located in the heart of Manhattan ju...</td>\n",
       "      <td>NaN</td>\n",
       "      <td>Apartment is located on 37th Street between 5t...</td>\n",
       "      <td>Guests have full access to the kitchen, bathro...</td>\n",
       "      <td>I am a Sound Therapy Practitioner and Kundalin...</td>\n",
       "      <td>Make yourself at home, respect the space and t...</td>\n",
       "      <td>NaN</td>\n",
       "      <td>NaN</td>\n",
       "      <td>https://a0.muscache.com/im/pictures/f0813a11-4...</td>\n",
       "      <td>NaN</td>\n",
       "      <td>2845</td>\n",
       "      <td>https://www.airbnb.com/users/show/2845</td>\n",
       "      <td>Jennifer</td>\n",
       "      <td>2008-09-09</td>\n",
       "      <td>New York, New York, United States</td>\n",
       "      <td>A New Yorker since 2000! My passion is creatin...</td>\n",
       "      <td>...</td>\n",
       "      <td>2020-02-12</td>\n",
       "      <td>48</td>\n",
       "      <td>5</td>\n",
       "      <td>2009-11-21</td>\n",
       "      <td>2019-11-04</td>\n",
       "      <td>94.0</td>\n",
       "      <td>9.0</td>\n",
       "      <td>9.0</td>\n",
       "      <td>10.0</td>\n",
       "      <td>10.0</td>\n",
       "      <td>10.0</td>\n",
       "      <td>9.0</td>\n",
       "      <td>f</td>\n",
       "      <td>NaN</td>\n",
       "      <td>NaN</td>\n",
       "      <td>f</td>\n",
       "      <td>f</td>\n",
       "      <td>strict_14_with_grace_period</td>\n",
       "      <td>t</td>\n",
       "      <td>t</td>\n",
       "      <td>2</td>\n",
       "      <td>2</td>\n",
       "      <td>0</td>\n",
       "      <td>0</td>\n",
       "      <td>0.39</td>\n",
       "    </tr>\n",
       "    <tr>\n",
       "      <th>1</th>\n",
       "      <td>3831</td>\n",
       "      <td>https://www.airbnb.com/rooms/3831</td>\n",
       "      <td>20200212052319</td>\n",
       "      <td>2020-02-13</td>\n",
       "      <td>Cozy Entire Floor of Brownstone</td>\n",
       "      <td>Urban retreat: enjoy 500 s.f. floor in 1899 br...</td>\n",
       "      <td>Greetings!      We own a double-duplex brownst...</td>\n",
       "      <td>Urban retreat: enjoy 500 s.f. floor in 1899 br...</td>\n",
       "      <td>none</td>\n",
       "      <td>Just the right mix of urban center and local n...</td>\n",
       "      <td>NaN</td>\n",
       "      <td>B52 bus for a 10-minute ride to downtown Brook...</td>\n",
       "      <td>You will have the private, exclusive use of an...</td>\n",
       "      <td>We'll be around, but since you have the top fl...</td>\n",
       "      <td>Smoking - outside please; pets allowed but ple...</td>\n",
       "      <td>NaN</td>\n",
       "      <td>NaN</td>\n",
       "      <td>https://a0.muscache.com/im/pictures/e49999c2-9...</td>\n",
       "      <td>NaN</td>\n",
       "      <td>4869</td>\n",
       "      <td>https://www.airbnb.com/users/show/4869</td>\n",
       "      <td>LisaRoxanne</td>\n",
       "      <td>2008-12-07</td>\n",
       "      <td>New York, New York, United States</td>\n",
       "      <td>Laid-back bi-coastal actor/professor/attorney.</td>\n",
       "      <td>...</td>\n",
       "      <td>2020-02-13</td>\n",
       "      <td>307</td>\n",
       "      <td>70</td>\n",
       "      <td>2014-09-30</td>\n",
       "      <td>2020-02-08</td>\n",
       "      <td>90.0</td>\n",
       "      <td>9.0</td>\n",
       "      <td>9.0</td>\n",
       "      <td>10.0</td>\n",
       "      <td>9.0</td>\n",
       "      <td>10.0</td>\n",
       "      <td>9.0</td>\n",
       "      <td>f</td>\n",
       "      <td>NaN</td>\n",
       "      <td>NaN</td>\n",
       "      <td>f</td>\n",
       "      <td>f</td>\n",
       "      <td>moderate</td>\n",
       "      <td>f</td>\n",
       "      <td>f</td>\n",
       "      <td>1</td>\n",
       "      <td>1</td>\n",
       "      <td>0</td>\n",
       "      <td>0</td>\n",
       "      <td>4.69</td>\n",
       "    </tr>\n",
       "    <tr>\n",
       "      <th>2</th>\n",
       "      <td>5099</td>\n",
       "      <td>https://www.airbnb.com/rooms/5099</td>\n",
       "      <td>20200212052319</td>\n",
       "      <td>2020-02-12</td>\n",
       "      <td>Large Cozy 1 BR Apartment In Midtown East</td>\n",
       "      <td>My large 1 bedroom apartment has a true New Yo...</td>\n",
       "      <td>I have a large 1 bedroom apartment centrally l...</td>\n",
       "      <td>My large 1 bedroom apartment has a true New Yo...</td>\n",
       "      <td>none</td>\n",
       "      <td>My neighborhood in Midtown East is called Murr...</td>\n",
       "      <td>Read My Full Listing For All Information. New ...</td>\n",
       "      <td>From the apartment is a 10 minute walk to Gran...</td>\n",
       "      <td>I will meet you upon arrival.</td>\n",
       "      <td>I usually check in with guests via text or ema...</td>\n",
       "      <td>• Check-in time is 2PM. • Check-out time is 12...</td>\n",
       "      <td>NaN</td>\n",
       "      <td>NaN</td>\n",
       "      <td>https://a0.muscache.com/im/pictures/24020910/1...</td>\n",
       "      <td>NaN</td>\n",
       "      <td>7322</td>\n",
       "      <td>https://www.airbnb.com/users/show/7322</td>\n",
       "      <td>Chris</td>\n",
       "      <td>2009-02-02</td>\n",
       "      <td>New York, New York, United States</td>\n",
       "      <td>I'm an artist, writer, traveler, and a native ...</td>\n",
       "      <td>...</td>\n",
       "      <td>2020-02-12</td>\n",
       "      <td>78</td>\n",
       "      <td>8</td>\n",
       "      <td>2009-04-20</td>\n",
       "      <td>2019-10-13</td>\n",
       "      <td>90.0</td>\n",
       "      <td>10.0</td>\n",
       "      <td>9.0</td>\n",
       "      <td>10.0</td>\n",
       "      <td>10.0</td>\n",
       "      <td>10.0</td>\n",
       "      <td>9.0</td>\n",
       "      <td>f</td>\n",
       "      <td>NaN</td>\n",
       "      <td>NaN</td>\n",
       "      <td>f</td>\n",
       "      <td>f</td>\n",
       "      <td>moderate</td>\n",
       "      <td>t</td>\n",
       "      <td>t</td>\n",
       "      <td>1</td>\n",
       "      <td>1</td>\n",
       "      <td>0</td>\n",
       "      <td>0</td>\n",
       "      <td>0.59</td>\n",
       "    </tr>\n",
       "  </tbody>\n",
       "</table>\n",
       "<p>3 rows × 106 columns</p>\n",
       "</div>"
      ],
      "text/plain": [
       "     id                        listing_url       scrape_id last_scraped  \\\n",
       "0  2595  https://www.airbnb.com/rooms/2595  20200212052319   2020-02-12   \n",
       "1  3831  https://www.airbnb.com/rooms/3831  20200212052319   2020-02-13   \n",
       "2  5099  https://www.airbnb.com/rooms/5099  20200212052319   2020-02-12   \n",
       "\n",
       "                                        name  \\\n",
       "0                      Skylit Midtown Castle   \n",
       "1            Cozy Entire Floor of Brownstone   \n",
       "2  Large Cozy 1 BR Apartment In Midtown East   \n",
       "\n",
       "                                             summary  \\\n",
       "0  Beautiful, spacious skylit studio in the heart...   \n",
       "1  Urban retreat: enjoy 500 s.f. floor in 1899 br...   \n",
       "2  My large 1 bedroom apartment has a true New Yo...   \n",
       "\n",
       "                                               space  \\\n",
       "0  - Spacious (500+ft²), immaculate and nicely fu...   \n",
       "1  Greetings!      We own a double-duplex brownst...   \n",
       "2  I have a large 1 bedroom apartment centrally l...   \n",
       "\n",
       "                                         description experiences_offered  \\\n",
       "0  Beautiful, spacious skylit studio in the heart...                none   \n",
       "1  Urban retreat: enjoy 500 s.f. floor in 1899 br...                none   \n",
       "2  My large 1 bedroom apartment has a true New Yo...                none   \n",
       "\n",
       "                               neighborhood_overview  \\\n",
       "0  Centrally located in the heart of Manhattan ju...   \n",
       "1  Just the right mix of urban center and local n...   \n",
       "2  My neighborhood in Midtown East is called Murr...   \n",
       "\n",
       "                                               notes  \\\n",
       "0                                                NaN   \n",
       "1                                                NaN   \n",
       "2  Read My Full Listing For All Information. New ...   \n",
       "\n",
       "                                             transit  \\\n",
       "0  Apartment is located on 37th Street between 5t...   \n",
       "1  B52 bus for a 10-minute ride to downtown Brook...   \n",
       "2  From the apartment is a 10 minute walk to Gran...   \n",
       "\n",
       "                                              access  \\\n",
       "0  Guests have full access to the kitchen, bathro...   \n",
       "1  You will have the private, exclusive use of an...   \n",
       "2                      I will meet you upon arrival.   \n",
       "\n",
       "                                         interaction  \\\n",
       "0  I am a Sound Therapy Practitioner and Kundalin...   \n",
       "1  We'll be around, but since you have the top fl...   \n",
       "2  I usually check in with guests via text or ema...   \n",
       "\n",
       "                                         house_rules  thumbnail_url  \\\n",
       "0  Make yourself at home, respect the space and t...            NaN   \n",
       "1  Smoking - outside please; pets allowed but ple...            NaN   \n",
       "2  • Check-in time is 2PM. • Check-out time is 12...            NaN   \n",
       "\n",
       "   medium_url                                        picture_url  \\\n",
       "0         NaN  https://a0.muscache.com/im/pictures/f0813a11-4...   \n",
       "1         NaN  https://a0.muscache.com/im/pictures/e49999c2-9...   \n",
       "2         NaN  https://a0.muscache.com/im/pictures/24020910/1...   \n",
       "\n",
       "   xl_picture_url  host_id                                host_url  \\\n",
       "0             NaN     2845  https://www.airbnb.com/users/show/2845   \n",
       "1             NaN     4869  https://www.airbnb.com/users/show/4869   \n",
       "2             NaN     7322  https://www.airbnb.com/users/show/7322   \n",
       "\n",
       "     host_name  host_since                      host_location  \\\n",
       "0     Jennifer  2008-09-09  New York, New York, United States   \n",
       "1  LisaRoxanne  2008-12-07  New York, New York, United States   \n",
       "2        Chris  2009-02-02  New York, New York, United States   \n",
       "\n",
       "                                          host_about  ...  \\\n",
       "0  A New Yorker since 2000! My passion is creatin...  ...   \n",
       "1     Laid-back bi-coastal actor/professor/attorney.  ...   \n",
       "2  I'm an artist, writer, traveler, and a native ...  ...   \n",
       "\n",
       "  calendar_last_scraped number_of_reviews number_of_reviews_ltm first_review  \\\n",
       "0            2020-02-12                48                     5   2009-11-21   \n",
       "1            2020-02-13               307                    70   2014-09-30   \n",
       "2            2020-02-12                78                     8   2009-04-20   \n",
       "\n",
       "  last_review review_scores_rating review_scores_accuracy  \\\n",
       "0  2019-11-04                 94.0                    9.0   \n",
       "1  2020-02-08                 90.0                    9.0   \n",
       "2  2019-10-13                 90.0                   10.0   \n",
       "\n",
       "   review_scores_cleanliness  review_scores_checkin  \\\n",
       "0                        9.0                   10.0   \n",
       "1                        9.0                   10.0   \n",
       "2                        9.0                   10.0   \n",
       "\n",
       "  review_scores_communication review_scores_location review_scores_value  \\\n",
       "0                        10.0                   10.0                 9.0   \n",
       "1                         9.0                   10.0                 9.0   \n",
       "2                        10.0                   10.0                 9.0   \n",
       "\n",
       "  requires_license license jurisdiction_names instant_bookable  \\\n",
       "0                f     NaN                NaN                f   \n",
       "1                f     NaN                NaN                f   \n",
       "2                f     NaN                NaN                f   \n",
       "\n",
       "  is_business_travel_ready          cancellation_policy  \\\n",
       "0                        f  strict_14_with_grace_period   \n",
       "1                        f                     moderate   \n",
       "2                        f                     moderate   \n",
       "\n",
       "  require_guest_profile_picture require_guest_phone_verification  \\\n",
       "0                             t                                t   \n",
       "1                             f                                f   \n",
       "2                             t                                t   \n",
       "\n",
       "  calculated_host_listings_count calculated_host_listings_count_entire_homes  \\\n",
       "0                              2                                           2   \n",
       "1                              1                                           1   \n",
       "2                              1                                           1   \n",
       "\n",
       "  calculated_host_listings_count_private_rooms  \\\n",
       "0                                            0   \n",
       "1                                            0   \n",
       "2                                            0   \n",
       "\n",
       "   calculated_host_listings_count_shared_rooms  reviews_per_month  \n",
       "0                                            0               0.39  \n",
       "1                                            0               4.69  \n",
       "2                                            0               0.59  \n",
       "\n",
       "[3 rows x 106 columns]"
      ]
     },
     "execution_count": 3,
     "metadata": {},
     "output_type": "execute_result"
    },
    {
     "name": "stdout",
     "output_type": "stream",
     "text": [
      "abm.shape (153254, 106)\n",
      "abm.size 16244924\n"
     ]
    }
   ],
   "source": [
    "abm =  pd.read_csv('../input/airbnb-new-york-city-with-106-features/airbnbmark1.csv')\n",
    "abm.head(3)\n",
    "print('abm.shape',abm.shape)\n",
    "print('abm.size',abm.size)"
   ]
  },
  {
   "cell_type": "markdown",
   "metadata": {
    "papermill": {
     "duration": 0.032263,
     "end_time": "2022-12-02T08:33:41.777781",
     "exception": false,
     "start_time": "2022-12-02T08:33:41.745518",
     "status": "completed"
    },
    "tags": []
   },
   "source": [
    "## 1. Data Cleaning"
   ]
  },
  {
   "cell_type": "markdown",
   "metadata": {
    "papermill": {
     "duration": 0.033373,
     "end_time": "2022-12-02T08:33:41.845150",
     "exception": false,
     "start_time": "2022-12-02T08:33:41.811777",
     "status": "completed"
    },
    "tags": []
   },
   "source": [
    "Host가 입력할 수 있는 정보들과 (숙소의 위치, 방 타입, 수용 인원, 침대 개수 등)  \n",
    "평가 지표로 사용이 가능한 정보들 (평점, 평점 개수)  \n",
    "그리고 최종적으로 추천되는 정보들 (price, amenities)"
   ]
  },
  {
   "cell_type": "code",
   "execution_count": 4,
   "metadata": {
    "execution": {
     "iopub.execute_input": "2022-12-02T08:33:41.934670Z",
     "iopub.status.busy": "2022-12-02T08:33:41.930991Z",
     "iopub.status.idle": "2022-12-02T08:33:41.937485Z",
     "shell.execute_reply": "2022-12-02T08:33:41.938146Z",
     "shell.execute_reply.started": "2022-12-02T07:21:34.919815Z"
    },
    "papermill": {
     "duration": 0.060335,
     "end_time": "2022-12-02T08:33:41.938351",
     "exception": false,
     "start_time": "2022-12-02T08:33:41.878016",
     "status": "completed"
    },
    "tags": []
   },
   "outputs": [],
   "source": [
    "abm1 = abm[['neighbourhood_group_cleansed', 'property_type', 'room_type'\n",
    "           ,'accommodates', 'bathrooms', 'bedrooms', 'beds'\n",
    "           , 'price','review_scores_rating', 'number_of_reviews', 'amenities']]"
   ]
  },
  {
   "cell_type": "code",
   "execution_count": 5,
   "metadata": {
    "execution": {
     "iopub.execute_input": "2022-12-02T08:33:42.009047Z",
     "iopub.status.busy": "2022-12-02T08:33:42.008285Z",
     "iopub.status.idle": "2022-12-02T08:33:42.025983Z",
     "shell.execute_reply": "2022-12-02T08:33:42.026525Z",
     "shell.execute_reply.started": "2022-12-02T07:21:38.266209Z"
    },
    "papermill": {
     "duration": 0.055054,
     "end_time": "2022-12-02T08:33:42.026710",
     "exception": false,
     "start_time": "2022-12-02T08:33:41.971656",
     "status": "completed"
    },
    "tags": []
   },
   "outputs": [
    {
     "data": {
      "text/plain": [
       "(153254, 11)"
      ]
     },
     "execution_count": 5,
     "metadata": {},
     "output_type": "execute_result"
    },
    {
     "data": {
      "text/html": [
       "<div>\n",
       "<style scoped>\n",
       "    .dataframe tbody tr th:only-of-type {\n",
       "        vertical-align: middle;\n",
       "    }\n",
       "\n",
       "    .dataframe tbody tr th {\n",
       "        vertical-align: top;\n",
       "    }\n",
       "\n",
       "    .dataframe thead th {\n",
       "        text-align: right;\n",
       "    }\n",
       "</style>\n",
       "<table border=\"1\" class=\"dataframe\">\n",
       "  <thead>\n",
       "    <tr style=\"text-align: right;\">\n",
       "      <th></th>\n",
       "      <th>neighbourhood_group_cleansed</th>\n",
       "      <th>property_type</th>\n",
       "      <th>room_type</th>\n",
       "      <th>accommodates</th>\n",
       "      <th>bathrooms</th>\n",
       "      <th>bedrooms</th>\n",
       "      <th>beds</th>\n",
       "      <th>price</th>\n",
       "      <th>review_scores_rating</th>\n",
       "      <th>number_of_reviews</th>\n",
       "      <th>amenities</th>\n",
       "    </tr>\n",
       "  </thead>\n",
       "  <tbody>\n",
       "    <tr>\n",
       "      <th>0</th>\n",
       "      <td>Manhattan</td>\n",
       "      <td>Apartment</td>\n",
       "      <td>Entire home/apt</td>\n",
       "      <td>1</td>\n",
       "      <td>1.0</td>\n",
       "      <td>0.0</td>\n",
       "      <td>1.0</td>\n",
       "      <td>$225.00</td>\n",
       "      <td>94.0</td>\n",
       "      <td>48</td>\n",
       "      <td>{TV,Wifi,\"Air conditioning\",Kitchen,\"Paid park...</td>\n",
       "    </tr>\n",
       "    <tr>\n",
       "      <th>1</th>\n",
       "      <td>Brooklyn</td>\n",
       "      <td>Guest suite</td>\n",
       "      <td>Entire home/apt</td>\n",
       "      <td>3</td>\n",
       "      <td>1.0</td>\n",
       "      <td>1.0</td>\n",
       "      <td>4.0</td>\n",
       "      <td>$89.00</td>\n",
       "      <td>90.0</td>\n",
       "      <td>307</td>\n",
       "      <td>{TV,\"Cable TV\",Internet,Wifi,\"Air conditioning...</td>\n",
       "    </tr>\n",
       "    <tr>\n",
       "      <th>2</th>\n",
       "      <td>Manhattan</td>\n",
       "      <td>Apartment</td>\n",
       "      <td>Entire home/apt</td>\n",
       "      <td>2</td>\n",
       "      <td>1.0</td>\n",
       "      <td>1.0</td>\n",
       "      <td>1.0</td>\n",
       "      <td>$200.00</td>\n",
       "      <td>90.0</td>\n",
       "      <td>78</td>\n",
       "      <td>{TV,\"Cable TV\",Internet,Wifi,\"Air conditioning...</td>\n",
       "    </tr>\n",
       "  </tbody>\n",
       "</table>\n",
       "</div>"
      ],
      "text/plain": [
       "  neighbourhood_group_cleansed property_type        room_type  accommodates  \\\n",
       "0                    Manhattan     Apartment  Entire home/apt             1   \n",
       "1                     Brooklyn   Guest suite  Entire home/apt             3   \n",
       "2                    Manhattan     Apartment  Entire home/apt             2   \n",
       "\n",
       "   bathrooms  bedrooms  beds    price  review_scores_rating  \\\n",
       "0        1.0       0.0   1.0  $225.00                  94.0   \n",
       "1        1.0       1.0   4.0   $89.00                  90.0   \n",
       "2        1.0       1.0   1.0  $200.00                  90.0   \n",
       "\n",
       "   number_of_reviews                                          amenities  \n",
       "0                 48  {TV,Wifi,\"Air conditioning\",Kitchen,\"Paid park...  \n",
       "1                307  {TV,\"Cable TV\",Internet,Wifi,\"Air conditioning...  \n",
       "2                 78  {TV,\"Cable TV\",Internet,Wifi,\"Air conditioning...  "
      ]
     },
     "execution_count": 5,
     "metadata": {},
     "output_type": "execute_result"
    }
   ],
   "source": [
    "abm1.shape\n",
    "abm1.head(3)"
   ]
  },
  {
   "cell_type": "code",
   "execution_count": 6,
   "metadata": {
    "execution": {
     "iopub.execute_input": "2022-12-02T08:33:42.098803Z",
     "iopub.status.busy": "2022-12-02T08:33:42.097962Z",
     "iopub.status.idle": "2022-12-02T08:33:42.355576Z",
     "shell.execute_reply": "2022-12-02T08:33:42.356147Z",
     "shell.execute_reply.started": "2022-12-02T07:21:48.647715Z"
    },
    "papermill": {
     "duration": 0.295072,
     "end_time": "2022-12-02T08:33:42.356321",
     "exception": false,
     "start_time": "2022-12-02T08:33:42.061249",
     "status": "completed"
    },
    "tags": []
   },
   "outputs": [
    {
     "name": "stdout",
     "output_type": "stream",
     "text": [
      "abm1.shape after dropping duplicate rows:  (93309, 11)\n",
      "abm1.size:   1026399\n",
      "DataTypes wise size: \n",
      " object     5\n",
      "float64    4\n",
      "int64      2\n",
      "dtype: int64\n"
     ]
    }
   ],
   "source": [
    "abm1 = abm1.drop_duplicates() #중복된 데이터 행 삭제\n",
    "print('abm1.shape after dropping duplicate rows: ',abm1.shape)\n",
    "print('abm1.size:  ',abm1.size)\n",
    "print('DataTypes wise size: \\n', abm1.dtypes.value_counts())"
   ]
  },
  {
   "cell_type": "markdown",
   "metadata": {
    "papermill": {
     "duration": 0.034932,
     "end_time": "2022-12-02T08:33:42.425797",
     "exception": false,
     "start_time": "2022-12-02T08:33:42.390865",
     "status": "completed"
    },
    "tags": []
   },
   "source": [
    "### 결측값 검사, Data Cleaning"
   ]
  },
  {
   "cell_type": "code",
   "execution_count": 7,
   "metadata": {
    "execution": {
     "iopub.execute_input": "2022-12-02T08:33:42.512630Z",
     "iopub.status.busy": "2022-12-02T08:33:42.511620Z",
     "iopub.status.idle": "2022-12-02T08:33:42.552378Z",
     "shell.execute_reply": "2022-12-02T08:33:42.551770Z",
     "shell.execute_reply.started": "2022-12-02T07:22:32.914386Z"
    },
    "papermill": {
     "duration": 0.093215,
     "end_time": "2022-12-02T08:33:42.552572",
     "exception": false,
     "start_time": "2022-12-02T08:33:42.459357",
     "status": "completed"
    },
    "tags": []
   },
   "outputs": [
    {
     "data": {
      "text/plain": [
       "neighbourhood_group_cleansed        0\n",
       "property_type                       0\n",
       "room_type                           0\n",
       "accommodates                        0\n",
       "bathrooms                          67\n",
       "bedrooms                          143\n",
       "beds                              735\n",
       "price                               0\n",
       "review_scores_rating            16377\n",
       "number_of_reviews                   0\n",
       "amenities                           0\n",
       "dtype: int64"
      ]
     },
     "execution_count": 7,
     "metadata": {},
     "output_type": "execute_result"
    }
   ],
   "source": [
    "abm1.replace((' '),np.nan,inplace=True) #inplace가 T면 새로운 return 값이 아닌 원본을 아예 수정\n",
    "abm1.isnull().sum()"
   ]
  },
  {
   "cell_type": "code",
   "execution_count": 8,
   "metadata": {
    "execution": {
     "iopub.execute_input": "2022-12-02T08:33:42.644363Z",
     "iopub.status.busy": "2022-12-02T08:33:42.628325Z",
     "iopub.status.idle": "2022-12-02T08:33:42.716874Z",
     "shell.execute_reply": "2022-12-02T08:33:42.716107Z",
     "shell.execute_reply.started": "2022-12-02T07:23:01.943302Z"
    },
    "papermill": {
     "duration": 0.129348,
     "end_time": "2022-12-02T08:33:42.717016",
     "exception": false,
     "start_time": "2022-12-02T08:33:42.587668",
     "status": "completed"
    },
    "tags": []
   },
   "outputs": [
    {
     "data": {
      "text/plain": [
       "neighbourhood_group_cleansed    0\n",
       "property_type                   0\n",
       "room_type                       0\n",
       "accommodates                    0\n",
       "bathrooms                       0\n",
       "bedrooms                        0\n",
       "beds                            0\n",
       "price                           0\n",
       "review_scores_rating            0\n",
       "number_of_reviews               0\n",
       "amenities                       0\n",
       "dtype: int64"
      ]
     },
     "execution_count": 8,
     "metadata": {},
     "output_type": "execute_result"
    }
   ],
   "source": [
    "abm1 = abm1.dropna(subset=['bathrooms', 'bedrooms', 'beds', 'review_scores_rating'], how='any', axis=0)\n",
    "abm1.isnull().sum()"
   ]
  },
  {
   "cell_type": "code",
   "execution_count": 9,
   "metadata": {
    "execution": {
     "iopub.execute_input": "2022-12-02T08:33:42.795969Z",
     "iopub.status.busy": "2022-12-02T08:33:42.795153Z",
     "iopub.status.idle": "2022-12-02T08:33:42.798842Z",
     "shell.execute_reply": "2022-12-02T08:33:42.799470Z",
     "shell.execute_reply.started": "2022-12-02T07:23:27.293781Z"
    },
    "papermill": {
     "duration": 0.047739,
     "end_time": "2022-12-02T08:33:42.799650",
     "exception": false,
     "start_time": "2022-12-02T08:33:42.751911",
     "status": "completed"
    },
    "tags": []
   },
   "outputs": [
    {
     "name": "stdout",
     "output_type": "stream",
     "text": [
      "abm1.shape after dropping nan rows:  (76604, 11)\n"
     ]
    }
   ],
   "source": [
    "print('abm1.shape after dropping nan rows: ',abm1.shape)"
   ]
  },
  {
   "cell_type": "code",
   "execution_count": 10,
   "metadata": {
    "execution": {
     "iopub.execute_input": "2022-12-02T08:33:42.891234Z",
     "iopub.status.busy": "2022-12-02T08:33:42.885186Z",
     "iopub.status.idle": "2022-12-02T08:33:42.998993Z",
     "shell.execute_reply": "2022-12-02T08:33:42.998236Z",
     "shell.execute_reply.started": "2022-12-02T07:23:51.640574Z"
    },
    "papermill": {
     "duration": 0.160843,
     "end_time": "2022-12-02T08:33:42.999145",
     "exception": false,
     "start_time": "2022-12-02T08:33:42.838302",
     "status": "completed"
    },
    "tags": []
   },
   "outputs": [
    {
     "data": {
      "text/html": [
       "<div>\n",
       "<style scoped>\n",
       "    .dataframe tbody tr th:only-of-type {\n",
       "        vertical-align: middle;\n",
       "    }\n",
       "\n",
       "    .dataframe tbody tr th {\n",
       "        vertical-align: top;\n",
       "    }\n",
       "\n",
       "    .dataframe thead th {\n",
       "        text-align: right;\n",
       "    }\n",
       "</style>\n",
       "<table border=\"1\" class=\"dataframe\">\n",
       "  <thead>\n",
       "    <tr style=\"text-align: right;\">\n",
       "      <th></th>\n",
       "      <th>neighbourhood_group_cleansed</th>\n",
       "      <th>property_type</th>\n",
       "      <th>room_type</th>\n",
       "      <th>accommodates</th>\n",
       "      <th>bathrooms</th>\n",
       "      <th>bedrooms</th>\n",
       "      <th>beds</th>\n",
       "      <th>price</th>\n",
       "      <th>review_scores_rating</th>\n",
       "      <th>number_of_reviews</th>\n",
       "      <th>amenities</th>\n",
       "    </tr>\n",
       "  </thead>\n",
       "  <tbody>\n",
       "    <tr>\n",
       "      <th>0</th>\n",
       "      <td>Manhattan</td>\n",
       "      <td>Apartment</td>\n",
       "      <td>Entire home/apt</td>\n",
       "      <td>1</td>\n",
       "      <td>1.0</td>\n",
       "      <td>0.0</td>\n",
       "      <td>1.0</td>\n",
       "      <td>225.0</td>\n",
       "      <td>94.0</td>\n",
       "      <td>48</td>\n",
       "      <td>{TV,Wifi,\"Air conditioning\",Kitchen,\"Paid park...</td>\n",
       "    </tr>\n",
       "    <tr>\n",
       "      <th>1</th>\n",
       "      <td>Brooklyn</td>\n",
       "      <td>Guest suite</td>\n",
       "      <td>Entire home/apt</td>\n",
       "      <td>3</td>\n",
       "      <td>1.0</td>\n",
       "      <td>1.0</td>\n",
       "      <td>4.0</td>\n",
       "      <td>89.0</td>\n",
       "      <td>90.0</td>\n",
       "      <td>307</td>\n",
       "      <td>{TV,\"Cable TV\",Internet,Wifi,\"Air conditioning...</td>\n",
       "    </tr>\n",
       "  </tbody>\n",
       "</table>\n",
       "</div>"
      ],
      "text/plain": [
       "  neighbourhood_group_cleansed property_type        room_type  accommodates  \\\n",
       "0                    Manhattan     Apartment  Entire home/apt             1   \n",
       "1                     Brooklyn   Guest suite  Entire home/apt             3   \n",
       "\n",
       "   bathrooms  bedrooms  beds  price  review_scores_rating  number_of_reviews  \\\n",
       "0        1.0       0.0   1.0  225.0                  94.0                 48   \n",
       "1        1.0       1.0   4.0   89.0                  90.0                307   \n",
       "\n",
       "                                           amenities  \n",
       "0  {TV,Wifi,\"Air conditioning\",Kitchen,\"Paid park...  \n",
       "1  {TV,\"Cable TV\",Internet,Wifi,\"Air conditioning...  "
      ]
     },
     "execution_count": 10,
     "metadata": {},
     "output_type": "execute_result"
    }
   ],
   "source": [
    "def clean_data(df): #$표시 떼어내기. ,구분표 없애기\n",
    "    for i in ['price',]:\n",
    "        df[i]=df[i].str.replace('$','').str.replace(',', '').astype(float)\n",
    "    \n",
    "    df.replace('', np.nan, inplace=True)\n",
    "    \n",
    "    return df.head(2)\n",
    "clean_data(abm1)"
   ]
  },
  {
   "cell_type": "markdown",
   "metadata": {
    "papermill": {
     "duration": 0.035651,
     "end_time": "2022-12-02T08:33:43.072343",
     "exception": false,
     "start_time": "2022-12-02T08:33:43.036692",
     "status": "completed"
    },
    "tags": []
   },
   "source": [
    "### 정확도를 위해 리뷰 개수 10개 미만인 호스트는 삭제\n",
    "리뷰 개수가 소수이면서 비정상적으로 평점이 높은 허수 데이터들을 절삭한다.  "
   ]
  },
  {
   "cell_type": "code",
   "execution_count": 11,
   "metadata": {
    "execution": {
     "iopub.execute_input": "2022-12-02T08:33:43.151153Z",
     "iopub.status.busy": "2022-12-02T08:33:43.150375Z",
     "iopub.status.idle": "2022-12-02T08:33:43.186251Z",
     "shell.execute_reply": "2022-12-02T08:33:43.185561Z",
     "shell.execute_reply.started": "2022-12-02T07:24:36.319307Z"
    },
    "papermill": {
     "duration": 0.077677,
     "end_time": "2022-12-02T08:33:43.186374",
     "exception": false,
     "start_time": "2022-12-02T08:33:43.108697",
     "status": "completed"
    },
    "tags": []
   },
   "outputs": [
    {
     "data": {
      "text/plain": [
       "(46537, 11)"
      ]
     },
     "execution_count": 11,
     "metadata": {},
     "output_type": "execute_result"
    }
   ],
   "source": [
    "indexNames = abm1[abm1['number_of_reviews'] < 10].index\n",
    "abm1.drop(indexNames , inplace=True)\n",
    "abm1.shape"
   ]
  },
  {
   "cell_type": "markdown",
   "metadata": {
    "papermill": {
     "duration": 0.035926,
     "end_time": "2022-12-02T08:33:43.258047",
     "exception": false,
     "start_time": "2022-12-02T08:33:43.222121",
     "status": "completed"
    },
    "tags": []
   },
   "source": [
    "### Neighbourhood를 onehot encoding 하기"
   ]
  },
  {
   "cell_type": "code",
   "execution_count": 12,
   "metadata": {
    "execution": {
     "iopub.execute_input": "2022-12-02T08:33:43.340278Z",
     "iopub.status.busy": "2022-12-02T08:33:43.339525Z",
     "iopub.status.idle": "2022-12-02T08:33:43.347867Z",
     "shell.execute_reply": "2022-12-02T08:33:43.347081Z",
     "shell.execute_reply.started": "2022-12-02T07:24:50.753465Z"
    },
    "papermill": {
     "duration": 0.053995,
     "end_time": "2022-12-02T08:33:43.348001",
     "exception": false,
     "start_time": "2022-12-02T08:33:43.294006",
     "status": "completed"
    },
    "tags": []
   },
   "outputs": [
    {
     "data": {
      "text/plain": [
       "Brooklyn         19226\n",
       "Manhattan        18332\n",
       "Queens            6976\n",
       "Bronx             1479\n",
       "Staten Island      524\n",
       "Name: neighbourhood_group_cleansed, dtype: int64"
      ]
     },
     "execution_count": 12,
     "metadata": {},
     "output_type": "execute_result"
    }
   ],
   "source": [
    "abm1['neighbourhood_group_cleansed'].value_counts()"
   ]
  },
  {
   "cell_type": "code",
   "execution_count": 13,
   "metadata": {
    "execution": {
     "iopub.execute_input": "2022-12-02T08:33:43.455095Z",
     "iopub.status.busy": "2022-12-02T08:33:43.454358Z",
     "iopub.status.idle": "2022-12-02T08:33:43.634851Z",
     "shell.execute_reply": "2022-12-02T08:33:43.634025Z",
     "shell.execute_reply.started": "2022-12-02T07:24:59.253647Z"
    },
    "papermill": {
     "duration": 0.25004,
     "end_time": "2022-12-02T08:33:43.635019",
     "exception": false,
     "start_time": "2022-12-02T08:33:43.384979",
     "status": "completed"
    },
    "tags": []
   },
   "outputs": [
    {
     "data": {
      "text/plain": [
       "property_type           0\n",
       "room_type               0\n",
       "accommodates            0\n",
       "bathrooms               0\n",
       "bedrooms                0\n",
       "beds                    0\n",
       "price                   0\n",
       "review_scores_rating    0\n",
       "number_of_reviews       0\n",
       "amenities               0\n",
       "Brooklyn                0\n",
       "Manhattan               0\n",
       "Queens                  0\n",
       "Bronx                   0\n",
       "Staten Island           0\n",
       "dtype: int64"
      ]
     },
     "execution_count": 13,
     "metadata": {},
     "output_type": "execute_result"
    },
    {
     "data": {
      "text/html": [
       "<div>\n",
       "<style scoped>\n",
       "    .dataframe tbody tr th:only-of-type {\n",
       "        vertical-align: middle;\n",
       "    }\n",
       "\n",
       "    .dataframe tbody tr th {\n",
       "        vertical-align: top;\n",
       "    }\n",
       "\n",
       "    .dataframe thead th {\n",
       "        text-align: right;\n",
       "    }\n",
       "</style>\n",
       "<table border=\"1\" class=\"dataframe\">\n",
       "  <thead>\n",
       "    <tr style=\"text-align: right;\">\n",
       "      <th></th>\n",
       "      <th>property_type</th>\n",
       "      <th>room_type</th>\n",
       "      <th>accommodates</th>\n",
       "      <th>bathrooms</th>\n",
       "      <th>bedrooms</th>\n",
       "      <th>beds</th>\n",
       "      <th>price</th>\n",
       "      <th>review_scores_rating</th>\n",
       "      <th>number_of_reviews</th>\n",
       "      <th>amenities</th>\n",
       "      <th>Brooklyn</th>\n",
       "      <th>Manhattan</th>\n",
       "      <th>Queens</th>\n",
       "      <th>Bronx</th>\n",
       "      <th>Staten Island</th>\n",
       "    </tr>\n",
       "  </thead>\n",
       "  <tbody>\n",
       "    <tr>\n",
       "      <th>0</th>\n",
       "      <td>Apartment</td>\n",
       "      <td>Entire home/apt</td>\n",
       "      <td>1</td>\n",
       "      <td>1.0</td>\n",
       "      <td>0.0</td>\n",
       "      <td>1.0</td>\n",
       "      <td>225.0</td>\n",
       "      <td>94.0</td>\n",
       "      <td>48</td>\n",
       "      <td>{TV,Wifi,\"Air conditioning\",Kitchen,\"Paid park...</td>\n",
       "      <td>0.0</td>\n",
       "      <td>1.0</td>\n",
       "      <td>0.0</td>\n",
       "      <td>0.0</td>\n",
       "      <td>0.0</td>\n",
       "    </tr>\n",
       "    <tr>\n",
       "      <th>1</th>\n",
       "      <td>Guest suite</td>\n",
       "      <td>Entire home/apt</td>\n",
       "      <td>3</td>\n",
       "      <td>1.0</td>\n",
       "      <td>1.0</td>\n",
       "      <td>4.0</td>\n",
       "      <td>89.0</td>\n",
       "      <td>90.0</td>\n",
       "      <td>307</td>\n",
       "      <td>{TV,\"Cable TV\",Internet,Wifi,\"Air conditioning...</td>\n",
       "      <td>1.0</td>\n",
       "      <td>0.0</td>\n",
       "      <td>0.0</td>\n",
       "      <td>0.0</td>\n",
       "      <td>0.0</td>\n",
       "    </tr>\n",
       "    <tr>\n",
       "      <th>2</th>\n",
       "      <td>Apartment</td>\n",
       "      <td>Entire home/apt</td>\n",
       "      <td>2</td>\n",
       "      <td>1.0</td>\n",
       "      <td>1.0</td>\n",
       "      <td>1.0</td>\n",
       "      <td>200.0</td>\n",
       "      <td>90.0</td>\n",
       "      <td>78</td>\n",
       "      <td>{TV,\"Cable TV\",Internet,Wifi,\"Air conditioning...</td>\n",
       "      <td>0.0</td>\n",
       "      <td>1.0</td>\n",
       "      <td>0.0</td>\n",
       "      <td>0.0</td>\n",
       "      <td>0.0</td>\n",
       "    </tr>\n",
       "    <tr>\n",
       "      <th>4</th>\n",
       "      <td>Apartment</td>\n",
       "      <td>Private room</td>\n",
       "      <td>2</td>\n",
       "      <td>1.0</td>\n",
       "      <td>1.0</td>\n",
       "      <td>1.0</td>\n",
       "      <td>79.0</td>\n",
       "      <td>84.0</td>\n",
       "      <td>463</td>\n",
       "      <td>{TV,Wifi,\"Air conditioning\",\"Paid parking off ...</td>\n",
       "      <td>0.0</td>\n",
       "      <td>1.0</td>\n",
       "      <td>0.0</td>\n",
       "      <td>0.0</td>\n",
       "      <td>0.0</td>\n",
       "    </tr>\n",
       "    <tr>\n",
       "      <th>5</th>\n",
       "      <td>Apartment</td>\n",
       "      <td>Private room</td>\n",
       "      <td>1</td>\n",
       "      <td>1.0</td>\n",
       "      <td>1.0</td>\n",
       "      <td>1.0</td>\n",
       "      <td>79.0</td>\n",
       "      <td>98.0</td>\n",
       "      <td>118</td>\n",
       "      <td>{Internet,Wifi,\"Air conditioning\",\"Paid parkin...</td>\n",
       "      <td>0.0</td>\n",
       "      <td>1.0</td>\n",
       "      <td>0.0</td>\n",
       "      <td>0.0</td>\n",
       "      <td>0.0</td>\n",
       "    </tr>\n",
       "  </tbody>\n",
       "</table>\n",
       "</div>"
      ],
      "text/plain": [
       "  property_type        room_type  accommodates  bathrooms  bedrooms  beds  \\\n",
       "0     Apartment  Entire home/apt             1        1.0       0.0   1.0   \n",
       "1   Guest suite  Entire home/apt             3        1.0       1.0   4.0   \n",
       "2     Apartment  Entire home/apt             2        1.0       1.0   1.0   \n",
       "4     Apartment     Private room             2        1.0       1.0   1.0   \n",
       "5     Apartment     Private room             1        1.0       1.0   1.0   \n",
       "\n",
       "   price  review_scores_rating  number_of_reviews  \\\n",
       "0  225.0                  94.0                 48   \n",
       "1   89.0                  90.0                307   \n",
       "2  200.0                  90.0                 78   \n",
       "4   79.0                  84.0                463   \n",
       "5   79.0                  98.0                118   \n",
       "\n",
       "                                           amenities  Brooklyn  Manhattan  \\\n",
       "0  {TV,Wifi,\"Air conditioning\",Kitchen,\"Paid park...       0.0        1.0   \n",
       "1  {TV,\"Cable TV\",Internet,Wifi,\"Air conditioning...       1.0        0.0   \n",
       "2  {TV,\"Cable TV\",Internet,Wifi,\"Air conditioning...       0.0        1.0   \n",
       "4  {TV,Wifi,\"Air conditioning\",\"Paid parking off ...       0.0        1.0   \n",
       "5  {Internet,Wifi,\"Air conditioning\",\"Paid parkin...       0.0        1.0   \n",
       "\n",
       "   Queens  Bronx  Staten Island  \n",
       "0     0.0    0.0            0.0  \n",
       "1     0.0    0.0            0.0  \n",
       "2     0.0    0.0            0.0  \n",
       "4     0.0    0.0            0.0  \n",
       "5     0.0    0.0            0.0  "
      ]
     },
     "execution_count": 13,
     "metadata": {},
     "output_type": "execute_result"
    }
   ],
   "source": [
    "abm1.loc[abm1['neighbourhood_group_cleansed'].str.contains('Brooklyn'), 'Brooklyn'] = 1\n",
    "abm1.loc[abm1['neighbourhood_group_cleansed'].str.contains('Manhattan'), 'Manhattan'] = 1\n",
    "abm1.loc[abm1['neighbourhood_group_cleansed'].str.contains('Queens'), 'Queens'] = 1\n",
    "abm1.loc[abm1['neighbourhood_group_cleansed'].str.contains('Bronx'), 'Bronx'] = 1\n",
    "abm1.loc[abm1['neighbourhood_group_cleansed'].str.contains('Staten Island'), 'Staten Island'] = 1\n",
    "\n",
    "abm1 = abm1.fillna(0)\n",
    "\n",
    "abm1.drop('neighbourhood_group_cleansed', axis = 1, inplace=True)\n",
    "abm1.isnull().sum()\n",
    "abm1.head(5)"
   ]
  },
  {
   "cell_type": "markdown",
   "metadata": {
    "papermill": {
     "duration": 0.036261,
     "end_time": "2022-12-02T08:33:43.708142",
     "exception": false,
     "start_time": "2022-12-02T08:33:43.671881",
     "status": "completed"
    },
    "tags": []
   },
   "source": [
    "### Property type을 onehot encoding 하기"
   ]
  },
  {
   "cell_type": "code",
   "execution_count": 14,
   "metadata": {
    "execution": {
     "iopub.execute_input": "2022-12-02T08:33:43.795857Z",
     "iopub.status.busy": "2022-12-02T08:33:43.795042Z",
     "iopub.status.idle": "2022-12-02T08:33:43.799452Z",
     "shell.execute_reply": "2022-12-02T08:33:43.798786Z",
     "shell.execute_reply.started": "2022-12-02T07:26:48.879295Z"
    },
    "papermill": {
     "duration": 0.054732,
     "end_time": "2022-12-02T08:33:43.799577",
     "exception": false,
     "start_time": "2022-12-02T08:33:43.744845",
     "status": "completed"
    },
    "tags": []
   },
   "outputs": [
    {
     "data": {
      "text/plain": [
       "Apartment             34161\n",
       "House                  5182\n",
       "Townhouse              2427\n",
       "Loft                   1558\n",
       "Condominium            1486\n",
       "Guest suite             717\n",
       "Hotel                   223\n",
       "Boutique hotel          179\n",
       "Serviced apartment      146\n",
       "Hostel                   93\n",
       "Guesthouse               84\n",
       "Bed and breakfast        46\n",
       "Bungalow                 45\n",
       "Villa                    39\n",
       "Other                    38\n",
       "Tiny house               34\n",
       "Camper/RV                26\n",
       "Cottage                  18\n",
       "Resort                   11\n",
       "Boat                     10\n",
       "Earth house               4\n",
       "Aparthotel                3\n",
       "Castle                    2\n",
       "Barn                      2\n",
       "Houseboat                 2\n",
       "Cabin                     1\n",
       "Name: property_type, dtype: int64"
      ]
     },
     "execution_count": 14,
     "metadata": {},
     "output_type": "execute_result"
    }
   ],
   "source": [
    "# property_type에는 무슨 값이 있을지\n",
    "abm1['property_type'].value_counts()"
   ]
  },
  {
   "cell_type": "code",
   "execution_count": 15,
   "metadata": {
    "execution": {
     "iopub.execute_input": "2022-12-02T08:33:43.893745Z",
     "iopub.status.busy": "2022-12-02T08:33:43.892998Z",
     "iopub.status.idle": "2022-12-02T08:33:43.896669Z",
     "shell.execute_reply": "2022-12-02T08:33:43.895976Z",
     "shell.execute_reply.started": "2022-12-02T07:26:59.317979Z"
    },
    "papermill": {
     "duration": 0.060097,
     "end_time": "2022-12-02T08:33:43.896807",
     "exception": false,
     "start_time": "2022-12-02T08:33:43.836710",
     "status": "completed"
    },
    "tags": []
   },
   "outputs": [],
   "source": [
    "Mod_prop_type=abm1['property_type'].value_counts()[5:len(abm1['property_type'].value_counts())].index.tolist()\n",
    "\n",
    "def change_prop_type(label):\n",
    "    if label in Mod_prop_type:\n",
    "        label='Other'\n",
    "    return label"
   ]
  },
  {
   "cell_type": "code",
   "execution_count": 16,
   "metadata": {
    "execution": {
     "iopub.execute_input": "2022-12-02T08:33:43.976834Z",
     "iopub.status.busy": "2022-12-02T08:33:43.976133Z",
     "iopub.status.idle": "2022-12-02T08:33:44.006533Z",
     "shell.execute_reply": "2022-12-02T08:33:44.005733Z",
     "shell.execute_reply.started": "2022-12-02T07:27:01.574741Z"
    },
    "papermill": {
     "duration": 0.072356,
     "end_time": "2022-12-02T08:33:44.006672",
     "exception": false,
     "start_time": "2022-12-02T08:33:43.934316",
     "status": "completed"
    },
    "tags": []
   },
   "outputs": [],
   "source": [
    "abm1.loc[:,'property_type'] = abm1.loc[:,'property_type'].apply(change_prop_type)"
   ]
  },
  {
   "cell_type": "code",
   "execution_count": 17,
   "metadata": {
    "execution": {
     "iopub.execute_input": "2022-12-02T08:33:44.095800Z",
     "iopub.status.busy": "2022-12-02T08:33:44.094997Z",
     "iopub.status.idle": "2022-12-02T08:33:44.099561Z",
     "shell.execute_reply": "2022-12-02T08:33:44.098598Z",
     "shell.execute_reply.started": "2022-12-02T07:27:04.460784Z"
    },
    "papermill": {
     "duration": 0.055855,
     "end_time": "2022-12-02T08:33:44.099715",
     "exception": false,
     "start_time": "2022-12-02T08:33:44.043860",
     "status": "completed"
    },
    "tags": []
   },
   "outputs": [
    {
     "data": {
      "text/plain": [
       "Apartment      34161\n",
       "House           5182\n",
       "Townhouse       2427\n",
       "Other           1723\n",
       "Loft            1558\n",
       "Condominium     1486\n",
       "Name: property_type, dtype: int64"
      ]
     },
     "execution_count": 17,
     "metadata": {},
     "output_type": "execute_result"
    }
   ],
   "source": [
    "abm1['property_type'].value_counts() # 5순위 이하 주거형태는 Others로 분류"
   ]
  },
  {
   "cell_type": "code",
   "execution_count": 18,
   "metadata": {
    "execution": {
     "iopub.execute_input": "2022-12-02T08:33:44.209001Z",
     "iopub.status.busy": "2022-12-02T08:33:44.186319Z",
     "iopub.status.idle": "2022-12-02T08:33:44.436482Z",
     "shell.execute_reply": "2022-12-02T08:33:44.435908Z",
     "shell.execute_reply.started": "2022-12-02T07:27:10.241601Z"
    },
    "papermill": {
     "duration": 0.298525,
     "end_time": "2022-12-02T08:33:44.436622",
     "exception": false,
     "start_time": "2022-12-02T08:33:44.138097",
     "status": "completed"
    },
    "tags": []
   },
   "outputs": [
    {
     "data": {
      "text/plain": [
       "property_type           0\n",
       "room_type               0\n",
       "accommodates            0\n",
       "bathrooms               0\n",
       "bedrooms                0\n",
       "beds                    0\n",
       "price                   0\n",
       "review_scores_rating    0\n",
       "number_of_reviews       0\n",
       "amenities               0\n",
       "Brooklyn                0\n",
       "Manhattan               0\n",
       "Queens                  0\n",
       "Bronx                   0\n",
       "Staten Island           0\n",
       "Apartment               0\n",
       "House                   0\n",
       "Other                   0\n",
       "Townhouse               0\n",
       "Condominium             0\n",
       "Loft                    0\n",
       "dtype: int64"
      ]
     },
     "execution_count": 18,
     "metadata": {},
     "output_type": "execute_result"
    },
    {
     "data": {
      "text/html": [
       "<div>\n",
       "<style scoped>\n",
       "    .dataframe tbody tr th:only-of-type {\n",
       "        vertical-align: middle;\n",
       "    }\n",
       "\n",
       "    .dataframe tbody tr th {\n",
       "        vertical-align: top;\n",
       "    }\n",
       "\n",
       "    .dataframe thead th {\n",
       "        text-align: right;\n",
       "    }\n",
       "</style>\n",
       "<table border=\"1\" class=\"dataframe\">\n",
       "  <thead>\n",
       "    <tr style=\"text-align: right;\">\n",
       "      <th></th>\n",
       "      <th>property_type</th>\n",
       "      <th>room_type</th>\n",
       "      <th>accommodates</th>\n",
       "      <th>bathrooms</th>\n",
       "      <th>bedrooms</th>\n",
       "      <th>beds</th>\n",
       "      <th>price</th>\n",
       "      <th>review_scores_rating</th>\n",
       "      <th>number_of_reviews</th>\n",
       "      <th>amenities</th>\n",
       "      <th>Brooklyn</th>\n",
       "      <th>Manhattan</th>\n",
       "      <th>Queens</th>\n",
       "      <th>Bronx</th>\n",
       "      <th>Staten Island</th>\n",
       "      <th>Apartment</th>\n",
       "      <th>House</th>\n",
       "      <th>Other</th>\n",
       "      <th>Townhouse</th>\n",
       "      <th>Condominium</th>\n",
       "      <th>Loft</th>\n",
       "    </tr>\n",
       "  </thead>\n",
       "  <tbody>\n",
       "    <tr>\n",
       "      <th>0</th>\n",
       "      <td>Apartment</td>\n",
       "      <td>Entire home/apt</td>\n",
       "      <td>1</td>\n",
       "      <td>1.0</td>\n",
       "      <td>0.0</td>\n",
       "      <td>1.0</td>\n",
       "      <td>225.0</td>\n",
       "      <td>94.0</td>\n",
       "      <td>48</td>\n",
       "      <td>{TV,Wifi,\"Air conditioning\",Kitchen,\"Paid park...</td>\n",
       "      <td>0.0</td>\n",
       "      <td>1.0</td>\n",
       "      <td>0.0</td>\n",
       "      <td>0.0</td>\n",
       "      <td>0.0</td>\n",
       "      <td>1.0</td>\n",
       "      <td>0.0</td>\n",
       "      <td>0.0</td>\n",
       "      <td>0.0</td>\n",
       "      <td>0.0</td>\n",
       "      <td>0.0</td>\n",
       "    </tr>\n",
       "    <tr>\n",
       "      <th>1</th>\n",
       "      <td>Other</td>\n",
       "      <td>Entire home/apt</td>\n",
       "      <td>3</td>\n",
       "      <td>1.0</td>\n",
       "      <td>1.0</td>\n",
       "      <td>4.0</td>\n",
       "      <td>89.0</td>\n",
       "      <td>90.0</td>\n",
       "      <td>307</td>\n",
       "      <td>{TV,\"Cable TV\",Internet,Wifi,\"Air conditioning...</td>\n",
       "      <td>1.0</td>\n",
       "      <td>0.0</td>\n",
       "      <td>0.0</td>\n",
       "      <td>0.0</td>\n",
       "      <td>0.0</td>\n",
       "      <td>0.0</td>\n",
       "      <td>0.0</td>\n",
       "      <td>1.0</td>\n",
       "      <td>0.0</td>\n",
       "      <td>0.0</td>\n",
       "      <td>0.0</td>\n",
       "    </tr>\n",
       "    <tr>\n",
       "      <th>2</th>\n",
       "      <td>Apartment</td>\n",
       "      <td>Entire home/apt</td>\n",
       "      <td>2</td>\n",
       "      <td>1.0</td>\n",
       "      <td>1.0</td>\n",
       "      <td>1.0</td>\n",
       "      <td>200.0</td>\n",
       "      <td>90.0</td>\n",
       "      <td>78</td>\n",
       "      <td>{TV,\"Cable TV\",Internet,Wifi,\"Air conditioning...</td>\n",
       "      <td>0.0</td>\n",
       "      <td>1.0</td>\n",
       "      <td>0.0</td>\n",
       "      <td>0.0</td>\n",
       "      <td>0.0</td>\n",
       "      <td>1.0</td>\n",
       "      <td>0.0</td>\n",
       "      <td>0.0</td>\n",
       "      <td>0.0</td>\n",
       "      <td>0.0</td>\n",
       "      <td>0.0</td>\n",
       "    </tr>\n",
       "    <tr>\n",
       "      <th>4</th>\n",
       "      <td>Apartment</td>\n",
       "      <td>Private room</td>\n",
       "      <td>2</td>\n",
       "      <td>1.0</td>\n",
       "      <td>1.0</td>\n",
       "      <td>1.0</td>\n",
       "      <td>79.0</td>\n",
       "      <td>84.0</td>\n",
       "      <td>463</td>\n",
       "      <td>{TV,Wifi,\"Air conditioning\",\"Paid parking off ...</td>\n",
       "      <td>0.0</td>\n",
       "      <td>1.0</td>\n",
       "      <td>0.0</td>\n",
       "      <td>0.0</td>\n",
       "      <td>0.0</td>\n",
       "      <td>1.0</td>\n",
       "      <td>0.0</td>\n",
       "      <td>0.0</td>\n",
       "      <td>0.0</td>\n",
       "      <td>0.0</td>\n",
       "      <td>0.0</td>\n",
       "    </tr>\n",
       "    <tr>\n",
       "      <th>5</th>\n",
       "      <td>Apartment</td>\n",
       "      <td>Private room</td>\n",
       "      <td>1</td>\n",
       "      <td>1.0</td>\n",
       "      <td>1.0</td>\n",
       "      <td>1.0</td>\n",
       "      <td>79.0</td>\n",
       "      <td>98.0</td>\n",
       "      <td>118</td>\n",
       "      <td>{Internet,Wifi,\"Air conditioning\",\"Paid parkin...</td>\n",
       "      <td>0.0</td>\n",
       "      <td>1.0</td>\n",
       "      <td>0.0</td>\n",
       "      <td>0.0</td>\n",
       "      <td>0.0</td>\n",
       "      <td>1.0</td>\n",
       "      <td>0.0</td>\n",
       "      <td>0.0</td>\n",
       "      <td>0.0</td>\n",
       "      <td>0.0</td>\n",
       "      <td>0.0</td>\n",
       "    </tr>\n",
       "  </tbody>\n",
       "</table>\n",
       "</div>"
      ],
      "text/plain": [
       "  property_type        room_type  accommodates  bathrooms  bedrooms  beds  \\\n",
       "0     Apartment  Entire home/apt             1        1.0       0.0   1.0   \n",
       "1         Other  Entire home/apt             3        1.0       1.0   4.0   \n",
       "2     Apartment  Entire home/apt             2        1.0       1.0   1.0   \n",
       "4     Apartment     Private room             2        1.0       1.0   1.0   \n",
       "5     Apartment     Private room             1        1.0       1.0   1.0   \n",
       "\n",
       "   price  review_scores_rating  number_of_reviews  \\\n",
       "0  225.0                  94.0                 48   \n",
       "1   89.0                  90.0                307   \n",
       "2  200.0                  90.0                 78   \n",
       "4   79.0                  84.0                463   \n",
       "5   79.0                  98.0                118   \n",
       "\n",
       "                                           amenities  Brooklyn  Manhattan  \\\n",
       "0  {TV,Wifi,\"Air conditioning\",Kitchen,\"Paid park...       0.0        1.0   \n",
       "1  {TV,\"Cable TV\",Internet,Wifi,\"Air conditioning...       1.0        0.0   \n",
       "2  {TV,\"Cable TV\",Internet,Wifi,\"Air conditioning...       0.0        1.0   \n",
       "4  {TV,Wifi,\"Air conditioning\",\"Paid parking off ...       0.0        1.0   \n",
       "5  {Internet,Wifi,\"Air conditioning\",\"Paid parkin...       0.0        1.0   \n",
       "\n",
       "   Queens  Bronx  Staten Island  Apartment  House  Other  Townhouse  \\\n",
       "0     0.0    0.0            0.0        1.0    0.0    0.0        0.0   \n",
       "1     0.0    0.0            0.0        0.0    0.0    1.0        0.0   \n",
       "2     0.0    0.0            0.0        1.0    0.0    0.0        0.0   \n",
       "4     0.0    0.0            0.0        1.0    0.0    0.0        0.0   \n",
       "5     0.0    0.0            0.0        1.0    0.0    0.0        0.0   \n",
       "\n",
       "   Condominium  Loft  \n",
       "0          0.0   0.0  \n",
       "1          0.0   0.0  \n",
       "2          0.0   0.0  \n",
       "4          0.0   0.0  \n",
       "5          0.0   0.0  "
      ]
     },
     "execution_count": 18,
     "metadata": {},
     "output_type": "execute_result"
    }
   ],
   "source": [
    "abm1.loc[abm1['property_type'].str.contains('Apartment'), 'Apartment'] = 1\n",
    "abm1.loc[abm1['property_type'].str.contains('House'), 'House'] = 1\n",
    "abm1.loc[abm1['property_type'].str.contains('Other'), 'Other'] = 1\n",
    "abm1.loc[abm1['property_type'].str.contains('Townhouse'), 'Townhouse'] = 1\n",
    "abm1.loc[abm1['property_type'].str.contains('Condominium'), 'Condominium'] = 1\n",
    "abm1.loc[abm1['property_type'].str.contains('Loft'), 'Loft'] = 1\n",
    "abm1 = abm1.fillna(0)\n",
    "\n",
    "abm1.isnull().sum()\n",
    "abm1.head(5)"
   ]
  },
  {
   "cell_type": "code",
   "execution_count": 19,
   "metadata": {
    "execution": {
     "iopub.execute_input": "2022-12-02T08:33:44.521026Z",
     "iopub.status.busy": "2022-12-02T08:33:44.519865Z",
     "iopub.status.idle": "2022-12-02T08:33:44.553001Z",
     "shell.execute_reply": "2022-12-02T08:33:44.552280Z",
     "shell.execute_reply.started": "2022-12-02T07:27:16.525432Z"
    },
    "papermill": {
     "duration": 0.077666,
     "end_time": "2022-12-02T08:33:44.553129",
     "exception": false,
     "start_time": "2022-12-02T08:33:44.475463",
     "status": "completed"
    },
    "tags": []
   },
   "outputs": [
    {
     "data": {
      "text/html": [
       "<div>\n",
       "<style scoped>\n",
       "    .dataframe tbody tr th:only-of-type {\n",
       "        vertical-align: middle;\n",
       "    }\n",
       "\n",
       "    .dataframe tbody tr th {\n",
       "        vertical-align: top;\n",
       "    }\n",
       "\n",
       "    .dataframe thead th {\n",
       "        text-align: right;\n",
       "    }\n",
       "</style>\n",
       "<table border=\"1\" class=\"dataframe\">\n",
       "  <thead>\n",
       "    <tr style=\"text-align: right;\">\n",
       "      <th></th>\n",
       "      <th>room_type</th>\n",
       "      <th>accommodates</th>\n",
       "      <th>bathrooms</th>\n",
       "      <th>bedrooms</th>\n",
       "      <th>beds</th>\n",
       "      <th>price</th>\n",
       "      <th>review_scores_rating</th>\n",
       "      <th>number_of_reviews</th>\n",
       "      <th>amenities</th>\n",
       "      <th>Brooklyn</th>\n",
       "      <th>Manhattan</th>\n",
       "      <th>Queens</th>\n",
       "      <th>Bronx</th>\n",
       "      <th>Staten Island</th>\n",
       "      <th>Apartment</th>\n",
       "      <th>House</th>\n",
       "      <th>Other</th>\n",
       "      <th>Townhouse</th>\n",
       "      <th>Condominium</th>\n",
       "      <th>Loft</th>\n",
       "    </tr>\n",
       "  </thead>\n",
       "  <tbody>\n",
       "    <tr>\n",
       "      <th>0</th>\n",
       "      <td>Entire home/apt</td>\n",
       "      <td>1</td>\n",
       "      <td>1.0</td>\n",
       "      <td>0.0</td>\n",
       "      <td>1.0</td>\n",
       "      <td>225.0</td>\n",
       "      <td>94.0</td>\n",
       "      <td>48</td>\n",
       "      <td>{TV,Wifi,\"Air conditioning\",Kitchen,\"Paid park...</td>\n",
       "      <td>0.0</td>\n",
       "      <td>1.0</td>\n",
       "      <td>0.0</td>\n",
       "      <td>0.0</td>\n",
       "      <td>0.0</td>\n",
       "      <td>1.0</td>\n",
       "      <td>0.0</td>\n",
       "      <td>0.0</td>\n",
       "      <td>0.0</td>\n",
       "      <td>0.0</td>\n",
       "      <td>0.0</td>\n",
       "    </tr>\n",
       "    <tr>\n",
       "      <th>1</th>\n",
       "      <td>Entire home/apt</td>\n",
       "      <td>3</td>\n",
       "      <td>1.0</td>\n",
       "      <td>1.0</td>\n",
       "      <td>4.0</td>\n",
       "      <td>89.0</td>\n",
       "      <td>90.0</td>\n",
       "      <td>307</td>\n",
       "      <td>{TV,\"Cable TV\",Internet,Wifi,\"Air conditioning...</td>\n",
       "      <td>1.0</td>\n",
       "      <td>0.0</td>\n",
       "      <td>0.0</td>\n",
       "      <td>0.0</td>\n",
       "      <td>0.0</td>\n",
       "      <td>0.0</td>\n",
       "      <td>0.0</td>\n",
       "      <td>1.0</td>\n",
       "      <td>0.0</td>\n",
       "      <td>0.0</td>\n",
       "      <td>0.0</td>\n",
       "    </tr>\n",
       "    <tr>\n",
       "      <th>2</th>\n",
       "      <td>Entire home/apt</td>\n",
       "      <td>2</td>\n",
       "      <td>1.0</td>\n",
       "      <td>1.0</td>\n",
       "      <td>1.0</td>\n",
       "      <td>200.0</td>\n",
       "      <td>90.0</td>\n",
       "      <td>78</td>\n",
       "      <td>{TV,\"Cable TV\",Internet,Wifi,\"Air conditioning...</td>\n",
       "      <td>0.0</td>\n",
       "      <td>1.0</td>\n",
       "      <td>0.0</td>\n",
       "      <td>0.0</td>\n",
       "      <td>0.0</td>\n",
       "      <td>1.0</td>\n",
       "      <td>0.0</td>\n",
       "      <td>0.0</td>\n",
       "      <td>0.0</td>\n",
       "      <td>0.0</td>\n",
       "      <td>0.0</td>\n",
       "    </tr>\n",
       "  </tbody>\n",
       "</table>\n",
       "</div>"
      ],
      "text/plain": [
       "         room_type  accommodates  bathrooms  bedrooms  beds  price  \\\n",
       "0  Entire home/apt             1        1.0       0.0   1.0  225.0   \n",
       "1  Entire home/apt             3        1.0       1.0   4.0   89.0   \n",
       "2  Entire home/apt             2        1.0       1.0   1.0  200.0   \n",
       "\n",
       "   review_scores_rating  number_of_reviews  \\\n",
       "0                  94.0                 48   \n",
       "1                  90.0                307   \n",
       "2                  90.0                 78   \n",
       "\n",
       "                                           amenities  Brooklyn  Manhattan  \\\n",
       "0  {TV,Wifi,\"Air conditioning\",Kitchen,\"Paid park...       0.0        1.0   \n",
       "1  {TV,\"Cable TV\",Internet,Wifi,\"Air conditioning...       1.0        0.0   \n",
       "2  {TV,\"Cable TV\",Internet,Wifi,\"Air conditioning...       0.0        1.0   \n",
       "\n",
       "   Queens  Bronx  Staten Island  Apartment  House  Other  Townhouse  \\\n",
       "0     0.0    0.0            0.0        1.0    0.0    0.0        0.0   \n",
       "1     0.0    0.0            0.0        0.0    0.0    1.0        0.0   \n",
       "2     0.0    0.0            0.0        1.0    0.0    0.0        0.0   \n",
       "\n",
       "   Condominium  Loft  \n",
       "0          0.0   0.0  \n",
       "1          0.0   0.0  \n",
       "2          0.0   0.0  "
      ]
     },
     "execution_count": 19,
     "metadata": {},
     "output_type": "execute_result"
    }
   ],
   "source": [
    "abm1.drop('property_type', axis = 1, inplace=True)\n",
    "abm1.head(3)"
   ]
  },
  {
   "cell_type": "markdown",
   "metadata": {
    "papermill": {
     "duration": 0.039619,
     "end_time": "2022-12-02T08:33:44.632207",
     "exception": false,
     "start_time": "2022-12-02T08:33:44.592588",
     "status": "completed"
    },
    "tags": []
   },
   "source": [
    "### Room_type를 one hot encoding 하기"
   ]
  },
  {
   "cell_type": "code",
   "execution_count": 20,
   "metadata": {
    "execution": {
     "iopub.execute_input": "2022-12-02T08:33:44.725490Z",
     "iopub.status.busy": "2022-12-02T08:33:44.724418Z",
     "iopub.status.idle": "2022-12-02T08:33:44.730199Z",
     "shell.execute_reply": "2022-12-02T08:33:44.729573Z",
     "shell.execute_reply.started": "2022-12-02T07:27:26.008392Z"
    },
    "papermill": {
     "duration": 0.058436,
     "end_time": "2022-12-02T08:33:44.730341",
     "exception": false,
     "start_time": "2022-12-02T08:33:44.671905",
     "status": "completed"
    },
    "tags": []
   },
   "outputs": [
    {
     "data": {
      "text/plain": [
       "Entire home/apt    24902\n",
       "Private room       20394\n",
       "Shared room          875\n",
       "Hotel room           366\n",
       "Name: room_type, dtype: int64"
      ]
     },
     "execution_count": 20,
     "metadata": {},
     "output_type": "execute_result"
    }
   ],
   "source": [
    "abm1['room_type'].value_counts()"
   ]
  },
  {
   "cell_type": "code",
   "execution_count": 21,
   "metadata": {
    "execution": {
     "iopub.execute_input": "2022-12-02T08:33:44.829720Z",
     "iopub.status.busy": "2022-12-02T08:33:44.820158Z",
     "iopub.status.idle": "2022-12-02T08:33:45.027731Z",
     "shell.execute_reply": "2022-12-02T08:33:45.028318Z",
     "shell.execute_reply.started": "2022-12-02T07:27:28.212096Z"
    },
    "papermill": {
     "duration": 0.25774,
     "end_time": "2022-12-02T08:33:45.028535",
     "exception": false,
     "start_time": "2022-12-02T08:33:44.770795",
     "status": "completed"
    },
    "tags": []
   },
   "outputs": [
    {
     "data": {
      "text/plain": [
       "accommodates            0\n",
       "bathrooms               0\n",
       "bedrooms                0\n",
       "beds                    0\n",
       "price                   0\n",
       "review_scores_rating    0\n",
       "number_of_reviews       0\n",
       "amenities               0\n",
       "Brooklyn                0\n",
       "Manhattan               0\n",
       "Queens                  0\n",
       "Bronx                   0\n",
       "Staten Island           0\n",
       "Apartment               0\n",
       "House                   0\n",
       "Other                   0\n",
       "Townhouse               0\n",
       "Condominium             0\n",
       "Loft                    0\n",
       "Entire home/apt         0\n",
       "Private room            0\n",
       "Shared room             0\n",
       "Hotel room              0\n",
       "dtype: int64"
      ]
     },
     "execution_count": 21,
     "metadata": {},
     "output_type": "execute_result"
    },
    {
     "data": {
      "text/html": [
       "<div>\n",
       "<style scoped>\n",
       "    .dataframe tbody tr th:only-of-type {\n",
       "        vertical-align: middle;\n",
       "    }\n",
       "\n",
       "    .dataframe tbody tr th {\n",
       "        vertical-align: top;\n",
       "    }\n",
       "\n",
       "    .dataframe thead th {\n",
       "        text-align: right;\n",
       "    }\n",
       "</style>\n",
       "<table border=\"1\" class=\"dataframe\">\n",
       "  <thead>\n",
       "    <tr style=\"text-align: right;\">\n",
       "      <th></th>\n",
       "      <th>accommodates</th>\n",
       "      <th>bathrooms</th>\n",
       "      <th>bedrooms</th>\n",
       "      <th>beds</th>\n",
       "      <th>price</th>\n",
       "      <th>review_scores_rating</th>\n",
       "      <th>number_of_reviews</th>\n",
       "      <th>amenities</th>\n",
       "      <th>Brooklyn</th>\n",
       "      <th>Manhattan</th>\n",
       "      <th>Queens</th>\n",
       "      <th>Bronx</th>\n",
       "      <th>Staten Island</th>\n",
       "      <th>Apartment</th>\n",
       "      <th>House</th>\n",
       "      <th>Other</th>\n",
       "      <th>Townhouse</th>\n",
       "      <th>Condominium</th>\n",
       "      <th>Loft</th>\n",
       "      <th>Entire home/apt</th>\n",
       "      <th>Private room</th>\n",
       "      <th>Shared room</th>\n",
       "      <th>Hotel room</th>\n",
       "    </tr>\n",
       "  </thead>\n",
       "  <tbody>\n",
       "    <tr>\n",
       "      <th>0</th>\n",
       "      <td>1</td>\n",
       "      <td>1.0</td>\n",
       "      <td>0.0</td>\n",
       "      <td>1.0</td>\n",
       "      <td>225.0</td>\n",
       "      <td>94.0</td>\n",
       "      <td>48</td>\n",
       "      <td>{TV,Wifi,\"Air conditioning\",Kitchen,\"Paid park...</td>\n",
       "      <td>0.0</td>\n",
       "      <td>1.0</td>\n",
       "      <td>0.0</td>\n",
       "      <td>0.0</td>\n",
       "      <td>0.0</td>\n",
       "      <td>1.0</td>\n",
       "      <td>0.0</td>\n",
       "      <td>0.0</td>\n",
       "      <td>0.0</td>\n",
       "      <td>0.0</td>\n",
       "      <td>0.0</td>\n",
       "      <td>1.0</td>\n",
       "      <td>0.0</td>\n",
       "      <td>0.0</td>\n",
       "      <td>0.0</td>\n",
       "    </tr>\n",
       "    <tr>\n",
       "      <th>1</th>\n",
       "      <td>3</td>\n",
       "      <td>1.0</td>\n",
       "      <td>1.0</td>\n",
       "      <td>4.0</td>\n",
       "      <td>89.0</td>\n",
       "      <td>90.0</td>\n",
       "      <td>307</td>\n",
       "      <td>{TV,\"Cable TV\",Internet,Wifi,\"Air conditioning...</td>\n",
       "      <td>1.0</td>\n",
       "      <td>0.0</td>\n",
       "      <td>0.0</td>\n",
       "      <td>0.0</td>\n",
       "      <td>0.0</td>\n",
       "      <td>0.0</td>\n",
       "      <td>0.0</td>\n",
       "      <td>1.0</td>\n",
       "      <td>0.0</td>\n",
       "      <td>0.0</td>\n",
       "      <td>0.0</td>\n",
       "      <td>1.0</td>\n",
       "      <td>0.0</td>\n",
       "      <td>0.0</td>\n",
       "      <td>0.0</td>\n",
       "    </tr>\n",
       "    <tr>\n",
       "      <th>2</th>\n",
       "      <td>2</td>\n",
       "      <td>1.0</td>\n",
       "      <td>1.0</td>\n",
       "      <td>1.0</td>\n",
       "      <td>200.0</td>\n",
       "      <td>90.0</td>\n",
       "      <td>78</td>\n",
       "      <td>{TV,\"Cable TV\",Internet,Wifi,\"Air conditioning...</td>\n",
       "      <td>0.0</td>\n",
       "      <td>1.0</td>\n",
       "      <td>0.0</td>\n",
       "      <td>0.0</td>\n",
       "      <td>0.0</td>\n",
       "      <td>1.0</td>\n",
       "      <td>0.0</td>\n",
       "      <td>0.0</td>\n",
       "      <td>0.0</td>\n",
       "      <td>0.0</td>\n",
       "      <td>0.0</td>\n",
       "      <td>1.0</td>\n",
       "      <td>0.0</td>\n",
       "      <td>0.0</td>\n",
       "      <td>0.0</td>\n",
       "    </tr>\n",
       "    <tr>\n",
       "      <th>4</th>\n",
       "      <td>2</td>\n",
       "      <td>1.0</td>\n",
       "      <td>1.0</td>\n",
       "      <td>1.0</td>\n",
       "      <td>79.0</td>\n",
       "      <td>84.0</td>\n",
       "      <td>463</td>\n",
       "      <td>{TV,Wifi,\"Air conditioning\",\"Paid parking off ...</td>\n",
       "      <td>0.0</td>\n",
       "      <td>1.0</td>\n",
       "      <td>0.0</td>\n",
       "      <td>0.0</td>\n",
       "      <td>0.0</td>\n",
       "      <td>1.0</td>\n",
       "      <td>0.0</td>\n",
       "      <td>0.0</td>\n",
       "      <td>0.0</td>\n",
       "      <td>0.0</td>\n",
       "      <td>0.0</td>\n",
       "      <td>0.0</td>\n",
       "      <td>1.0</td>\n",
       "      <td>0.0</td>\n",
       "      <td>0.0</td>\n",
       "    </tr>\n",
       "    <tr>\n",
       "      <th>5</th>\n",
       "      <td>1</td>\n",
       "      <td>1.0</td>\n",
       "      <td>1.0</td>\n",
       "      <td>1.0</td>\n",
       "      <td>79.0</td>\n",
       "      <td>98.0</td>\n",
       "      <td>118</td>\n",
       "      <td>{Internet,Wifi,\"Air conditioning\",\"Paid parkin...</td>\n",
       "      <td>0.0</td>\n",
       "      <td>1.0</td>\n",
       "      <td>0.0</td>\n",
       "      <td>0.0</td>\n",
       "      <td>0.0</td>\n",
       "      <td>1.0</td>\n",
       "      <td>0.0</td>\n",
       "      <td>0.0</td>\n",
       "      <td>0.0</td>\n",
       "      <td>0.0</td>\n",
       "      <td>0.0</td>\n",
       "      <td>0.0</td>\n",
       "      <td>1.0</td>\n",
       "      <td>0.0</td>\n",
       "      <td>0.0</td>\n",
       "    </tr>\n",
       "  </tbody>\n",
       "</table>\n",
       "</div>"
      ],
      "text/plain": [
       "   accommodates  bathrooms  bedrooms  beds  price  review_scores_rating  \\\n",
       "0             1        1.0       0.0   1.0  225.0                  94.0   \n",
       "1             3        1.0       1.0   4.0   89.0                  90.0   \n",
       "2             2        1.0       1.0   1.0  200.0                  90.0   \n",
       "4             2        1.0       1.0   1.0   79.0                  84.0   \n",
       "5             1        1.0       1.0   1.0   79.0                  98.0   \n",
       "\n",
       "   number_of_reviews                                          amenities  \\\n",
       "0                 48  {TV,Wifi,\"Air conditioning\",Kitchen,\"Paid park...   \n",
       "1                307  {TV,\"Cable TV\",Internet,Wifi,\"Air conditioning...   \n",
       "2                 78  {TV,\"Cable TV\",Internet,Wifi,\"Air conditioning...   \n",
       "4                463  {TV,Wifi,\"Air conditioning\",\"Paid parking off ...   \n",
       "5                118  {Internet,Wifi,\"Air conditioning\",\"Paid parkin...   \n",
       "\n",
       "   Brooklyn  Manhattan  Queens  Bronx  Staten Island  Apartment  House  Other  \\\n",
       "0       0.0        1.0     0.0    0.0            0.0        1.0    0.0    0.0   \n",
       "1       1.0        0.0     0.0    0.0            0.0        0.0    0.0    1.0   \n",
       "2       0.0        1.0     0.0    0.0            0.0        1.0    0.0    0.0   \n",
       "4       0.0        1.0     0.0    0.0            0.0        1.0    0.0    0.0   \n",
       "5       0.0        1.0     0.0    0.0            0.0        1.0    0.0    0.0   \n",
       "\n",
       "   Townhouse  Condominium  Loft  Entire home/apt  Private room  Shared room  \\\n",
       "0        0.0          0.0   0.0              1.0           0.0          0.0   \n",
       "1        0.0          0.0   0.0              1.0           0.0          0.0   \n",
       "2        0.0          0.0   0.0              1.0           0.0          0.0   \n",
       "4        0.0          0.0   0.0              0.0           1.0          0.0   \n",
       "5        0.0          0.0   0.0              0.0           1.0          0.0   \n",
       "\n",
       "   Hotel room  \n",
       "0         0.0  \n",
       "1         0.0  \n",
       "2         0.0  \n",
       "4         0.0  \n",
       "5         0.0  "
      ]
     },
     "execution_count": 21,
     "metadata": {},
     "output_type": "execute_result"
    }
   ],
   "source": [
    "abm1.loc[abm1['room_type'].str.contains('Entire home/apt'), 'Entire home/apt'] = 1\n",
    "abm1.loc[abm1['room_type'].str.contains('Private room'), 'Private room'] = 1\n",
    "abm1.loc[abm1['room_type'].str.contains('Shared room'), 'Shared room'] = 1\n",
    "abm1.loc[abm1['room_type'].str.contains('Hotel room'), 'Hotel room'] = 1\n",
    "abm1 = abm1.fillna(0)\n",
    "\n",
    "abm1.drop('room_type', axis = 1, inplace=True)\n",
    "abm1.isnull().sum()\n",
    "abm1.head(5)"
   ]
  },
  {
   "cell_type": "markdown",
   "metadata": {
    "papermill": {
     "duration": 0.042479,
     "end_time": "2022-12-02T08:33:45.114089",
     "exception": false,
     "start_time": "2022-12-02T08:33:45.071610",
     "status": "completed"
    },
    "tags": []
   },
   "source": [
    "## 2. Content Based Filtering 추천 시스템"
   ]
  },
  {
   "cell_type": "markdown",
   "metadata": {
    "papermill": {
     "duration": 0.045145,
     "end_time": "2022-12-02T08:33:45.202666",
     "exception": false,
     "start_time": "2022-12-02T08:33:45.157521",
     "status": "completed"
    },
    "tags": []
   },
   "source": [
    "### 유사도 검사를 위한 새로운 matrix 생성"
   ]
  },
  {
   "cell_type": "code",
   "execution_count": 22,
   "metadata": {
    "execution": {
     "iopub.execute_input": "2022-12-02T08:33:45.312264Z",
     "iopub.status.busy": "2022-12-02T08:33:45.308680Z",
     "iopub.status.idle": "2022-12-02T08:33:45.331492Z",
     "shell.execute_reply": "2022-12-02T08:33:45.330619Z",
     "shell.execute_reply.started": "2022-12-02T08:18:44.974377Z"
    },
    "papermill": {
     "duration": 0.080859,
     "end_time": "2022-12-02T08:33:45.331647",
     "exception": false,
     "start_time": "2022-12-02T08:33:45.250788",
     "status": "completed"
    },
    "tags": []
   },
   "outputs": [
    {
     "data": {
      "text/html": [
       "<div>\n",
       "<style scoped>\n",
       "    .dataframe tbody tr th:only-of-type {\n",
       "        vertical-align: middle;\n",
       "    }\n",
       "\n",
       "    .dataframe tbody tr th {\n",
       "        vertical-align: top;\n",
       "    }\n",
       "\n",
       "    .dataframe thead th {\n",
       "        text-align: right;\n",
       "    }\n",
       "</style>\n",
       "<table border=\"1\" class=\"dataframe\">\n",
       "  <thead>\n",
       "    <tr style=\"text-align: right;\">\n",
       "      <th></th>\n",
       "      <th>accommodates</th>\n",
       "      <th>bathrooms</th>\n",
       "      <th>bedrooms</th>\n",
       "      <th>beds</th>\n",
       "      <th>price</th>\n",
       "      <th>Brooklyn</th>\n",
       "      <th>Manhattan</th>\n",
       "      <th>Queens</th>\n",
       "      <th>Bronx</th>\n",
       "      <th>Staten Island</th>\n",
       "      <th>Apartment</th>\n",
       "      <th>House</th>\n",
       "      <th>Other</th>\n",
       "      <th>Townhouse</th>\n",
       "      <th>Condominium</th>\n",
       "      <th>Loft</th>\n",
       "      <th>Entire home/apt</th>\n",
       "      <th>Private room</th>\n",
       "      <th>Shared room</th>\n",
       "      <th>Hotel room</th>\n",
       "    </tr>\n",
       "  </thead>\n",
       "  <tbody>\n",
       "    <tr>\n",
       "      <th>0</th>\n",
       "      <td>1</td>\n",
       "      <td>1.0</td>\n",
       "      <td>0.0</td>\n",
       "      <td>1.0</td>\n",
       "      <td>225.0</td>\n",
       "      <td>0.0</td>\n",
       "      <td>1.0</td>\n",
       "      <td>0.0</td>\n",
       "      <td>0.0</td>\n",
       "      <td>0.0</td>\n",
       "      <td>1.0</td>\n",
       "      <td>0.0</td>\n",
       "      <td>0.0</td>\n",
       "      <td>0.0</td>\n",
       "      <td>0.0</td>\n",
       "      <td>0.0</td>\n",
       "      <td>1.0</td>\n",
       "      <td>0.0</td>\n",
       "      <td>0.0</td>\n",
       "      <td>0.0</td>\n",
       "    </tr>\n",
       "    <tr>\n",
       "      <th>1</th>\n",
       "      <td>3</td>\n",
       "      <td>1.0</td>\n",
       "      <td>1.0</td>\n",
       "      <td>4.0</td>\n",
       "      <td>89.0</td>\n",
       "      <td>1.0</td>\n",
       "      <td>0.0</td>\n",
       "      <td>0.0</td>\n",
       "      <td>0.0</td>\n",
       "      <td>0.0</td>\n",
       "      <td>0.0</td>\n",
       "      <td>0.0</td>\n",
       "      <td>1.0</td>\n",
       "      <td>0.0</td>\n",
       "      <td>0.0</td>\n",
       "      <td>0.0</td>\n",
       "      <td>1.0</td>\n",
       "      <td>0.0</td>\n",
       "      <td>0.0</td>\n",
       "      <td>0.0</td>\n",
       "    </tr>\n",
       "    <tr>\n",
       "      <th>2</th>\n",
       "      <td>2</td>\n",
       "      <td>1.0</td>\n",
       "      <td>1.0</td>\n",
       "      <td>1.0</td>\n",
       "      <td>200.0</td>\n",
       "      <td>0.0</td>\n",
       "      <td>1.0</td>\n",
       "      <td>0.0</td>\n",
       "      <td>0.0</td>\n",
       "      <td>0.0</td>\n",
       "      <td>1.0</td>\n",
       "      <td>0.0</td>\n",
       "      <td>0.0</td>\n",
       "      <td>0.0</td>\n",
       "      <td>0.0</td>\n",
       "      <td>0.0</td>\n",
       "      <td>1.0</td>\n",
       "      <td>0.0</td>\n",
       "      <td>0.0</td>\n",
       "      <td>0.0</td>\n",
       "    </tr>\n",
       "    <tr>\n",
       "      <th>4</th>\n",
       "      <td>2</td>\n",
       "      <td>1.0</td>\n",
       "      <td>1.0</td>\n",
       "      <td>1.0</td>\n",
       "      <td>79.0</td>\n",
       "      <td>0.0</td>\n",
       "      <td>1.0</td>\n",
       "      <td>0.0</td>\n",
       "      <td>0.0</td>\n",
       "      <td>0.0</td>\n",
       "      <td>1.0</td>\n",
       "      <td>0.0</td>\n",
       "      <td>0.0</td>\n",
       "      <td>0.0</td>\n",
       "      <td>0.0</td>\n",
       "      <td>0.0</td>\n",
       "      <td>0.0</td>\n",
       "      <td>1.0</td>\n",
       "      <td>0.0</td>\n",
       "      <td>0.0</td>\n",
       "    </tr>\n",
       "    <tr>\n",
       "      <th>5</th>\n",
       "      <td>1</td>\n",
       "      <td>1.0</td>\n",
       "      <td>1.0</td>\n",
       "      <td>1.0</td>\n",
       "      <td>79.0</td>\n",
       "      <td>0.0</td>\n",
       "      <td>1.0</td>\n",
       "      <td>0.0</td>\n",
       "      <td>0.0</td>\n",
       "      <td>0.0</td>\n",
       "      <td>1.0</td>\n",
       "      <td>0.0</td>\n",
       "      <td>0.0</td>\n",
       "      <td>0.0</td>\n",
       "      <td>0.0</td>\n",
       "      <td>0.0</td>\n",
       "      <td>0.0</td>\n",
       "      <td>1.0</td>\n",
       "      <td>0.0</td>\n",
       "      <td>0.0</td>\n",
       "    </tr>\n",
       "  </tbody>\n",
       "</table>\n",
       "</div>"
      ],
      "text/plain": [
       "   accommodates  bathrooms  bedrooms  beds  price  Brooklyn  Manhattan  \\\n",
       "0             1        1.0       0.0   1.0  225.0       0.0        1.0   \n",
       "1             3        1.0       1.0   4.0   89.0       1.0        0.0   \n",
       "2             2        1.0       1.0   1.0  200.0       0.0        1.0   \n",
       "4             2        1.0       1.0   1.0   79.0       0.0        1.0   \n",
       "5             1        1.0       1.0   1.0   79.0       0.0        1.0   \n",
       "\n",
       "   Queens  Bronx  Staten Island  Apartment  House  Other  Townhouse  \\\n",
       "0     0.0    0.0            0.0        1.0    0.0    0.0        0.0   \n",
       "1     0.0    0.0            0.0        0.0    0.0    1.0        0.0   \n",
       "2     0.0    0.0            0.0        1.0    0.0    0.0        0.0   \n",
       "4     0.0    0.0            0.0        1.0    0.0    0.0        0.0   \n",
       "5     0.0    0.0            0.0        1.0    0.0    0.0        0.0   \n",
       "\n",
       "   Condominium  Loft  Entire home/apt  Private room  Shared room  Hotel room  \n",
       "0          0.0   0.0              1.0           0.0          0.0         0.0  \n",
       "1          0.0   0.0              1.0           0.0          0.0         0.0  \n",
       "2          0.0   0.0              1.0           0.0          0.0         0.0  \n",
       "4          0.0   0.0              0.0           1.0          0.0         0.0  \n",
       "5          0.0   0.0              0.0           1.0          0.0         0.0  "
      ]
     },
     "execution_count": 22,
     "metadata": {},
     "output_type": "execute_result"
    }
   ],
   "source": [
    "abm2 = abm1.drop(['review_scores_rating', 'number_of_reviews', 'amenities'], axis = 1, inplace=False)\n",
    "abm2.head(5)"
   ]
  },
  {
   "cell_type": "code",
   "execution_count": 23,
   "metadata": {
    "execution": {
     "iopub.execute_input": "2022-12-02T08:33:45.421911Z",
     "iopub.status.busy": "2022-12-02T08:33:45.421093Z",
     "iopub.status.idle": "2022-12-02T08:33:45.470524Z",
     "shell.execute_reply": "2022-12-02T08:33:45.469693Z",
     "shell.execute_reply.started": "2022-12-02T08:18:48.954456Z"
    },
    "papermill": {
     "duration": 0.096851,
     "end_time": "2022-12-02T08:33:45.470676",
     "exception": false,
     "start_time": "2022-12-02T08:33:45.373825",
     "status": "completed"
    },
    "tags": []
   },
   "outputs": [
    {
     "data": {
      "text/html": [
       "<div>\n",
       "<style scoped>\n",
       "    .dataframe tbody tr th:only-of-type {\n",
       "        vertical-align: middle;\n",
       "    }\n",
       "\n",
       "    .dataframe tbody tr th {\n",
       "        vertical-align: top;\n",
       "    }\n",
       "\n",
       "    .dataframe thead th {\n",
       "        text-align: right;\n",
       "    }\n",
       "</style>\n",
       "<table border=\"1\" class=\"dataframe\">\n",
       "  <thead>\n",
       "    <tr style=\"text-align: right;\">\n",
       "      <th></th>\n",
       "      <th>accommodates</th>\n",
       "      <th>bathrooms</th>\n",
       "      <th>bedrooms</th>\n",
       "      <th>beds</th>\n",
       "      <th>price</th>\n",
       "      <th>Brooklyn</th>\n",
       "      <th>Manhattan</th>\n",
       "      <th>Queens</th>\n",
       "      <th>Bronx</th>\n",
       "      <th>Staten Island</th>\n",
       "      <th>Apartment</th>\n",
       "      <th>House</th>\n",
       "      <th>Other</th>\n",
       "      <th>Townhouse</th>\n",
       "      <th>Condominium</th>\n",
       "      <th>Loft</th>\n",
       "      <th>Entire home/apt</th>\n",
       "      <th>Private room</th>\n",
       "      <th>Shared room</th>\n",
       "      <th>Hotel room</th>\n",
       "    </tr>\n",
       "  </thead>\n",
       "  <tbody>\n",
       "    <tr>\n",
       "      <th>0</th>\n",
       "      <td>-1.051304</td>\n",
       "      <td>-0.342984</td>\n",
       "      <td>-1.567475</td>\n",
       "      <td>-0.567580</td>\n",
       "      <td>0.332042</td>\n",
       "      <td>-0.839017</td>\n",
       "      <td>1.240376</td>\n",
       "      <td>-0.419918</td>\n",
       "      <td>-0.181173</td>\n",
       "      <td>-0.106714</td>\n",
       "      <td>0.601894</td>\n",
       "      <td>-0.353981</td>\n",
       "      <td>-0.196079</td>\n",
       "      <td>-0.234564</td>\n",
       "      <td>-0.181615</td>\n",
       "      <td>-0.186112</td>\n",
       "      <td>0.932087</td>\n",
       "      <td>-0.883220</td>\n",
       "      <td>-0.138427</td>\n",
       "      <td>-0.089033</td>\n",
       "    </tr>\n",
       "    <tr>\n",
       "      <th>1</th>\n",
       "      <td>-0.082309</td>\n",
       "      <td>-0.342984</td>\n",
       "      <td>-0.295538</td>\n",
       "      <td>1.852492</td>\n",
       "      <td>-0.223321</td>\n",
       "      <td>1.191845</td>\n",
       "      <td>-0.806190</td>\n",
       "      <td>-0.419918</td>\n",
       "      <td>-0.181173</td>\n",
       "      <td>-0.106714</td>\n",
       "      <td>-1.661386</td>\n",
       "      <td>-0.353981</td>\n",
       "      <td>5.099875</td>\n",
       "      <td>-0.234564</td>\n",
       "      <td>-0.181615</td>\n",
       "      <td>-0.186112</td>\n",
       "      <td>0.932087</td>\n",
       "      <td>-0.883220</td>\n",
       "      <td>-0.138427</td>\n",
       "      <td>-0.089033</td>\n",
       "    </tr>\n",
       "    <tr>\n",
       "      <th>2</th>\n",
       "      <td>-0.566807</td>\n",
       "      <td>-0.342984</td>\n",
       "      <td>-0.295538</td>\n",
       "      <td>-0.567580</td>\n",
       "      <td>0.229953</td>\n",
       "      <td>-0.839017</td>\n",
       "      <td>1.240376</td>\n",
       "      <td>-0.419918</td>\n",
       "      <td>-0.181173</td>\n",
       "      <td>-0.106714</td>\n",
       "      <td>0.601894</td>\n",
       "      <td>-0.353981</td>\n",
       "      <td>-0.196079</td>\n",
       "      <td>-0.234564</td>\n",
       "      <td>-0.181615</td>\n",
       "      <td>-0.186112</td>\n",
       "      <td>0.932087</td>\n",
       "      <td>-0.883220</td>\n",
       "      <td>-0.138427</td>\n",
       "      <td>-0.089033</td>\n",
       "    </tr>\n",
       "    <tr>\n",
       "      <th>4</th>\n",
       "      <td>-0.566807</td>\n",
       "      <td>-0.342984</td>\n",
       "      <td>-0.295538</td>\n",
       "      <td>-0.567580</td>\n",
       "      <td>-0.264156</td>\n",
       "      <td>-0.839017</td>\n",
       "      <td>1.240376</td>\n",
       "      <td>-0.419918</td>\n",
       "      <td>-0.181173</td>\n",
       "      <td>-0.106714</td>\n",
       "      <td>0.601894</td>\n",
       "      <td>-0.353981</td>\n",
       "      <td>-0.196079</td>\n",
       "      <td>-0.234564</td>\n",
       "      <td>-0.181615</td>\n",
       "      <td>-0.186112</td>\n",
       "      <td>-1.072838</td>\n",
       "      <td>1.132197</td>\n",
       "      <td>-0.138427</td>\n",
       "      <td>-0.089033</td>\n",
       "    </tr>\n",
       "    <tr>\n",
       "      <th>5</th>\n",
       "      <td>-1.051304</td>\n",
       "      <td>-0.342984</td>\n",
       "      <td>-0.295538</td>\n",
       "      <td>-0.567580</td>\n",
       "      <td>-0.264156</td>\n",
       "      <td>-0.839017</td>\n",
       "      <td>1.240376</td>\n",
       "      <td>-0.419918</td>\n",
       "      <td>-0.181173</td>\n",
       "      <td>-0.106714</td>\n",
       "      <td>0.601894</td>\n",
       "      <td>-0.353981</td>\n",
       "      <td>-0.196079</td>\n",
       "      <td>-0.234564</td>\n",
       "      <td>-0.181615</td>\n",
       "      <td>-0.186112</td>\n",
       "      <td>-1.072838</td>\n",
       "      <td>1.132197</td>\n",
       "      <td>-0.138427</td>\n",
       "      <td>-0.089033</td>\n",
       "    </tr>\n",
       "  </tbody>\n",
       "</table>\n",
       "</div>"
      ],
      "text/plain": [
       "   accommodates  bathrooms  bedrooms      beds     price  Brooklyn  Manhattan  \\\n",
       "0     -1.051304  -0.342984 -1.567475 -0.567580  0.332042 -0.839017   1.240376   \n",
       "1     -0.082309  -0.342984 -0.295538  1.852492 -0.223321  1.191845  -0.806190   \n",
       "2     -0.566807  -0.342984 -0.295538 -0.567580  0.229953 -0.839017   1.240376   \n",
       "4     -0.566807  -0.342984 -0.295538 -0.567580 -0.264156 -0.839017   1.240376   \n",
       "5     -1.051304  -0.342984 -0.295538 -0.567580 -0.264156 -0.839017   1.240376   \n",
       "\n",
       "     Queens     Bronx  Staten Island  Apartment     House     Other  \\\n",
       "0 -0.419918 -0.181173      -0.106714   0.601894 -0.353981 -0.196079   \n",
       "1 -0.419918 -0.181173      -0.106714  -1.661386 -0.353981  5.099875   \n",
       "2 -0.419918 -0.181173      -0.106714   0.601894 -0.353981 -0.196079   \n",
       "4 -0.419918 -0.181173      -0.106714   0.601894 -0.353981 -0.196079   \n",
       "5 -0.419918 -0.181173      -0.106714   0.601894 -0.353981 -0.196079   \n",
       "\n",
       "   Townhouse  Condominium      Loft  Entire home/apt  Private room  \\\n",
       "0  -0.234564    -0.181615 -0.186112         0.932087     -0.883220   \n",
       "1  -0.234564    -0.181615 -0.186112         0.932087     -0.883220   \n",
       "2  -0.234564    -0.181615 -0.186112         0.932087     -0.883220   \n",
       "4  -0.234564    -0.181615 -0.186112        -1.072838      1.132197   \n",
       "5  -0.234564    -0.181615 -0.186112        -1.072838      1.132197   \n",
       "\n",
       "   Shared room  Hotel room  \n",
       "0    -0.138427   -0.089033  \n",
       "1    -0.138427   -0.089033  \n",
       "2    -0.138427   -0.089033  \n",
       "4    -0.138427   -0.089033  \n",
       "5    -0.138427   -0.089033  "
      ]
     },
     "execution_count": 23,
     "metadata": {},
     "output_type": "execute_result"
    }
   ],
   "source": [
    "abm2 = (abm2 - abm2.mean())/abm2.std()\n",
    "abm2.head(5)"
   ]
  },
  {
   "cell_type": "markdown",
   "metadata": {
    "papermill": {
     "duration": 0.041216,
     "end_time": "2022-12-02T08:33:45.557467",
     "exception": false,
     "start_time": "2022-12-02T08:33:45.516251",
     "status": "completed"
    },
    "tags": []
   },
   "source": [
    "### 유사도 계산해보기\n",
    "코사인 유사도로 계산한다."
   ]
  },
  {
   "cell_type": "code",
   "execution_count": 24,
   "metadata": {
    "execution": {
     "iopub.execute_input": "2022-12-02T08:33:45.649026Z",
     "iopub.status.busy": "2022-12-02T08:33:45.647985Z",
     "iopub.status.idle": "2022-12-02T08:33:45.652118Z",
     "shell.execute_reply": "2022-12-02T08:33:45.651489Z",
     "shell.execute_reply.started": "2022-12-02T08:18:52.526867Z"
    },
    "papermill": {
     "duration": 0.051509,
     "end_time": "2022-12-02T08:33:45.652262",
     "exception": false,
     "start_time": "2022-12-02T08:33:45.600753",
     "status": "completed"
    },
    "tags": []
   },
   "outputs": [],
   "source": [
    "from numpy import dot\n",
    "from numpy.linalg import norm\n",
    "\n",
    "def cos_sim(A, B):\n",
    "  return dot(A, B)/(norm(A)*norm(B))"
   ]
  },
  {
   "cell_type": "code",
   "execution_count": 25,
   "metadata": {
    "execution": {
     "iopub.execute_input": "2022-12-02T08:33:45.748786Z",
     "iopub.status.busy": "2022-12-02T08:33:45.747805Z",
     "iopub.status.idle": "2022-12-02T08:33:45.752671Z",
     "shell.execute_reply": "2022-12-02T08:33:45.751937Z",
     "shell.execute_reply.started": "2022-12-02T08:18:55.988792Z"
    },
    "papermill": {
     "duration": 0.055818,
     "end_time": "2022-12-02T08:33:45.752820",
     "exception": false,
     "start_time": "2022-12-02T08:33:45.697002",
     "status": "completed"
    },
    "tags": []
   },
   "outputs": [
    {
     "data": {
      "text/plain": [
       "Index(['accommodates', 'bathrooms', 'bedrooms', 'beds', 'price', 'Brooklyn',\n",
       "       'Manhattan', 'Queens', 'Bronx', 'Staten Island', 'Apartment', 'House',\n",
       "       'Other', 'Townhouse', 'Condominium', 'Loft', 'Entire home/apt',\n",
       "       'Private room', 'Shared room', 'Hotel room'],\n",
       "      dtype='object')"
      ]
     },
     "execution_count": 25,
     "metadata": {},
     "output_type": "execute_result"
    }
   ],
   "source": [
    "abm2.columns #사용자로부터 입력받아야 하는 값들"
   ]
  },
  {
   "cell_type": "code",
   "execution_count": 26,
   "metadata": {
    "execution": {
     "iopub.execute_input": "2022-12-02T08:33:45.846867Z",
     "iopub.status.busy": "2022-12-02T08:33:45.845933Z",
     "iopub.status.idle": "2022-12-02T08:33:45.849228Z",
     "shell.execute_reply": "2022-12-02T08:33:45.848492Z",
     "shell.execute_reply.started": "2022-12-02T08:19:02.286914Z"
    },
    "papermill": {
     "duration": 0.053453,
     "end_time": "2022-12-02T08:33:45.849360",
     "exception": false,
     "start_time": "2022-12-02T08:33:45.795907",
     "status": "completed"
    },
    "tags": []
   },
   "outputs": [],
   "source": [
    "# 예시 데이터\n",
    "# 지금은 정적으로 입력됐지만, 사용자가 입력하게끔 해야 한다.\n",
    "test_data = np.array([2,1,2,4,200,1,0,0,0,0,1,0,0,0,0,0,1,0,0,0])\n",
    "test_data = test_data.astype(float)\n",
    "\n",
    "def norm_input(test):\n",
    "    idx = 0\n",
    "    for item in abm2.columns:\n",
    "        test[idx] = (test[idx] - abm1[item].mean())/abm1[item].std()\n",
    "        idx += 1"
   ]
  },
  {
   "cell_type": "code",
   "execution_count": 27,
   "metadata": {
    "execution": {
     "iopub.execute_input": "2022-12-02T08:33:45.943272Z",
     "iopub.status.busy": "2022-12-02T08:33:45.942507Z",
     "iopub.status.idle": "2022-12-02T08:33:46.731550Z",
     "shell.execute_reply": "2022-12-02T08:33:46.730770Z",
     "shell.execute_reply.started": "2022-12-02T08:19:15.351508Z"
    },
    "papermill": {
     "duration": 0.837786,
     "end_time": "2022-12-02T08:33:46.731691",
     "exception": false,
     "start_time": "2022-12-02T08:33:45.893905",
     "status": "completed"
    },
    "tags": []
   },
   "outputs": [
    {
     "data": {
      "text/plain": [
       "[-0.13565189265993036,\n",
       " 0.29321153481476664,\n",
       " -0.04123322629015947,\n",
       " -0.5179680881678635,\n",
       " -0.4562102212500541,\n",
       " 0.12553941098724,\n",
       " -0.5170304170248761,\n",
       " -0.260618062278595,\n",
       " -0.4559192017502526,\n",
       " -0.013250040579322206]"
      ]
     },
     "execution_count": 27,
     "metadata": {},
     "output_type": "execute_result"
    }
   ],
   "source": [
    "sim = []\n",
    "norm_input(test_data)\n",
    "\n",
    "for item in abm2.to_numpy():\n",
    "    sim.append(cos_sim(test_data, item))\n",
    "    \n",
    "sim[:10]"
   ]
  },
  {
   "cell_type": "code",
   "execution_count": 28,
   "metadata": {
    "execution": {
     "iopub.execute_input": "2022-12-02T08:33:46.893984Z",
     "iopub.status.busy": "2022-12-02T08:33:46.825335Z",
     "iopub.status.idle": "2022-12-02T08:33:46.946911Z",
     "shell.execute_reply": "2022-12-02T08:33:46.947418Z",
     "shell.execute_reply.started": "2022-12-02T08:19:19.783758Z"
    },
    "papermill": {
     "duration": 0.173131,
     "end_time": "2022-12-02T08:33:46.947617",
     "exception": false,
     "start_time": "2022-12-02T08:33:46.774486",
     "status": "completed"
    },
    "tags": []
   },
   "outputs": [
    {
     "name": "stdout",
     "output_type": "stream",
     "text": [
      "[15198, 42430, 10587, 38461, 6782, 25027, 1652, 8732, 26260, 36277, 39220, 17594, 43882, 3245, 22825, 36871, 8441, 17306, 26065, 32721, 39092, 43700, 37021, 9715, 39670, 3578, 23029, 4640, 23682, 37465]\n",
      "[0.9477340551438512, 0.9477340551438512, 0.9478242030251346, 0.9478242030251346, 0.9497367778805557, 0.9497367778805557, 0.9501573847987658, 0.9501573847987658, 0.9501573847987658, 0.9501573847987658, 0.9501573847987658, 0.9503825123581845, 0.9503825123581845, 0.9515128248257533, 0.9515128248257533, 0.9515128248257533, 0.952220311677238, 0.952220311677238, 0.952220311677238, 0.952220311677238, 0.952220311677238, 0.952220311677238, 0.9552002897261638, 0.9557991740627566, 0.9557991740627566, 0.957911571430615, 0.957911571430615, 0.9581575201702647, 0.9581575201702647, 0.9581575201702647]\n"
     ]
    },
    {
     "data": {
      "text/plain": [
       "array([3, 1.0, 2.0, 3.0, 175.0, 90.0, 173,\n",
       "       '{TV,\"Cable TV\",Internet,Wifi,\"Air conditioning\",Kitchen,\"Free street parking\",Heating,Washer,\"Smoke detector\",\"Fire extinguisher\",Essentials,Shampoo,Hangers,\"Hair dryer\",Iron,\"Laptop friendly workspace\",Microwave,\"Coffee maker\",Refrigerator,\"Dishes and silverware\",\"Cooking basics\"}',\n",
       "       1.0, 0.0, 0.0, 0.0, 0.0, 1.0, 0.0, 0.0, 0.0, 0.0, 0.0, 1.0, 0.0,\n",
       "       0.0, 0.0], dtype=object)"
      ]
     },
     "execution_count": 28,
     "metadata": {},
     "output_type": "execute_result"
    }
   ],
   "source": [
    "sim_sorted_byindex = sorted(range(len(sim)), key=lambda k: sim[k])\n",
    "sim_sorted_byindex = sim_sorted_byindex[-30:]\n",
    "print(sim_sorted_byindex)\n",
    "\n",
    "sim.sort()\n",
    "sim = sim[-30:]\n",
    "print(sim)\n",
    "# 상위 30개의 유사도를 가지는 데이터를 추출\n",
    "\n",
    "# 2,1,2,4,200,1,0,0,0,0,1,0,0,0,0,0,1,0,0,0\n",
    "abm1.to_numpy()[37465] # 가장 유사도가 높은 호스트. 그러나, 평점이 높은지는 보장 X"
   ]
  },
  {
   "cell_type": "markdown",
   "metadata": {
    "papermill": {
     "duration": 0.042754,
     "end_time": "2022-12-02T08:33:47.033646",
     "exception": false,
     "start_time": "2022-12-02T08:33:46.990892",
     "status": "completed"
    },
    "tags": []
   },
   "source": [
    "### 평점이 높다라는 기준\n",
    "이제 유사도를 가진 Top 30개의 데이터를 산출하였지만,  \n",
    "이중에서 유의미하게 평점이 높은 데이터들을 선별해야 한다."
   ]
  },
  {
   "cell_type": "code",
   "execution_count": 29,
   "metadata": {
    "execution": {
     "iopub.execute_input": "2022-12-02T08:33:47.127289Z",
     "iopub.status.busy": "2022-12-02T08:33:47.126282Z",
     "iopub.status.idle": "2022-12-02T08:33:47.138309Z",
     "shell.execute_reply": "2022-12-02T08:33:47.137715Z",
     "shell.execute_reply.started": "2022-12-02T08:19:34.854163Z"
    },
    "papermill": {
     "duration": 0.06084,
     "end_time": "2022-12-02T08:33:47.138463",
     "exception": false,
     "start_time": "2022-12-02T08:33:47.077623",
     "status": "completed"
    },
    "tags": []
   },
   "outputs": [
    {
     "data": {
      "text/plain": [
       "94.48223993811376"
      ]
     },
     "execution_count": 29,
     "metadata": {},
     "output_type": "execute_result"
    },
    {
     "data": {
      "text/plain": [
       "97.0"
      ]
     },
     "execution_count": 29,
     "metadata": {},
     "output_type": "execute_result"
    }
   ],
   "source": [
    "abm1['review_scores_rating'].mean()\n",
    "abm1['review_scores_rating'].quantile(q=0.7, interpolation='nearest')\n",
    "# 상위 30%의 평점은 97점이다."
   ]
  },
  {
   "cell_type": "markdown",
   "metadata": {
    "papermill": {
     "duration": 0.045172,
     "end_time": "2022-12-02T08:33:47.228964",
     "exception": false,
     "start_time": "2022-12-02T08:33:47.183792",
     "status": "completed"
    },
    "tags": []
   },
   "source": [
    "### 상위 30개의 데이터에서 평점이 97점 이상인 것만 추려내기"
   ]
  },
  {
   "cell_type": "code",
   "execution_count": 30,
   "metadata": {
    "execution": {
     "iopub.execute_input": "2022-12-02T08:33:47.332464Z",
     "iopub.status.busy": "2022-12-02T08:33:47.331660Z",
     "iopub.status.idle": "2022-12-02T08:33:49.037869Z",
     "shell.execute_reply": "2022-12-02T08:33:49.038485Z",
     "shell.execute_reply.started": "2022-12-02T08:19:38.583885Z"
    },
    "papermill": {
     "duration": 1.765136,
     "end_time": "2022-12-02T08:33:49.038657",
     "exception": false,
     "start_time": "2022-12-02T08:33:47.273521",
     "status": "completed"
    },
    "tags": []
   },
   "outputs": [
    {
     "data": {
      "text/plain": [
       "{10587: 0.9478242030251346,\n",
       " 38461: 0.9478242030251346,\n",
       " 6782: 0.9497367778805557,\n",
       " 25027: 0.9497367778805557,\n",
       " 1652: 0.9501573847987658,\n",
       " 8732: 0.9501573847987658,\n",
       " 26260: 0.9501573847987658,\n",
       " 36277: 0.9501573847987658,\n",
       " 39220: 0.9501573847987658,\n",
       " 17594: 0.9503825123581845,\n",
       " 43882: 0.9503825123581845,\n",
       " 3245: 0.9515128248257533,\n",
       " 22825: 0.9515128248257533,\n",
       " 36871: 0.9515128248257533,\n",
       " 8441: 0.952220311677238,\n",
       " 26065: 0.952220311677238,\n",
       " 39092: 0.952220311677238,\n",
       " 37021: 0.9552002897261638,\n",
       " 9715: 0.9557991740627566,\n",
       " 39670: 0.9557991740627566,\n",
       " 3578: 0.957911571430615,\n",
       " 23029: 0.957911571430615}"
      ]
     },
     "execution_count": 30,
     "metadata": {},
     "output_type": "execute_result"
    }
   ],
   "source": [
    "selected = {}\n",
    "\n",
    "for idx, s in zip(sim_sorted_byindex, sim):\n",
    "    if abm1.to_numpy()[idx][5] >= 97.0:\n",
    "        selected[idx] = s\n",
    "        \n",
    "selected"
   ]
  },
  {
   "cell_type": "markdown",
   "metadata": {
    "papermill": {
     "duration": 0.043356,
     "end_time": "2022-12-02T08:33:49.126415",
     "exception": false,
     "start_time": "2022-12-02T08:33:49.083059",
     "status": "completed"
    },
    "tags": []
   },
   "source": [
    "## 3. 최종 추천 가격"
   ]
  },
  {
   "cell_type": "code",
   "execution_count": 31,
   "metadata": {
    "execution": {
     "iopub.execute_input": "2022-12-02T08:33:49.224286Z",
     "iopub.status.busy": "2022-12-02T08:33:49.223558Z",
     "iopub.status.idle": "2022-12-02T08:33:49.225854Z",
     "shell.execute_reply": "2022-12-02T08:33:49.226403Z",
     "shell.execute_reply.started": "2022-12-02T08:32:30.673145Z"
    },
    "papermill": {
     "duration": 0.055174,
     "end_time": "2022-12-02T08:33:49.226587",
     "exception": false,
     "start_time": "2022-12-02T08:33:49.171413",
     "status": "completed"
    },
    "tags": []
   },
   "outputs": [],
   "source": [
    "def recommend_price(selected):\n",
    "    child = 0\n",
    "    parent = 0\n",
    "    for key in selected.keys():\n",
    "        child += abm1.to_numpy()[key][4] * selected[key]\n",
    "        parent += selected[key]\n",
    "    return child/parent"
   ]
  },
  {
   "cell_type": "code",
   "execution_count": 32,
   "metadata": {
    "execution": {
     "iopub.execute_input": "2022-12-02T08:33:49.320782Z",
     "iopub.status.busy": "2022-12-02T08:33:49.319936Z",
     "iopub.status.idle": "2022-12-02T08:33:50.546937Z",
     "shell.execute_reply": "2022-12-02T08:33:50.546163Z",
     "shell.execute_reply.started": "2022-12-02T08:32:33.433713Z"
    },
    "papermill": {
     "duration": 1.27645,
     "end_time": "2022-12-02T08:33:50.547083",
     "exception": false,
     "start_time": "2022-12-02T08:33:49.270633",
     "status": "completed"
    },
    "tags": []
   },
   "outputs": [
    {
     "data": {
      "text/plain": [
       "156.70574373975955"
      ]
     },
     "execution_count": 32,
     "metadata": {},
     "output_type": "execute_result"
    }
   ],
   "source": [
    "recommend_price(selected)"
   ]
  },
  {
   "cell_type": "code",
   "execution_count": null,
   "metadata": {
    "papermill": {
     "duration": 0.045542,
     "end_time": "2022-12-02T08:33:50.638162",
     "exception": false,
     "start_time": "2022-12-02T08:33:50.592620",
     "status": "completed"
    },
    "tags": []
   },
   "outputs": [],
   "source": []
  }
 ],
 "metadata": {
  "kernelspec": {
   "display_name": "Python 3",
   "language": "python",
   "name": "python3"
  },
  "language_info": {
   "codemirror_mode": {
    "name": "ipython",
    "version": 3
   },
   "file_extension": ".py",
   "mimetype": "text/x-python",
   "name": "python",
   "nbconvert_exporter": "python",
   "pygments_lexer": "ipython3",
   "version": "3.7.6"
  },
  "papermill": {
   "duration": 30.282976,
   "end_time": "2022-12-02T08:33:50.789599",
   "environment_variables": {},
   "exception": null,
   "input_path": "__notebook__.ipynb",
   "output_path": "__notebook__.ipynb",
   "parameters": {},
   "start_time": "2022-12-02T08:33:20.506623",
   "version": "2.1.0"
  }
 },
 "nbformat": 4,
 "nbformat_minor": 4
}
